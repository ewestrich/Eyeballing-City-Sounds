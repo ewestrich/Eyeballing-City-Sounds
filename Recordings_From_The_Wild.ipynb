{
 "cells": [
  {
   "cell_type": "code",
   "execution_count": 1,
   "id": "08bba80a",
   "metadata": {},
   "outputs": [],
   "source": [
    "import pandas as pd\n",
    "import numpy as np\n",
    "import matplotlib.pyplot as plt\n",
    "%matplotlib inline\n",
    "plt.ioff();\n",
    "\n",
    "import os\n",
    "\n",
    "import scipy \n",
    "from scipy.stats import norm\n",
    "\n",
    "import math\n",
    "\n",
    "\n",
    "import librosa\n",
    "import librosa.display\n",
    "\n",
    "from IPython.display import Audio\n",
    "\n",
    "from sklearn.model_selection import train_test_split\n",
    "\n",
    "from sklearn.preprocessing import scale, LabelEncoder, StandardScaler, minmax_scale"
   ]
  },
  {
   "cell_type": "code",
   "execution_count": 4,
   "id": "bfdaef52",
   "metadata": {},
   "outputs": [
    {
     "name": "stdout",
     "output_type": "stream",
     "text": [
      ".DS_Store\n",
      "Engine_3.wav\n",
      "Engine_2.wav\n",
      "Street music_1.wav\n",
      "Street music_3.wav\n",
      "Engine_1.wav\n",
      "Street music_2.wav\n",
      "Engine_4.wav\n",
      ".ipynb_checkpoints\n",
      "Air_conditioner_1.wav\n",
      "Air_conditioner_2.wav\n",
      "Air_conditioner_3.wav\n"
     ]
    }
   ],
   "source": [
    "for i in os.listdir('./my_recordings'):\n",
    "    print(i)"
   ]
  },
  {
   "cell_type": "code",
   "execution_count": null,
   "id": "2d2193cc",
   "metadata": {},
   "outputs": [],
   "source": []
  }
 ],
 "metadata": {
  "kernelspec": {
   "display_name": "HareiniNa",
   "language": "python",
   "name": "hareinina"
  },
  "language_info": {
   "codemirror_mode": {
    "name": "ipython",
    "version": 3
   },
   "file_extension": ".py",
   "mimetype": "text/x-python",
   "name": "python",
   "nbconvert_exporter": "python",
   "pygments_lexer": "ipython3",
   "version": "3.11.4"
  }
 },
 "nbformat": 4,
 "nbformat_minor": 5
}
