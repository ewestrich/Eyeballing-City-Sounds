{
 "cells": [
  {
   "cell_type": "code",
   "execution_count": 1,
   "id": "d015a2bc",
   "metadata": {},
   "outputs": [],
   "source": [
    "import numpy as np\n",
    "import pandas as pd\n",
    "from matplotlib import pyplot as plt\n",
    "import seaborn as sns\n",
    "\n",
    "from sklearn.metrics import confusion_matrix\n",
    "from sklearn.metrics import ConfusionMatrixDisplay\n",
    "\n",
    "from tensorflow.keras import datasets\n",
    "from tensorflow.keras.utils import to_categorical\n",
    "from tensorflow.keras.models import Sequential\n",
    "\n",
    "from tensorflow.keras.layers import Dense # creates densely connected layer object\n",
    "from tensorflow.keras.layers import Flatten # takes 2D input and turns into 1D array\n",
    "\n",
    "from tensorflow import keras\n",
    "from tensorflow.keras import datasets, layers, models\n",
    "\n",
    "from tensorflow.keras.layers import Conv2D # convolution layer\n",
    "from tensorflow.keras.layers import MaxPooling2D # max pooling layer"
   ]
  },
  {
   "cell_type": "code",
   "execution_count": 2,
   "id": "45f4cc16",
   "metadata": {},
   "outputs": [],
   "source": [
    "from tensorflow.keras.regularizers import l2\n",
    "from tensorflow.keras.layers import Dropout\n",
    "\n",
    "# a new layer that rescales/normalizes the activations after each layer.\n",
    "# has a weak regularization effect. also allows \n",
    "\n",
    "from tensorflow.keras.layers import BatchNormalization\n",
    "from tensorflow.keras.layers import Activation\n",
    "\n",
    "from keras.preprocessing.image import ImageDataGenerator"
   ]
  },
  {
   "cell_type": "code",
   "execution_count": 3,
   "id": "56665071",
   "metadata": {},
   "outputs": [],
   "source": [
    "train_dir = '/Users/eitan/Documents/Flatiron/Eyeballing-Urban-Sounds/train_splits_2'\n",
    "\n",
    "test_dir = '/Users/eitan/Documents/Flatiron/Eyeballing-Urban-Sounds/test_splits_2'"
   ]
  },
  {
   "cell_type": "code",
   "execution_count": 4,
   "id": "efa028fe",
   "metadata": {},
   "outputs": [],
   "source": [
    "train_data_gen = ImageDataGenerator(rescale = 1./255, validation_split = .2)"
   ]
  },
  {
   "cell_type": "code",
   "execution_count": 5,
   "id": "f6f5a72a",
   "metadata": {},
   "outputs": [
    {
     "name": "stdout",
     "output_type": "stream",
     "text": [
      "Found 5240 images belonging to 10 classes.\n"
     ]
    }
   ],
   "source": [
    "train_generator = train_data_gen.flow_from_directory(\n",
    "    \n",
    "                                                    train_dir, \n",
    "                                                    target_size = (150, 150),\n",
    "                                                    batch_size = 32,\n",
    "                                                    class_mode = 'categorical',\n",
    "                                                    color_mode = 'rgb',\n",
    "                                                    seed = 42,\n",
    "                                                    subset = 'training',\n",
    "\n",
    ")"
   ]
  },
  {
   "cell_type": "code",
   "execution_count": 6,
   "id": "e36fb7b3",
   "metadata": {},
   "outputs": [],
   "source": [
    "val_data_gen = ImageDataGenerator(rescale=1./255)"
   ]
  },
  {
   "cell_type": "code",
   "execution_count": 7,
   "id": "b503310d",
   "metadata": {},
   "outputs": [
    {
     "name": "stdout",
     "output_type": "stream",
     "text": [
      "Found 1309 images belonging to 10 classes.\n"
     ]
    }
   ],
   "source": [
    "validation_generator = train_data_gen.flow_from_directory(\n",
    "    \n",
    "                                                    train_dir, \n",
    "                                                    target_size = (150, 150),\n",
    "                                                    batch_size = 32,\n",
    "                                                    class_mode = 'categorical',\n",
    "                                                    color_mode = 'rgb',\n",
    "                                                    seed = 42,\n",
    "                                                    subset = 'validation',\n",
    "\n",
    ")"
   ]
  },
  {
   "cell_type": "code",
   "execution_count": 8,
   "id": "c70dca96",
   "metadata": {},
   "outputs": [],
   "source": [
    "test_data_gen = ImageDataGenerator(rescale=1./255)"
   ]
  },
  {
   "cell_type": "code",
   "execution_count": 9,
   "id": "d8b4ca0b",
   "metadata": {},
   "outputs": [
    {
     "name": "stdout",
     "output_type": "stream",
     "text": [
      "Found 2183 images belonging to 10 classes.\n"
     ]
    }
   ],
   "source": [
    "test_generator = test_data_gen.flow_from_directory(\n",
    "\n",
    "                                                    test_dir, \n",
    "                                                    target_size = (150, 150),\n",
    "                                                    batch_size = 32,\n",
    "                                                    class_mode = 'categorical',\n",
    "                                                    color_mode = 'rgb',\n",
    "                                                    seed = 42,\n",
    "                                                    shuffle = False\n",
    "\n",
    ")"
   ]
  },
  {
   "cell_type": "code",
   "execution_count": 10,
   "id": "9084ec18",
   "metadata": {},
   "outputs": [],
   "source": [
    "model3 = Sequential()\n",
    "\n",
    "# define 3x3 filter window sizes. Create 32 filters.\n",
    "model3.add(Conv2D(filters=32,\n",
    "                        kernel_size=(3, 3),\n",
    "                        activation='relu',\n",
    "                        input_shape=(150, 150, 3), kernel_regularizer = l2(5e-4) ))\n",
    "\n",
    "# max pool in 2x2 window\n",
    "model3.add(MaxPooling2D(pool_size=(2, 2)))\n",
    "\n",
    "# define 3x3 filter window sizes. Create 64 filters.\n",
    "model3.add(Conv2D(64, (3, 3), activation='relu', kernel_regularizer = l2(5e-4)))\n",
    "model3.add(MaxPooling2D((2, 2)))\n",
    "\n",
    "model3.add(Conv2D(64, (3, 3), activation='relu', kernel_regularizer = l2(5e-4)))\n",
    "model3.add(Dropout(0.2))\n",
    "\n",
    "\n",
    "model3.add(MaxPooling2D((2, 2)))\n",
    "model3.add(Conv2D(64, (3, 3), activation='relu', kernel_regularizer = l2(5e-4)))\n",
    "model3.add(Dropout(0.25))\n",
    "\n",
    "\n",
    "\n",
    "# transition to dense fully-connected part of network\n",
    "model3.add(Flatten())\n",
    "model3.add(Dense(64, activation='relu'))\n",
    "model3.add(Dropout(0.25))\n",
    "\n",
    "model3.add(BatchNormalization())\n",
    "model3.add(Dense(128, activation='relu'))\n",
    "model3.add(Dropout(0.5))\n",
    "\n",
    "model3.add(Dense(10, activation='softmax'))\n",
    "\n",
    "model3.compile(optimizer='adam', loss='categorical_crossentropy',  metrics=['accuracy'])"
   ]
  },
  {
   "cell_type": "code",
   "execution_count": 11,
   "id": "3df08918",
   "metadata": {},
   "outputs": [
    {
     "name": "stdout",
     "output_type": "stream",
     "text": [
      "Epoch 1/20\n",
      "164/164 [==============================] - 42s 254ms/step - loss: 2.2338 - accuracy: 0.1920 - val_loss: 2.0115 - val_accuracy: 0.2009\n",
      "Epoch 2/20\n",
      "164/164 [==============================] - 46s 281ms/step - loss: 2.0596 - accuracy: 0.2391 - val_loss: 1.8858 - val_accuracy: 0.2704\n",
      "Epoch 3/20\n",
      "164/164 [==============================] - 41s 252ms/step - loss: 1.8999 - accuracy: 0.3031 - val_loss: 2.4389 - val_accuracy: 0.1154\n",
      "Epoch 4/20\n",
      "164/164 [==============================] - 43s 263ms/step - loss: 1.7365 - accuracy: 0.3677 - val_loss: 1.7592 - val_accuracy: 0.3445\n",
      "Epoch 5/20\n",
      "164/164 [==============================] - 42s 256ms/step - loss: 1.5506 - accuracy: 0.4443 - val_loss: 1.5425 - val_accuracy: 0.4439\n",
      "Epoch 6/20\n",
      "164/164 [==============================] - 41s 247ms/step - loss: 1.4416 - accuracy: 0.4893 - val_loss: 1.5220 - val_accuracy: 0.4301\n",
      "Epoch 7/20\n",
      "164/164 [==============================] - 41s 251ms/step - loss: 1.3803 - accuracy: 0.5176 - val_loss: 1.3938 - val_accuracy: 0.5279\n",
      "Epoch 8/20\n",
      "164/164 [==============================] - 40s 242ms/step - loss: 1.2917 - accuracy: 0.5410 - val_loss: 1.4109 - val_accuracy: 0.5073\n",
      "Epoch 9/20\n",
      "164/164 [==============================] - 41s 247ms/step - loss: 1.1953 - accuracy: 0.5983 - val_loss: 2.5785 - val_accuracy: 0.3568\n",
      "Epoch 10/20\n",
      "164/164 [==============================] - 40s 246ms/step - loss: 1.0619 - accuracy: 0.6487 - val_loss: 1.3495 - val_accuracy: 0.5286\n",
      "Epoch 11/20\n",
      "164/164 [==============================] - 41s 247ms/step - loss: 1.0011 - accuracy: 0.6777 - val_loss: 1.4219 - val_accuracy: 0.5004\n",
      "Epoch 12/20\n",
      "164/164 [==============================] - 42s 255ms/step - loss: 0.9172 - accuracy: 0.7067 - val_loss: 1.5149 - val_accuracy: 0.5073\n",
      "Epoch 13/20\n",
      "164/164 [==============================] - 41s 248ms/step - loss: 0.8738 - accuracy: 0.7239 - val_loss: 1.2547 - val_accuracy: 0.5852\n",
      "Epoch 14/20\n",
      "164/164 [==============================] - 40s 243ms/step - loss: 0.7938 - accuracy: 0.7544 - val_loss: 1.3335 - val_accuracy: 0.5882\n",
      "Epoch 15/20\n",
      "164/164 [==============================] - 40s 246ms/step - loss: 0.7325 - accuracy: 0.7788 - val_loss: 1.2361 - val_accuracy: 0.5890\n",
      "Epoch 16/20\n",
      "164/164 [==============================] - 41s 246ms/step - loss: 0.7330 - accuracy: 0.7782 - val_loss: 1.4358 - val_accuracy: 0.5577\n",
      "Epoch 17/20\n",
      "164/164 [==============================] - 42s 258ms/step - loss: 0.6467 - accuracy: 0.8088 - val_loss: 1.2744 - val_accuracy: 0.5943\n",
      "Epoch 18/20\n",
      "164/164 [==============================] - 43s 259ms/step - loss: 0.5981 - accuracy: 0.8250 - val_loss: 1.2573 - val_accuracy: 0.6356\n",
      "Epoch 19/20\n",
      "164/164 [==============================] - 40s 244ms/step - loss: 0.5583 - accuracy: 0.8426 - val_loss: 1.3622 - val_accuracy: 0.5997\n",
      "Epoch 20/20\n",
      "164/164 [==============================] - 41s 247ms/step - loss: 0.5648 - accuracy: 0.8374 - val_loss: 1.3987 - val_accuracy: 0.5852\n"
     ]
    }
   ],
   "source": [
    "history_cnn_3 = model3.fit(train_generator,\n",
    "                        validation_data = validation_generator,\n",
    "                        epochs = 20,\n",
    "         )"
   ]
  },
  {
   "cell_type": "code",
   "execution_count": null,
   "id": "8c0f2f56",
   "metadata": {},
   "outputs": [],
   "source": []
  },
  {
   "cell_type": "code",
   "execution_count": null,
   "id": "22fb2a63",
   "metadata": {},
   "outputs": [],
   "source": []
  },
  {
   "cell_type": "code",
   "execution_count": null,
   "id": "3555c63d",
   "metadata": {},
   "outputs": [],
   "source": []
  },
  {
   "cell_type": "code",
   "execution_count": null,
   "id": "bcbd7db4",
   "metadata": {},
   "outputs": [],
   "source": []
  },
  {
   "cell_type": "code",
   "execution_count": 12,
   "id": "04dcf2ad",
   "metadata": {},
   "outputs": [],
   "source": [
    "model = Sequential()\n",
    "\n",
    "# define 3x3 filter window sizes. Create 32 filters.\n",
    "model.add(Conv2D(filters=32,\n",
    "                        kernel_size=(3, 3),\n",
    "                        activation='relu',\n",
    "                        input_shape=(150, 150, 3)))\n",
    "# max pool in 2x2 window\n",
    "model.add(MaxPooling2D(pool_size=(2, 2)))\n",
    "# define 3x3 filter window sizes. Create 64 filters.\n",
    "model.add(Conv2D(64, (3, 3), activation='relu'))\n",
    "model.add(MaxPooling2D((2, 2)))\n",
    "model.add(Conv2D(64, (3, 3), activation='relu'))\n",
    "\n",
    "# transition to dense fully-connected part of network\n",
    "model.add(Flatten())\n",
    "model.add(Dense(64, activation='relu'))\n",
    "model.add(Dense(10, activation='softmax'))\n",
    "\n",
    "model.compile(optimizer='adam', loss='categorical_crossentropy',  metrics=['accuracy'])"
   ]
  },
  {
   "cell_type": "code",
   "execution_count": 13,
   "id": "e2946f50",
   "metadata": {},
   "outputs": [
    {
     "name": "stdout",
     "output_type": "stream",
     "text": [
      "Model: \"sequential\"\n",
      "_________________________________________________________________\n",
      " Layer (type)                Output Shape              Param #   \n",
      "=================================================================\n",
      " conv2d (Conv2D)             (None, 148, 148, 32)      896       \n",
      "                                                                 \n",
      " max_pooling2d (MaxPooling2  (None, 74, 74, 32)        0         \n",
      " D)                                                              \n",
      "                                                                 \n",
      " conv2d_1 (Conv2D)           (None, 72, 72, 64)        18496     \n",
      "                                                                 \n",
      " max_pooling2d_1 (MaxPoolin  (None, 36, 36, 64)        0         \n",
      " g2D)                                                            \n",
      "                                                                 \n",
      " conv2d_2 (Conv2D)           (None, 34, 34, 64)        36928     \n",
      "                                                                 \n",
      " flatten (Flatten)           (None, 73984)             0         \n",
      "                                                                 \n",
      " dense (Dense)               (None, 64)                4735040   \n",
      "                                                                 \n",
      " dense_1 (Dense)             (None, 10)                650       \n",
      "                                                                 \n",
      "=================================================================\n",
      "Total params: 4792010 (18.28 MB)\n",
      "Trainable params: 4792010 (18.28 MB)\n",
      "Non-trainable params: 0 (0.00 Byte)\n",
      "_________________________________________________________________\n"
     ]
    }
   ],
   "source": [
    "model.summary()"
   ]
  },
  {
   "cell_type": "code",
   "execution_count": 14,
   "id": "f97c9e6c",
   "metadata": {},
   "outputs": [
    {
     "name": "stdout",
     "output_type": "stream",
     "text": [
      "Epoch 1/20\n",
      " 10/164 [>.............................] - ETA: 31s - loss: 2.2826 - accuracy: 0.1474"
     ]
    },
    {
     "ename": "KeyboardInterrupt",
     "evalue": "",
     "output_type": "error",
     "traceback": [
      "\u001b[0;31m---------------------------------------------------------------------------\u001b[0m",
      "\u001b[0;31mKeyboardInterrupt\u001b[0m                         Traceback (most recent call last)",
      "Cell \u001b[0;32mIn[14], line 1\u001b[0m\n\u001b[0;32m----> 1\u001b[0m history_cnn \u001b[38;5;241m=\u001b[39m model\u001b[38;5;241m.\u001b[39mfit(train_generator,\n\u001b[1;32m      2\u001b[0m                         validation_data \u001b[38;5;241m=\u001b[39m validation_generator,\n\u001b[1;32m      3\u001b[0m                         epochs \u001b[38;5;241m=\u001b[39m \u001b[38;5;241m20\u001b[39m,\n\u001b[1;32m      4\u001b[0m          )\n",
      "File \u001b[0;32m~/anaconda3/envs/Number41/lib/python3.11/site-packages/keras/src/utils/traceback_utils.py:65\u001b[0m, in \u001b[0;36mfilter_traceback.<locals>.error_handler\u001b[0;34m(*args, **kwargs)\u001b[0m\n\u001b[1;32m     63\u001b[0m filtered_tb \u001b[38;5;241m=\u001b[39m \u001b[38;5;28;01mNone\u001b[39;00m\n\u001b[1;32m     64\u001b[0m \u001b[38;5;28;01mtry\u001b[39;00m:\n\u001b[0;32m---> 65\u001b[0m     \u001b[38;5;28;01mreturn\u001b[39;00m fn(\u001b[38;5;241m*\u001b[39margs, \u001b[38;5;241m*\u001b[39m\u001b[38;5;241m*\u001b[39mkwargs)\n\u001b[1;32m     66\u001b[0m \u001b[38;5;28;01mexcept\u001b[39;00m \u001b[38;5;167;01mException\u001b[39;00m \u001b[38;5;28;01mas\u001b[39;00m e:\n\u001b[1;32m     67\u001b[0m     filtered_tb \u001b[38;5;241m=\u001b[39m _process_traceback_frames(e\u001b[38;5;241m.\u001b[39m__traceback__)\n",
      "File \u001b[0;32m~/anaconda3/envs/Number41/lib/python3.11/site-packages/keras/src/engine/training.py:1742\u001b[0m, in \u001b[0;36mModel.fit\u001b[0;34m(self, x, y, batch_size, epochs, verbose, callbacks, validation_split, validation_data, shuffle, class_weight, sample_weight, initial_epoch, steps_per_epoch, validation_steps, validation_batch_size, validation_freq, max_queue_size, workers, use_multiprocessing)\u001b[0m\n\u001b[1;32m   1734\u001b[0m \u001b[38;5;28;01mwith\u001b[39;00m tf\u001b[38;5;241m.\u001b[39mprofiler\u001b[38;5;241m.\u001b[39mexperimental\u001b[38;5;241m.\u001b[39mTrace(\n\u001b[1;32m   1735\u001b[0m     \u001b[38;5;124m\"\u001b[39m\u001b[38;5;124mtrain\u001b[39m\u001b[38;5;124m\"\u001b[39m,\n\u001b[1;32m   1736\u001b[0m     epoch_num\u001b[38;5;241m=\u001b[39mepoch,\n\u001b[0;32m   (...)\u001b[0m\n\u001b[1;32m   1739\u001b[0m     _r\u001b[38;5;241m=\u001b[39m\u001b[38;5;241m1\u001b[39m,\n\u001b[1;32m   1740\u001b[0m ):\n\u001b[1;32m   1741\u001b[0m     callbacks\u001b[38;5;241m.\u001b[39mon_train_batch_begin(step)\n\u001b[0;32m-> 1742\u001b[0m     tmp_logs \u001b[38;5;241m=\u001b[39m \u001b[38;5;28mself\u001b[39m\u001b[38;5;241m.\u001b[39mtrain_function(iterator)\n\u001b[1;32m   1743\u001b[0m     \u001b[38;5;28;01mif\u001b[39;00m data_handler\u001b[38;5;241m.\u001b[39mshould_sync:\n\u001b[1;32m   1744\u001b[0m         context\u001b[38;5;241m.\u001b[39masync_wait()\n",
      "File \u001b[0;32m~/anaconda3/envs/Number41/lib/python3.11/site-packages/tensorflow/python/util/traceback_utils.py:150\u001b[0m, in \u001b[0;36mfilter_traceback.<locals>.error_handler\u001b[0;34m(*args, **kwargs)\u001b[0m\n\u001b[1;32m    148\u001b[0m filtered_tb \u001b[38;5;241m=\u001b[39m \u001b[38;5;28;01mNone\u001b[39;00m\n\u001b[1;32m    149\u001b[0m \u001b[38;5;28;01mtry\u001b[39;00m:\n\u001b[0;32m--> 150\u001b[0m   \u001b[38;5;28;01mreturn\u001b[39;00m fn(\u001b[38;5;241m*\u001b[39margs, \u001b[38;5;241m*\u001b[39m\u001b[38;5;241m*\u001b[39mkwargs)\n\u001b[1;32m    151\u001b[0m \u001b[38;5;28;01mexcept\u001b[39;00m \u001b[38;5;167;01mException\u001b[39;00m \u001b[38;5;28;01mas\u001b[39;00m e:\n\u001b[1;32m    152\u001b[0m   filtered_tb \u001b[38;5;241m=\u001b[39m _process_traceback_frames(e\u001b[38;5;241m.\u001b[39m__traceback__)\n",
      "File \u001b[0;32m~/anaconda3/envs/Number41/lib/python3.11/site-packages/tensorflow/python/eager/polymorphic_function/polymorphic_function.py:825\u001b[0m, in \u001b[0;36mFunction.__call__\u001b[0;34m(self, *args, **kwds)\u001b[0m\n\u001b[1;32m    822\u001b[0m compiler \u001b[38;5;241m=\u001b[39m \u001b[38;5;124m\"\u001b[39m\u001b[38;5;124mxla\u001b[39m\u001b[38;5;124m\"\u001b[39m \u001b[38;5;28;01mif\u001b[39;00m \u001b[38;5;28mself\u001b[39m\u001b[38;5;241m.\u001b[39m_jit_compile \u001b[38;5;28;01melse\u001b[39;00m \u001b[38;5;124m\"\u001b[39m\u001b[38;5;124mnonXla\u001b[39m\u001b[38;5;124m\"\u001b[39m\n\u001b[1;32m    824\u001b[0m \u001b[38;5;28;01mwith\u001b[39;00m OptionalXlaContext(\u001b[38;5;28mself\u001b[39m\u001b[38;5;241m.\u001b[39m_jit_compile):\n\u001b[0;32m--> 825\u001b[0m   result \u001b[38;5;241m=\u001b[39m \u001b[38;5;28mself\u001b[39m\u001b[38;5;241m.\u001b[39m_call(\u001b[38;5;241m*\u001b[39margs, \u001b[38;5;241m*\u001b[39m\u001b[38;5;241m*\u001b[39mkwds)\n\u001b[1;32m    827\u001b[0m new_tracing_count \u001b[38;5;241m=\u001b[39m \u001b[38;5;28mself\u001b[39m\u001b[38;5;241m.\u001b[39mexperimental_get_tracing_count()\n\u001b[1;32m    828\u001b[0m without_tracing \u001b[38;5;241m=\u001b[39m (tracing_count \u001b[38;5;241m==\u001b[39m new_tracing_count)\n",
      "File \u001b[0;32m~/anaconda3/envs/Number41/lib/python3.11/site-packages/tensorflow/python/eager/polymorphic_function/polymorphic_function.py:857\u001b[0m, in \u001b[0;36mFunction._call\u001b[0;34m(self, *args, **kwds)\u001b[0m\n\u001b[1;32m    854\u001b[0m   \u001b[38;5;28mself\u001b[39m\u001b[38;5;241m.\u001b[39m_lock\u001b[38;5;241m.\u001b[39mrelease()\n\u001b[1;32m    855\u001b[0m   \u001b[38;5;66;03m# In this case we have created variables on the first call, so we run the\u001b[39;00m\n\u001b[1;32m    856\u001b[0m   \u001b[38;5;66;03m# defunned version which is guaranteed to never create variables.\u001b[39;00m\n\u001b[0;32m--> 857\u001b[0m   \u001b[38;5;28;01mreturn\u001b[39;00m \u001b[38;5;28mself\u001b[39m\u001b[38;5;241m.\u001b[39m_no_variable_creation_fn(\u001b[38;5;241m*\u001b[39margs, \u001b[38;5;241m*\u001b[39m\u001b[38;5;241m*\u001b[39mkwds)  \u001b[38;5;66;03m# pylint: disable=not-callable\u001b[39;00m\n\u001b[1;32m    858\u001b[0m \u001b[38;5;28;01melif\u001b[39;00m \u001b[38;5;28mself\u001b[39m\u001b[38;5;241m.\u001b[39m_variable_creation_fn \u001b[38;5;129;01mis\u001b[39;00m \u001b[38;5;129;01mnot\u001b[39;00m \u001b[38;5;28;01mNone\u001b[39;00m:\n\u001b[1;32m    859\u001b[0m   \u001b[38;5;66;03m# Release the lock early so that multiple threads can perform the call\u001b[39;00m\n\u001b[1;32m    860\u001b[0m   \u001b[38;5;66;03m# in parallel.\u001b[39;00m\n\u001b[1;32m    861\u001b[0m   \u001b[38;5;28mself\u001b[39m\u001b[38;5;241m.\u001b[39m_lock\u001b[38;5;241m.\u001b[39mrelease()\n",
      "File \u001b[0;32m~/anaconda3/envs/Number41/lib/python3.11/site-packages/tensorflow/python/eager/polymorphic_function/tracing_compiler.py:148\u001b[0m, in \u001b[0;36mTracingCompiler.__call__\u001b[0;34m(self, *args, **kwargs)\u001b[0m\n\u001b[1;32m    145\u001b[0m \u001b[38;5;28;01mwith\u001b[39;00m \u001b[38;5;28mself\u001b[39m\u001b[38;5;241m.\u001b[39m_lock:\n\u001b[1;32m    146\u001b[0m   (concrete_function,\n\u001b[1;32m    147\u001b[0m    filtered_flat_args) \u001b[38;5;241m=\u001b[39m \u001b[38;5;28mself\u001b[39m\u001b[38;5;241m.\u001b[39m_maybe_define_function(args, kwargs)\n\u001b[0;32m--> 148\u001b[0m \u001b[38;5;28;01mreturn\u001b[39;00m concrete_function\u001b[38;5;241m.\u001b[39m_call_flat(\n\u001b[1;32m    149\u001b[0m     filtered_flat_args, captured_inputs\u001b[38;5;241m=\u001b[39mconcrete_function\u001b[38;5;241m.\u001b[39mcaptured_inputs)\n",
      "File \u001b[0;32m~/anaconda3/envs/Number41/lib/python3.11/site-packages/tensorflow/python/eager/polymorphic_function/monomorphic_function.py:1349\u001b[0m, in \u001b[0;36mConcreteFunction._call_flat\u001b[0;34m(self, args, captured_inputs)\u001b[0m\n\u001b[1;32m   1345\u001b[0m possible_gradient_type \u001b[38;5;241m=\u001b[39m gradients_util\u001b[38;5;241m.\u001b[39mPossibleTapeGradientTypes(args)\n\u001b[1;32m   1346\u001b[0m \u001b[38;5;28;01mif\u001b[39;00m (possible_gradient_type \u001b[38;5;241m==\u001b[39m gradients_util\u001b[38;5;241m.\u001b[39mPOSSIBLE_GRADIENT_TYPES_NONE\n\u001b[1;32m   1347\u001b[0m     \u001b[38;5;129;01mand\u001b[39;00m executing_eagerly):\n\u001b[1;32m   1348\u001b[0m   \u001b[38;5;66;03m# No tape is watching; skip to running the function.\u001b[39;00m\n\u001b[0;32m-> 1349\u001b[0m   \u001b[38;5;28;01mreturn\u001b[39;00m \u001b[38;5;28mself\u001b[39m\u001b[38;5;241m.\u001b[39m_build_call_outputs(\u001b[38;5;28mself\u001b[39m\u001b[38;5;241m.\u001b[39m_inference_function(\u001b[38;5;241m*\u001b[39margs))\n\u001b[1;32m   1350\u001b[0m forward_backward \u001b[38;5;241m=\u001b[39m \u001b[38;5;28mself\u001b[39m\u001b[38;5;241m.\u001b[39m_select_forward_and_backward_functions(\n\u001b[1;32m   1351\u001b[0m     args,\n\u001b[1;32m   1352\u001b[0m     possible_gradient_type,\n\u001b[1;32m   1353\u001b[0m     executing_eagerly)\n\u001b[1;32m   1354\u001b[0m forward_function, args_with_tangents \u001b[38;5;241m=\u001b[39m forward_backward\u001b[38;5;241m.\u001b[39mforward()\n",
      "File \u001b[0;32m~/anaconda3/envs/Number41/lib/python3.11/site-packages/tensorflow/python/eager/polymorphic_function/atomic_function.py:196\u001b[0m, in \u001b[0;36mAtomicFunction.__call__\u001b[0;34m(self, *args)\u001b[0m\n\u001b[1;32m    194\u001b[0m \u001b[38;5;28;01mwith\u001b[39;00m record\u001b[38;5;241m.\u001b[39mstop_recording():\n\u001b[1;32m    195\u001b[0m   \u001b[38;5;28;01mif\u001b[39;00m \u001b[38;5;28mself\u001b[39m\u001b[38;5;241m.\u001b[39m_bound_context\u001b[38;5;241m.\u001b[39mexecuting_eagerly():\n\u001b[0;32m--> 196\u001b[0m     outputs \u001b[38;5;241m=\u001b[39m \u001b[38;5;28mself\u001b[39m\u001b[38;5;241m.\u001b[39m_bound_context\u001b[38;5;241m.\u001b[39mcall_function(\n\u001b[1;32m    197\u001b[0m         \u001b[38;5;28mself\u001b[39m\u001b[38;5;241m.\u001b[39mname,\n\u001b[1;32m    198\u001b[0m         \u001b[38;5;28mlist\u001b[39m(args),\n\u001b[1;32m    199\u001b[0m         \u001b[38;5;28mlen\u001b[39m(\u001b[38;5;28mself\u001b[39m\u001b[38;5;241m.\u001b[39mfunction_type\u001b[38;5;241m.\u001b[39mflat_outputs),\n\u001b[1;32m    200\u001b[0m     )\n\u001b[1;32m    201\u001b[0m   \u001b[38;5;28;01melse\u001b[39;00m:\n\u001b[1;32m    202\u001b[0m     outputs \u001b[38;5;241m=\u001b[39m make_call_op_in_graph(\u001b[38;5;28mself\u001b[39m, \u001b[38;5;28mlist\u001b[39m(args))\n",
      "File \u001b[0;32m~/anaconda3/envs/Number41/lib/python3.11/site-packages/tensorflow/python/eager/context.py:1457\u001b[0m, in \u001b[0;36mContext.call_function\u001b[0;34m(self, name, tensor_inputs, num_outputs)\u001b[0m\n\u001b[1;32m   1455\u001b[0m cancellation_context \u001b[38;5;241m=\u001b[39m cancellation\u001b[38;5;241m.\u001b[39mcontext()\n\u001b[1;32m   1456\u001b[0m \u001b[38;5;28;01mif\u001b[39;00m cancellation_context \u001b[38;5;129;01mis\u001b[39;00m \u001b[38;5;28;01mNone\u001b[39;00m:\n\u001b[0;32m-> 1457\u001b[0m   outputs \u001b[38;5;241m=\u001b[39m execute\u001b[38;5;241m.\u001b[39mexecute(\n\u001b[1;32m   1458\u001b[0m       name\u001b[38;5;241m.\u001b[39mdecode(\u001b[38;5;124m\"\u001b[39m\u001b[38;5;124mutf-8\u001b[39m\u001b[38;5;124m\"\u001b[39m),\n\u001b[1;32m   1459\u001b[0m       num_outputs\u001b[38;5;241m=\u001b[39mnum_outputs,\n\u001b[1;32m   1460\u001b[0m       inputs\u001b[38;5;241m=\u001b[39mtensor_inputs,\n\u001b[1;32m   1461\u001b[0m       attrs\u001b[38;5;241m=\u001b[39mattrs,\n\u001b[1;32m   1462\u001b[0m       ctx\u001b[38;5;241m=\u001b[39m\u001b[38;5;28mself\u001b[39m,\n\u001b[1;32m   1463\u001b[0m   )\n\u001b[1;32m   1464\u001b[0m \u001b[38;5;28;01melse\u001b[39;00m:\n\u001b[1;32m   1465\u001b[0m   outputs \u001b[38;5;241m=\u001b[39m execute\u001b[38;5;241m.\u001b[39mexecute_with_cancellation(\n\u001b[1;32m   1466\u001b[0m       name\u001b[38;5;241m.\u001b[39mdecode(\u001b[38;5;124m\"\u001b[39m\u001b[38;5;124mutf-8\u001b[39m\u001b[38;5;124m\"\u001b[39m),\n\u001b[1;32m   1467\u001b[0m       num_outputs\u001b[38;5;241m=\u001b[39mnum_outputs,\n\u001b[0;32m   (...)\u001b[0m\n\u001b[1;32m   1471\u001b[0m       cancellation_manager\u001b[38;5;241m=\u001b[39mcancellation_context,\n\u001b[1;32m   1472\u001b[0m   )\n",
      "File \u001b[0;32m~/anaconda3/envs/Number41/lib/python3.11/site-packages/tensorflow/python/eager/execute.py:53\u001b[0m, in \u001b[0;36mquick_execute\u001b[0;34m(op_name, num_outputs, inputs, attrs, ctx, name)\u001b[0m\n\u001b[1;32m     51\u001b[0m \u001b[38;5;28;01mtry\u001b[39;00m:\n\u001b[1;32m     52\u001b[0m   ctx\u001b[38;5;241m.\u001b[39mensure_initialized()\n\u001b[0;32m---> 53\u001b[0m   tensors \u001b[38;5;241m=\u001b[39m pywrap_tfe\u001b[38;5;241m.\u001b[39mTFE_Py_Execute(ctx\u001b[38;5;241m.\u001b[39m_handle, device_name, op_name,\n\u001b[1;32m     54\u001b[0m                                       inputs, attrs, num_outputs)\n\u001b[1;32m     55\u001b[0m \u001b[38;5;28;01mexcept\u001b[39;00m core\u001b[38;5;241m.\u001b[39m_NotOkStatusException \u001b[38;5;28;01mas\u001b[39;00m e:\n\u001b[1;32m     56\u001b[0m   \u001b[38;5;28;01mif\u001b[39;00m name \u001b[38;5;129;01mis\u001b[39;00m \u001b[38;5;129;01mnot\u001b[39;00m \u001b[38;5;28;01mNone\u001b[39;00m:\n",
      "\u001b[0;31mKeyboardInterrupt\u001b[0m: "
     ]
    }
   ],
   "source": [
    "history_cnn = model.fit(train_generator,\n",
    "                        validation_data = validation_generator,\n",
    "                        epochs = 20,\n",
    "         )"
   ]
  },
  {
   "cell_type": "code",
   "execution_count": null,
   "id": "423c4951",
   "metadata": {},
   "outputs": [],
   "source": []
  },
  {
   "cell_type": "markdown",
   "id": "07ae1f1c",
   "metadata": {},
   "source": [
    "### Model #2 with L2 Regularization and Dropout"
   ]
  },
  {
   "cell_type": "code",
   "execution_count": 18,
   "id": "950ba08a",
   "metadata": {},
   "outputs": [],
   "source": [
    "model2 = Sequential()\n",
    "\n",
    "# define 3x3 filter window sizes. Create 32 filters.\n",
    "model2.add(Conv2D(filters=32,\n",
    "                        kernel_size=(3, 3),\n",
    "                        activation='relu',\n",
    "                        input_shape=(150, 150, 3), kernel_regularizer = l2(5e-4)))\n",
    "\n",
    "# max pool in 2x2 window\n",
    "model2.add(MaxPooling2D(pool_size=(2, 2)))\n",
    "model2.add(Dropout(0.2))\n",
    "\n",
    "# define 3x3 filter window sizes. Create 64 filters.\n",
    "model2.add(Conv2D(64, (3, 3), activation='relu', kernel_regularizer = l2(5e-4)))\n",
    "model2.add(MaxPooling2D((2, 2)))\n",
    "\n",
    "\n",
    "model2.add(Conv2D(64, (3, 3), activation='relu', kernel_regularizer = l2(5e-4)))\n",
    "model2.add(Dropout(0.2))\n",
    "\n",
    "# transition to dense fully-connected part of network\n",
    "model2.add(Flatten())\n",
    "model2.add(Dense(128, activation='relu'))\n",
    "model2.add(Dropout(0.25))\n",
    "\n",
    "model2.add(Dense(10, activation='softmax'))\n",
    "\n",
    "model2.compile(optimizer='adam', loss='categorical_crossentropy',  metrics=['accuracy'])"
   ]
  },
  {
   "cell_type": "code",
   "execution_count": 19,
   "id": "34bc2144",
   "metadata": {},
   "outputs": [
    {
     "name": "stdout",
     "output_type": "stream",
     "text": [
      "Model: \"sequential_5\"\n",
      "_________________________________________________________________\n",
      " Layer (type)                Output Shape              Param #   \n",
      "=================================================================\n",
      " conv2d_12 (Conv2D)          (None, 148, 148, 32)      896       \n",
      "                                                                 \n",
      " max_pooling2d_7 (MaxPoolin  (None, 74, 74, 32)        0         \n",
      " g2D)                                                            \n",
      "                                                                 \n",
      " dropout_5 (Dropout)         (None, 74, 74, 32)        0         \n",
      "                                                                 \n",
      " conv2d_13 (Conv2D)          (None, 72, 72, 64)        18496     \n",
      "                                                                 \n",
      " max_pooling2d_8 (MaxPoolin  (None, 36, 36, 64)        0         \n",
      " g2D)                                                            \n",
      "                                                                 \n",
      " conv2d_14 (Conv2D)          (None, 34, 34, 64)        36928     \n",
      "                                                                 \n",
      " dropout_6 (Dropout)         (None, 34, 34, 64)        0         \n",
      "                                                                 \n",
      " flatten_2 (Flatten)         (None, 73984)             0         \n",
      "                                                                 \n",
      " dense_4 (Dense)             (None, 128)               9470080   \n",
      "                                                                 \n",
      " dropout_7 (Dropout)         (None, 128)               0         \n",
      "                                                                 \n",
      " dense_5 (Dense)             (None, 10)                1290      \n",
      "                                                                 \n",
      "=================================================================\n",
      "Total params: 9527690 (36.35 MB)\n",
      "Trainable params: 9527690 (36.35 MB)\n",
      "Non-trainable params: 0 (0.00 Byte)\n",
      "_________________________________________________________________\n"
     ]
    }
   ],
   "source": [
    "model2.summary()"
   ]
  },
  {
   "cell_type": "code",
   "execution_count": 20,
   "id": "bc17edab",
   "metadata": {
    "scrolled": false
   },
   "outputs": [
    {
     "name": "stdout",
     "output_type": "stream",
     "text": [
      "Epoch 1/20\n",
      "164/164 [==============================] - 46s 281ms/step - loss: 2.0629 - accuracy: 0.2748 - val_loss: 1.7472 - val_accuracy: 0.4064\n",
      "Epoch 2/20\n",
      "164/164 [==============================] - 44s 269ms/step - loss: 1.5092 - accuracy: 0.4840 - val_loss: 1.5403 - val_accuracy: 0.4866\n",
      "Epoch 3/20\n",
      "164/164 [==============================] - 46s 280ms/step - loss: 1.2156 - accuracy: 0.6008 - val_loss: 1.6728 - val_accuracy: 0.4370\n",
      "Epoch 4/20\n",
      "164/164 [==============================] - 45s 275ms/step - loss: 1.0450 - accuracy: 0.6571 - val_loss: 1.5937 - val_accuracy: 0.4545\n",
      "Epoch 5/20\n",
      "164/164 [==============================] - 46s 279ms/step - loss: 0.8836 - accuracy: 0.7088 - val_loss: 1.6793 - val_accuracy: 0.5233\n",
      "Epoch 6/20\n",
      "164/164 [==============================] - 43s 263ms/step - loss: 0.7714 - accuracy: 0.7466 - val_loss: 1.8391 - val_accuracy: 0.4950\n",
      "Epoch 7/20\n",
      "164/164 [==============================] - 43s 263ms/step - loss: 0.6631 - accuracy: 0.7903 - val_loss: 2.0281 - val_accuracy: 0.5386\n",
      "Epoch 8/20\n",
      "164/164 [==============================] - 44s 267ms/step - loss: 0.6077 - accuracy: 0.8166 - val_loss: 2.0554 - val_accuracy: 0.4882\n",
      "Epoch 9/20\n",
      "164/164 [==============================] - 45s 276ms/step - loss: 0.5329 - accuracy: 0.8307 - val_loss: 2.1486 - val_accuracy: 0.5011\n",
      "Epoch 10/20\n",
      "164/164 [==============================] - 44s 268ms/step - loss: 0.4687 - accuracy: 0.8523 - val_loss: 2.2471 - val_accuracy: 0.5195\n",
      "Epoch 11/20\n",
      "164/164 [==============================] - 44s 265ms/step - loss: 0.4305 - accuracy: 0.8666 - val_loss: 2.2944 - val_accuracy: 0.4989\n",
      "Epoch 12/20\n",
      "164/164 [==============================] - 43s 262ms/step - loss: 0.3957 - accuracy: 0.8788 - val_loss: 2.5294 - val_accuracy: 0.4958\n",
      "Epoch 13/20\n",
      "164/164 [==============================] - 44s 270ms/step - loss: 0.3383 - accuracy: 0.8968 - val_loss: 2.6270 - val_accuracy: 0.4828\n",
      "Epoch 14/20\n",
      "164/164 [==============================] - 44s 267ms/step - loss: 0.3293 - accuracy: 0.9040 - val_loss: 2.6225 - val_accuracy: 0.4989\n",
      "Epoch 15/20\n",
      "164/164 [==============================] - 43s 264ms/step - loss: 0.3186 - accuracy: 0.9103 - val_loss: 2.5871 - val_accuracy: 0.4775\n",
      "Epoch 16/20\n",
      "164/164 [==============================] - 46s 280ms/step - loss: 0.2919 - accuracy: 0.9149 - val_loss: 3.0423 - val_accuracy: 0.5042\n",
      "Epoch 17/20\n",
      "164/164 [==============================] - 51s 309ms/step - loss: 0.2672 - accuracy: 0.9200 - val_loss: 3.2310 - val_accuracy: 0.4950\n",
      "Epoch 18/20\n",
      "164/164 [==============================] - 45s 277ms/step - loss: 0.2358 - accuracy: 0.9344 - val_loss: 3.4450 - val_accuracy: 0.4637\n",
      "Epoch 19/20\n",
      "164/164 [==============================] - 44s 265ms/step - loss: 0.2666 - accuracy: 0.9254 - val_loss: 3.1316 - val_accuracy: 0.5126\n",
      "Epoch 20/20\n",
      "164/164 [==============================] - 43s 261ms/step - loss: 0.2358 - accuracy: 0.9359 - val_loss: 3.3252 - val_accuracy: 0.4920\n"
     ]
    }
   ],
   "source": [
    "history_cnn = model2.fit(train_generator,\n",
    "                        validation_data = validation_generator,\n",
    "                        epochs = 20,\n",
    "         )"
   ]
  },
  {
   "cell_type": "markdown",
   "id": "00677af9",
   "metadata": {},
   "source": [
    "### Stronger Dropout and Regularization"
   ]
  },
  {
   "cell_type": "code",
   "execution_count": 21,
   "id": "46269192",
   "metadata": {},
   "outputs": [],
   "source": [
    "model3 = Sequential()\n",
    "\n",
    "# define 3x3 filter window sizes. Create 32 filters.\n",
    "model3.add(Conv2D(filters=32,\n",
    "                        kernel_size=(3, 3),\n",
    "                        activation='relu',\n",
    "                        input_shape=(150, 150, 3), kernel_regularizer = l2(8e-4)))\n",
    "\n",
    "# max pool in 2x2 window\n",
    "model3.add(MaxPooling2D(pool_size=(2, 2)))\n",
    "model3.add(Dropout(0.25))\n",
    "\n",
    "# define 3x3 filter window sizes. Create 64 filters.\n",
    "model3.add(Conv2D(64, (3, 3), activation='relu', kernel_regularizer = l2(8e-4)))\n",
    "model3.add(MaxPooling2D((2, 2)))\n",
    "\n",
    "model3.add(Conv2D(64, (3, 3), activation='relu', kernel_regularizer = l2(8e-4)))\n",
    "model3.add(Dropout(0.25))\n",
    "\n",
    "# transition to dense fully-connected part of network\n",
    "model3.add(Flatten())\n",
    "model3.add(Dense(64, activation='relu'))\n",
    "model3.add(Dropout(0.5))\n",
    "\n",
    "model3.add(Dense(10, activation='softmax'))\n",
    "\n",
    "\n",
    "model3.compile(optimizer='adam', loss='categorical_crossentropy',  metrics=['accuracy'])"
   ]
  },
  {
   "cell_type": "code",
   "execution_count": 22,
   "id": "43394d92",
   "metadata": {},
   "outputs": [
    {
     "name": "stdout",
     "output_type": "stream",
     "text": [
      "Model: \"sequential_6\"\n",
      "_________________________________________________________________\n",
      " Layer (type)                Output Shape              Param #   \n",
      "=================================================================\n",
      " conv2d_15 (Conv2D)          (None, 148, 148, 32)      896       \n",
      "                                                                 \n",
      " max_pooling2d_9 (MaxPoolin  (None, 74, 74, 32)        0         \n",
      " g2D)                                                            \n",
      "                                                                 \n",
      " dropout_8 (Dropout)         (None, 74, 74, 32)        0         \n",
      "                                                                 \n",
      " conv2d_16 (Conv2D)          (None, 72, 72, 64)        18496     \n",
      "                                                                 \n",
      " max_pooling2d_10 (MaxPooli  (None, 36, 36, 64)        0         \n",
      " ng2D)                                                           \n",
      "                                                                 \n",
      " conv2d_17 (Conv2D)          (None, 34, 34, 64)        36928     \n",
      "                                                                 \n",
      " dropout_9 (Dropout)         (None, 34, 34, 64)        0         \n",
      "                                                                 \n",
      " flatten_3 (Flatten)         (None, 73984)             0         \n",
      "                                                                 \n",
      " dense_6 (Dense)             (None, 64)                4735040   \n",
      "                                                                 \n",
      " dropout_10 (Dropout)        (None, 64)                0         \n",
      "                                                                 \n",
      " dense_7 (Dense)             (None, 10)                650       \n",
      "                                                                 \n",
      "=================================================================\n",
      "Total params: 4792010 (18.28 MB)\n",
      "Trainable params: 4792010 (18.28 MB)\n",
      "Non-trainable params: 0 (0.00 Byte)\n",
      "_________________________________________________________________\n"
     ]
    }
   ],
   "source": [
    "model3.summary()"
   ]
  },
  {
   "cell_type": "code",
   "execution_count": 23,
   "id": "6815b73a",
   "metadata": {},
   "outputs": [
    {
     "name": "stdout",
     "output_type": "stream",
     "text": [
      "Epoch 1/20\n",
      "164/164 [==============================] - 43s 259ms/step - loss: 2.2680 - accuracy: 0.1952 - val_loss: 2.1293 - val_accuracy: 0.2399\n",
      "Epoch 2/20\n",
      "164/164 [==============================] - 41s 252ms/step - loss: 1.9902 - accuracy: 0.2792 - val_loss: 1.9389 - val_accuracy: 0.2720\n",
      "Epoch 3/20\n",
      "164/164 [==============================] - 42s 253ms/step - loss: 1.8563 - accuracy: 0.3260 - val_loss: 1.7935 - val_accuracy: 0.4057\n",
      "Epoch 4/20\n",
      "164/164 [==============================] - 41s 252ms/step - loss: 1.7211 - accuracy: 0.3891 - val_loss: 1.5974 - val_accuracy: 0.4194\n",
      "Epoch 5/20\n",
      "164/164 [==============================] - 41s 250ms/step - loss: 1.5509 - accuracy: 0.4632 - val_loss: 1.5152 - val_accuracy: 0.4736\n",
      "Epoch 6/20\n",
      "164/164 [==============================] - 41s 251ms/step - loss: 1.4413 - accuracy: 0.5052 - val_loss: 1.4678 - val_accuracy: 0.5210\n",
      "Epoch 7/20\n",
      "164/164 [==============================] - 41s 249ms/step - loss: 1.3459 - accuracy: 0.5422 - val_loss: 1.4883 - val_accuracy: 0.4782\n",
      "Epoch 8/20\n",
      "164/164 [==============================] - 42s 255ms/step - loss: 1.2635 - accuracy: 0.5708 - val_loss: 1.4315 - val_accuracy: 0.5309\n",
      "Epoch 9/20\n",
      "164/164 [==============================] - 41s 252ms/step - loss: 1.2068 - accuracy: 0.5979 - val_loss: 1.4642 - val_accuracy: 0.5485\n",
      "Epoch 10/20\n",
      "164/164 [==============================] - 41s 250ms/step - loss: 1.1239 - accuracy: 0.6212 - val_loss: 1.4164 - val_accuracy: 0.5516\n",
      "Epoch 11/20\n",
      "164/164 [==============================] - 42s 253ms/step - loss: 1.0938 - accuracy: 0.6248 - val_loss: 1.4863 - val_accuracy: 0.5401\n",
      "Epoch 12/20\n",
      "164/164 [==============================] - 42s 254ms/step - loss: 1.0413 - accuracy: 0.6498 - val_loss: 1.4418 - val_accuracy: 0.5516\n",
      "Epoch 13/20\n",
      "164/164 [==============================] - 42s 253ms/step - loss: 0.9951 - accuracy: 0.6615 - val_loss: 1.4074 - val_accuracy: 0.5943\n",
      "Epoch 14/20\n",
      "164/164 [==============================] - 42s 257ms/step - loss: 0.9521 - accuracy: 0.6786 - val_loss: 1.3669 - val_accuracy: 0.5768\n",
      "Epoch 15/20\n",
      "164/164 [==============================] - 43s 264ms/step - loss: 0.9306 - accuracy: 0.6941 - val_loss: 1.4060 - val_accuracy: 0.5768\n",
      "Epoch 16/20\n",
      "164/164 [==============================] - 43s 260ms/step - loss: 0.9096 - accuracy: 0.6893 - val_loss: 1.5237 - val_accuracy: 0.5668\n",
      "Epoch 17/20\n",
      "109/164 [==================>...........] - ETA: 12s - loss: 0.8613 - accuracy: 0.7139"
     ]
    },
    {
     "name": "stderr",
     "output_type": "stream",
     "text": [
      "2023-07-24 16:23:30.921757: W tensorflow/core/framework/op_kernel.cc:1816] UNKNOWN: FileNotFoundError: [Errno 2] No such file or directory: '/Users/eitan/Documents/Flatiron/Capstone/train_splits_2/2/192269-2-0-1.png'\n",
      "Traceback (most recent call last):\n",
      "\n",
      "  File \"/Users/eitan/anaconda3/envs/Number41/lib/python3.11/site-packages/tensorflow/python/ops/script_ops.py\", line 268, in __call__\n",
      "    ret = func(*args)\n",
      "          ^^^^^^^^^^^\n",
      "\n",
      "  File \"/Users/eitan/anaconda3/envs/Number41/lib/python3.11/site-packages/tensorflow/python/autograph/impl/api.py\", line 643, in wrapper\n",
      "    return func(*args, **kwargs)\n",
      "           ^^^^^^^^^^^^^^^^^^^^^\n",
      "\n",
      "  File \"/Users/eitan/anaconda3/envs/Number41/lib/python3.11/site-packages/tensorflow/python/data/ops/from_generator_op.py\", line 198, in generator_py_func\n",
      "    values = next(generator_state.get_iterator(iterator_id))\n",
      "             ^^^^^^^^^^^^^^^^^^^^^^^^^^^^^^^^^^^^^^^^^^^^^^^\n",
      "\n",
      "  File \"/Users/eitan/anaconda3/envs/Number41/lib/python3.11/site-packages/keras/src/engine/data_adapter.py\", line 917, in wrapped_generator\n",
      "    for data in generator_fn():\n",
      "\n",
      "  File \"/Users/eitan/anaconda3/envs/Number41/lib/python3.11/site-packages/keras/src/engine/data_adapter.py\", line 1064, in generator_fn\n",
      "    yield x[i]\n",
      "          ~^^^\n",
      "\n",
      "  File \"/Users/eitan/anaconda3/envs/Number41/lib/python3.11/site-packages/keras/src/preprocessing/image.py\", line 116, in __getitem__\n",
      "    return self._get_batches_of_transformed_samples(index_array)\n",
      "           ^^^^^^^^^^^^^^^^^^^^^^^^^^^^^^^^^^^^^^^^^^^^^^^^^^^^^\n",
      "\n",
      "  File \"/Users/eitan/anaconda3/envs/Number41/lib/python3.11/site-packages/keras/src/preprocessing/image.py\", line 370, in _get_batches_of_transformed_samples\n",
      "    img = image_utils.load_img(\n",
      "          ^^^^^^^^^^^^^^^^^^^^^\n",
      "\n",
      "  File \"/Users/eitan/anaconda3/envs/Number41/lib/python3.11/site-packages/keras/src/utils/image_utils.py\", line 422, in load_img\n",
      "    with open(path, \"rb\") as f:\n",
      "         ^^^^^^^^^^^^^^^^\n",
      "\n",
      "FileNotFoundError: [Errno 2] No such file or directory: '/Users/eitan/Documents/Flatiron/Capstone/train_splits_2/2/192269-2-0-1.png'\n",
      "\n",
      "\n"
     ]
    },
    {
     "name": "stdout",
     "output_type": "stream",
     "text": [
      "\b\b\b\b\b\b\b\b\b\b\b\b\b\b\b\b\b\b\b\b\b\b\b\b\b\b\b\b\b\b\b\b\b\b\b\b\b\b\b\b\b\b\b\b\b\b\b\b\b\b\b\b\b\b\b\b\b\b\b\b\b\b\b\b\b\b\b\b\b\b\b\b\b\b\b\b\b\b\b\b\b\b\b\b\b\r",
      "110/164 [===================>..........] - ETA: 12s - loss: 0.8600 - accuracy: 0.7145"
     ]
    },
    {
     "ename": "UnknownError",
     "evalue": "Graph execution error:\n\nFileNotFoundError: [Errno 2] No such file or directory: '/Users/eitan/Documents/Flatiron/Capstone/train_splits_2/2/192269-2-0-1.png'\nTraceback (most recent call last):\n\n  File \"/Users/eitan/anaconda3/envs/Number41/lib/python3.11/site-packages/tensorflow/python/ops/script_ops.py\", line 268, in __call__\n    ret = func(*args)\n          ^^^^^^^^^^^\n\n  File \"/Users/eitan/anaconda3/envs/Number41/lib/python3.11/site-packages/tensorflow/python/autograph/impl/api.py\", line 643, in wrapper\n    return func(*args, **kwargs)\n           ^^^^^^^^^^^^^^^^^^^^^\n\n  File \"/Users/eitan/anaconda3/envs/Number41/lib/python3.11/site-packages/tensorflow/python/data/ops/from_generator_op.py\", line 198, in generator_py_func\n    values = next(generator_state.get_iterator(iterator_id))\n             ^^^^^^^^^^^^^^^^^^^^^^^^^^^^^^^^^^^^^^^^^^^^^^^\n\n  File \"/Users/eitan/anaconda3/envs/Number41/lib/python3.11/site-packages/keras/src/engine/data_adapter.py\", line 917, in wrapped_generator\n    for data in generator_fn():\n\n  File \"/Users/eitan/anaconda3/envs/Number41/lib/python3.11/site-packages/keras/src/engine/data_adapter.py\", line 1064, in generator_fn\n    yield x[i]\n          ~^^^\n\n  File \"/Users/eitan/anaconda3/envs/Number41/lib/python3.11/site-packages/keras/src/preprocessing/image.py\", line 116, in __getitem__\n    return self._get_batches_of_transformed_samples(index_array)\n           ^^^^^^^^^^^^^^^^^^^^^^^^^^^^^^^^^^^^^^^^^^^^^^^^^^^^^\n\n  File \"/Users/eitan/anaconda3/envs/Number41/lib/python3.11/site-packages/keras/src/preprocessing/image.py\", line 370, in _get_batches_of_transformed_samples\n    img = image_utils.load_img(\n          ^^^^^^^^^^^^^^^^^^^^^\n\n  File \"/Users/eitan/anaconda3/envs/Number41/lib/python3.11/site-packages/keras/src/utils/image_utils.py\", line 422, in load_img\n    with open(path, \"rb\") as f:\n         ^^^^^^^^^^^^^^^^\n\nFileNotFoundError: [Errno 2] No such file or directory: '/Users/eitan/Documents/Flatiron/Capstone/train_splits_2/2/192269-2-0-1.png'\n\n\n\t [[{{node PyFunc}}]]\n\t [[IteratorGetNext]] [Op:__inference_train_function_44208]",
     "output_type": "error",
     "traceback": [
      "\u001b[0;31m---------------------------------------------------------------------------\u001b[0m",
      "\u001b[0;31mUnknownError\u001b[0m                              Traceback (most recent call last)",
      "Cell \u001b[0;32mIn[23], line 1\u001b[0m\n\u001b[0;32m----> 1\u001b[0m history_cnn \u001b[38;5;241m=\u001b[39m model3\u001b[38;5;241m.\u001b[39mfit(train_generator,\n\u001b[1;32m      2\u001b[0m                         validation_data \u001b[38;5;241m=\u001b[39m validation_generator,\n\u001b[1;32m      3\u001b[0m                         epochs \u001b[38;5;241m=\u001b[39m \u001b[38;5;241m20\u001b[39m,\n\u001b[1;32m      4\u001b[0m          )\n",
      "File \u001b[0;32m~/anaconda3/envs/Number41/lib/python3.11/site-packages/keras/src/utils/traceback_utils.py:70\u001b[0m, in \u001b[0;36mfilter_traceback.<locals>.error_handler\u001b[0;34m(*args, **kwargs)\u001b[0m\n\u001b[1;32m     67\u001b[0m     filtered_tb \u001b[38;5;241m=\u001b[39m _process_traceback_frames(e\u001b[38;5;241m.\u001b[39m__traceback__)\n\u001b[1;32m     68\u001b[0m     \u001b[38;5;66;03m# To get the full stack trace, call:\u001b[39;00m\n\u001b[1;32m     69\u001b[0m     \u001b[38;5;66;03m# `tf.debugging.disable_traceback_filtering()`\u001b[39;00m\n\u001b[0;32m---> 70\u001b[0m     \u001b[38;5;28;01mraise\u001b[39;00m e\u001b[38;5;241m.\u001b[39mwith_traceback(filtered_tb) \u001b[38;5;28;01mfrom\u001b[39;00m \u001b[38;5;28;01mNone\u001b[39;00m\n\u001b[1;32m     71\u001b[0m \u001b[38;5;28;01mfinally\u001b[39;00m:\n\u001b[1;32m     72\u001b[0m     \u001b[38;5;28;01mdel\u001b[39;00m filtered_tb\n",
      "File \u001b[0;32m~/anaconda3/envs/Number41/lib/python3.11/site-packages/tensorflow/python/eager/execute.py:53\u001b[0m, in \u001b[0;36mquick_execute\u001b[0;34m(op_name, num_outputs, inputs, attrs, ctx, name)\u001b[0m\n\u001b[1;32m     51\u001b[0m \u001b[38;5;28;01mtry\u001b[39;00m:\n\u001b[1;32m     52\u001b[0m   ctx\u001b[38;5;241m.\u001b[39mensure_initialized()\n\u001b[0;32m---> 53\u001b[0m   tensors \u001b[38;5;241m=\u001b[39m pywrap_tfe\u001b[38;5;241m.\u001b[39mTFE_Py_Execute(ctx\u001b[38;5;241m.\u001b[39m_handle, device_name, op_name,\n\u001b[1;32m     54\u001b[0m                                       inputs, attrs, num_outputs)\n\u001b[1;32m     55\u001b[0m \u001b[38;5;28;01mexcept\u001b[39;00m core\u001b[38;5;241m.\u001b[39m_NotOkStatusException \u001b[38;5;28;01mas\u001b[39;00m e:\n\u001b[1;32m     56\u001b[0m   \u001b[38;5;28;01mif\u001b[39;00m name \u001b[38;5;129;01mis\u001b[39;00m \u001b[38;5;129;01mnot\u001b[39;00m \u001b[38;5;28;01mNone\u001b[39;00m:\n",
      "\u001b[0;31mUnknownError\u001b[0m: Graph execution error:\n\nFileNotFoundError: [Errno 2] No such file or directory: '/Users/eitan/Documents/Flatiron/Capstone/train_splits_2/2/192269-2-0-1.png'\nTraceback (most recent call last):\n\n  File \"/Users/eitan/anaconda3/envs/Number41/lib/python3.11/site-packages/tensorflow/python/ops/script_ops.py\", line 268, in __call__\n    ret = func(*args)\n          ^^^^^^^^^^^\n\n  File \"/Users/eitan/anaconda3/envs/Number41/lib/python3.11/site-packages/tensorflow/python/autograph/impl/api.py\", line 643, in wrapper\n    return func(*args, **kwargs)\n           ^^^^^^^^^^^^^^^^^^^^^\n\n  File \"/Users/eitan/anaconda3/envs/Number41/lib/python3.11/site-packages/tensorflow/python/data/ops/from_generator_op.py\", line 198, in generator_py_func\n    values = next(generator_state.get_iterator(iterator_id))\n             ^^^^^^^^^^^^^^^^^^^^^^^^^^^^^^^^^^^^^^^^^^^^^^^\n\n  File \"/Users/eitan/anaconda3/envs/Number41/lib/python3.11/site-packages/keras/src/engine/data_adapter.py\", line 917, in wrapped_generator\n    for data in generator_fn():\n\n  File \"/Users/eitan/anaconda3/envs/Number41/lib/python3.11/site-packages/keras/src/engine/data_adapter.py\", line 1064, in generator_fn\n    yield x[i]\n          ~^^^\n\n  File \"/Users/eitan/anaconda3/envs/Number41/lib/python3.11/site-packages/keras/src/preprocessing/image.py\", line 116, in __getitem__\n    return self._get_batches_of_transformed_samples(index_array)\n           ^^^^^^^^^^^^^^^^^^^^^^^^^^^^^^^^^^^^^^^^^^^^^^^^^^^^^\n\n  File \"/Users/eitan/anaconda3/envs/Number41/lib/python3.11/site-packages/keras/src/preprocessing/image.py\", line 370, in _get_batches_of_transformed_samples\n    img = image_utils.load_img(\n          ^^^^^^^^^^^^^^^^^^^^^\n\n  File \"/Users/eitan/anaconda3/envs/Number41/lib/python3.11/site-packages/keras/src/utils/image_utils.py\", line 422, in load_img\n    with open(path, \"rb\") as f:\n         ^^^^^^^^^^^^^^^^\n\nFileNotFoundError: [Errno 2] No such file or directory: '/Users/eitan/Documents/Flatiron/Capstone/train_splits_2/2/192269-2-0-1.png'\n\n\n\t [[{{node PyFunc}}]]\n\t [[IteratorGetNext]] [Op:__inference_train_function_44208]"
     ]
    }
   ],
   "source": [
    "history_cnn = model3.fit(train_generator,\n",
    "                        validation_data = validation_generator,\n",
    "                        epochs = 20,\n",
    "         )"
   ]
  },
  {
   "cell_type": "markdown",
   "id": "b0f4e587",
   "metadata": {},
   "source": [
    "### stronger dropout"
   ]
  },
  {
   "cell_type": "code",
   "execution_count": 15,
   "id": "91f3cf8f",
   "metadata": {},
   "outputs": [],
   "source": [
    "model4 = Sequential()\n",
    "\n",
    "# define 3x3 filter window sizes. Create 32 filters.\n",
    "model4.add(Conv2D(filters=32,\n",
    "                        kernel_size=(3, 3),\n",
    "                        activation='relu',\n",
    "                        input_shape=(150, 150, 3), kernel_regularizer = l2(8e-4)))\n",
    "\n",
    "# max pool in 2x2 window\n",
    "model4.add(MaxPooling2D(pool_size=(2, 2)))\n",
    "model4.add(Dropout(0.25))\n",
    "\n",
    "# define 3x3 filter window sizes. Create 64 filters.\n",
    "model4.add(Conv2D(64, (3, 3), activation='relu', kernel_regularizer = l2(8e-4)))\n",
    "model4.add(MaxPooling2D((2, 2)))\n",
    "\n",
    "model4.add(Conv2D(64, (3, 3), activation='relu', kernel_regularizer = l2(8e-4)))\n",
    "model4.add(Dropout(0.25))\n",
    "\n",
    "# transition to dense fully-connected part of network\n",
    "model4.add(Flatten())\n",
    "model4.add(Dense(128, activation='relu'))\n",
    "model4.add(Dropout(0.7))\n",
    "\n",
    "model4.add(Dense(10, activation='softmax'))\n",
    "\n",
    "\n",
    "model4.compile(optimizer='adam', loss='categorical_crossentropy',  metrics=['accuracy'])"
   ]
  },
  {
   "cell_type": "code",
   "execution_count": 16,
   "id": "d246fe2f",
   "metadata": {},
   "outputs": [
    {
     "name": "stdout",
     "output_type": "stream",
     "text": [
      "Model: \"sequential_1\"\n",
      "_________________________________________________________________\n",
      " Layer (type)                Output Shape              Param #   \n",
      "=================================================================\n",
      " conv2d_3 (Conv2D)           (None, 148, 148, 32)      896       \n",
      "                                                                 \n",
      " max_pooling2d_2 (MaxPoolin  (None, 74, 74, 32)        0         \n",
      " g2D)                                                            \n",
      "                                                                 \n",
      " dropout (Dropout)           (None, 74, 74, 32)        0         \n",
      "                                                                 \n",
      " conv2d_4 (Conv2D)           (None, 72, 72, 64)        18496     \n",
      "                                                                 \n",
      " max_pooling2d_3 (MaxPoolin  (None, 36, 36, 64)        0         \n",
      " g2D)                                                            \n",
      "                                                                 \n",
      " conv2d_5 (Conv2D)           (None, 34, 34, 64)        36928     \n",
      "                                                                 \n",
      " dropout_1 (Dropout)         (None, 34, 34, 64)        0         \n",
      "                                                                 \n",
      " flatten_1 (Flatten)         (None, 73984)             0         \n",
      "                                                                 \n",
      " dense_2 (Dense)             (None, 128)               9470080   \n",
      "                                                                 \n",
      " dropout_2 (Dropout)         (None, 128)               0         \n",
      "                                                                 \n",
      " dense_3 (Dense)             (None, 10)                1290      \n",
      "                                                                 \n",
      "=================================================================\n",
      "Total params: 9527690 (36.35 MB)\n",
      "Trainable params: 9527690 (36.35 MB)\n",
      "Non-trainable params: 0 (0.00 Byte)\n",
      "_________________________________________________________________\n"
     ]
    }
   ],
   "source": [
    "model4.summary()"
   ]
  },
  {
   "cell_type": "code",
   "execution_count": 17,
   "id": "cbd9928a",
   "metadata": {},
   "outputs": [
    {
     "name": "stdout",
     "output_type": "stream",
     "text": [
      "Epoch 1/25\n",
      "164/164 [==============================] - 43s 262ms/step - loss: 2.2665 - accuracy: 0.1968 - val_loss: 1.9669 - val_accuracy: 0.2842\n",
      "Epoch 2/25\n",
      "164/164 [==============================] - 43s 261ms/step - loss: 2.0375 - accuracy: 0.2513 - val_loss: 1.9624 - val_accuracy: 0.2720\n",
      "Epoch 3/25\n",
      "164/164 [==============================] - 44s 270ms/step - loss: 1.9651 - accuracy: 0.2750 - val_loss: 1.8756 - val_accuracy: 0.2697\n",
      "Epoch 4/25\n",
      "164/164 [==============================] - 43s 262ms/step - loss: 1.8559 - accuracy: 0.3160 - val_loss: 1.7571 - val_accuracy: 0.3392\n",
      "Epoch 5/25\n",
      "164/164 [==============================] - 44s 268ms/step - loss: 1.7799 - accuracy: 0.3492 - val_loss: 1.6417 - val_accuracy: 0.4041\n",
      "Epoch 6/25\n",
      "164/164 [==============================] - 43s 261ms/step - loss: 1.6735 - accuracy: 0.3857 - val_loss: 1.5935 - val_accuracy: 0.4064\n",
      "Epoch 7/25\n",
      "164/164 [==============================] - 43s 264ms/step - loss: 1.5896 - accuracy: 0.4359 - val_loss: 1.5160 - val_accuracy: 0.4637\n",
      "Epoch 8/25\n",
      "164/164 [==============================] - 46s 278ms/step - loss: 1.5254 - accuracy: 0.4546 - val_loss: 1.5635 - val_accuracy: 0.4668\n",
      "Epoch 9/25\n",
      "164/164 [==============================] - 48s 290ms/step - loss: 1.4666 - accuracy: 0.4817 - val_loss: 1.5157 - val_accuracy: 0.4683\n",
      "Epoch 10/25\n",
      "164/164 [==============================] - 46s 278ms/step - loss: 1.3846 - accuracy: 0.5061 - val_loss: 1.4816 - val_accuracy: 0.5027\n",
      "Epoch 11/25\n",
      "164/164 [==============================] - 43s 262ms/step - loss: 1.3471 - accuracy: 0.5273 - val_loss: 1.5140 - val_accuracy: 0.5149\n",
      "Epoch 12/25\n",
      "164/164 [==============================] - 43s 261ms/step - loss: 1.3201 - accuracy: 0.5315 - val_loss: 1.4749 - val_accuracy: 0.5080\n",
      "Epoch 13/25\n",
      "164/164 [==============================] - 43s 264ms/step - loss: 1.2644 - accuracy: 0.5456 - val_loss: 1.4637 - val_accuracy: 0.5050\n",
      "Epoch 14/25\n",
      "164/164 [==============================] - 46s 281ms/step - loss: 1.2067 - accuracy: 0.5744 - val_loss: 1.5048 - val_accuracy: 0.5210\n",
      "Epoch 15/25\n",
      "164/164 [==============================] - 43s 259ms/step - loss: 1.1785 - accuracy: 0.5756 - val_loss: 1.6179 - val_accuracy: 0.5103\n",
      "Epoch 16/25\n",
      "164/164 [==============================] - 43s 261ms/step - loss: 1.1412 - accuracy: 0.6015 - val_loss: 1.4859 - val_accuracy: 0.5164\n",
      "Epoch 17/25\n",
      "164/164 [==============================] - 44s 266ms/step - loss: 1.1306 - accuracy: 0.6013 - val_loss: 1.5564 - val_accuracy: 0.5195\n",
      "Epoch 18/25\n",
      "164/164 [==============================] - 47s 284ms/step - loss: 1.0775 - accuracy: 0.6084 - val_loss: 1.5773 - val_accuracy: 0.5141\n",
      "Epoch 19/25\n",
      "164/164 [==============================] - 47s 287ms/step - loss: 1.0650 - accuracy: 0.6160 - val_loss: 1.6384 - val_accuracy: 0.4798\n",
      "Epoch 20/25\n",
      "164/164 [==============================] - 44s 269ms/step - loss: 1.0553 - accuracy: 0.6286 - val_loss: 1.6781 - val_accuracy: 0.5164\n",
      "Epoch 21/25\n",
      " 17/164 [==>...........................] - ETA: 35s - loss: 1.0161 - accuracy: 0.6379"
     ]
    },
    {
     "ename": "KeyboardInterrupt",
     "evalue": "",
     "output_type": "error",
     "traceback": [
      "\u001b[0;31m---------------------------------------------------------------------------\u001b[0m",
      "\u001b[0;31mKeyboardInterrupt\u001b[0m                         Traceback (most recent call last)",
      "Cell \u001b[0;32mIn[17], line 1\u001b[0m\n\u001b[0;32m----> 1\u001b[0m history_cnn \u001b[38;5;241m=\u001b[39m model4\u001b[38;5;241m.\u001b[39mfit(train_generator,\n\u001b[1;32m      2\u001b[0m                         validation_data \u001b[38;5;241m=\u001b[39m validation_generator,\n\u001b[1;32m      3\u001b[0m                         epochs \u001b[38;5;241m=\u001b[39m \u001b[38;5;241m25\u001b[39m,\n\u001b[1;32m      4\u001b[0m          )\n",
      "File \u001b[0;32m~/anaconda3/envs/Number41/lib/python3.11/site-packages/keras/src/utils/traceback_utils.py:65\u001b[0m, in \u001b[0;36mfilter_traceback.<locals>.error_handler\u001b[0;34m(*args, **kwargs)\u001b[0m\n\u001b[1;32m     63\u001b[0m filtered_tb \u001b[38;5;241m=\u001b[39m \u001b[38;5;28;01mNone\u001b[39;00m\n\u001b[1;32m     64\u001b[0m \u001b[38;5;28;01mtry\u001b[39;00m:\n\u001b[0;32m---> 65\u001b[0m     \u001b[38;5;28;01mreturn\u001b[39;00m fn(\u001b[38;5;241m*\u001b[39margs, \u001b[38;5;241m*\u001b[39m\u001b[38;5;241m*\u001b[39mkwargs)\n\u001b[1;32m     66\u001b[0m \u001b[38;5;28;01mexcept\u001b[39;00m \u001b[38;5;167;01mException\u001b[39;00m \u001b[38;5;28;01mas\u001b[39;00m e:\n\u001b[1;32m     67\u001b[0m     filtered_tb \u001b[38;5;241m=\u001b[39m _process_traceback_frames(e\u001b[38;5;241m.\u001b[39m__traceback__)\n",
      "File \u001b[0;32m~/anaconda3/envs/Number41/lib/python3.11/site-packages/keras/src/engine/training.py:1742\u001b[0m, in \u001b[0;36mModel.fit\u001b[0;34m(self, x, y, batch_size, epochs, verbose, callbacks, validation_split, validation_data, shuffle, class_weight, sample_weight, initial_epoch, steps_per_epoch, validation_steps, validation_batch_size, validation_freq, max_queue_size, workers, use_multiprocessing)\u001b[0m\n\u001b[1;32m   1734\u001b[0m \u001b[38;5;28;01mwith\u001b[39;00m tf\u001b[38;5;241m.\u001b[39mprofiler\u001b[38;5;241m.\u001b[39mexperimental\u001b[38;5;241m.\u001b[39mTrace(\n\u001b[1;32m   1735\u001b[0m     \u001b[38;5;124m\"\u001b[39m\u001b[38;5;124mtrain\u001b[39m\u001b[38;5;124m\"\u001b[39m,\n\u001b[1;32m   1736\u001b[0m     epoch_num\u001b[38;5;241m=\u001b[39mepoch,\n\u001b[0;32m   (...)\u001b[0m\n\u001b[1;32m   1739\u001b[0m     _r\u001b[38;5;241m=\u001b[39m\u001b[38;5;241m1\u001b[39m,\n\u001b[1;32m   1740\u001b[0m ):\n\u001b[1;32m   1741\u001b[0m     callbacks\u001b[38;5;241m.\u001b[39mon_train_batch_begin(step)\n\u001b[0;32m-> 1742\u001b[0m     tmp_logs \u001b[38;5;241m=\u001b[39m \u001b[38;5;28mself\u001b[39m\u001b[38;5;241m.\u001b[39mtrain_function(iterator)\n\u001b[1;32m   1743\u001b[0m     \u001b[38;5;28;01mif\u001b[39;00m data_handler\u001b[38;5;241m.\u001b[39mshould_sync:\n\u001b[1;32m   1744\u001b[0m         context\u001b[38;5;241m.\u001b[39masync_wait()\n",
      "File \u001b[0;32m~/anaconda3/envs/Number41/lib/python3.11/site-packages/tensorflow/python/util/traceback_utils.py:150\u001b[0m, in \u001b[0;36mfilter_traceback.<locals>.error_handler\u001b[0;34m(*args, **kwargs)\u001b[0m\n\u001b[1;32m    148\u001b[0m filtered_tb \u001b[38;5;241m=\u001b[39m \u001b[38;5;28;01mNone\u001b[39;00m\n\u001b[1;32m    149\u001b[0m \u001b[38;5;28;01mtry\u001b[39;00m:\n\u001b[0;32m--> 150\u001b[0m   \u001b[38;5;28;01mreturn\u001b[39;00m fn(\u001b[38;5;241m*\u001b[39margs, \u001b[38;5;241m*\u001b[39m\u001b[38;5;241m*\u001b[39mkwargs)\n\u001b[1;32m    151\u001b[0m \u001b[38;5;28;01mexcept\u001b[39;00m \u001b[38;5;167;01mException\u001b[39;00m \u001b[38;5;28;01mas\u001b[39;00m e:\n\u001b[1;32m    152\u001b[0m   filtered_tb \u001b[38;5;241m=\u001b[39m _process_traceback_frames(e\u001b[38;5;241m.\u001b[39m__traceback__)\n",
      "File \u001b[0;32m~/anaconda3/envs/Number41/lib/python3.11/site-packages/tensorflow/python/eager/polymorphic_function/polymorphic_function.py:825\u001b[0m, in \u001b[0;36mFunction.__call__\u001b[0;34m(self, *args, **kwds)\u001b[0m\n\u001b[1;32m    822\u001b[0m compiler \u001b[38;5;241m=\u001b[39m \u001b[38;5;124m\"\u001b[39m\u001b[38;5;124mxla\u001b[39m\u001b[38;5;124m\"\u001b[39m \u001b[38;5;28;01mif\u001b[39;00m \u001b[38;5;28mself\u001b[39m\u001b[38;5;241m.\u001b[39m_jit_compile \u001b[38;5;28;01melse\u001b[39;00m \u001b[38;5;124m\"\u001b[39m\u001b[38;5;124mnonXla\u001b[39m\u001b[38;5;124m\"\u001b[39m\n\u001b[1;32m    824\u001b[0m \u001b[38;5;28;01mwith\u001b[39;00m OptionalXlaContext(\u001b[38;5;28mself\u001b[39m\u001b[38;5;241m.\u001b[39m_jit_compile):\n\u001b[0;32m--> 825\u001b[0m   result \u001b[38;5;241m=\u001b[39m \u001b[38;5;28mself\u001b[39m\u001b[38;5;241m.\u001b[39m_call(\u001b[38;5;241m*\u001b[39margs, \u001b[38;5;241m*\u001b[39m\u001b[38;5;241m*\u001b[39mkwds)\n\u001b[1;32m    827\u001b[0m new_tracing_count \u001b[38;5;241m=\u001b[39m \u001b[38;5;28mself\u001b[39m\u001b[38;5;241m.\u001b[39mexperimental_get_tracing_count()\n\u001b[1;32m    828\u001b[0m without_tracing \u001b[38;5;241m=\u001b[39m (tracing_count \u001b[38;5;241m==\u001b[39m new_tracing_count)\n",
      "File \u001b[0;32m~/anaconda3/envs/Number41/lib/python3.11/site-packages/tensorflow/python/eager/polymorphic_function/polymorphic_function.py:857\u001b[0m, in \u001b[0;36mFunction._call\u001b[0;34m(self, *args, **kwds)\u001b[0m\n\u001b[1;32m    854\u001b[0m   \u001b[38;5;28mself\u001b[39m\u001b[38;5;241m.\u001b[39m_lock\u001b[38;5;241m.\u001b[39mrelease()\n\u001b[1;32m    855\u001b[0m   \u001b[38;5;66;03m# In this case we have created variables on the first call, so we run the\u001b[39;00m\n\u001b[1;32m    856\u001b[0m   \u001b[38;5;66;03m# defunned version which is guaranteed to never create variables.\u001b[39;00m\n\u001b[0;32m--> 857\u001b[0m   \u001b[38;5;28;01mreturn\u001b[39;00m \u001b[38;5;28mself\u001b[39m\u001b[38;5;241m.\u001b[39m_no_variable_creation_fn(\u001b[38;5;241m*\u001b[39margs, \u001b[38;5;241m*\u001b[39m\u001b[38;5;241m*\u001b[39mkwds)  \u001b[38;5;66;03m# pylint: disable=not-callable\u001b[39;00m\n\u001b[1;32m    858\u001b[0m \u001b[38;5;28;01melif\u001b[39;00m \u001b[38;5;28mself\u001b[39m\u001b[38;5;241m.\u001b[39m_variable_creation_fn \u001b[38;5;129;01mis\u001b[39;00m \u001b[38;5;129;01mnot\u001b[39;00m \u001b[38;5;28;01mNone\u001b[39;00m:\n\u001b[1;32m    859\u001b[0m   \u001b[38;5;66;03m# Release the lock early so that multiple threads can perform the call\u001b[39;00m\n\u001b[1;32m    860\u001b[0m   \u001b[38;5;66;03m# in parallel.\u001b[39;00m\n\u001b[1;32m    861\u001b[0m   \u001b[38;5;28mself\u001b[39m\u001b[38;5;241m.\u001b[39m_lock\u001b[38;5;241m.\u001b[39mrelease()\n",
      "File \u001b[0;32m~/anaconda3/envs/Number41/lib/python3.11/site-packages/tensorflow/python/eager/polymorphic_function/tracing_compiler.py:148\u001b[0m, in \u001b[0;36mTracingCompiler.__call__\u001b[0;34m(self, *args, **kwargs)\u001b[0m\n\u001b[1;32m    145\u001b[0m \u001b[38;5;28;01mwith\u001b[39;00m \u001b[38;5;28mself\u001b[39m\u001b[38;5;241m.\u001b[39m_lock:\n\u001b[1;32m    146\u001b[0m   (concrete_function,\n\u001b[1;32m    147\u001b[0m    filtered_flat_args) \u001b[38;5;241m=\u001b[39m \u001b[38;5;28mself\u001b[39m\u001b[38;5;241m.\u001b[39m_maybe_define_function(args, kwargs)\n\u001b[0;32m--> 148\u001b[0m \u001b[38;5;28;01mreturn\u001b[39;00m concrete_function\u001b[38;5;241m.\u001b[39m_call_flat(\n\u001b[1;32m    149\u001b[0m     filtered_flat_args, captured_inputs\u001b[38;5;241m=\u001b[39mconcrete_function\u001b[38;5;241m.\u001b[39mcaptured_inputs)\n",
      "File \u001b[0;32m~/anaconda3/envs/Number41/lib/python3.11/site-packages/tensorflow/python/eager/polymorphic_function/monomorphic_function.py:1349\u001b[0m, in \u001b[0;36mConcreteFunction._call_flat\u001b[0;34m(self, args, captured_inputs)\u001b[0m\n\u001b[1;32m   1345\u001b[0m possible_gradient_type \u001b[38;5;241m=\u001b[39m gradients_util\u001b[38;5;241m.\u001b[39mPossibleTapeGradientTypes(args)\n\u001b[1;32m   1346\u001b[0m \u001b[38;5;28;01mif\u001b[39;00m (possible_gradient_type \u001b[38;5;241m==\u001b[39m gradients_util\u001b[38;5;241m.\u001b[39mPOSSIBLE_GRADIENT_TYPES_NONE\n\u001b[1;32m   1347\u001b[0m     \u001b[38;5;129;01mand\u001b[39;00m executing_eagerly):\n\u001b[1;32m   1348\u001b[0m   \u001b[38;5;66;03m# No tape is watching; skip to running the function.\u001b[39;00m\n\u001b[0;32m-> 1349\u001b[0m   \u001b[38;5;28;01mreturn\u001b[39;00m \u001b[38;5;28mself\u001b[39m\u001b[38;5;241m.\u001b[39m_build_call_outputs(\u001b[38;5;28mself\u001b[39m\u001b[38;5;241m.\u001b[39m_inference_function(\u001b[38;5;241m*\u001b[39margs))\n\u001b[1;32m   1350\u001b[0m forward_backward \u001b[38;5;241m=\u001b[39m \u001b[38;5;28mself\u001b[39m\u001b[38;5;241m.\u001b[39m_select_forward_and_backward_functions(\n\u001b[1;32m   1351\u001b[0m     args,\n\u001b[1;32m   1352\u001b[0m     possible_gradient_type,\n\u001b[1;32m   1353\u001b[0m     executing_eagerly)\n\u001b[1;32m   1354\u001b[0m forward_function, args_with_tangents \u001b[38;5;241m=\u001b[39m forward_backward\u001b[38;5;241m.\u001b[39mforward()\n",
      "File \u001b[0;32m~/anaconda3/envs/Number41/lib/python3.11/site-packages/tensorflow/python/eager/polymorphic_function/atomic_function.py:196\u001b[0m, in \u001b[0;36mAtomicFunction.__call__\u001b[0;34m(self, *args)\u001b[0m\n\u001b[1;32m    194\u001b[0m \u001b[38;5;28;01mwith\u001b[39;00m record\u001b[38;5;241m.\u001b[39mstop_recording():\n\u001b[1;32m    195\u001b[0m   \u001b[38;5;28;01mif\u001b[39;00m \u001b[38;5;28mself\u001b[39m\u001b[38;5;241m.\u001b[39m_bound_context\u001b[38;5;241m.\u001b[39mexecuting_eagerly():\n\u001b[0;32m--> 196\u001b[0m     outputs \u001b[38;5;241m=\u001b[39m \u001b[38;5;28mself\u001b[39m\u001b[38;5;241m.\u001b[39m_bound_context\u001b[38;5;241m.\u001b[39mcall_function(\n\u001b[1;32m    197\u001b[0m         \u001b[38;5;28mself\u001b[39m\u001b[38;5;241m.\u001b[39mname,\n\u001b[1;32m    198\u001b[0m         \u001b[38;5;28mlist\u001b[39m(args),\n\u001b[1;32m    199\u001b[0m         \u001b[38;5;28mlen\u001b[39m(\u001b[38;5;28mself\u001b[39m\u001b[38;5;241m.\u001b[39mfunction_type\u001b[38;5;241m.\u001b[39mflat_outputs),\n\u001b[1;32m    200\u001b[0m     )\n\u001b[1;32m    201\u001b[0m   \u001b[38;5;28;01melse\u001b[39;00m:\n\u001b[1;32m    202\u001b[0m     outputs \u001b[38;5;241m=\u001b[39m make_call_op_in_graph(\u001b[38;5;28mself\u001b[39m, \u001b[38;5;28mlist\u001b[39m(args))\n",
      "File \u001b[0;32m~/anaconda3/envs/Number41/lib/python3.11/site-packages/tensorflow/python/eager/context.py:1457\u001b[0m, in \u001b[0;36mContext.call_function\u001b[0;34m(self, name, tensor_inputs, num_outputs)\u001b[0m\n\u001b[1;32m   1455\u001b[0m cancellation_context \u001b[38;5;241m=\u001b[39m cancellation\u001b[38;5;241m.\u001b[39mcontext()\n\u001b[1;32m   1456\u001b[0m \u001b[38;5;28;01mif\u001b[39;00m cancellation_context \u001b[38;5;129;01mis\u001b[39;00m \u001b[38;5;28;01mNone\u001b[39;00m:\n\u001b[0;32m-> 1457\u001b[0m   outputs \u001b[38;5;241m=\u001b[39m execute\u001b[38;5;241m.\u001b[39mexecute(\n\u001b[1;32m   1458\u001b[0m       name\u001b[38;5;241m.\u001b[39mdecode(\u001b[38;5;124m\"\u001b[39m\u001b[38;5;124mutf-8\u001b[39m\u001b[38;5;124m\"\u001b[39m),\n\u001b[1;32m   1459\u001b[0m       num_outputs\u001b[38;5;241m=\u001b[39mnum_outputs,\n\u001b[1;32m   1460\u001b[0m       inputs\u001b[38;5;241m=\u001b[39mtensor_inputs,\n\u001b[1;32m   1461\u001b[0m       attrs\u001b[38;5;241m=\u001b[39mattrs,\n\u001b[1;32m   1462\u001b[0m       ctx\u001b[38;5;241m=\u001b[39m\u001b[38;5;28mself\u001b[39m,\n\u001b[1;32m   1463\u001b[0m   )\n\u001b[1;32m   1464\u001b[0m \u001b[38;5;28;01melse\u001b[39;00m:\n\u001b[1;32m   1465\u001b[0m   outputs \u001b[38;5;241m=\u001b[39m execute\u001b[38;5;241m.\u001b[39mexecute_with_cancellation(\n\u001b[1;32m   1466\u001b[0m       name\u001b[38;5;241m.\u001b[39mdecode(\u001b[38;5;124m\"\u001b[39m\u001b[38;5;124mutf-8\u001b[39m\u001b[38;5;124m\"\u001b[39m),\n\u001b[1;32m   1467\u001b[0m       num_outputs\u001b[38;5;241m=\u001b[39mnum_outputs,\n\u001b[0;32m   (...)\u001b[0m\n\u001b[1;32m   1471\u001b[0m       cancellation_manager\u001b[38;5;241m=\u001b[39mcancellation_context,\n\u001b[1;32m   1472\u001b[0m   )\n",
      "File \u001b[0;32m~/anaconda3/envs/Number41/lib/python3.11/site-packages/tensorflow/python/eager/execute.py:53\u001b[0m, in \u001b[0;36mquick_execute\u001b[0;34m(op_name, num_outputs, inputs, attrs, ctx, name)\u001b[0m\n\u001b[1;32m     51\u001b[0m \u001b[38;5;28;01mtry\u001b[39;00m:\n\u001b[1;32m     52\u001b[0m   ctx\u001b[38;5;241m.\u001b[39mensure_initialized()\n\u001b[0;32m---> 53\u001b[0m   tensors \u001b[38;5;241m=\u001b[39m pywrap_tfe\u001b[38;5;241m.\u001b[39mTFE_Py_Execute(ctx\u001b[38;5;241m.\u001b[39m_handle, device_name, op_name,\n\u001b[1;32m     54\u001b[0m                                       inputs, attrs, num_outputs)\n\u001b[1;32m     55\u001b[0m \u001b[38;5;28;01mexcept\u001b[39;00m core\u001b[38;5;241m.\u001b[39m_NotOkStatusException \u001b[38;5;28;01mas\u001b[39;00m e:\n\u001b[1;32m     56\u001b[0m   \u001b[38;5;28;01mif\u001b[39;00m name \u001b[38;5;129;01mis\u001b[39;00m \u001b[38;5;129;01mnot\u001b[39;00m \u001b[38;5;28;01mNone\u001b[39;00m:\n",
      "\u001b[0;31mKeyboardInterrupt\u001b[0m: "
     ]
    }
   ],
   "source": [
    "history_cnn = model4.fit(train_generator,\n",
    "                        validation_data = validation_generator,\n",
    "                        epochs = 25,\n",
    "         )"
   ]
  },
  {
   "cell_type": "markdown",
   "id": "5a0ecd10",
   "metadata": {},
   "source": [
    "### Less L2 and Dropout"
   ]
  },
  {
   "cell_type": "code",
   "execution_count": 19,
   "id": "ef5fd72d",
   "metadata": {},
   "outputs": [],
   "source": [
    "model5 = Sequential()\n",
    "\n",
    "# define 3x3 filter window sizes. Create 32 filters.\n",
    "model5.add(Conv2D(filters=32,\n",
    "                        kernel_size=(3, 3),\n",
    "                        activation='relu',\n",
    "                        input_shape=(150, 150, 3), kernel_regularizer = l2(5e-4)))\n",
    "\n",
    "# max pool in 2x2 window\n",
    "model5.add(MaxPooling2D(pool_size=(2, 2)))\n",
    "model5.add(Dropout(0.2))\n",
    "\n",
    "# define 3x3 filter window sizes. Create 64 filters.\n",
    "model5.add(Conv2D(64, (3, 3), activation='relu', kernel_regularizer = l2(5e-4)))\n",
    "model5.add(MaxPooling2D((2, 2)))\n",
    "\n",
    "model5.add(Conv2D(64, (3, 3), activation='relu', kernel_regularizer = l2(5e-4)))\n",
    "model5.add(Dropout(0.25))\n",
    "\n",
    "# transition to dense fully-connected part of network\n",
    "model5.add(Flatten())\n",
    "model5.add(Dense(128, activation='relu'))\n",
    "model5.add(Dropout(0.6))\n",
    "\n",
    "model5.add(Dense(10, activation='softmax'))\n",
    "\n",
    "\n",
    "model5.compile(optimizer='adam', loss='categorical_crossentropy',  metrics=['accuracy'])"
   ]
  },
  {
   "cell_type": "code",
   "execution_count": 20,
   "id": "0fb7ac69",
   "metadata": {},
   "outputs": [
    {
     "name": "stdout",
     "output_type": "stream",
     "text": [
      "Model: \"sequential_3\"\n",
      "_________________________________________________________________\n",
      " Layer (type)                Output Shape              Param #   \n",
      "=================================================================\n",
      " conv2d_9 (Conv2D)           (None, 148, 148, 32)      896       \n",
      "                                                                 \n",
      " max_pooling2d_6 (MaxPoolin  (None, 74, 74, 32)        0         \n",
      " g2D)                                                            \n",
      "                                                                 \n",
      " dropout_6 (Dropout)         (None, 74, 74, 32)        0         \n",
      "                                                                 \n",
      " conv2d_10 (Conv2D)          (None, 72, 72, 64)        18496     \n",
      "                                                                 \n",
      " max_pooling2d_7 (MaxPoolin  (None, 36, 36, 64)        0         \n",
      " g2D)                                                            \n",
      "                                                                 \n",
      " conv2d_11 (Conv2D)          (None, 34, 34, 64)        36928     \n",
      "                                                                 \n",
      " dropout_7 (Dropout)         (None, 34, 34, 64)        0         \n",
      "                                                                 \n",
      " flatten_3 (Flatten)         (None, 73984)             0         \n",
      "                                                                 \n",
      " dense_6 (Dense)             (None, 128)               9470080   \n",
      "                                                                 \n",
      " dropout_8 (Dropout)         (None, 128)               0         \n",
      "                                                                 \n",
      " dense_7 (Dense)             (None, 10)                1290      \n",
      "                                                                 \n",
      "=================================================================\n",
      "Total params: 9527690 (36.35 MB)\n",
      "Trainable params: 9527690 (36.35 MB)\n",
      "Non-trainable params: 0 (0.00 Byte)\n",
      "_________________________________________________________________\n"
     ]
    }
   ],
   "source": [
    "model5.summary()"
   ]
  },
  {
   "cell_type": "code",
   "execution_count": 21,
   "id": "248903e5",
   "metadata": {},
   "outputs": [
    {
     "name": "stdout",
     "output_type": "stream",
     "text": [
      "Epoch 1/25\n",
      "164/164 [==============================] - 45s 274ms/step - loss: 2.2898 - accuracy: 0.1981 - val_loss: 1.9577 - val_accuracy: 0.2536\n",
      "Epoch 2/25\n",
      "164/164 [==============================] - 43s 261ms/step - loss: 1.9612 - accuracy: 0.2794 - val_loss: 1.8730 - val_accuracy: 0.2888\n",
      "Epoch 3/25\n",
      "164/164 [==============================] - 42s 258ms/step - loss: 1.8591 - accuracy: 0.3212 - val_loss: 1.7521 - val_accuracy: 0.3843\n",
      "Epoch 4/25\n",
      "164/164 [==============================] - 42s 258ms/step - loss: 1.7097 - accuracy: 0.3788 - val_loss: 1.6190 - val_accuracy: 0.4316\n",
      "Epoch 5/25\n",
      "164/164 [==============================] - 43s 259ms/step - loss: 1.5300 - accuracy: 0.4626 - val_loss: 1.5184 - val_accuracy: 0.4759\n",
      "Epoch 6/25\n",
      "164/164 [==============================] - 42s 257ms/step - loss: 1.3795 - accuracy: 0.5267 - val_loss: 1.3814 - val_accuracy: 0.5218\n",
      "Epoch 7/25\n",
      "164/164 [==============================] - 42s 258ms/step - loss: 1.2781 - accuracy: 0.5553 - val_loss: 1.4668 - val_accuracy: 0.4905\n",
      "Epoch 8/25\n",
      "164/164 [==============================] - 43s 261ms/step - loss: 1.1945 - accuracy: 0.5937 - val_loss: 1.4519 - val_accuracy: 0.4836\n",
      "Epoch 9/25\n",
      "164/164 [==============================] - 43s 260ms/step - loss: 1.0968 - accuracy: 0.6242 - val_loss: 1.4248 - val_accuracy: 0.5172\n",
      "Epoch 10/25\n",
      "164/164 [==============================] - 43s 260ms/step - loss: 1.0487 - accuracy: 0.6365 - val_loss: 1.4921 - val_accuracy: 0.5210\n",
      "Epoch 11/25\n",
      "164/164 [==============================] - 45s 274ms/step - loss: 1.0144 - accuracy: 0.6527 - val_loss: 1.3861 - val_accuracy: 0.5309\n",
      "Epoch 12/25\n",
      "164/164 [==============================] - 43s 261ms/step - loss: 0.9477 - accuracy: 0.6700 - val_loss: 1.5512 - val_accuracy: 0.5034\n",
      "Epoch 13/25\n",
      "164/164 [==============================] - 43s 261ms/step - loss: 0.9132 - accuracy: 0.6857 - val_loss: 1.4545 - val_accuracy: 0.5286\n",
      "Epoch 14/25\n",
      "164/164 [==============================] - 43s 260ms/step - loss: 0.8624 - accuracy: 0.7061 - val_loss: 1.4813 - val_accuracy: 0.5386\n",
      "Epoch 15/25\n",
      "164/164 [==============================] - 75s 457ms/step - loss: 0.8289 - accuracy: 0.7147 - val_loss: 1.4386 - val_accuracy: 0.5348\n",
      "Epoch 16/25\n",
      "164/164 [==============================] - 667s 4s/step - loss: 0.8060 - accuracy: 0.7229 - val_loss: 1.5832 - val_accuracy: 0.5019\n",
      "Epoch 17/25\n",
      "164/164 [==============================] - 408s 3s/step - loss: 0.7637 - accuracy: 0.7439 - val_loss: 1.4660 - val_accuracy: 0.5225\n",
      "Epoch 18/25\n",
      "164/164 [==============================] - 42s 256ms/step - loss: 0.7459 - accuracy: 0.7500 - val_loss: 1.6198 - val_accuracy: 0.5409\n",
      "Epoch 19/25\n",
      "164/164 [==============================] - 193s 1s/step - loss: 0.7071 - accuracy: 0.7481 - val_loss: 1.6930 - val_accuracy: 0.5485\n",
      "Epoch 20/25\n",
      "164/164 [==============================] - 44s 269ms/step - loss: 0.6922 - accuracy: 0.7595 - val_loss: 1.8086 - val_accuracy: 0.5455\n",
      "Epoch 21/25\n",
      "164/164 [==============================] - 1884s 12s/step - loss: 0.6892 - accuracy: 0.7624 - val_loss: 1.7773 - val_accuracy: 0.5386\n",
      "Epoch 22/25\n",
      "164/164 [==============================] - 2398s 15s/step - loss: 0.6618 - accuracy: 0.7739 - val_loss: 1.8132 - val_accuracy: 0.5409\n",
      "Epoch 23/25\n",
      "164/164 [==============================] - 46s 280ms/step - loss: 0.6199 - accuracy: 0.7786 - val_loss: 1.9698 - val_accuracy: 0.5607\n",
      "Epoch 24/25\n",
      "164/164 [==============================] - 44s 267ms/step - loss: 0.6127 - accuracy: 0.7849 - val_loss: 2.0365 - val_accuracy: 0.5630\n",
      "Epoch 25/25\n",
      "164/164 [==============================] - 44s 267ms/step - loss: 0.5981 - accuracy: 0.7933 - val_loss: 1.8382 - val_accuracy: 0.5294\n"
     ]
    }
   ],
   "source": [
    "history_cnn = model5.fit(train_generator,\n",
    "                        validation_data = validation_generator,\n",
    "                        epochs = 25,\n",
    "         )"
   ]
  },
  {
   "cell_type": "code",
   "execution_count": null,
   "id": "7dddcc93",
   "metadata": {},
   "outputs": [],
   "source": []
  }
 ],
 "metadata": {
  "kernelspec": {
   "display_name": "Python Number41",
   "language": "python",
   "name": "number41"
  },
  "language_info": {
   "codemirror_mode": {
    "name": "ipython",
    "version": 3
   },
   "file_extension": ".py",
   "mimetype": "text/x-python",
   "name": "python",
   "nbconvert_exporter": "python",
   "pygments_lexer": "ipython3",
   "version": "3.11.4"
  }
 },
 "nbformat": 4,
 "nbformat_minor": 5
}
