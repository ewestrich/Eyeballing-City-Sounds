{
 "cells": [
  {
   "cell_type": "code",
   "execution_count": 1,
   "id": "bf243530",
   "metadata": {},
   "outputs": [],
   "source": [
    "import pandas as pd\n",
    "import numpy as np\n",
    "import matplotlib.pyplot as plt\n",
    "%matplotlib inline\n",
    "\n",
    "import os\n",
    "\n",
    "import math\n",
    "\n",
    "import librosa\n",
    "import librosa.display\n",
    "\n",
    "import IPython\n",
    "\n",
    "from IPython.display import Audio\n",
    "\n",
    "from sklearn.model_selection import train_test_split"
   ]
  },
  {
   "cell_type": "code",
   "execution_count": 2,
   "id": "ec7b39d3",
   "metadata": {},
   "outputs": [],
   "source": [
    "plt.ioff();"
   ]
  },
  {
   "cell_type": "code",
   "execution_count": 3,
   "id": "f661621b",
   "metadata": {},
   "outputs": [],
   "source": [
    "meta_data = pd.read_csv('Source/UrbanSound8K/metadata/UrbanSound8K.csv')"
   ]
  },
  {
   "cell_type": "code",
   "execution_count": 5,
   "id": "693b2b30",
   "metadata": {},
   "outputs": [],
   "source": [
    "meta_data\n",
    "y, sr = librosa.load('Source/UrbanSound8K/audio/fold5/100263-2-0-117.wav')"
   ]
  },
  {
   "cell_type": "code",
   "execution_count": null,
   "id": "b1acf585",
   "metadata": {},
   "outputs": [],
   "source": [
    "y, sr = librosa.load('Source/UrbanSound8K/audio/fold5/100263-2-0-117.wav')"
   ]
  },
  {
   "cell_type": "code",
   "execution_count": null,
   "id": "ca17e2b1",
   "metadata": {},
   "outputs": [],
   "source": [
    "Audio(y, rate=sr)"
   ]
  },
  {
   "cell_type": "code",
   "execution_count": null,
   "id": "0dea4496",
   "metadata": {},
   "outputs": [],
   "source": [
    "y"
   ]
  },
  {
   "cell_type": "code",
   "execution_count": null,
   "id": "4282fdb6",
   "metadata": {},
   "outputs": [],
   "source": [
    "RMS=math.sqrt(np.mean(y**2))\n"
   ]
  },
  {
   "cell_type": "code",
   "execution_count": null,
   "id": "4e6dc547",
   "metadata": {},
   "outputs": [],
   "source": [
    "RMS*.1"
   ]
  },
  {
   "cell_type": "code",
   "execution_count": null,
   "id": "97fe1937",
   "metadata": {},
   "outputs": [],
   "source": [
    "noise= (np.random.normal(0, RMS*.1, y.shape[0]))"
   ]
  },
  {
   "cell_type": "code",
   "execution_count": null,
   "id": "3493d48b",
   "metadata": {},
   "outputs": [],
   "source": [
    "noise"
   ]
  },
  {
   "cell_type": "code",
   "execution_count": null,
   "id": "842bb4bd",
   "metadata": {},
   "outputs": [],
   "source": [
    "plt.plot(y)\n",
    "plt.show()"
   ]
  },
  {
   "cell_type": "code",
   "execution_count": null,
   "id": "1c6de251",
   "metadata": {},
   "outputs": [],
   "source": [
    "plt.plot(noise)\n",
    "plt.show()"
   ]
  },
  {
   "cell_type": "code",
   "execution_count": null,
   "id": "3fe9159b",
   "metadata": {},
   "outputs": [],
   "source": [
    "signal_with_noise = y+noise\n",
    "plt.plot(signal_with_noise)\n",
    "plt.show()"
   ]
  },
  {
   "cell_type": "code",
   "execution_count": null,
   "id": "394b70b0",
   "metadata": {},
   "outputs": [],
   "source": [
    "Audio(signal_with_noise, rate=sr)"
   ]
  },
  {
   "cell_type": "code",
   "execution_count": null,
   "id": "e94b80ba",
   "metadata": {},
   "outputs": [],
   "source": []
  },
  {
   "cell_type": "code",
   "execution_count": null,
   "id": "3ce54c70",
   "metadata": {},
   "outputs": [],
   "source": []
  },
  {
   "cell_type": "code",
   "execution_count": null,
   "id": "db24d23a",
   "metadata": {},
   "outputs": [],
   "source": [
    "sparse_noise = np.linspace(0,0, 88200)"
   ]
  },
  {
   "cell_type": "code",
   "execution_count": null,
   "id": "ce05cf83",
   "metadata": {},
   "outputs": [],
   "source": [
    "for x  in np.arange(0,88200, 50):\n",
    "    sparse_noise[x] = noise[x]"
   ]
  },
  {
   "cell_type": "code",
   "execution_count": null,
   "id": "55d75ca3",
   "metadata": {},
   "outputs": [],
   "source": [
    "sparse_noise"
   ]
  },
  {
   "cell_type": "code",
   "execution_count": null,
   "id": "b167c34b",
   "metadata": {},
   "outputs": [],
   "source": [
    "plt.plot(list_noise)\n",
    "plt.show()"
   ]
  },
  {
   "cell_type": "code",
   "execution_count": null,
   "id": "89390259",
   "metadata": {},
   "outputs": [],
   "source": [
    "import cmath"
   ]
  },
  {
   "cell_type": "code",
   "execution_count": null,
   "id": "ec75495b",
   "metadata": {},
   "outputs": [],
   "source": [
    "signal_noise = y+list_noise\n"
   ]
  },
  {
   "cell_type": "code",
   "execution_count": null,
   "id": "d37baf74",
   "metadata": {},
   "outputs": [],
   "source": [
    "y.mean()"
   ]
  },
  {
   "cell_type": "code",
   "execution_count": null,
   "id": "d3242c7e",
   "metadata": {},
   "outputs": [],
   "source": [
    "y.std()"
   ]
  },
  {
   "cell_type": "code",
   "execution_count": null,
   "id": "2679791a",
   "metadata": {},
   "outputs": [],
   "source": [
    "sparse_signal_noise = y + sparse_noise"
   ]
  },
  {
   "cell_type": "code",
   "execution_count": null,
   "id": "5cce2fe0",
   "metadata": {},
   "outputs": [],
   "source": [
    "plt.plot(y[0:500])\n",
    "plt.show();"
   ]
  },
  {
   "cell_type": "code",
   "execution_count": null,
   "id": "781daa68",
   "metadata": {},
   "outputs": [],
   "source": [
    "plt.plot(sparse_signal_noise[0:500])\n",
    "plt.show()"
   ]
  },
  {
   "cell_type": "code",
   "execution_count": null,
   "id": "b4702d0e",
   "metadata": {},
   "outputs": [],
   "source": [
    "Audio(sparse_signal_noise, rate=sr)"
   ]
  },
  {
   "cell_type": "code",
   "execution_count": null,
   "id": "1dce692c",
   "metadata": {},
   "outputs": [],
   "source": [
    "fig, ax = plt.subplots()\n",
    "x_stft = librosa.stft(y)\n",
    "ampl = librosa.amplitude_to_db(abs(x_stft))\n",
    "librosa.display.specshow(ampl, ax=ax,)\n",
    "\n",
    "ax.set_title('Librosa generated spectrogram:')\n",
    "fig.tight_layout()\n",
    "plt.show()"
   ]
  },
  {
   "cell_type": "code",
   "execution_count": 7,
   "id": "3ef50924",
   "metadata": {},
   "outputs": [
    {
     "data": {
      "image/png": "[encoded data removed]",
      "text/plain": [
       "<Figure size 640x480 with 1 Axes>"
      ]
     },
     "metadata": {},
     "output_type": "display_data"
    }
   ],
   "source": [
    "fig, ax = plt.subplots()\n",
    "x_stft = librosa.stft(y)\n",
    "ampl = librosa.amplitude_to_db(abs(x_stft))\n",
    "librosa.display.specshow(ampl, ax=ax,x_axis='time' , y_axis='log')\n",
    "\n",
    "ax.set_title('Librosa generated spectrogram:')\n",
    "fig.tight_layout()\n",
    "plt.show()"
   ]
  },
  {
   "cell_type": "code",
   "execution_count": null,
   "id": "9796804d",
   "metadata": {},
   "outputs": [],
   "source": [
    "fig, ax = plt.subplots()\n",
    "x_stft = librosa.stft(signal_with_noise)\n",
    "ampl = librosa.amplitude_to_db(abs(x_stft))\n",
    "librosa.display.specshow(ampl, ax=ax,x_axis='time' , y_axis='log')\n",
    "\n",
    "ax.set_title('Librosa generated spectrogram:')\n",
    "fig.tight_layout()\n",
    "plt.show()"
   ]
  },
  {
   "cell_type": "code",
   "execution_count": null,
   "id": "e83479a0",
   "metadata": {},
   "outputs": [],
   "source": [
    "fig, ax = plt.subplots()\n",
    "x_stft = librosa.stft(y)\n",
    "ampl = librosa.amplitude_to_db(abs(x_stft))\n",
    "librosa.display.specshow(ampl, ax=ax,)\n",
    "\n",
    "ax.set_title('Librosa generated spectrogram:')\n",
    "fig.tight_layout()\n",
    "plt.show()"
   ]
  },
  {
   "cell_type": "code",
   "execution_count": null,
   "id": "aa984791",
   "metadata": {},
   "outputs": [],
   "source": [
    "fig, ax = plt.subplots()\n",
    "x_stft = librosa.stft(sparse_signal_noise)\n",
    "ampl = librosa.amplitude_to_db(abs(x_stft))\n",
    "librosa.display.specshow(ampl, ax=ax,)\n",
    "\n",
    "ax.set_title('Librosa generated spectrogram:')\n",
    "fig.tight_layout()\n",
    "plt.show()"
   ]
  },
  {
   "cell_type": "code",
   "execution_count": null,
   "id": "42af6b9b",
   "metadata": {},
   "outputs": [],
   "source": [
    "    fig, ax = plt.subplots()\n",
    "    S = librosa.feature.melspectrogram(y=y, sr=sr,)\n",
    "    S_db_mel = librosa.amplitude_to_db(S, ref=np.max)\n",
    "    \n",
    "    img = librosa.display.specshow(S_db_mel, x_axis='time' , y_axis='log', ax = ax)\n",
    "    plt.show()"
   ]
  },
  {
   "cell_type": "code",
   "execution_count": null,
   "id": "f49c9d1f",
   "metadata": {},
   "outputs": [],
   "source": [
    "    fig, ax = plt.subplots()\n",
    "    S = librosa.feature.melspectrogram(y=sparse_signal_noise, sr=sr,)\n",
    "    S_db_mel = librosa.amplitude_to_db(S, ref=np.max)\n",
    "    \n",
    "    img = librosa.display.specshow(S_db_mel, x_axis='time' , y_axis='log', ax = ax)\n",
    "    plt.show()"
   ]
  },
  {
   "cell_type": "code",
   "execution_count": null,
   "id": "b614ecd3",
   "metadata": {},
   "outputs": [],
   "source": []
  },
  {
   "cell_type": "code",
   "execution_count": null,
   "id": "59dbdee2",
   "metadata": {},
   "outputs": [],
   "source": []
  },
  {
   "cell_type": "code",
   "execution_count": null,
   "id": "832ebe61",
   "metadata": {},
   "outputs": [],
   "source": []
  },
  {
   "cell_type": "code",
   "execution_count": null,
   "id": "86f1cd5e",
   "metadata": {},
   "outputs": [],
   "source": []
  },
  {
   "cell_type": "code",
   "execution_count": null,
   "id": "a035846b",
   "metadata": {},
   "outputs": [],
   "source": [
    "fig, ax = plt.subplots(figsize=(10,8))\n",
    "librosa.display.waveshow(y, sr=sr, ax=ax)\n",
    "plt.show()"
   ]
  },
  {
   "cell_type": "code",
   "execution_count": null,
   "id": "c24c1977",
   "metadata": {},
   "outputs": [],
   "source": [
    "fig, ax = plt.subplots(figsize=(12,6))\n",
    "ax.set_title('Matplotlib generated spectrogram:')\n",
    "ax.specgram(y, cmap='gist_gray');\n",
    "plt.show()"
   ]
  },
  {
   "cell_type": "code",
   "execution_count": null,
   "id": "68451c47",
   "metadata": {},
   "outputs": [],
   "source": [
    "fig, ax = plt.subplots(figsize=(6,6), nrows=2)\n",
    "\n",
    "ax[0].set_title('Matplotlib generated spectrogram:')\n",
    "ax[0].specgram(y, cmap='Pastel1');\n",
    "ax[0].axis('off');\n",
    "\n",
    "x_stft = librosa.stft(y)\n",
    "ampl = librosa.amplitude_to_db(abs(x_stft))\n",
    "librosa.display.specshow(ampl, ax=ax[1],)\n",
    "\n",
    "ax[1].set_title('Librosa generated spectrogram:')\n",
    "fig.tight_layout()\n",
    "plt.show()"
   ]
  },
  {
   "cell_type": "code",
   "execution_count": null,
   "id": "9fab042a",
   "metadata": {},
   "outputs": [],
   "source": []
  },
  {
   "cell_type": "code",
   "execution_count": null,
   "id": "2d84206e",
   "metadata": {},
   "outputs": [],
   "source": []
  },
  {
   "cell_type": "code",
   "execution_count": null,
   "id": "f806fb48",
   "metadata": {},
   "outputs": [],
   "source": []
  },
  {
   "cell_type": "code",
   "execution_count": null,
   "id": "3157cfcd",
   "metadata": {},
   "outputs": [],
   "source": [
    "8732*.75"
   ]
  },
  {
   "cell_type": "code",
   "execution_count": null,
   "id": "8d597682",
   "metadata": {},
   "outputs": [],
   "source": [
    "8732*.85"
   ]
  },
  {
   "cell_type": "code",
   "execution_count": null,
   "id": "f3e3b6b0",
   "metadata": {},
   "outputs": [],
   "source": [
    "8732*.15"
   ]
  },
  {
   "cell_type": "code",
   "execution_count": null,
   "id": "abe9079f",
   "metadata": {},
   "outputs": [],
   "source": [
    "meta_data['class'].value_counts()"
   ]
  },
  {
   "cell_type": "code",
   "execution_count": null,
   "id": "46d6de3a",
   "metadata": {},
   "outputs": [],
   "source": [
    "\n"
   ]
  },
  {
   "cell_type": "code",
   "execution_count": null,
   "id": "0d24a0d9",
   "metadata": {},
   "outputs": [],
   "source": [
    "# Save training data spectograms\n",
    "\n",
    "for idx, row in train_meta_data.iterrows():\n",
    "    \n",
    "    path = 'Source/UrbanSound8K/audio/fold{}/{}'.format(row['fold'], row['slice_file_name'])\n",
    "    \n",
    "    y, sr = librosa.load(path)\n",
    "    \n",
    "    # Standardize the length to 88,200 samples, or 4 seconds\n",
    "    if y.shape != (88200,):\n",
    "        y = np.resize(y, 88200)\n",
    "    \n",
    "    \n",
    "    # Create Matplotlib Image\n",
    "    fig, ax = plt.subplots()\n",
    "    \n",
    "    S = librosa.feature.melspectrogram(y=y, sr=sr,)\n",
    "    S_db_mel = librosa.amplitude_to_db(S, ref=np.max)\n",
    "    \n",
    "    img = librosa.display.specshow(S_db_mel, x_axis='time' , y_axis='log', ax = ax)\n",
    "    plt.axis('off')    \n",
    "    \n",
    "    \n",
    "    # Save the Spectogram Image\n",
    "    my_path = 'Data/'\n",
    "    file_name = row['slice_file_name'][:-4]\n",
    "\n",
    "    training_path = 'mel_train/{}/'.format(row['classID'])\n",
    "        \n",
    "    if not os.path.isdir(my_path + training_path):\n",
    "        os.makedirs(my_path + training_path)\n",
    "        \n",
    "    plt.savefig(my_path + training_path + file_name)\n",
    "    \n",
    "    plt.close()"
   ]
  },
  {
   "cell_type": "code",
   "execution_count": null,
   "id": "0af764b1",
   "metadata": {},
   "outputs": [],
   "source": [
    "# Save training data spectograms\n",
    "\n",
    "for idx, row in test_meta_data.iterrows():\n",
    "    \n",
    "    path = 'Source/UrbanSound8K/audio/fold{}/{}'.format(row['fold'], row['slice_file_name'])\n",
    "    \n",
    "    y, sr = librosa.load(path)\n",
    "    \n",
    "    # Standardize the length to 88,200 samples, or 4 seconds\n",
    "    if y.shape != (88200,):\n",
    "        y = np.resize(y, 88200)\n",
    "    \n",
    "    \n",
    "    # Create Matplotlib Image\n",
    "    fig, ax = plt.subplots()\n",
    "    \n",
    "    S = librosa.feature.melspectrogram(y=y, sr=sr,)\n",
    "    S_db_mel = librosa.amplitude_to_db(S, ref=np.max)\n",
    "    \n",
    "    img = librosa.display.specshow(S_db_mel, x_axis='time' , y_axis='log', ax = ax)\n",
    "    plt.axis('off')    \n",
    "    \n",
    "    \n",
    "    # Save the Spectogram Image\n",
    "    my_path = 'Data/'\n",
    "    file_name = row['slice_file_name'][:-4]\n",
    "\n",
    "    testing_path = 'mel_test/{}/'.format(row['classID'])\n",
    "        \n",
    "    if not os.path.isdir(my_path + testing_path):\n",
    "        os.makedirs(my_path + testing_path)\n",
    "        \n",
    "    plt.savefig(my_path + testing_path + file_name)\n",
    "    \n",
    "    plt.close()"
   ]
  },
  {
   "cell_type": "code",
   "execution_count": null,
   "id": "37d7ce6d",
   "metadata": {},
   "outputs": [],
   "source": []
  },
  {
   "cell_type": "code",
   "execution_count": null,
   "id": "e0d80b60",
   "metadata": {},
   "outputs": [],
   "source": []
  },
  {
   "cell_type": "code",
   "execution_count": null,
   "id": "a6ff5085",
   "metadata": {},
   "outputs": [],
   "source": [
    "train_meta_data.head(40)"
   ]
  },
  {
   "cell_type": "code",
   "execution_count": null,
   "id": "11ba3b34",
   "metadata": {},
   "outputs": [],
   "source": [
    "meta_data[meta_data['slice_file_name'] == '77751-4-1-0.wav']"
   ]
  },
  {
   "cell_type": "code",
   "execution_count": null,
   "id": "4b9b102f",
   "metadata": {},
   "outputs": [],
   "source": [
    "    path = 'Source/UrbanSound8K/audio/fold{}/{}'.format(2,'77751-4-1-0.wav')\n",
    "    \n",
    "    y, sr = librosa.load(path)\n",
    "    \n",
    "    # Standardize the length to 88,200 samples, or 4 seconds\n",
    "    if y.shape != (88200,):\n",
    "        y = np.resize(y, 88200)\n",
    "    \n",
    "    fig, ax = plt.subplots()\n",
    "    \n",
    "    D = librosa.stft(y)  # Short Time Fourier Transform (STFT) of y\n",
    "    S_db = librosa.amplitude_to_db(np.abs(D), ref=np.max)\n",
    "    \n",
    "    img = librosa.display.specshow(S_db, x_axis='time' , y_axis='linear', ax = ax)\n",
    "    plt.axis('off')\n",
    "    plt.show()"
   ]
  },
  {
   "cell_type": "markdown",
   "id": "5d7fac00",
   "metadata": {},
   "source": [
    "### Plotting Spectogram as Logged Y-Axis"
   ]
  },
  {
   "cell_type": "code",
   "execution_count": null,
   "id": "5fd04b86",
   "metadata": {},
   "outputs": [],
   "source": [
    "    path = 'Source/UrbanSound8K/audio/fold{}/{}'.format(2,'77751-4-1-0.wav')\n",
    "    \n",
    "    y, sr = librosa.load(path)\n",
    "    \n",
    "    # Standardize the length to 88,200 samples, or 4 seconds\n",
    "    if y.shape != (88200,):\n",
    "        y = np.resize(y, 88200)\n",
    "    \n",
    "    fig, ax = plt.subplots()\n",
    "    \n",
    "    D = librosa.stft(y)  # Short Time Fourier Transform (STFT) of y\n",
    "    S_db = librosa.amplitude_to_db(np.abs(D), ref=np.max)\n",
    "    \n",
    "    img = librosa.display.specshow(S_db, x_axis='time' , y_axis='linear', ax = ax)\n",
    "    plt.axis('off')\n",
    "    plt.show()"
   ]
  },
  {
   "cell_type": "markdown",
   "id": "b2b3e6e9",
   "metadata": {},
   "source": [
    "### Plotting Mel-Spectogram Logged Y-Axis"
   ]
  },
  {
   "cell_type": "code",
   "execution_count": null,
   "id": "d141d8e8",
   "metadata": {},
   "outputs": [],
   "source": [
    "    path = 'Source/UrbanSound8K/audio/fold{}/{}'.format(2,'77751-4-1-0.wav')\n",
    "    \n",
    "    y, sr = librosa.load(path)\n",
    "    \n",
    "    # Standardize the length to 88,200 samples, or 4 seconds\n",
    "    if y.shape != (88200,):\n",
    "        y = np.resize(y, 88200)\n",
    "    \n",
    "    fig, ax = plt.subplots()\n",
    "    \n",
    "    S = librosa.feature.melspectrogram(y=y, sr=sr,)\n",
    "    S_db_mel = librosa.amplitude_to_db(S, ref=np.max)\n",
    "\n",
    "\n",
    "    img = librosa.display.specshow(S_db_mel, x_axis='time' , y_axis='log', ax = ax)\n",
    "    plt.axis('off')\n",
    "    plt.show()"
   ]
  },
  {
   "cell_type": "code",
   "execution_count": null,
   "id": "a323fd4c",
   "metadata": {},
   "outputs": [],
   "source": [
    "    path = 'Source/UrbanSound8K/audio/fold{}/{}'.format(1,'180937-7-3-0.wav')\n",
    "    \n",
    "    y, sr = librosa.load(path)\n",
    "    \n",
    "    # Standardize the length to 88,200 samples, or 4 seconds\n",
    "    if y.shape != (88200,):\n",
    "        y = np.resize(y, 88200)\n",
    "    \n",
    "    fig, ax = plt.subplots()\n",
    "    \n",
    "    S = librosa.feature.melspectrogram(y=y, sr=sr,)\n",
    "    S_db_mel = librosa.amplitude_to_db(S, ref=np.max)\n",
    "\n",
    "\n",
    "    img = librosa.display.specshow(S_db_mel, x_axis='time' , y_axis='log', ax = ax)\n",
    "    plt.axis('off')\n",
    "    plt.show()"
   ]
  },
  {
   "cell_type": "code",
   "execution_count": null,
   "id": "27e5789c",
   "metadata": {},
   "outputs": [],
   "source": [
    "meta_data[meta_data['slice_file_name'] == '98223-7-0-0.wav']"
   ]
  },
  {
   "cell_type": "code",
   "execution_count": null,
   "id": "67a1a6d9",
   "metadata": {},
   "outputs": [],
   "source": [
    "    path = 'Source/UrbanSound8K/audio/fold{}/{}'.format(1,'98223-7-0-0.wav')\n",
    "    \n",
    "    y, sr = librosa.load(path)\n",
    "    \n",
    "    # Standardize the length to 88,200 samples, or 4 seconds\n",
    "    if y.shape != (88200,):\n",
    "        y = np.resize(y, 88200)\n",
    "    \n",
    "    fig, ax = plt.subplots()\n",
    "    \n",
    "    S = librosa.feature.melspectrogram(y=y, sr=sr,)\n",
    "    S_db_mel = librosa.amplitude_to_db(S, ref=np.max)\n",
    "\n",
    "\n",
    "    img = librosa.display.specshow(S_db_mel, x_axis='time' , y_axis='log', ax = ax)#, cmap_div='coolwarm')\n",
    "    #librosa.display.cmap(S_db_mel)\n",
    "    plt.show()"
   ]
  },
  {
   "cell_type": "code",
   "execution_count": null,
   "id": "56a74b11",
   "metadata": {},
   "outputs": [],
   "source": [
    "    path = 'Source/UrbanSound8K/audio/fold{}/{}'.format(1,'98223-7-0-0.wav')\n",
    "    \n",
    "    y, sr = librosa.load(path)\n",
    "    \n",
    "    # Standardize the length to 88,200 samples, or 4 seconds\n",
    "    if y.shape != (88200,):\n",
    "        y = np.resize(y, 88200)\n",
    "    \n",
    "    fig, ax = plt.subplots()\n",
    "\n",
    "    sgram_mag, _ = librosa.magphase(S)\n",
    "\n",
    "    mel_scale_sgram = librosa.feature.melspectrogram(S=sgram_mag, sr=sr)\n",
    "#librosa.display.specshow(mel_scale_sgram)\n",
    "\n",
    "\n",
    "# use the decibel scale to get the final Mel Spectrogram\n",
    "\n",
    "    mel_sgram = librosa.amplitude_to_db(mel_scale_sgram, ref=np.min)\n",
    "    librosa.display.specshow(mel_sgram, sr=sr, x_axis='time', y_axis='mel')\n",
    "    plt.colorbar(format='%+2.0f dB')\n",
    "    plt.show()\n"
   ]
  },
  {
   "cell_type": "code",
   "execution_count": null,
   "id": "1cc747fe",
   "metadata": {},
   "outputs": [],
   "source": []
  },
  {
   "cell_type": "code",
   "execution_count": null,
   "id": "deb2daca",
   "metadata": {},
   "outputs": [],
   "source": []
  },
  {
   "cell_type": "code",
   "execution_count": null,
   "id": "c2857091",
   "metadata": {},
   "outputs": [],
   "source": []
  },
  {
   "cell_type": "code",
   "execution_count": null,
   "id": "e6da195c",
   "metadata": {},
   "outputs": [],
   "source": []
  },
  {
   "cell_type": "markdown",
   "id": "bd8ecda3",
   "metadata": {},
   "source": [
    "### Previous Spectogram Function (Linear Spectograms)"
   ]
  },
  {
   "cell_type": "code",
   "execution_count": null,
   "id": "e74e4f28",
   "metadata": {},
   "outputs": [],
   "source": [
    "# Save train spectograms\n",
    "\n",
    "for idx, row in train_meta_data.iterrows():\n",
    "    path = 'Source/UrbanSound8K/audio/fold{}/{}'.format(row['fold'],\n",
    "                                                                                         row['slice_file_name'])\n",
    "    y, sr = librosa.load(path)\n",
    "    \n",
    "    # Standardize the length to 88,200 samples, or 4 seconds\n",
    "    if y.shape != (88200,):\n",
    "        y = np.resize(y, 88200)\n",
    "    \n",
    "    fig, ax = plt.subplots()\n",
    "    \n",
    "    D = librosa.stft(y)  # Short Time Fourier Transform (STFT) of y\n",
    "    S_db = librosa.amplitude_to_db(np.abs(D), ref=np.max)\n",
    "    \n",
    "    img = librosa.display.specshow(S_db, ax = ax)\n",
    "    \n",
    "    my_path = 'Source/'\n",
    "    file_name = row['slice_file_name'][:-4]\n",
    "\n",
    "    training_path = 'mel_train/{}/'.format(row['classID'])\n",
    "        \n",
    "    if not os.path.isdir(my_path + training_path):\n",
    "        os.makedirs(my_path + training_path)\n",
    "        \n",
    "    plt.savefig(my_path + training_path + file_name)\n",
    "    \n",
    "    plt.close()"
   ]
  },
  {
   "cell_type": "code",
   "execution_count": null,
   "id": "8dedd53b",
   "metadata": {},
   "outputs": [],
   "source": [
    "# Save test spectograms\n",
    "\n",
    "for idx, row in test_meta_data.iterrows():\n",
    "    path = 'Source/UrbanSound8K/audio/fold{}/{}'.format(row['fold'],\n",
    "                                                                                         row['slice_file_name'])\n",
    "    y, sr = librosa.load(path)\n",
    "    \n",
    "    # Standardize the length to 88,200 samples, or 4 seconds\n",
    "    if y.shape != (88200,):\n",
    "        y = np.resize(y, 88200)\n",
    "\n",
    "    \n",
    "    fig, ax = plt.subplots()\n",
    "    \n",
    "    D = librosa.stft(y)  # Short Time Fourier Transform (STFT) of y\n",
    "    S_db = librosa.amplitude_to_db(np.abs(D), ref=np.max)\n",
    "    \n",
    "    img = librosa.display.specshow(S_db, ax = ax)\n",
    "    \n",
    "    my_path = 'Source/'\n",
    "    file_name = row['slice_file_name'][:-4]\n",
    "    \n",
    "    testing_path = 'mel_test/{}/'.format(row['classID'])\n",
    "        \n",
    "    if not os.path.isdir(my_path + testing_path):\n",
    "        os.makedirs(my_path + testing_path)\n",
    "        \n",
    "    plt.savefig(my_path + testing_path + file_name)\n",
    "\n",
    "    plt.close()"
   ]
  },
  {
   "cell_type": "code",
   "execution_count": null,
   "id": "b0f839ba",
   "metadata": {},
   "outputs": [],
   "source": []
  },
  {
   "cell_type": "code",
   "execution_count": null,
   "id": "acd1a721",
   "metadata": {},
   "outputs": [],
   "source": [
    "street_music_children = ['street_music', 'children_playing']"
   ]
  },
  {
   "cell_type": "code",
   "execution_count": null,
   "id": "cff3ce5e",
   "metadata": {},
   "outputs": [],
   "source": [
    "meta_data['class'].value_counts()"
   ]
  },
  {
   "cell_type": "code",
   "execution_count": null,
   "id": "a57c14dd",
   "metadata": {},
   "outputs": [],
   "source": [
    "meta_data"
   ]
  },
  {
   "cell_type": "code",
   "execution_count": null,
   "id": "97646ab7",
   "metadata": {},
   "outputs": [],
   "source": [
    "street_music = meta_data[meta_data['class'] == 'street_music']\n",
    "children = meta_data[meta_data['class'] == 'children_playing']"
   ]
  },
  {
   "cell_type": "markdown",
   "id": "5fcf6a01",
   "metadata": {},
   "source": [
    "Children Playing vs Street Music"
   ]
  },
  {
   "cell_type": "markdown",
   "id": "31dcf112",
   "metadata": {},
   "source": [
    "Children_Playing Spectograms"
   ]
  },
  {
   "cell_type": "code",
   "execution_count": null,
   "id": "2bda556c",
   "metadata": {},
   "outputs": [],
   "source": [
    "children.head(10)"
   ]
  },
  {
   "cell_type": "code",
   "execution_count": null,
   "id": "481a593c",
   "metadata": {},
   "outputs": [],
   "source": [
    "children_background = children[children['salience'] == 2]"
   ]
  },
  {
   "cell_type": "code",
   "execution_count": null,
   "id": "7993af50",
   "metadata": {},
   "outputs": [],
   "source": [
    "def linear_spects(df, samples):\n",
    "    \n",
    "    for idx, row in df[:samples].iterrows():\n",
    "        path = 'Source/UrbanSound8K/audio/fold{}/{}'.format(row['fold'], row['slice_file_name'])\n",
    "    \n",
    "        y, sr = librosa.load(path)\n",
    "    \n",
    "    # Standardize the length to 88,200 samples, or 4 seconds\n",
    "        if y.shape != (88200,):\n",
    "            y = np.resize(y, 88200)\n",
    "    \n",
    "        fig, ax = plt.subplots()\n",
    "    \n",
    "        D = librosa.stft(y)  # Short Time Fourier Transform (STFT) of y\n",
    "        S_db = librosa.amplitude_to_db(np.abs(D), ref=np.max)\n",
    "    \n",
    "        img = librosa.display.specshow(S_db, x_axis='time' , y_axis='linear', ax = ax)\n",
    "    \n",
    "        ax.set(title = 'Y Linear- Class: {} Salience: {} \\n Fold #: {} Audio File: {}'\n",
    "           .format(row['class'], row['salience'], row['fold'], row['slice_file_name']))\n",
    "\n",
    "    return plt.show()"
   ]
  },
  {
   "cell_type": "code",
   "execution_count": null,
   "id": "3104e8c0",
   "metadata": {},
   "outputs": [],
   "source": [
    "def log_spects(df,samples):\n",
    "    \n",
    "    for idx, row in df[:samples].iterrows():\n",
    "        path = 'Source/UrbanSound8K/audio/fold{}/{}'.format(row['fold'], row['slice_file_name'])\n",
    "    \n",
    "        y, sr = librosa.load(path)\n",
    "    \n",
    "    # Standardize the length to 88,200 samples, or 4 seconds\n",
    "        if y.shape != (88200,):\n",
    "            y = np.resize(y, 88200)\n",
    "    \n",
    "        fig, ax = plt.subplots()\n",
    "    \n",
    "        D = librosa.stft(y)  # Short Time Fourier Transform (STFT) of y\n",
    "        S_db = librosa.amplitude_to_db(np.abs(D), ref=np.max)\n",
    "    \n",
    "        img = librosa.display.specshow(S_db, x_axis='time' , y_axis='log', ax = ax)\n",
    "    \n",
    "        ax.set(title = 'Y Log- Class: {} Salience: {} \\n Fold #: {} Audio File: {}'\n",
    "           .format(row['class'], row['salience'], row['fold'], row['slice_file_name']))\n",
    "\n",
    "    return plt.show()"
   ]
  },
  {
   "cell_type": "code",
   "execution_count": null,
   "id": "94b14fef",
   "metadata": {},
   "outputs": [],
   "source": [
    "def mel_spects(df,samples):\n",
    "    \n",
    "    for idx, row in df[:samples].iterrows():\n",
    "        path = 'Source/UrbanSound8K/audio/fold{}/{}'.format(row['fold'], row['slice_file_name'])\n",
    "    \n",
    "        y, sr = librosa.load(path)\n",
    "    \n",
    "    # Standardize the length to 88,200 samples, or 4 seconds\n",
    "        if y.shape != (88200,):\n",
    "            y = np.resize(y, 88200)\n",
    "            \n",
    "        S = librosa.feature.melspectrogram(y=y, sr=sr)\n",
    "        S_db_mel = librosa.amplitude_to_db(S, ref=np.max)\n",
    "        \n",
    "        fig, ax = plt.subplots()   \n",
    "        \n",
    "        img = librosa.display.specshow(S_db_mel, x_axis='time' , y_axis='log', ax = ax)\n",
    "    \n",
    "        ax.set(title = 'Mel Spectogram- Class: {} Salience: {} \\n Fold #: {} Audio File: {}'\n",
    "           .format(row['class'], row['salience'], row['fold'], row['slice_file_name']))\n",
    "\n",
    "    return plt.show()"
   ]
  },
  {
   "cell_type": "code",
   "execution_count": null,
   "id": "deab17e5",
   "metadata": {},
   "outputs": [],
   "source": [
    "def mel_spects_magphase(df, samples):\n",
    "    \n",
    "    for idx, row in df[:samples].iterrows():\n",
    "        path = 'Source/UrbanSound8K/audio/fold{}/{}'.format(row['fold'], row['slice_file_name'])\n",
    "    \n",
    "        y, sr = librosa.load(path)\n",
    "    \n",
    "    # Standardize the length to 88,200 samples, or 4 seconds\n",
    "        if y.shape != (88200,):\n",
    "            y = np.resize(y, 88200)\n",
    "            \n",
    "        S = librosa.feature.melspectrogram(y=y, sr=sr)\n",
    "        \n",
    "        sgram_mag, _ = librosa.magphase(S)\n",
    "        \n",
    "        mel_scale_sgram = librosa.feature.melspectrogram(S=sgram_mag, sr=sr)\n",
    "\n",
    "        \n",
    "        \n",
    "        fig, ax = plt.subplots()  \n",
    "        \n",
    "        mel_sgram = librosa.amplitude_to_db(mel_scale_sgram, ref=np.min)\n",
    "        img = librosa.display.specshow(mel_sgram, sr=sr, x_axis='time', y_axis='mel', ax = ax)\n",
    "    \n",
    "        ax.set(title = 'Mel Spectogram- Class: {} Salience: {} \\n Fold #: {} Audio File: {}'\n",
    "           .format(row['class'], row['salience'], row['fold'], row['slice_file_name']))\n",
    "\n",
    "    return plt.show()"
   ]
  },
  {
   "cell_type": "code",
   "execution_count": null,
   "id": "a3500a85",
   "metadata": {
    "scrolled": true
   },
   "outputs": [],
   "source": [
    "mel_spects(children, 5)"
   ]
  },
  {
   "cell_type": "code",
   "execution_count": null,
   "id": "3e510dbc",
   "metadata": {},
   "outputs": [],
   "source": [
    "mel_spects(street_music, 5)"
   ]
  },
  {
   "cell_type": "code",
   "execution_count": null,
   "id": "c63e42d4",
   "metadata": {},
   "outputs": [],
   "source": [
    "mel_spects_magphase(children, 5)"
   ]
  },
  {
   "cell_type": "code",
   "execution_count": null,
   "id": "ca781a23",
   "metadata": {},
   "outputs": [],
   "source": [
    "mel_spects(street_music_background, 5)"
   ]
  },
  {
   "cell_type": "code",
   "execution_count": null,
   "id": "0ed89ea4",
   "metadata": {},
   "outputs": [],
   "source": [
    "mel_spects_magphase(street_music_background, 5)"
   ]
  },
  {
   "cell_type": "code",
   "execution_count": null,
   "id": "f820f415",
   "metadata": {},
   "outputs": [],
   "source": [
    "    y, sr = librosa.load(path)\n",
    "    \n",
    "    # Standardize the length to 88,200 samples, or 4 seconds\n",
    "    if y.shape != (88200,):\n",
    "        y = np.resize(y, 88200)\n",
    "    \n",
    "    fig, ax = plt.subplots()\n",
    "\n",
    "    sgram_mag, _ = librosa.magphase(S)\n",
    "\n",
    "    mel_scale_sgram = librosa.feature.melspectrogram(S=sgram_mag, sr=sr)\n",
    "#librosa.display.specshow(mel_scale_sgram)\n",
    "\n",
    "\n",
    "# use the decibel scale to get the final Mel Spectrogram\n",
    "\n",
    "    mel_sgram = librosa.amplitude_to_db(mel_scale_sgram, ref=np.min)\n",
    "    librosa.display.specshow(mel_sgram, sr=sr, x_axis='time', y_axis='mel')\n",
    "    plt.colorbar(format='%+2.0f dB')\n",
    "    plt.show()\n"
   ]
  },
  {
   "cell_type": "code",
   "execution_count": null,
   "id": "5eb3f0b9",
   "metadata": {
    "scrolled": true
   },
   "outputs": [],
   "source": [
    "mel_spects(children, 5)"
   ]
  },
  {
   "cell_type": "code",
   "execution_count": null,
   "id": "370e5bce",
   "metadata": {
    "scrolled": true
   },
   "outputs": [],
   "source": [
    "mel_spects(children_background, 5)"
   ]
  },
  {
   "cell_type": "code",
   "execution_count": null,
   "id": "2a1431e2",
   "metadata": {
    "scrolled": true
   },
   "outputs": [],
   "source": [
    "mel_spects(street_music_background, 5)"
   ]
  },
  {
   "cell_type": "code",
   "execution_count": null,
   "id": "bcc5aa62",
   "metadata": {},
   "outputs": [],
   "source": [
    "Audio('Source/UrbanSound8K/audio/fold4/107653-9-0-18.wav')"
   ]
  },
  {
   "cell_type": "code",
   "execution_count": null,
   "id": "09bd2fd0",
   "metadata": {},
   "outputs": [],
   "source": [
    "Audio('Source/UrbanSound8K/audio/fold4/107653-9-0-3.wav')"
   ]
  },
  {
   "cell_type": "code",
   "execution_count": null,
   "id": "ff643422",
   "metadata": {},
   "outputs": [],
   "source": [
    "street_music.head(10)"
   ]
  },
  {
   "cell_type": "code",
   "execution_count": null,
   "id": "0114859f",
   "metadata": {},
   "outputs": [],
   "source": [
    "street_music_background = street_music[street_music['salience'] == 2]"
   ]
  },
  {
   "cell_type": "code",
   "execution_count": null,
   "id": "ea32ed7b",
   "metadata": {},
   "outputs": [],
   "source": [
    "street_music_background"
   ]
  },
  {
   "cell_type": "code",
   "execution_count": null,
   "id": "eb005d13",
   "metadata": {},
   "outputs": [],
   "source": []
  },
  {
   "cell_type": "code",
   "execution_count": null,
   "id": "0b8345f1",
   "metadata": {},
   "outputs": [],
   "source": []
  },
  {
   "cell_type": "code",
   "execution_count": null,
   "id": "2e7ed69b",
   "metadata": {},
   "outputs": [],
   "source": []
  },
  {
   "cell_type": "code",
   "execution_count": null,
   "id": "7539fde8",
   "metadata": {},
   "outputs": [],
   "source": []
  },
  {
   "cell_type": "code",
   "execution_count": null,
   "id": "73a06b3f",
   "metadata": {},
   "outputs": [],
   "source": []
  },
  {
   "cell_type": "markdown",
   "id": "2eb91713",
   "metadata": {},
   "source": [
    "Drilling vs Jackhammer"
   ]
  },
  {
   "cell_type": "code",
   "execution_count": null,
   "id": "31ea392b",
   "metadata": {},
   "outputs": [],
   "source": []
  },
  {
   "cell_type": "markdown",
   "id": "40bb9527",
   "metadata": {},
   "source": [
    "Street Music"
   ]
  },
  {
   "cell_type": "markdown",
   "id": "695baace",
   "metadata": {},
   "source": [
    "Air Conditioner"
   ]
  },
  {
   "cell_type": "markdown",
   "id": "caa32f9d",
   "metadata": {},
   "source": [
    "Air Conditioner vs Engine Idling"
   ]
  },
  {
   "cell_type": "code",
   "execution_count": null,
   "id": "f11f516c",
   "metadata": {},
   "outputs": [],
   "source": []
  },
  {
   "cell_type": "code",
   "execution_count": null,
   "id": "e077cfb1",
   "metadata": {},
   "outputs": [],
   "source": [
    "Train 85\n",
    "Validation 65\n",
    "Test 75 or 80"
   ]
  },
  {
   "cell_type": "code",
   "execution_count": null,
   "id": "f4ef1fc9",
   "metadata": {},
   "outputs": [],
   "source": []
  },
  {
   "cell_type": "code",
   "execution_count": null,
   "id": "f2cea4de",
   "metadata": {},
   "outputs": [],
   "source": []
  },
  {
   "cell_type": "code",
   "execution_count": null,
   "id": "229beb8a",
   "metadata": {},
   "outputs": [],
   "source": []
  },
  {
   "cell_type": "code",
   "execution_count": null,
   "id": "3987ad52",
   "metadata": {},
   "outputs": [],
   "source": [
    "y, sr = librosa.load('Source/UrbanSound8K/audio/fold5/100263-2-0-117.wav')\n",
    "\n",
    "Audio(y, rate=sr)\n",
    "\n",
    "RMS=math.sqrt(np.mean(y**2))\n",
    "noise= (np.random.normal(0, y.std(), y.shape[0]))/2\n",
    "sparse_noise = np.linspace(0,0, 88200)\n",
    "for x  in np.arange(0,88200, 50):\n",
    "    sparse_noise[x] = noise[x]\n",
    "sparse_noise"
   ]
  },
  {
   "cell_type": "code",
   "execution_count": null,
   "id": "169cc9c9",
   "metadata": {},
   "outputs": [],
   "source": []
  },
  {
   "cell_type": "code",
   "execution_count": 8,
   "id": "7f2af8d7",
   "metadata": {},
   "outputs": [],
   "source": [
    "train_meta_data, test_meta_data = train_test_split(meta_data, test_size=0.15\\\n",
    "                                                   ,random_state=42, stratify=meta_data['classID'])"
   ]
  },
  {
   "cell_type": "code",
   "execution_count": null,
   "id": "58abb2cb",
   "metadata": {},
   "outputs": [],
   "source": [
    "# Save train spectograms\n",
    "\n",
    "for idx, row in train_meta_data.iterrows():\n",
    "    path = 'Source/UrbanSound8K/audio/fold{}/{}'.format(row['fold'], row['slice_file_name'])\n",
    "    y, sr = librosa.load(path)\n",
    "    \n",
    "    # Standardize the length to 88,200 samples, or 4 seconds\n",
    "    if y.shape != (88200,):\n",
    "        y = np.resize(y, 88200)\n",
    "    \n",
    "    RMS=math.sqrt(np.mean(y**2))\n",
    "    noise= (np.random.normal(0, RMS*.05, y.shape[0]))\n",
    "    signal_with_noise = y + noise\n",
    "    \n",
    "    fig, ax = plt.subplots()\n",
    "    \n",
    "    S = librosa.feature.melspectrogram(y=signal_with_noise, sr=sr,)\n",
    "    S_db_mel = librosa.amplitude_to_db(S, ref=np.max)\n",
    "    \n",
    "    img = librosa.display.specshow(S_db_mel, x_axis='time' , y_axis='log', ax = ax)\n",
    "    plt.axis('off')    \n",
    "    \n",
    "    my_path = 'Data/'\n",
    "    file_name = row['slice_file_name'][:-4]\n",
    "\n",
    "    training_path = 'mel_train_and_some_noise/{}/'.format(row['classID'])\n",
    "    \n",
    "    if not os.path.isdir(my_path + training_path):\n",
    "        os.makedirs(my_path + training_path)\n",
    "        \n",
    "    plt.savefig(my_path + training_path + file_name + '_2')\n",
    "    \n",
    "    plt.close()"
   ]
  },
  {
   "cell_type": "code",
   "execution_count": null,
   "id": "4f6b7b90",
   "metadata": {},
   "outputs": [],
   "source": [
    "# Save test spectograms\n",
    "\n",
    "for idx, row in test_meta_data.iterrows():\n",
    "    path = 'Source/UrbanSound8K/audio/fold{}/{}'.format(row['fold'],\n",
    "                                                                                         row['slice_file_name'])\n",
    "    y, sr = librosa.load(path)\n",
    "    \n",
    "    # Standardize the length to 88,200 samples, or 4 seconds\n",
    "    if y.shape != (88200,):\n",
    "        y = np.resize(y, 88200)\n",
    "\n",
    "    RMS=math.sqrt(np.mean(y**2))\n",
    "    noise= (np.random.normal(0, y.std(), y.shape[0]))/2\n",
    "    sparse_noise = np.linspace(0,0, 88200)\n",
    "    for x in np.arange(0,88200, 50):\n",
    "        sparse_noise[x] = noise[x]\n",
    "    sparse_noise\n",
    "    sparse_signal_noise = y + sparse_noise\n",
    "    \n",
    "    fig, ax = plt.subplots()\n",
    "    \n",
    "    S = librosa.feature.melspectrogram(y=sparse_signal_noise, sr=sr,)\n",
    "    S_db_mel = librosa.amplitude_to_db(S, ref=np.max)\n",
    "    \n",
    "    img = librosa.display.specshow(S_db_mel, x_axis='time' , y_axis='log', ax = ax)\n",
    "    plt.axis('off')    \n",
    "    \n",
    "    my_path = 'Source/'\n",
    "    file_name = row['slice_file_name'][:-4]\n",
    "    \n",
    "    testing_path = 'mel_test/{}/'.format(row['classID'])\n",
    "        \n",
    "    if not os.path.isdir(my_path + testing_path):\n",
    "        os.makedirs(my_path + testing_path)\n",
    "        \n",
    "    plt.savefig(my_path + testing_path + file_name)\n",
    "\n",
    "    plt.close()"
   ]
  },
  {
   "cell_type": "code",
   "execution_count": null,
   "id": "a64adc1c",
   "metadata": {},
   "outputs": [],
   "source": [
    "\n",
    "    fig, ax = plt.subplots()\n",
    "    \n",
    "    S = librosa.feature.melspectrogram(y=sparse_signal_noise, sr=sr,)\n",
    "    S_db_mel = librosa.amplitude_to_db(S, ref=np.max)\n",
    "    \n",
    "    img = librosa.display.specshow(S_db_mel, x_axis='time' , y_axis='log', ax = ax)\n",
    "    plt.axis('off')    \n",
    "    plt.show()"
   ]
  },
  {
   "cell_type": "code",
   "execution_count": null,
   "id": "7899d034",
   "metadata": {},
   "outputs": [],
   "source": []
  },
  {
   "cell_type": "code",
   "execution_count": null,
   "id": "2b3949a5",
   "metadata": {},
   "outputs": [],
   "source": []
  },
  {
   "cell_type": "code",
   "execution_count": null,
   "id": "1ff98719",
   "metadata": {},
   "outputs": [],
   "source": []
  },
  {
   "cell_type": "code",
   "execution_count": null,
   "id": "e210059a",
   "metadata": {},
   "outputs": [],
   "source": []
  },
  {
   "cell_type": "markdown",
   "id": "fb0b6707",
   "metadata": {},
   "source": [
    "Create Log STFT Spectograms and add noise to train data\n"
   ]
  },
  {
   "cell_type": "code",
   "execution_count": null,
   "id": "b791db50",
   "metadata": {},
   "outputs": [],
   "source": [
    "fig, ax = plt.subplots()\n",
    "x_stft = librosa.stft(y)\n",
    "ampl = librosa.amplitude_to_db(abs(x_stft))\n",
    "librosa.display.specshow(ampl, ax=ax,x_axis='time' , y_axis='log')\n",
    "\n",
    "fig.tight_layout()\n",
    "plt.axis('off')    \n",
    "\n",
    "plt.show()"
   ]
  },
  {
   "cell_type": "code",
   "execution_count": null,
   "id": "2243d3b7",
   "metadata": {},
   "outputs": [],
   "source": [
    "meta_data.sample(15)"
   ]
  },
  {
   "cell_type": "code",
   "execution_count": null,
   "id": "c70a3d5c",
   "metadata": {},
   "outputs": [],
   "source": [
    "y, sr = librosa.load('Source/UrbanSound8K/audio/fold3/195451-5-0-12.wav')\n",
    "fig, ax = plt.subplots()\n",
    "x_stft = librosa.stft(y)\n",
    "\n",
    "    \n",
    "RMS=math.sqrt(np.mean(y**2))\n",
    "noise= (np.random.normal(0, RMS*.2, y.shape[0]))\n",
    "signal_with_noise = y + noise\n",
    "\n",
    "ampl = librosa.amplitude_to_db(abs(x_stft))\n",
    "librosa.display.specshow(ampl, ax=ax,x_axis='time' , y_axis='log')\n",
    "\n",
    "fig.tight_layout()\n",
    "plt.axis('off')    \n",
    "\n",
    "plt.show()"
   ]
  },
  {
   "cell_type": "code",
   "execution_count": null,
   "id": "efd80bd0",
   "metadata": {},
   "outputs": [],
   "source": []
  },
  {
   "cell_type": "code",
   "execution_count": null,
   "id": "da646af7",
   "metadata": {},
   "outputs": [],
   "source": [
    "# Save train spectograms\n",
    "\n",
    "for idx, row in train_meta_data.iterrows():\n",
    "    path = 'Source/UrbanSound8K/audio/fold{}/{}'.format(row['fold'], row['slice_file_name'])\n",
    "    y, sr = librosa.load(path)\n",
    "    \n",
    "    # Standardize the length to 88,200 samples, or 4 seconds\n",
    "    if y.shape != (88200,):\n",
    "        y = np.resize(y, 88200)\n",
    "    \n",
    "    RMS=math.sqrt(np.mean(y**2))\n",
    "    noise= (np.random.normal(0, RMS*.2, y.shape[0]))\n",
    "    signal_with_noise = y + noise\n",
    "    \n",
    "    fig, ax = plt.subplots()\n",
    "    \n",
    "    S = librosa.feature.melspectrogram(y=signal_with_noise, sr=sr,)\n",
    "    S_db_mel = librosa.amplitude_to_db(S, ref=np.max)\n",
    "    \n",
    "    img = librosa.display.specshow(S_db_mel, x_axis='time' , y_axis='log', ax = ax)\n",
    "    plt.axis('off')    \n",
    "    \n",
    "    my_path = 'Data/'\n",
    "    file_name = row['slice_file_name'][:-4]\n",
    "\n",
    "    training_path = 'mel_train_and_some_noise/{}/'.format(row['classID'])\n",
    "    \n",
    "    if not os.path.isdir(my_path + training_path):\n",
    "        os.makedirs(my_path + training_path)\n",
    "        \n",
    "    plt.savefig(my_path + training_path + file_name + '_2')\n",
    "    \n",
    "    plt.close()"
   ]
  },
  {
   "cell_type": "code",
   "execution_count": null,
   "id": "1bb3ec7a",
   "metadata": {},
   "outputs": [],
   "source": []
  },
  {
   "cell_type": "code",
   "execution_count": null,
   "id": "1d63c648",
   "metadata": {},
   "outputs": [],
   "source": [
    "def new_mel_spects(fold_num, file_name, class_type, salience):\n",
    "    fig, ax = plt.subplots()\n",
    "    y, sr = librosa.load('Source/UrbanSound8K/audio/fold{}/{}'.format(fold_num, file_name))\n",
    "    if y.shape != (88200,):\n",
    "        y = np.resize(y, 88200)\n",
    "        \n",
    "    S = librosa.feature.melspectrogram(y=y, sr=sr, n_mels=128, fmax=8000)\n",
    "    S_dB = librosa.power_to_db(S, ref=np.max)\n",
    "    img = librosa.display.specshow(S_dB, x_axis='time', y_axis='mel', sr=sr,fmax=8000, ax=ax)\n",
    "\n",
    "    ax.set(title = 'Mel Spectogram- Class: {} Salience: {}'\n",
    "           .format(class_type, salience))\n",
    "\n",
    "    plt.show()"
   ]
  },
  {
   "cell_type": "code",
   "execution_count": null,
   "id": "3f33a7d2",
   "metadata": {},
   "outputs": [],
   "source": [
    "meta_data.sample(40)"
   ]
  },
  {
   "cell_type": "code",
   "execution_count": null,
   "id": "307a8724",
   "metadata": {},
   "outputs": [],
   "source": [
    "    y, sr = librosa.load('Source/UrbanSound8K/audio/fold10/39847-5-0-8.wav')\n",
    "    fig, ax = plt.subplots()\n",
    "    \n",
    "    S = librosa.feature.melspectrogram(y=y, sr=sr,n_mels=128, fmax=8000)\n",
    "    S_db_mel = librosa.amplitude_to_db(S, ref=np.max)\n",
    "    \n",
    "    img = librosa.display.specshow(S_db_mel, x_axis='time' , y_axis='log', ax = ax)\n",
    "    plt.axis('off')    \n",
    "    plt.show()"
   ]
  },
  {
   "cell_type": "code",
   "execution_count": null,
   "id": "9fc5f5af",
   "metadata": {},
   "outputs": [],
   "source": [
    "y, sr = librosa.load('Source/UrbanSound8K/audio/fold5/178260-7-1-4.wav')\n",
    "    \n",
    "fig, ax = plt.subplots()\n",
    "x_stft = librosa.stft(y)\n",
    "ampl = librosa.amplitude_to_db(abs(x_stft))\n",
    "librosa.display.specshow(ampl, ax=ax,x_axis='time' , y_axis='log')\n",
    "\n",
    "ax.set_title('Librosa generated spectrogram:')\n",
    "fig.tight_layout()\n",
    "plt.show()"
   ]
  },
  {
   "cell_type": "code",
   "execution_count": null,
   "id": "db566c8a",
   "metadata": {},
   "outputs": [],
   "source": [
    "y, sr = librosa.load('Source/UrbanSound8K/audio/fold5/178260-7-1-4.wav')\n",
    "fig, ax = plt.subplots()\n",
    "    \n",
    "S = librosa.feature.melspectrogram(y=y, sr=sr,n_mels=128, fmax=8000)\n",
    "S_db_mel = librosa.amplitude_to_db(S, ref=np.max)\n",
    "    \n",
    "img = librosa.display.specshow(S_db_mel, x_axis='time' , y_axis='log', ax = ax)\n",
    "plt.axis('off')    \n",
    "plt.show()"
   ]
  },
  {
   "cell_type": "code",
   "execution_count": null,
   "id": "90d67f04",
   "metadata": {},
   "outputs": [],
   "source": [
    "new_mel_spects(5, '100263-2-0-117.wav', 'dog_bark', 1)"
   ]
  },
  {
   "cell_type": "code",
   "execution_count": null,
   "id": "772d9419",
   "metadata": {},
   "outputs": [],
   "source": [
    "new_mel_spects(7, '99812-1-2-0.wav', 'car_horn',2)"
   ]
  },
  {
   "cell_type": "code",
   "execution_count": null,
   "id": "f4b982ca",
   "metadata": {},
   "outputs": [],
   "source": [
    "13230-0-0-5.wav\t,"
   ]
  },
  {
   "cell_type": "code",
   "execution_count": null,
   "id": "f80ac765",
   "metadata": {},
   "outputs": [],
   "source": []
  },
  {
   "cell_type": "code",
   "execution_count": null,
   "id": "91dbf7ad",
   "metadata": {},
   "outputs": [],
   "source": [
    "train_meta_data, test_meta_data = train_test_split(meta_data, test_size=0.15\\\n",
    "                                                   ,random_state=42, stratify=meta_data['classID'])"
   ]
  },
  {
   "cell_type": "code",
   "execution_count": null,
   "id": "bd3c9172",
   "metadata": {},
   "outputs": [],
   "source": [
    "# Save train spectograms\n",
    "\n",
    "for idx, row in train_meta_data.iterrows():\n",
    "    path = 'Source/UrbanSound8K/audio/fold{}/{}'.format(row['fold'], row['slice_file_name'])\n",
    "    y, sr = librosa.load(path)\n",
    "    \n",
    "    # Standardize the length to 88,200 samples, or 4 seconds\n",
    "    if y.shape != (88200,):\n",
    "        y = np.resize(y, 88200)\n",
    "    fig, ax = plt.subplots()\n",
    "    \n",
    "    S = librosa.feature.melspectrogram(y= y , sr= sr,)\n",
    "    S_db_mel = librosa.amplitude_to_db(S, ref=np.max)\n",
    "    \n",
    "    img = librosa.display.specshow(S_db_mel, x_axis='time' , y_axis='log', ax = ax)\n",
    "    plt.axis('off')    \n",
    "    \n",
    "    my_path = 'Data/'\n",
    "    file_name = row['slice_file_name'][:-4]\n",
    "\n",
    "    training_path = 'train_mel_spect_and_noise/{}/'.format(row['classID'])\n",
    "    \n",
    "    if not os.path.isdir(my_path + training_path):\n",
    "        os.makedirs(my_path + training_path)\n",
    "        \n",
    "    plt.savefig(my_path + training_path + file_name + '_2')\n",
    "    \n",
    "    plt.close()"
   ]
  },
  {
   "cell_type": "code",
   "execution_count": null,
   "id": "72346a6e",
   "metadata": {},
   "outputs": [],
   "source": [
    "# Save train spectograms\n",
    "\n",
    "for idx, row in train_meta_data.iterrows():\n",
    "    path = 'Source/UrbanSound8K/audio/fold{}/{}'.format(row['fold'], row['slice_file_name'])\n",
    "    y, sr = librosa.load(path)\n",
    "    \n",
    "    # Standardize the length to 88,200 samples, or 4 seconds\n",
    "    if y.shape != (88200,):\n",
    "        y = np.resize(y, 88200)\n",
    "    \n",
    "    RMS=math.sqrt(np.mean(y**2))\n",
    "    noise= (np.random.normal(0, RMS*.1, y.shape[0]))\n",
    "    signal_with_noise = y + noise\n",
    "    \n",
    "    fig, ax = plt.subplots()\n",
    "    \n",
    "    S = librosa.feature.melspectrogram(y=signal_with_noise, sr=sr,)\n",
    "    S_db_mel = librosa.amplitude_to_db(S, ref=np.max)\n",
    "    \n",
    "    img = librosa.display.specshow(S_db_mel, x_axis='time' , y_axis='log', ax = ax)\n",
    "    plt.axis('off')    \n",
    "    \n",
    "    my_path = 'Data/'\n",
    "    file_name = row['slice_file_name'][:-4]\n",
    "\n",
    "    training_path = 'train_mel_spect_and_noise/{}/'.format(row['classID'])\n",
    "    \n",
    "    if not os.path.isdir(my_path + training_path):\n",
    "        os.makedirs(my_path + training_path)\n",
    "        \n",
    "    plt.savefig(my_path + training_path + file_name + '_2')\n",
    "    \n",
    "    plt.close()"
   ]
  },
  {
   "cell_type": "code",
   "execution_count": null,
   "id": "747cab2e",
   "metadata": {},
   "outputs": [],
   "source": []
  },
  {
   "cell_type": "code",
   "execution_count": null,
   "id": "f4d01415",
   "metadata": {},
   "outputs": [],
   "source": []
  },
  {
   "cell_type": "markdown",
   "id": "f6e94b32",
   "metadata": {},
   "source": [
    "Regular Log Spectograms"
   ]
  },
  {
   "cell_type": "code",
   "execution_count": null,
   "id": "c433155f",
   "metadata": {},
   "outputs": [],
   "source": [
    "fig, ax = plt.subplots()\n",
    "x_stft = librosa.stft(y)\n",
    "ampl = librosa.amplitude_to_db(abs(x_stft))\n",
    "librosa.display.specshow(ampl, ax=ax,x_axis='time' , y_axis='log')\n",
    "\n",
    "ax.set_title('Librosa generated spectrogram:')\n",
    "fig.tight_layout()\n",
    "plt.show()"
   ]
  },
  {
   "cell_type": "code",
   "execution_count": 9,
   "id": "ea56eca1",
   "metadata": {},
   "outputs": [],
   "source": [
    "# Save train spectograms\n",
    "\n",
    "for idx, row in train_meta_data.iterrows():\n",
    "    \n",
    "    path = 'Source/UrbanSound8K/audio/fold{}/{}'.format(row['fold'], row['slice_file_name'])\n",
    "    y, sr = librosa.load(path)\n",
    "    \n",
    "    # Standardize the length to 88,200 samples, or 4 seconds\n",
    "    if y.shape != (88200,):\n",
    "        y = np.resize(y, 88200)\n",
    "        \n",
    "    fig, ax = plt.subplots()\n",
    "    \n",
    "    RMS = math.sqrt(np.mean(y**2))\n",
    "    noise = (np.random.normal(0, RMS*.1, y.shape[0]))\n",
    "    signal_with_noise = y + noise\n",
    "\n",
    "    x_stft = librosa.stft(signal_with_noise)\n",
    "    ampl = librosa.amplitude_to_db(abs(x_stft))\n",
    "    librosa.display.specshow(ampl, ax=ax, x_axis='time' , y_axis='log')\n",
    "    plt.axis('off')    \n",
    "    \n",
    "    my_path = 'Data/'\n",
    "    file_name = row['slice_file_name'][:-4]\n",
    "\n",
    "    training_path = 'train_log_spectograms/{}/'.format(row['classID'])\n",
    "    \n",
    "    if not os.path.isdir(my_path + training_path):\n",
    "        os.makedirs(my_path + training_path)\n",
    "        \n",
    "    plt.savefig(my_path + training_path + file_name + '_2')\n",
    "    \n",
    "    plt.close()"
   ]
  },
  {
   "cell_type": "code",
   "execution_count": null,
   "id": "08f587e6",
   "metadata": {},
   "outputs": [],
   "source": [
    "# Save train spectograms\n",
    "\n",
    "for idx, row in train_meta_data.iterrows():\n",
    "    \n",
    "    path = 'Source/UrbanSound8K/audio/fold{}/{}'.format(row['fold'], row['slice_file_name'])\n",
    "    y, sr = librosa.load(path)\n",
    "    \n",
    "    # Standardize the length to 88,200 samples, or 4 seconds\n",
    "    if y.shape != (88200,):\n",
    "        y = np.resize(y, 88200)\n",
    "    fig, ax = plt.subplots()\n",
    "    \n",
    "    x_stft = librosa.stft(y)\n",
    "    ampl = librosa.amplitude_to_db(abs(x_stft))\n",
    "    librosa.display.specshow(ampl, ax=ax, x_axis='time' , y_axis='log')\n",
    "    plt.axis('off')    \n",
    "    \n",
    "    my_path = 'Data/'\n",
    "    file_name = row['slice_file_name'][:-4]\n",
    "    training_path = 'train_log_spectograms/{}/'.format(row['classID'])\n",
    "    \n",
    "    if not os.path.isdir(my_path + training_path):\n",
    "        os.makedirs(my_path + training_path)\n",
    "        \n",
    "    plt.savefig(my_path + training_path + file_name + '_noise')\n",
    "    \n",
    "    plt.close()"
   ]
  },
  {
   "cell_type": "code",
   "execution_count": null,
   "id": "b0c57148",
   "metadata": {},
   "outputs": [],
   "source": []
  },
  {
   "cell_type": "code",
   "execution_count": 11,
   "id": "ca00bbb5",
   "metadata": {},
   "outputs": [],
   "source": [
    "# Save train spectograms\n",
    "\n",
    "for idx, row in train_meta_data.iterrows():\n",
    "    path = 'Source/UrbanSound8K/audio/fold{}/{}'.format(row['fold'], row['slice_file_name'])\n",
    "    y, sr = librosa.load(path)\n",
    "    \n",
    "    # Standardize the length to 88,200 samples, or 4 seconds\n",
    "    if y.shape != (88200,):\n",
    "        y = np.resize(y, 88200)\n",
    "        \n",
    "    fig, ax = plt.subplots()\n",
    "    \n",
    "    S = librosa.feature.melspectrogram(y=y, sr=sr,)\n",
    "    S_db_mel = librosa.amplitude_to_db(S, ref=np.max)\n",
    "    \n",
    "    img = librosa.display.specshow(S_db_mel, x_axis='time' , y_axis='log', ax = ax)\n",
    "    plt.axis('off')    \n",
    "    \n",
    "    my_path = 'Data/'\n",
    "    file_name = row['slice_file_name'][:-4]\n",
    "\n",
    "    training_path = 'train_mel_spect_and_noise/{}/'.format(row['classID'])\n",
    "    \n",
    "    if not os.path.isdir(my_path + training_path):\n",
    "        os.makedirs(my_path + training_path)\n",
    "        \n",
    "    plt.savefig(my_path + training_path + file_name)\n",
    "    \n",
    "    plt.close()"
   ]
  },
  {
   "cell_type": "code",
   "execution_count": 12,
   "id": "2e6bcc4e",
   "metadata": {},
   "outputs": [],
   "source": [
    "# Save train spectograms\n",
    "\n",
    "for idx, row in train_meta_data.iterrows():\n",
    "    path = 'Source/UrbanSound8K/audio/fold{}/{}'.format(row['fold'], row['slice_file_name'])\n",
    "    y, sr = librosa.load(path)\n",
    "    \n",
    "    # Standardize the length to 88,200 samples, or 4 seconds\n",
    "    if y.shape != (88200,):\n",
    "        y = np.resize(y, 88200)\n",
    "    \n",
    "    RMS=math.sqrt(np.mean(y**2))\n",
    "    noise= (np.random.normal(0, RMS*.1, y.shape[0]))\n",
    "    signal_with_noise = y + noise\n",
    "    \n",
    "    fig, ax = plt.subplots()\n",
    "    \n",
    "    S = librosa.feature.melspectrogram(y=signal_with_noise, sr=sr,)\n",
    "    S_db_mel = librosa.amplitude_to_db(S, ref=np.max)\n",
    "    \n",
    "    img = librosa.display.specshow(S_db_mel, x_axis='time' , y_axis='log', ax = ax)\n",
    "    plt.axis('off')    \n",
    "    \n",
    "    my_path = 'Data/'\n",
    "    file_name = row['slice_file_name'][:-4]\n",
    "\n",
    "    training_path = 'train_mel_spect_and_noise/{}/'.format(row['classID'])\n",
    "    \n",
    "    if not os.path.isdir(my_path + training_path):\n",
    "        os.makedirs(my_path + training_path)\n",
    "        \n",
    "    plt.savefig(my_path + training_path + file_name + '_2')\n",
    "    \n",
    "    plt.close()"
   ]
  },
  {
   "cell_type": "code",
   "execution_count": 14,
   "id": "0b0f1621",
   "metadata": {},
   "outputs": [
    {
     "data": {
      "text/html": [
       "<div>\n",
       "<style scoped>\n",
       "    .dataframe tbody tr th:only-of-type {\n",
       "        vertical-align: middle;\n",
       "    }\n",
       "\n",
       "    .dataframe tbody tr th {\n",
       "        vertical-align: top;\n",
       "    }\n",
       "\n",
       "    .dataframe thead th {\n",
       "        text-align: right;\n",
       "    }\n",
       "</style>\n",
       "<table border=\"1\" class=\"dataframe\">\n",
       "  <thead>\n",
       "    <tr style=\"text-align: right;\">\n",
       "      <th></th>\n",
       "      <th>slice_file_name</th>\n",
       "      <th>fsID</th>\n",
       "      <th>start</th>\n",
       "      <th>end</th>\n",
       "      <th>salience</th>\n",
       "      <th>fold</th>\n",
       "      <th>classID</th>\n",
       "      <th>class</th>\n",
       "    </tr>\n",
       "  </thead>\n",
       "  <tbody>\n",
       "    <tr>\n",
       "      <th>1583</th>\n",
       "      <td>138473-9-0-12.wav</td>\n",
       "      <td>138473</td>\n",
       "      <td>7.523034</td>\n",
       "      <td>11.523034</td>\n",
       "      <td>2</td>\n",
       "      <td>3</td>\n",
       "      <td>9</td>\n",
       "      <td>street_music</td>\n",
       "    </tr>\n",
       "    <tr>\n",
       "      <th>4924</th>\n",
       "      <td>194458-9-1-122.wav</td>\n",
       "      <td>194458</td>\n",
       "      <td>163.261507</td>\n",
       "      <td>167.261507</td>\n",
       "      <td>2</td>\n",
       "      <td>4</td>\n",
       "      <td>9</td>\n",
       "      <td>street_music</td>\n",
       "    </tr>\n",
       "    <tr>\n",
       "      <th>49</th>\n",
       "      <td>100852-0-0-6.wav</td>\n",
       "      <td>100852</td>\n",
       "      <td>3.000000</td>\n",
       "      <td>7.000000</td>\n",
       "      <td>1</td>\n",
       "      <td>5</td>\n",
       "      <td>0</td>\n",
       "      <td>air_conditioner</td>\n",
       "    </tr>\n",
       "    <tr>\n",
       "      <th>5441</th>\n",
       "      <td>204773-3-9-0.wav</td>\n",
       "      <td>204773</td>\n",
       "      <td>42.184968</td>\n",
       "      <td>46.184968</td>\n",
       "      <td>1</td>\n",
       "      <td>2</td>\n",
       "      <td>3</td>\n",
       "      <td>dog_bark</td>\n",
       "    </tr>\n",
       "    <tr>\n",
       "      <th>6753</th>\n",
       "      <td>54545-3-0-0.wav</td>\n",
       "      <td>54545</td>\n",
       "      <td>0.826371</td>\n",
       "      <td>4.826371</td>\n",
       "      <td>1</td>\n",
       "      <td>2</td>\n",
       "      <td>3</td>\n",
       "      <td>dog_bark</td>\n",
       "    </tr>\n",
       "    <tr>\n",
       "      <th>...</th>\n",
       "      <td>...</td>\n",
       "      <td>...</td>\n",
       "      <td>...</td>\n",
       "      <td>...</td>\n",
       "      <td>...</td>\n",
       "      <td>...</td>\n",
       "      <td>...</td>\n",
       "      <td>...</td>\n",
       "    </tr>\n",
       "    <tr>\n",
       "      <th>3421</th>\n",
       "      <td>170022-0-0-0.wav</td>\n",
       "      <td>170022</td>\n",
       "      <td>9.042850</td>\n",
       "      <td>13.042850</td>\n",
       "      <td>1</td>\n",
       "      <td>8</td>\n",
       "      <td>0</td>\n",
       "      <td>air_conditioner</td>\n",
       "    </tr>\n",
       "    <tr>\n",
       "      <th>6638</th>\n",
       "      <td>50661-5-0-3.wav</td>\n",
       "      <td>50661</td>\n",
       "      <td>1.500000</td>\n",
       "      <td>5.500000</td>\n",
       "      <td>1</td>\n",
       "      <td>4</td>\n",
       "      <td>5</td>\n",
       "      <td>engine_idling</td>\n",
       "    </tr>\n",
       "    <tr>\n",
       "      <th>6747</th>\n",
       "      <td>54383-0-0-4.wav</td>\n",
       "      <td>54383</td>\n",
       "      <td>2.000000</td>\n",
       "      <td>6.000000</td>\n",
       "      <td>1</td>\n",
       "      <td>8</td>\n",
       "      <td>0</td>\n",
       "      <td>air_conditioner</td>\n",
       "    </tr>\n",
       "    <tr>\n",
       "      <th>2883</th>\n",
       "      <td>162103-0-0-1.wav</td>\n",
       "      <td>162103</td>\n",
       "      <td>0.500000</td>\n",
       "      <td>4.500000</td>\n",
       "      <td>1</td>\n",
       "      <td>8</td>\n",
       "      <td>0</td>\n",
       "      <td>air_conditioner</td>\n",
       "    </tr>\n",
       "    <tr>\n",
       "      <th>6401</th>\n",
       "      <td>4201-3-0-0.wav</td>\n",
       "      <td>4201</td>\n",
       "      <td>0.104715</td>\n",
       "      <td>0.352725</td>\n",
       "      <td>2</td>\n",
       "      <td>2</td>\n",
       "      <td>3</td>\n",
       "      <td>dog_bark</td>\n",
       "    </tr>\n",
       "  </tbody>\n",
       "</table>\n",
       "<p>1310 rows × 8 columns</p>\n",
       "</div>"
      ],
      "text/plain": [
       "         slice_file_name    fsID       start         end  salience  fold  \\\n",
       "1583   138473-9-0-12.wav  138473    7.523034   11.523034         2     3   \n",
       "4924  194458-9-1-122.wav  194458  163.261507  167.261507         2     4   \n",
       "49      100852-0-0-6.wav  100852    3.000000    7.000000         1     5   \n",
       "5441    204773-3-9-0.wav  204773   42.184968   46.184968         1     2   \n",
       "6753     54545-3-0-0.wav   54545    0.826371    4.826371         1     2   \n",
       "...                  ...     ...         ...         ...       ...   ...   \n",
       "3421    170022-0-0-0.wav  170022    9.042850   13.042850         1     8   \n",
       "6638     50661-5-0-3.wav   50661    1.500000    5.500000         1     4   \n",
       "6747     54383-0-0-4.wav   54383    2.000000    6.000000         1     8   \n",
       "2883    162103-0-0-1.wav  162103    0.500000    4.500000         1     8   \n",
       "6401      4201-3-0-0.wav    4201    0.104715    0.352725         2     2   \n",
       "\n",
       "      classID            class  \n",
       "1583        9     street_music  \n",
       "4924        9     street_music  \n",
       "49          0  air_conditioner  \n",
       "5441        3         dog_bark  \n",
       "6753        3         dog_bark  \n",
       "...       ...              ...  \n",
       "3421        0  air_conditioner  \n",
       "6638        5    engine_idling  \n",
       "6747        0  air_conditioner  \n",
       "2883        0  air_conditioner  \n",
       "6401        3         dog_bark  \n",
       "\n",
       "[1310 rows x 8 columns]"
      ]
     },
     "execution_count": 14,
     "metadata": {},
     "output_type": "execute_result"
    }
   ],
   "source": [
    "test_meta_data"
   ]
  },
  {
   "cell_type": "code",
   "execution_count": 13,
   "id": "e9ee776c",
   "metadata": {},
   "outputs": [],
   "source": [
    "# Save training data spectograms\n",
    "\n",
    "for idx, row in test_meta_data.iterrows():\n",
    "    \n",
    "    path = 'Source/UrbanSound8K/audio/fold{}/{}'.format(row['fold'], row['slice_file_name'])\n",
    "    \n",
    "    y, sr = librosa.load(path)\n",
    "    \n",
    "    # Standardize the length to 88,200 samples, or 4 seconds\n",
    "    if y.shape != (88200,):\n",
    "        y = np.resize(y, 88200)\n",
    "    \n",
    "    \n",
    "    # Create Matplotlib Image\n",
    "    fig, ax = plt.subplots()\n",
    "    \n",
    "    S = librosa.feature.melspectrogram(y=y, sr=sr,)\n",
    "    S_db_mel = librosa.amplitude_to_db(S, ref=np.max)\n",
    "    \n",
    "    img = librosa.display.specshow(S_db_mel, x_axis='time' , y_axis='log', ax = ax)\n",
    "    plt.axis('off')    \n",
    "    \n",
    "    # Save the Spectogram Image\n",
    "    my_path = 'Data/'\n",
    "    file_name = row['slice_file_name'][:-4]\n",
    "\n",
    "    testing_path = 'test_mel_spect/{}/'.format(row['classID'])\n",
    "        \n",
    "    if not os.path.isdir(my_path + testing_path):\n",
    "        os.makedirs(my_path + testing_path)\n",
    "        \n",
    "    plt.savefig(my_path + testing_path + file_name)\n",
    "    \n",
    "    plt.close()"
   ]
  },
  {
   "cell_type": "code",
   "execution_count": null,
   "id": "45aa926b",
   "metadata": {},
   "outputs": [],
   "source": []
  }
 ],
 "metadata": {
  "kernelspec": {
   "display_name": "Python Number41",
   "language": "python",
   "name": "number41"
  },
  "language_info": {
   "codemirror_mode": {
    "name": "ipython",
    "version": 3
   },
   "file_extension": ".py",
   "mimetype": "text/x-python",
   "name": "python",
   "nbconvert_exporter": "python",
   "pygments_lexer": "ipython3",
   "version": "3.11.4"
  }
 },
 "nbformat": 4,
 "nbformat_minor": 5
}
