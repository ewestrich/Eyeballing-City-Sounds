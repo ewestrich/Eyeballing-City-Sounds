{
 "cells": [
  {
   "cell_type": "code",
   "execution_count": 4,
   "id": "d0fcf6ce",
   "metadata": {},
   "outputs": [],
   "source": [
    "import pandas as pd\n",
    "import numpy as np\n",
    "import matplotlib.pyplot as plt\n",
    "%matplotlib inline\n",
    "plt.ioff()\n",
    "\n",
    "import os\n",
    "\n",
    "import librosa\n",
    "import librosa.display\n",
    "\n",
    "import IPython\n",
    "\n",
    "from IPython.display import Audio\n",
    "\n",
    "from sklearn.model_selection import train_test_split"
   ]
  },
  {
   "cell_type": "code",
   "execution_count": 5,
   "id": "378bdfc9",
   "metadata": {},
   "outputs": [],
   "source": [
    "meta_data = pd.read_csv('Source/UrbanSound8K/metadata/UrbanSound8K.csv')"
   ]
  },
  {
   "cell_type": "code",
   "execution_count": 6,
   "id": "910ff1ce",
   "metadata": {},
   "outputs": [],
   "source": [
    "train_meta_data, test_meta_data = train_test_split(meta_data, test_size=0.15\\\n",
    "                                                   ,random_state=42, stratify=meta_data['classID'])"
   ]
  },
  {
   "cell_type": "code",
   "execution_count": 7,
   "id": "dca75b15",
   "metadata": {},
   "outputs": [],
   "source": [
    "# Save training data spectograms\n",
    "\n",
    "for idx, row in train_meta_data.iterrows():\n",
    "    \n",
    "    path = 'Source/UrbanSound8K/audio/fold{}/{}'.format(row['fold'], row['slice_file_name'])\n",
    "    \n",
    "    y, sr = librosa.load(path)\n",
    "    \n",
    "    # Standardize the length to 88,200 samples, or 4 seconds\n",
    "    if y.shape != (88200,):\n",
    "        y = np.resize(y, 88200)\n",
    "    \n",
    "    \n",
    "    # Create Matplotlib Image\n",
    "    fig, ax = plt.subplots()    \n",
    "    \n",
    "    spec = np.abs(librosa.stft(y, hop_length=512))\n",
    "    spec = librosa.amplitude_to_db(spec, ref=np.max)\n",
    "    img = librosa.display.specshow(spec, sr=sr, x_axis='time', y_axis='log', cmap = 'inferno');\n",
    "\n",
    "    plt.axis('off')    \n",
    "\n",
    "    # Save the Spectogram Image\n",
    "    my_path = 'Data/'\n",
    "    file_name = row['slice_file_name'][:-4]\n",
    "\n",
    "    training_path = 'train_log_spect/{}/'.format(row['classID'])\n",
    "        \n",
    "    if not os.path.isdir(my_path + training_path):\n",
    "        os.makedirs(my_path + training_path)\n",
    "        \n",
    "    plt.savefig(my_path + training_path + file_name)\n",
    "    \n",
    "    plt.close()"
   ]
  },
  {
   "cell_type": "code",
   "execution_count": 8,
   "id": "a116b94e",
   "metadata": {},
   "outputs": [],
   "source": [
    "# Save training data spectograms\n",
    "\n",
    "for idx, row in test_meta_data.iterrows():\n",
    "    \n",
    "    path = 'Source/UrbanSound8K/audio/fold{}/{}'.format(row['fold'], row['slice_file_name'])\n",
    "    \n",
    "    y, sr = librosa.load(path)\n",
    "    \n",
    "    # Standardize the length to 88,200 samples, or 4 seconds\n",
    "    if y.shape != (88200,):\n",
    "        y = np.resize(y, 88200)\n",
    "    \n",
    "    \n",
    "    # Create Matplotlib Image\n",
    "    fig, ax = plt.subplots()    \n",
    "    \n",
    "    spec = np.abs(librosa.stft(y, hop_length=512))\n",
    "    spec = librosa.amplitude_to_db(spec, ref=np.max)\n",
    "    img = librosa.display.specshow(spec, sr=sr, x_axis='time', y_axis='log', cmap = 'inferno');\n",
    "\n",
    "    plt.axis('off')    \n",
    "\n",
    "    # Save the Spectogram Image\n",
    "    my_path = 'Data/'\n",
    "    file_name = row['slice_file_name'][:-4]\n",
    "\n",
    "    testing_path = 'test_log_spect/{}/'.format(row['classID'])\n",
    "        \n",
    "    if not os.path.isdir(my_path + testing_path):\n",
    "        os.makedirs(my_path + testing_path)\n",
    "        \n",
    "    plt.savefig(my_path + testing_path + file_name)\n",
    "    \n",
    "    plt.close()"
   ]
  }
 ],
 "metadata": {
  "kernelspec": {
   "display_name": "Python Number41",
   "language": "python",
   "name": "number41"
  },
  "language_info": {
   "codemirror_mode": {
    "name": "ipython",
    "version": 3
   },
   "file_extension": ".py",
   "mimetype": "text/x-python",
   "name": "python",
   "nbconvert_exporter": "python",
   "pygments_lexer": "ipython3",
   "version": "3.11.4"
  }
 },
 "nbformat": 4,
 "nbformat_minor": 5
}
