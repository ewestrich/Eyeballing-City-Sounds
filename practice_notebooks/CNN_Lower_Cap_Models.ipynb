{
 "cells": [
  {
   "cell_type": "code",
   "execution_count": 12,
   "id": "3dcc8fad",
   "metadata": {},
   "outputs": [],
   "source": [
    "import numpy as np\n",
    "import pandas as pd\n",
    "from matplotlib import pyplot as plt\n",
    "import seaborn as sns\n",
    "\n",
    "from sklearn.metrics import confusion_matrix\n",
    "from sklearn.metrics import ConfusionMatrixDisplay\n",
    "\n",
    "from tensorflow.keras import datasets\n",
    "from tensorflow.keras.utils import to_categorical\n",
    "from tensorflow.keras.models import Sequential\n",
    "\n",
    "from tensorflow.keras.layers import Dense # creates densely connected layer object\n",
    "from tensorflow.keras.layers import Flatten # takes 2D input and turns into 1D array\n",
    "\n",
    "from tensorflow import keras\n",
    "from tensorflow.keras import datasets, layers, models\n",
    "\n",
    "from tensorflow.keras.layers import Conv2D # convolution layer\n",
    "from tensorflow.keras.layers import MaxPooling2D # max pooling layer\n",
    "\n",
    "from tensorflow.keras.layers import GlobalAveragePooling2D\n",
    "from tensorflow.keras.callbacks import EarlyStopping"
   ]
  },
  {
   "cell_type": "code",
   "execution_count": 13,
   "id": "e7692697",
   "metadata": {},
   "outputs": [],
   "source": [
    "from tensorflow.keras.regularizers import l2\n",
    "from tensorflow.keras.layers import Dropout\n",
    "\n",
    "from tensorflow.keras.layers import BatchNormalization\n",
    "from tensorflow.keras.layers import Activation\n",
    "\n",
    "from keras.preprocessing.image import ImageDataGenerator"
   ]
  },
  {
   "cell_type": "code",
   "execution_count": 3,
   "id": "aa4b94d5",
   "metadata": {},
   "outputs": [],
   "source": [
    "train_dir = 'Data/mel_train_85_15'\n",
    "\n",
    "test_dir = 'Data/mel_test_85_15'"
   ]
  },
  {
   "cell_type": "code",
   "execution_count": 5,
   "id": "70758c12",
   "metadata": {},
   "outputs": [
    {
     "name": "stdout",
     "output_type": "stream",
     "text": [
      "Found 6314 images belonging to 10 classes.\n",
      "Found 1108 images belonging to 10 classes.\n",
      "Found 1310 images belonging to 10 classes.\n"
     ]
    }
   ],
   "source": [
    "train_data_gen_7 = ImageDataGenerator(rescale = 1./255, validation_split = .15)\n",
    "\n",
    "train_generator_7 = train_data_gen_7.flow_from_directory(\n",
    "\n",
    "                                                    train_dir, \n",
    "                                                    target_size = (200, 150),\n",
    "                                                    batch_size = 32,\n",
    "                                                    class_mode = 'categorical',\n",
    "                                                    color_mode = 'rgb',\n",
    "                                                    seed = 42,\n",
    "                                                    subset = 'training',)\n",
    "\n",
    "val_data_gen_7 = ImageDataGenerator(rescale=1./255)\n",
    "\n",
    "validation_generator_7 = train_data_gen_7.flow_from_directory(\n",
    "    \n",
    "                                                    train_dir, \n",
    "                                                    target_size = (200, 150),\n",
    "                                                    batch_size = 32,\n",
    "                                                    class_mode = 'categorical',\n",
    "                                                    color_mode = 'rgb',\n",
    "                                                    seed = 42,\n",
    "                                                    subset = 'validation',)\n",
    "\n",
    "test_data_gen_7 = ImageDataGenerator(rescale=1./255)\n",
    "\n",
    "test_generator_7 = test_data_gen_7.flow_from_directory(\n",
    "\n",
    "                                                    test_dir, \n",
    "                                                    target_size = (200, 150),\n",
    "                                                    batch_size = 32,\n",
    "                                                    class_mode = 'categorical',\n",
    "                                                    color_mode = 'rgb',\n",
    "                                                    seed = 42,\n",
    "                                                    shuffle = False)"
   ]
  },
  {
   "cell_type": "code",
   "execution_count": 16,
   "id": "78a37dd4",
   "metadata": {},
   "outputs": [],
   "source": [
    "custom_early_stopping = EarlyStopping(monitor='val_accuracy', patience=5) \n",
    "callbacks=[custom_early_stopping]"
   ]
  },
  {
   "cell_type": "code",
   "execution_count": 7,
   "id": "c413b3d7",
   "metadata": {},
   "outputs": [],
   "source": [
    "model7 = Sequential()\n",
    "\n",
    "# define 3x3 filter window sizes. Create 32 filters.\n",
    "model7.add(Conv2D(filters=32,\n",
    "                        kernel_size=(3, 3),\n",
    "                        activation='relu',\n",
    "                        input_shape=(200, 150, 3), kernel_regularizer = l2(5e-4) ))\n",
    "\n",
    "# max pool in 2x2 window\n",
    "model7.add(MaxPooling2D(pool_size=(2, 2)))\n",
    "\n",
    "# define 3x3 filter window sizes. Create 64 filters.\n",
    "model7.add(Conv2D(64, (3, 3), activation='relu', kernel_regularizer = l2(5e-4)))\n",
    "model7.add(MaxPooling2D((2, 2)))\n",
    "\n",
    "model7.add(Conv2D(64, (3, 3), activation='relu', kernel_regularizer = l2(8e-4)))\n",
    "model7.add(MaxPooling2D((2, 2)))\n",
    "model7.add(Dropout(0.1))\n",
    "\n",
    "model7.add(Conv2D(64, (3, 3), activation='relu', kernel_regularizer = l2(7e-3)))\n",
    "model7.add(Dropout(0.25))\n",
    "\n",
    "# transition to dense fully-connected part of network\n",
    "model7.add(Flatten())\n",
    "model7.add(Dense(128, activation='relu'))\n",
    "model7.add(Dropout(0.4))\n",
    "\n",
    "model7.add(BatchNormalization())\n",
    "model7.add(Dense(64, activation='relu'))\n",
    "model7.add(Dropout(0.7))\n",
    "\n",
    "model7.add(Dense(10, activation='softmax'))\n",
    "\n",
    "model7.compile(optimizer='adam', loss='categorical_crossentropy',  metrics=['accuracy'])"
   ]
  },
  {
   "cell_type": "code",
   "execution_count": 8,
   "id": "0908e392",
   "metadata": {
    "scrolled": true
   },
   "outputs": [
    {
     "name": "stdout",
     "output_type": "stream",
     "text": [
      "Epoch 1/45\n",
      "198/198 [==============================] - 71s 355ms/step - loss: 2.7212 - accuracy: 0.1468 - val_loss: 2.3492 - val_accuracy: 0.2202\n",
      "Epoch 2/45\n",
      "198/198 [==============================] - 70s 355ms/step - loss: 2.2967 - accuracy: 0.2062 - val_loss: 2.6089 - val_accuracy: 0.1146\n",
      "Epoch 3/45\n",
      "198/198 [==============================] - 71s 358ms/step - loss: 2.1609 - accuracy: 0.2379 - val_loss: 2.1561 - val_accuracy: 0.2374\n",
      "Epoch 4/45\n",
      "198/198 [==============================] - 67s 339ms/step - loss: 2.0789 - accuracy: 0.2555 - val_loss: 2.0861 - val_accuracy: 0.2256\n",
      "Epoch 5/45\n",
      "198/198 [==============================] - 66s 331ms/step - loss: 1.9929 - accuracy: 0.2859 - val_loss: 2.1401 - val_accuracy: 0.1995\n",
      "Epoch 6/45\n",
      "198/198 [==============================] - 65s 329ms/step - loss: 1.9656 - accuracy: 0.2844 - val_loss: 1.9537 - val_accuracy: 0.2653\n",
      "Epoch 7/45\n",
      "198/198 [==============================] - 66s 334ms/step - loss: 1.9021 - accuracy: 0.3234 - val_loss: 1.9297 - val_accuracy: 0.2852\n",
      "Epoch 8/45\n",
      "198/198 [==============================] - 65s 327ms/step - loss: 1.8391 - accuracy: 0.3386 - val_loss: 1.8778 - val_accuracy: 0.2924\n",
      "Epoch 9/45\n",
      "198/198 [==============================] - 73s 366ms/step - loss: 1.7931 - accuracy: 0.3600 - val_loss: 1.8576 - val_accuracy: 0.3384\n",
      "Epoch 10/45\n",
      "198/198 [==============================] - 65s 328ms/step - loss: 1.7215 - accuracy: 0.3888 - val_loss: 1.8340 - val_accuracy: 0.3186\n",
      "Epoch 11/45\n",
      "198/198 [==============================] - 66s 332ms/step - loss: 1.6621 - accuracy: 0.4066 - val_loss: 1.7114 - val_accuracy: 0.3484\n",
      "Epoch 12/45\n",
      "198/198 [==============================] - 60s 303ms/step - loss: 1.6279 - accuracy: 0.4330 - val_loss: 1.7185 - val_accuracy: 0.3962\n",
      "Epoch 13/45\n",
      "198/198 [==============================] - 58s 292ms/step - loss: 1.5608 - accuracy: 0.4530 - val_loss: 1.6870 - val_accuracy: 0.4070\n",
      "Epoch 14/45\n",
      "198/198 [==============================] - 58s 291ms/step - loss: 1.5411 - accuracy: 0.4466 - val_loss: 1.6430 - val_accuracy: 0.3926\n",
      "Epoch 15/45\n",
      "198/198 [==============================] - 58s 294ms/step - loss: 1.5016 - accuracy: 0.4734 - val_loss: 1.6332 - val_accuracy: 0.3800\n",
      "Epoch 16/45\n",
      "198/198 [==============================] - 57s 289ms/step - loss: 1.4622 - accuracy: 0.4799 - val_loss: 1.6943 - val_accuracy: 0.4097\n",
      "Epoch 17/45\n",
      "198/198 [==============================] - 58s 294ms/step - loss: 1.4673 - accuracy: 0.4938 - val_loss: 1.6126 - val_accuracy: 0.4332\n",
      "Epoch 18/45\n",
      "198/198 [==============================] - 59s 296ms/step - loss: 1.4030 - accuracy: 0.5136 - val_loss: 1.5328 - val_accuracy: 0.4901\n",
      "Epoch 19/45\n",
      "198/198 [==============================] - 60s 304ms/step - loss: 1.4323 - accuracy: 0.5098 - val_loss: 1.5944 - val_accuracy: 0.4765\n",
      "Epoch 20/45\n",
      "198/198 [==============================] - 59s 299ms/step - loss: 1.3669 - accuracy: 0.5312 - val_loss: 1.5247 - val_accuracy: 0.5000\n",
      "Epoch 21/45\n",
      "198/198 [==============================] - 59s 295ms/step - loss: 1.3443 - accuracy: 0.5462 - val_loss: 1.4372 - val_accuracy: 0.5018\n",
      "Epoch 22/45\n",
      "198/198 [==============================] - 65s 329ms/step - loss: 1.3015 - accuracy: 0.5643 - val_loss: 1.5019 - val_accuracy: 0.5190\n",
      "Epoch 23/45\n",
      "198/198 [==============================] - 57s 288ms/step - loss: 1.2849 - accuracy: 0.5812 - val_loss: 1.4143 - val_accuracy: 0.5108\n",
      "Epoch 24/45\n",
      "198/198 [==============================] - 57s 289ms/step - loss: 1.2337 - accuracy: 0.5800 - val_loss: 1.4794 - val_accuracy: 0.5144\n",
      "Epoch 25/45\n",
      "198/198 [==============================] - 59s 296ms/step - loss: 1.2077 - accuracy: 0.6042 - val_loss: 1.5084 - val_accuracy: 0.5262\n",
      "Epoch 26/45\n",
      "198/198 [==============================] - 106s 537ms/step - loss: 1.1998 - accuracy: 0.6001 - val_loss: 1.4031 - val_accuracy: 0.5334\n",
      "Epoch 27/45\n",
      "198/198 [==============================] - 112s 566ms/step - loss: 1.1855 - accuracy: 0.6142 - val_loss: 1.4180 - val_accuracy: 0.5271\n",
      "Epoch 28/45\n",
      "198/198 [==============================] - 86s 431ms/step - loss: 1.1489 - accuracy: 0.6315 - val_loss: 1.4601 - val_accuracy: 0.5153\n",
      "Epoch 29/45\n",
      "198/198 [==============================] - 57s 289ms/step - loss: 1.1447 - accuracy: 0.6288 - val_loss: 1.5391 - val_accuracy: 0.5794\n",
      "Epoch 30/45\n",
      "198/198 [==============================] - 57s 288ms/step - loss: 1.1275 - accuracy: 0.6296 - val_loss: 1.3934 - val_accuracy: 0.5587\n",
      "Epoch 31/45\n",
      "198/198 [==============================] - 58s 291ms/step - loss: 1.1042 - accuracy: 0.6392 - val_loss: 1.3560 - val_accuracy: 0.5650\n",
      "Epoch 32/45\n",
      "198/198 [==============================] - 57s 287ms/step - loss: 1.0828 - accuracy: 0.6587 - val_loss: 1.3564 - val_accuracy: 0.5514\n",
      "Epoch 33/45\n",
      " 42/198 [=====>........................] - ETA: 41s - loss: 1.0316 - accuracy: 0.6719"
     ]
    },
    {
     "ename": "KeyboardInterrupt",
     "evalue": "",
     "output_type": "error",
     "traceback": [
      "\u001b[0;31m---------------------------------------------------------------------------\u001b[0m",
      "\u001b[0;31mKeyboardInterrupt\u001b[0m                         Traceback (most recent call last)",
      "Cell \u001b[0;32mIn[8], line 1\u001b[0m\n\u001b[0;32m----> 1\u001b[0m history_cnn_7 \u001b[38;5;241m=\u001b[39m model7\u001b[38;5;241m.\u001b[39mfit(train_generator_7, validation_data \u001b[38;5;241m=\u001b[39m validation_generator_7, \n\u001b[1;32m      2\u001b[0m                            epochs \u001b[38;5;241m=\u001b[39m \u001b[38;5;241m45\u001b[39m, callbacks\u001b[38;5;241m=\u001b[39m[custom_early_stopping])\n",
      "File \u001b[0;32m~/anaconda3/envs/Number41/lib/python3.11/site-packages/keras/src/utils/traceback_utils.py:65\u001b[0m, in \u001b[0;36mfilter_traceback.<locals>.error_handler\u001b[0;34m(*args, **kwargs)\u001b[0m\n\u001b[1;32m     63\u001b[0m filtered_tb \u001b[38;5;241m=\u001b[39m \u001b[38;5;28;01mNone\u001b[39;00m\n\u001b[1;32m     64\u001b[0m \u001b[38;5;28;01mtry\u001b[39;00m:\n\u001b[0;32m---> 65\u001b[0m     \u001b[38;5;28;01mreturn\u001b[39;00m fn(\u001b[38;5;241m*\u001b[39margs, \u001b[38;5;241m*\u001b[39m\u001b[38;5;241m*\u001b[39mkwargs)\n\u001b[1;32m     66\u001b[0m \u001b[38;5;28;01mexcept\u001b[39;00m \u001b[38;5;167;01mException\u001b[39;00m \u001b[38;5;28;01mas\u001b[39;00m e:\n\u001b[1;32m     67\u001b[0m     filtered_tb \u001b[38;5;241m=\u001b[39m _process_traceback_frames(e\u001b[38;5;241m.\u001b[39m__traceback__)\n",
      "File \u001b[0;32m~/anaconda3/envs/Number41/lib/python3.11/site-packages/keras/src/engine/training.py:1742\u001b[0m, in \u001b[0;36mModel.fit\u001b[0;34m(self, x, y, batch_size, epochs, verbose, callbacks, validation_split, validation_data, shuffle, class_weight, sample_weight, initial_epoch, steps_per_epoch, validation_steps, validation_batch_size, validation_freq, max_queue_size, workers, use_multiprocessing)\u001b[0m\n\u001b[1;32m   1734\u001b[0m \u001b[38;5;28;01mwith\u001b[39;00m tf\u001b[38;5;241m.\u001b[39mprofiler\u001b[38;5;241m.\u001b[39mexperimental\u001b[38;5;241m.\u001b[39mTrace(\n\u001b[1;32m   1735\u001b[0m     \u001b[38;5;124m\"\u001b[39m\u001b[38;5;124mtrain\u001b[39m\u001b[38;5;124m\"\u001b[39m,\n\u001b[1;32m   1736\u001b[0m     epoch_num\u001b[38;5;241m=\u001b[39mepoch,\n\u001b[0;32m   (...)\u001b[0m\n\u001b[1;32m   1739\u001b[0m     _r\u001b[38;5;241m=\u001b[39m\u001b[38;5;241m1\u001b[39m,\n\u001b[1;32m   1740\u001b[0m ):\n\u001b[1;32m   1741\u001b[0m     callbacks\u001b[38;5;241m.\u001b[39mon_train_batch_begin(step)\n\u001b[0;32m-> 1742\u001b[0m     tmp_logs \u001b[38;5;241m=\u001b[39m \u001b[38;5;28mself\u001b[39m\u001b[38;5;241m.\u001b[39mtrain_function(iterator)\n\u001b[1;32m   1743\u001b[0m     \u001b[38;5;28;01mif\u001b[39;00m data_handler\u001b[38;5;241m.\u001b[39mshould_sync:\n\u001b[1;32m   1744\u001b[0m         context\u001b[38;5;241m.\u001b[39masync_wait()\n",
      "File \u001b[0;32m~/anaconda3/envs/Number41/lib/python3.11/site-packages/tensorflow/python/util/traceback_utils.py:150\u001b[0m, in \u001b[0;36mfilter_traceback.<locals>.error_handler\u001b[0;34m(*args, **kwargs)\u001b[0m\n\u001b[1;32m    148\u001b[0m filtered_tb \u001b[38;5;241m=\u001b[39m \u001b[38;5;28;01mNone\u001b[39;00m\n\u001b[1;32m    149\u001b[0m \u001b[38;5;28;01mtry\u001b[39;00m:\n\u001b[0;32m--> 150\u001b[0m   \u001b[38;5;28;01mreturn\u001b[39;00m fn(\u001b[38;5;241m*\u001b[39margs, \u001b[38;5;241m*\u001b[39m\u001b[38;5;241m*\u001b[39mkwargs)\n\u001b[1;32m    151\u001b[0m \u001b[38;5;28;01mexcept\u001b[39;00m \u001b[38;5;167;01mException\u001b[39;00m \u001b[38;5;28;01mas\u001b[39;00m e:\n\u001b[1;32m    152\u001b[0m   filtered_tb \u001b[38;5;241m=\u001b[39m _process_traceback_frames(e\u001b[38;5;241m.\u001b[39m__traceback__)\n",
      "File \u001b[0;32m~/anaconda3/envs/Number41/lib/python3.11/site-packages/tensorflow/python/eager/polymorphic_function/polymorphic_function.py:825\u001b[0m, in \u001b[0;36mFunction.__call__\u001b[0;34m(self, *args, **kwds)\u001b[0m\n\u001b[1;32m    822\u001b[0m compiler \u001b[38;5;241m=\u001b[39m \u001b[38;5;124m\"\u001b[39m\u001b[38;5;124mxla\u001b[39m\u001b[38;5;124m\"\u001b[39m \u001b[38;5;28;01mif\u001b[39;00m \u001b[38;5;28mself\u001b[39m\u001b[38;5;241m.\u001b[39m_jit_compile \u001b[38;5;28;01melse\u001b[39;00m \u001b[38;5;124m\"\u001b[39m\u001b[38;5;124mnonXla\u001b[39m\u001b[38;5;124m\"\u001b[39m\n\u001b[1;32m    824\u001b[0m \u001b[38;5;28;01mwith\u001b[39;00m OptionalXlaContext(\u001b[38;5;28mself\u001b[39m\u001b[38;5;241m.\u001b[39m_jit_compile):\n\u001b[0;32m--> 825\u001b[0m   result \u001b[38;5;241m=\u001b[39m \u001b[38;5;28mself\u001b[39m\u001b[38;5;241m.\u001b[39m_call(\u001b[38;5;241m*\u001b[39margs, \u001b[38;5;241m*\u001b[39m\u001b[38;5;241m*\u001b[39mkwds)\n\u001b[1;32m    827\u001b[0m new_tracing_count \u001b[38;5;241m=\u001b[39m \u001b[38;5;28mself\u001b[39m\u001b[38;5;241m.\u001b[39mexperimental_get_tracing_count()\n\u001b[1;32m    828\u001b[0m without_tracing \u001b[38;5;241m=\u001b[39m (tracing_count \u001b[38;5;241m==\u001b[39m new_tracing_count)\n",
      "File \u001b[0;32m~/anaconda3/envs/Number41/lib/python3.11/site-packages/tensorflow/python/eager/polymorphic_function/polymorphic_function.py:857\u001b[0m, in \u001b[0;36mFunction._call\u001b[0;34m(self, *args, **kwds)\u001b[0m\n\u001b[1;32m    854\u001b[0m   \u001b[38;5;28mself\u001b[39m\u001b[38;5;241m.\u001b[39m_lock\u001b[38;5;241m.\u001b[39mrelease()\n\u001b[1;32m    855\u001b[0m   \u001b[38;5;66;03m# In this case we have created variables on the first call, so we run the\u001b[39;00m\n\u001b[1;32m    856\u001b[0m   \u001b[38;5;66;03m# defunned version which is guaranteed to never create variables.\u001b[39;00m\n\u001b[0;32m--> 857\u001b[0m   \u001b[38;5;28;01mreturn\u001b[39;00m \u001b[38;5;28mself\u001b[39m\u001b[38;5;241m.\u001b[39m_no_variable_creation_fn(\u001b[38;5;241m*\u001b[39margs, \u001b[38;5;241m*\u001b[39m\u001b[38;5;241m*\u001b[39mkwds)  \u001b[38;5;66;03m# pylint: disable=not-callable\u001b[39;00m\n\u001b[1;32m    858\u001b[0m \u001b[38;5;28;01melif\u001b[39;00m \u001b[38;5;28mself\u001b[39m\u001b[38;5;241m.\u001b[39m_variable_creation_fn \u001b[38;5;129;01mis\u001b[39;00m \u001b[38;5;129;01mnot\u001b[39;00m \u001b[38;5;28;01mNone\u001b[39;00m:\n\u001b[1;32m    859\u001b[0m   \u001b[38;5;66;03m# Release the lock early so that multiple threads can perform the call\u001b[39;00m\n\u001b[1;32m    860\u001b[0m   \u001b[38;5;66;03m# in parallel.\u001b[39;00m\n\u001b[1;32m    861\u001b[0m   \u001b[38;5;28mself\u001b[39m\u001b[38;5;241m.\u001b[39m_lock\u001b[38;5;241m.\u001b[39mrelease()\n",
      "File \u001b[0;32m~/anaconda3/envs/Number41/lib/python3.11/site-packages/tensorflow/python/eager/polymorphic_function/tracing_compiler.py:148\u001b[0m, in \u001b[0;36mTracingCompiler.__call__\u001b[0;34m(self, *args, **kwargs)\u001b[0m\n\u001b[1;32m    145\u001b[0m \u001b[38;5;28;01mwith\u001b[39;00m \u001b[38;5;28mself\u001b[39m\u001b[38;5;241m.\u001b[39m_lock:\n\u001b[1;32m    146\u001b[0m   (concrete_function,\n\u001b[1;32m    147\u001b[0m    filtered_flat_args) \u001b[38;5;241m=\u001b[39m \u001b[38;5;28mself\u001b[39m\u001b[38;5;241m.\u001b[39m_maybe_define_function(args, kwargs)\n\u001b[0;32m--> 148\u001b[0m \u001b[38;5;28;01mreturn\u001b[39;00m concrete_function\u001b[38;5;241m.\u001b[39m_call_flat(\n\u001b[1;32m    149\u001b[0m     filtered_flat_args, captured_inputs\u001b[38;5;241m=\u001b[39mconcrete_function\u001b[38;5;241m.\u001b[39mcaptured_inputs)\n",
      "File \u001b[0;32m~/anaconda3/envs/Number41/lib/python3.11/site-packages/tensorflow/python/eager/polymorphic_function/monomorphic_function.py:1349\u001b[0m, in \u001b[0;36mConcreteFunction._call_flat\u001b[0;34m(self, args, captured_inputs)\u001b[0m\n\u001b[1;32m   1345\u001b[0m possible_gradient_type \u001b[38;5;241m=\u001b[39m gradients_util\u001b[38;5;241m.\u001b[39mPossibleTapeGradientTypes(args)\n\u001b[1;32m   1346\u001b[0m \u001b[38;5;28;01mif\u001b[39;00m (possible_gradient_type \u001b[38;5;241m==\u001b[39m gradients_util\u001b[38;5;241m.\u001b[39mPOSSIBLE_GRADIENT_TYPES_NONE\n\u001b[1;32m   1347\u001b[0m     \u001b[38;5;129;01mand\u001b[39;00m executing_eagerly):\n\u001b[1;32m   1348\u001b[0m   \u001b[38;5;66;03m# No tape is watching; skip to running the function.\u001b[39;00m\n\u001b[0;32m-> 1349\u001b[0m   \u001b[38;5;28;01mreturn\u001b[39;00m \u001b[38;5;28mself\u001b[39m\u001b[38;5;241m.\u001b[39m_build_call_outputs(\u001b[38;5;28mself\u001b[39m\u001b[38;5;241m.\u001b[39m_inference_function(\u001b[38;5;241m*\u001b[39margs))\n\u001b[1;32m   1350\u001b[0m forward_backward \u001b[38;5;241m=\u001b[39m \u001b[38;5;28mself\u001b[39m\u001b[38;5;241m.\u001b[39m_select_forward_and_backward_functions(\n\u001b[1;32m   1351\u001b[0m     args,\n\u001b[1;32m   1352\u001b[0m     possible_gradient_type,\n\u001b[1;32m   1353\u001b[0m     executing_eagerly)\n\u001b[1;32m   1354\u001b[0m forward_function, args_with_tangents \u001b[38;5;241m=\u001b[39m forward_backward\u001b[38;5;241m.\u001b[39mforward()\n",
      "File \u001b[0;32m~/anaconda3/envs/Number41/lib/python3.11/site-packages/tensorflow/python/eager/polymorphic_function/atomic_function.py:196\u001b[0m, in \u001b[0;36mAtomicFunction.__call__\u001b[0;34m(self, *args)\u001b[0m\n\u001b[1;32m    194\u001b[0m \u001b[38;5;28;01mwith\u001b[39;00m record\u001b[38;5;241m.\u001b[39mstop_recording():\n\u001b[1;32m    195\u001b[0m   \u001b[38;5;28;01mif\u001b[39;00m \u001b[38;5;28mself\u001b[39m\u001b[38;5;241m.\u001b[39m_bound_context\u001b[38;5;241m.\u001b[39mexecuting_eagerly():\n\u001b[0;32m--> 196\u001b[0m     outputs \u001b[38;5;241m=\u001b[39m \u001b[38;5;28mself\u001b[39m\u001b[38;5;241m.\u001b[39m_bound_context\u001b[38;5;241m.\u001b[39mcall_function(\n\u001b[1;32m    197\u001b[0m         \u001b[38;5;28mself\u001b[39m\u001b[38;5;241m.\u001b[39mname,\n\u001b[1;32m    198\u001b[0m         \u001b[38;5;28mlist\u001b[39m(args),\n\u001b[1;32m    199\u001b[0m         \u001b[38;5;28mlen\u001b[39m(\u001b[38;5;28mself\u001b[39m\u001b[38;5;241m.\u001b[39mfunction_type\u001b[38;5;241m.\u001b[39mflat_outputs),\n\u001b[1;32m    200\u001b[0m     )\n\u001b[1;32m    201\u001b[0m   \u001b[38;5;28;01melse\u001b[39;00m:\n\u001b[1;32m    202\u001b[0m     outputs \u001b[38;5;241m=\u001b[39m make_call_op_in_graph(\u001b[38;5;28mself\u001b[39m, \u001b[38;5;28mlist\u001b[39m(args))\n",
      "File \u001b[0;32m~/anaconda3/envs/Number41/lib/python3.11/site-packages/tensorflow/python/eager/context.py:1457\u001b[0m, in \u001b[0;36mContext.call_function\u001b[0;34m(self, name, tensor_inputs, num_outputs)\u001b[0m\n\u001b[1;32m   1455\u001b[0m cancellation_context \u001b[38;5;241m=\u001b[39m cancellation\u001b[38;5;241m.\u001b[39mcontext()\n\u001b[1;32m   1456\u001b[0m \u001b[38;5;28;01mif\u001b[39;00m cancellation_context \u001b[38;5;129;01mis\u001b[39;00m \u001b[38;5;28;01mNone\u001b[39;00m:\n\u001b[0;32m-> 1457\u001b[0m   outputs \u001b[38;5;241m=\u001b[39m execute\u001b[38;5;241m.\u001b[39mexecute(\n\u001b[1;32m   1458\u001b[0m       name\u001b[38;5;241m.\u001b[39mdecode(\u001b[38;5;124m\"\u001b[39m\u001b[38;5;124mutf-8\u001b[39m\u001b[38;5;124m\"\u001b[39m),\n\u001b[1;32m   1459\u001b[0m       num_outputs\u001b[38;5;241m=\u001b[39mnum_outputs,\n\u001b[1;32m   1460\u001b[0m       inputs\u001b[38;5;241m=\u001b[39mtensor_inputs,\n\u001b[1;32m   1461\u001b[0m       attrs\u001b[38;5;241m=\u001b[39mattrs,\n\u001b[1;32m   1462\u001b[0m       ctx\u001b[38;5;241m=\u001b[39m\u001b[38;5;28mself\u001b[39m,\n\u001b[1;32m   1463\u001b[0m   )\n\u001b[1;32m   1464\u001b[0m \u001b[38;5;28;01melse\u001b[39;00m:\n\u001b[1;32m   1465\u001b[0m   outputs \u001b[38;5;241m=\u001b[39m execute\u001b[38;5;241m.\u001b[39mexecute_with_cancellation(\n\u001b[1;32m   1466\u001b[0m       name\u001b[38;5;241m.\u001b[39mdecode(\u001b[38;5;124m\"\u001b[39m\u001b[38;5;124mutf-8\u001b[39m\u001b[38;5;124m\"\u001b[39m),\n\u001b[1;32m   1467\u001b[0m       num_outputs\u001b[38;5;241m=\u001b[39mnum_outputs,\n\u001b[0;32m   (...)\u001b[0m\n\u001b[1;32m   1471\u001b[0m       cancellation_manager\u001b[38;5;241m=\u001b[39mcancellation_context,\n\u001b[1;32m   1472\u001b[0m   )\n",
      "File \u001b[0;32m~/anaconda3/envs/Number41/lib/python3.11/site-packages/tensorflow/python/eager/execute.py:53\u001b[0m, in \u001b[0;36mquick_execute\u001b[0;34m(op_name, num_outputs, inputs, attrs, ctx, name)\u001b[0m\n\u001b[1;32m     51\u001b[0m \u001b[38;5;28;01mtry\u001b[39;00m:\n\u001b[1;32m     52\u001b[0m   ctx\u001b[38;5;241m.\u001b[39mensure_initialized()\n\u001b[0;32m---> 53\u001b[0m   tensors \u001b[38;5;241m=\u001b[39m pywrap_tfe\u001b[38;5;241m.\u001b[39mTFE_Py_Execute(ctx\u001b[38;5;241m.\u001b[39m_handle, device_name, op_name,\n\u001b[1;32m     54\u001b[0m                                       inputs, attrs, num_outputs)\n\u001b[1;32m     55\u001b[0m \u001b[38;5;28;01mexcept\u001b[39;00m core\u001b[38;5;241m.\u001b[39m_NotOkStatusException \u001b[38;5;28;01mas\u001b[39;00m e:\n\u001b[1;32m     56\u001b[0m   \u001b[38;5;28;01mif\u001b[39;00m name \u001b[38;5;129;01mis\u001b[39;00m \u001b[38;5;129;01mnot\u001b[39;00m \u001b[38;5;28;01mNone\u001b[39;00m:\n",
      "\u001b[0;31mKeyboardInterrupt\u001b[0m: "
     ]
    }
   ],
   "source": [
    "history_cnn_7 = model7.fit(train_generator_7, validation_data = validation_generator_7, \n",
    "                           epochs = 45, callbacks=[custom_early_stopping])"
   ]
  },
  {
   "cell_type": "code",
   "execution_count": null,
   "id": "8f62507e",
   "metadata": {},
   "outputs": [],
   "source": []
  },
  {
   "cell_type": "code",
   "execution_count": 14,
   "id": "4f2fde5b",
   "metadata": {},
   "outputs": [],
   "source": [
    "train_dir_2 = 'Data/mel_train_and_some_noise'\n",
    "\n",
    "test_dir = 'Data/mel_test_85_15'"
   ]
  },
  {
   "cell_type": "code",
   "execution_count": 15,
   "id": "7277174e",
   "metadata": {},
   "outputs": [
    {
     "name": "stdout",
     "output_type": "stream",
     "text": [
      "Found 12619 images belonging to 10 classes.\n",
      "Found 2225 images belonging to 10 classes.\n",
      "Found 1310 images belonging to 10 classes.\n"
     ]
    }
   ],
   "source": [
    "train_data_gen_7_2 = ImageDataGenerator(rescale = 1./255, validation_split = .15)\n",
    "\n",
    "train_generator_7_2 = train_data_gen_7_2.flow_from_directory(\n",
    "\n",
    "                                                    train_dir_2, \n",
    "                                                    target_size = (160, 120),\n",
    "                                                    batch_size = 32,\n",
    "                                                    class_mode = 'categorical',\n",
    "                                                    color_mode = 'rgb',\n",
    "                                                    seed = 42,\n",
    "                                                    subset = 'training',)\n",
    "\n",
    "val_data_gen_7_2 = ImageDataGenerator(rescale=1./255)\n",
    "\n",
    "validation_generator_7_2 = train_data_gen_7_2.flow_from_directory(\n",
    "    \n",
    "                                                    train_dir_2, \n",
    "                                                    target_size = (160, 120),\n",
    "                                                    batch_size = 32,\n",
    "                                                    class_mode = 'categorical',\n",
    "                                                    color_mode = 'rgb',\n",
    "                                                    seed = 42,\n",
    "                                                    subset = 'validation',)\n",
    "\n",
    "test_data_gen_7_2 = ImageDataGenerator(rescale=1./255)\n",
    "\n",
    "test_generator_7_2 = test_data_gen_7_2.flow_from_directory(\n",
    "\n",
    "                                                    test_dir, \n",
    "                                                    target_size = (160, 120),\n",
    "                                                    batch_size = 32,\n",
    "                                                    class_mode = 'categorical',\n",
    "                                                    color_mode = 'rgb',\n",
    "                                                    seed = 42,\n",
    "                                                    shuffle = False)"
   ]
  },
  {
   "cell_type": "code",
   "execution_count": 18,
   "id": "c8bb9080",
   "metadata": {},
   "outputs": [],
   "source": [
    "model7_2 = Sequential()\n",
    "\n",
    "# define 3x3 filter window sizes. Create 32 filters.\n",
    "model7_2.add(Conv2D(filters=32, kernel_size=(3, 3), activation='relu', input_shape=(160, 120, 3), kernel_regularizer = l2(5e-4) ))\n",
    "model7_2.add(MaxPooling2D(pool_size=(2, 2)))\n",
    "\n",
    "# define 3x3 filter window sizes. Create 64 filters.\n",
    "model7_2.add(Conv2D(64, (3, 3), activation='relu', kernel_regularizer = l2(5e-4)))\n",
    "model7_2.add(MaxPooling2D((2, 2)))\n",
    "\n",
    "model7_2.add(Conv2D(64, (3, 3), activation='relu', kernel_regularizer = l2(8e-4)))\n",
    "model7_2.add(MaxPooling2D((2, 2)))\n",
    "model7_2.add(Dropout(0.1))\n",
    "\n",
    "model7_2.add(Conv2D(64, (3, 3), activation='relu', kernel_regularizer = l2(7e-3)))\n",
    "model7_2.add(Dropout(0.2))\n",
    "\n",
    "# transition to dense fully-connected part of network\n",
    "model7_2.add(Flatten())\n",
    "model7_2.add(Dense(128, activation='relu'))\n",
    "model7_2.add(Dropout(0.25))\n",
    "\n",
    "model7_2.add(BatchNormalization())\n",
    "model7_2.add(Dense(64, activation='relu'))\n",
    "model7_2.add(Dropout(0.6))\n",
    "\n",
    "model7_2.add(Dense(10, activation='softmax'))\n",
    "\n",
    "model7_2.compile(optimizer='adam', loss='categorical_crossentropy',  metrics=['accuracy'])"
   ]
  },
  {
   "cell_type": "code",
   "execution_count": 19,
   "id": "0b4f4faa",
   "metadata": {},
   "outputs": [
    {
     "name": "stdout",
     "output_type": "stream",
     "text": [
      "Epoch 1/45\n",
      "395/395 [==============================] - 80s 202ms/step - loss: 2.2120 - accuracy: 0.2883 - val_loss: 1.7963 - val_accuracy: 0.3870\n",
      "Epoch 2/45\n",
      "395/395 [==============================] - 77s 196ms/step - loss: 1.6085 - accuracy: 0.4618 - val_loss: 1.6243 - val_accuracy: 0.4373\n",
      "Epoch 3/45\n",
      "395/395 [==============================] - 77s 193ms/step - loss: 1.3771 - accuracy: 0.5485 - val_loss: 1.4477 - val_accuracy: 0.5582\n",
      "Epoch 4/45\n",
      "395/395 [==============================] - 76s 192ms/step - loss: 1.1523 - accuracy: 0.6505 - val_loss: 1.2743 - val_accuracy: 0.5856\n",
      "Epoch 5/45\n",
      "395/395 [==============================] - 77s 194ms/step - loss: 1.0188 - accuracy: 0.6955 - val_loss: 1.2280 - val_accuracy: 0.6117\n",
      "Epoch 6/45\n",
      "395/395 [==============================] - 77s 194ms/step - loss: 0.9037 - accuracy: 0.7440 - val_loss: 1.1292 - val_accuracy: 0.6706\n",
      "Epoch 7/45\n",
      "395/395 [==============================] - 77s 195ms/step - loss: 0.8175 - accuracy: 0.7768 - val_loss: 1.2470 - val_accuracy: 0.6607\n",
      "Epoch 8/45\n",
      "395/395 [==============================] - 80s 201ms/step - loss: 0.7107 - accuracy: 0.8134 - val_loss: 1.6885 - val_accuracy: 0.6440\n",
      "Epoch 9/45\n",
      "395/395 [==============================] - 77s 194ms/step - loss: 0.6809 - accuracy: 0.8219 - val_loss: 1.4406 - val_accuracy: 0.6530\n",
      "Epoch 10/45\n",
      "395/395 [==============================] - 81s 204ms/step - loss: 0.6478 - accuracy: 0.8356 - val_loss: 1.8072 - val_accuracy: 0.6607\n",
      "Epoch 11/45\n",
      "395/395 [==============================] - 79s 200ms/step - loss: 0.6032 - accuracy: 0.8493 - val_loss: 1.5577 - val_accuracy: 0.6355\n"
     ]
    }
   ],
   "source": [
    "history_cnn_7_2 = model7_2.fit(train_generator_7_2, validation_data = validation_generator_7_2, \n",
    "                           epochs = 45, callbacks=[custom_early_stopping])"
   ]
  },
  {
   "cell_type": "code",
   "execution_count": 9,
   "id": "78846918",
   "metadata": {},
   "outputs": [],
   "source": [
    "model7_2 = Sequential()\n",
    "\n",
    "# define 3x3 filter window sizes. Create 32 filters.\n",
    "model7_2.add(Conv2D(filters=32, kernel_size=(3, 3), activation='relu', input_shape=(160, 120, 3), kernel_regularizer = l2(5e-4) ))\n",
    "model7_2.add(MaxPooling2D(pool_size=(2, 2)))\n",
    "\n",
    "# define 3x3 filter window sizes. Create 64 filters.\n",
    "model7_2.add(Conv2D(64, (3, 3), activation='relu', kernel_regularizer = l2(5e-4)))\n",
    "model7_2.add(MaxPooling2D((2, 2)))\n",
    "\n",
    "model7_2.add(Conv2D(64, (3, 3), activation='relu', kernel_regularizer = l2(8e-4)))\n",
    "model7_2.add(MaxPooling2D((2, 2)))\n",
    "model7_2.add(Dropout(0.1))\n",
    "\n",
    "model7_2.add(Conv2D(64, (3, 3), activation='relu', kernel_regularizer = l2(7e-3)))\n",
    "model7_2.add(Dropout(0.1))\n",
    "\n",
    "# transition to dense fully-connected part of network\n",
    "model7_2.add(Flatten())\n",
    "model7_2.add(Dense(128, activation='relu'))\n",
    "model7_2.add(Dropout(0.15))\n",
    "\n",
    "model7_2.add(BatchNormalization())\n",
    "model7_2.add(Dense(64, activation='relu'))\n",
    "model7_2.add(Dropout(0.7))\n",
    "\n",
    "model7_2.add(Dense(10, activation='softmax'))\n",
    "\n",
    "model7_2.compile(optimizer='adam', loss='categorical_crossentropy',  metrics=['accuracy'])"
   ]
  },
  {
   "cell_type": "code",
   "execution_count": 10,
   "id": "82a928ef",
   "metadata": {},
   "outputs": [
    {
     "name": "stdout",
     "output_type": "stream",
     "text": [
      "Epoch 1/45\n",
      "395/395 [==============================] - 80s 202ms/step - loss: 2.0514 - accuracy: 0.3633 - val_loss: 1.6735 - val_accuracy: 0.4656\n",
      "Epoch 2/45\n",
      "395/395 [==============================] - 77s 196ms/step - loss: 1.3665 - accuracy: 0.5737 - val_loss: 1.4275 - val_accuracy: 0.5658\n",
      "Epoch 3/45\n",
      "395/395 [==============================] - 77s 196ms/step - loss: 1.0773 - accuracy: 0.6783 - val_loss: 1.4261 - val_accuracy: 0.5604\n",
      "Epoch 4/45\n",
      "395/395 [==============================] - 77s 194ms/step - loss: 0.9271 - accuracy: 0.7380 - val_loss: 1.4948 - val_accuracy: 0.6067\n",
      "Epoch 5/45\n",
      "395/395 [==============================] - 78s 196ms/step - loss: 0.8107 - accuracy: 0.7802 - val_loss: 1.4888 - val_accuracy: 0.6243\n",
      "Epoch 6/45\n",
      "395/395 [==============================] - 79s 199ms/step - loss: 0.7656 - accuracy: 0.8002 - val_loss: 1.5009 - val_accuracy: 0.6562\n",
      "Epoch 7/45\n",
      "395/395 [==============================] - 77s 196ms/step - loss: 0.6859 - accuracy: 0.8265 - val_loss: 1.7540 - val_accuracy: 0.6067\n",
      "Epoch 8/45\n",
      "395/395 [==============================] - 78s 198ms/step - loss: 0.6258 - accuracy: 0.8482 - val_loss: 1.8887 - val_accuracy: 0.6198\n",
      "Epoch 9/45\n",
      "395/395 [==============================] - 76s 192ms/step - loss: 0.6003 - accuracy: 0.8562 - val_loss: 1.8518 - val_accuracy: 0.6175\n",
      "Epoch 10/45\n",
      " 11/395 [..............................] - ETA: 1:05 - loss: 0.5102 - accuracy: 0.8580"
     ]
    },
    {
     "ename": "KeyboardInterrupt",
     "evalue": "",
     "output_type": "error",
     "traceback": [
      "\u001b[0;31m---------------------------------------------------------------------------\u001b[0m",
      "\u001b[0;31mKeyboardInterrupt\u001b[0m                         Traceback (most recent call last)",
      "Cell \u001b[0;32mIn[10], line 1\u001b[0m\n\u001b[0;32m----> 1\u001b[0m history_cnn_7_2 \u001b[38;5;241m=\u001b[39m model7_2\u001b[38;5;241m.\u001b[39mfit(train_generator_7_2, validation_data \u001b[38;5;241m=\u001b[39m validation_generator_7_2, \n\u001b[1;32m      2\u001b[0m                            epochs \u001b[38;5;241m=\u001b[39m \u001b[38;5;241m45\u001b[39m, callbacks\u001b[38;5;241m=\u001b[39m[custom_early_stopping])\n",
      "File \u001b[0;32m~/anaconda3/envs/Number41/lib/python3.11/site-packages/keras/src/utils/traceback_utils.py:65\u001b[0m, in \u001b[0;36mfilter_traceback.<locals>.error_handler\u001b[0;34m(*args, **kwargs)\u001b[0m\n\u001b[1;32m     63\u001b[0m filtered_tb \u001b[38;5;241m=\u001b[39m \u001b[38;5;28;01mNone\u001b[39;00m\n\u001b[1;32m     64\u001b[0m \u001b[38;5;28;01mtry\u001b[39;00m:\n\u001b[0;32m---> 65\u001b[0m     \u001b[38;5;28;01mreturn\u001b[39;00m fn(\u001b[38;5;241m*\u001b[39margs, \u001b[38;5;241m*\u001b[39m\u001b[38;5;241m*\u001b[39mkwargs)\n\u001b[1;32m     66\u001b[0m \u001b[38;5;28;01mexcept\u001b[39;00m \u001b[38;5;167;01mException\u001b[39;00m \u001b[38;5;28;01mas\u001b[39;00m e:\n\u001b[1;32m     67\u001b[0m     filtered_tb \u001b[38;5;241m=\u001b[39m _process_traceback_frames(e\u001b[38;5;241m.\u001b[39m__traceback__)\n",
      "File \u001b[0;32m~/anaconda3/envs/Number41/lib/python3.11/site-packages/keras/src/engine/training.py:1742\u001b[0m, in \u001b[0;36mModel.fit\u001b[0;34m(self, x, y, batch_size, epochs, verbose, callbacks, validation_split, validation_data, shuffle, class_weight, sample_weight, initial_epoch, steps_per_epoch, validation_steps, validation_batch_size, validation_freq, max_queue_size, workers, use_multiprocessing)\u001b[0m\n\u001b[1;32m   1734\u001b[0m \u001b[38;5;28;01mwith\u001b[39;00m tf\u001b[38;5;241m.\u001b[39mprofiler\u001b[38;5;241m.\u001b[39mexperimental\u001b[38;5;241m.\u001b[39mTrace(\n\u001b[1;32m   1735\u001b[0m     \u001b[38;5;124m\"\u001b[39m\u001b[38;5;124mtrain\u001b[39m\u001b[38;5;124m\"\u001b[39m,\n\u001b[1;32m   1736\u001b[0m     epoch_num\u001b[38;5;241m=\u001b[39mepoch,\n\u001b[0;32m   (...)\u001b[0m\n\u001b[1;32m   1739\u001b[0m     _r\u001b[38;5;241m=\u001b[39m\u001b[38;5;241m1\u001b[39m,\n\u001b[1;32m   1740\u001b[0m ):\n\u001b[1;32m   1741\u001b[0m     callbacks\u001b[38;5;241m.\u001b[39mon_train_batch_begin(step)\n\u001b[0;32m-> 1742\u001b[0m     tmp_logs \u001b[38;5;241m=\u001b[39m \u001b[38;5;28mself\u001b[39m\u001b[38;5;241m.\u001b[39mtrain_function(iterator)\n\u001b[1;32m   1743\u001b[0m     \u001b[38;5;28;01mif\u001b[39;00m data_handler\u001b[38;5;241m.\u001b[39mshould_sync:\n\u001b[1;32m   1744\u001b[0m         context\u001b[38;5;241m.\u001b[39masync_wait()\n",
      "File \u001b[0;32m~/anaconda3/envs/Number41/lib/python3.11/site-packages/tensorflow/python/util/traceback_utils.py:150\u001b[0m, in \u001b[0;36mfilter_traceback.<locals>.error_handler\u001b[0;34m(*args, **kwargs)\u001b[0m\n\u001b[1;32m    148\u001b[0m filtered_tb \u001b[38;5;241m=\u001b[39m \u001b[38;5;28;01mNone\u001b[39;00m\n\u001b[1;32m    149\u001b[0m \u001b[38;5;28;01mtry\u001b[39;00m:\n\u001b[0;32m--> 150\u001b[0m   \u001b[38;5;28;01mreturn\u001b[39;00m fn(\u001b[38;5;241m*\u001b[39margs, \u001b[38;5;241m*\u001b[39m\u001b[38;5;241m*\u001b[39mkwargs)\n\u001b[1;32m    151\u001b[0m \u001b[38;5;28;01mexcept\u001b[39;00m \u001b[38;5;167;01mException\u001b[39;00m \u001b[38;5;28;01mas\u001b[39;00m e:\n\u001b[1;32m    152\u001b[0m   filtered_tb \u001b[38;5;241m=\u001b[39m _process_traceback_frames(e\u001b[38;5;241m.\u001b[39m__traceback__)\n",
      "File \u001b[0;32m~/anaconda3/envs/Number41/lib/python3.11/site-packages/tensorflow/python/eager/polymorphic_function/polymorphic_function.py:825\u001b[0m, in \u001b[0;36mFunction.__call__\u001b[0;34m(self, *args, **kwds)\u001b[0m\n\u001b[1;32m    822\u001b[0m compiler \u001b[38;5;241m=\u001b[39m \u001b[38;5;124m\"\u001b[39m\u001b[38;5;124mxla\u001b[39m\u001b[38;5;124m\"\u001b[39m \u001b[38;5;28;01mif\u001b[39;00m \u001b[38;5;28mself\u001b[39m\u001b[38;5;241m.\u001b[39m_jit_compile \u001b[38;5;28;01melse\u001b[39;00m \u001b[38;5;124m\"\u001b[39m\u001b[38;5;124mnonXla\u001b[39m\u001b[38;5;124m\"\u001b[39m\n\u001b[1;32m    824\u001b[0m \u001b[38;5;28;01mwith\u001b[39;00m OptionalXlaContext(\u001b[38;5;28mself\u001b[39m\u001b[38;5;241m.\u001b[39m_jit_compile):\n\u001b[0;32m--> 825\u001b[0m   result \u001b[38;5;241m=\u001b[39m \u001b[38;5;28mself\u001b[39m\u001b[38;5;241m.\u001b[39m_call(\u001b[38;5;241m*\u001b[39margs, \u001b[38;5;241m*\u001b[39m\u001b[38;5;241m*\u001b[39mkwds)\n\u001b[1;32m    827\u001b[0m new_tracing_count \u001b[38;5;241m=\u001b[39m \u001b[38;5;28mself\u001b[39m\u001b[38;5;241m.\u001b[39mexperimental_get_tracing_count()\n\u001b[1;32m    828\u001b[0m without_tracing \u001b[38;5;241m=\u001b[39m (tracing_count \u001b[38;5;241m==\u001b[39m new_tracing_count)\n",
      "File \u001b[0;32m~/anaconda3/envs/Number41/lib/python3.11/site-packages/tensorflow/python/eager/polymorphic_function/polymorphic_function.py:857\u001b[0m, in \u001b[0;36mFunction._call\u001b[0;34m(self, *args, **kwds)\u001b[0m\n\u001b[1;32m    854\u001b[0m   \u001b[38;5;28mself\u001b[39m\u001b[38;5;241m.\u001b[39m_lock\u001b[38;5;241m.\u001b[39mrelease()\n\u001b[1;32m    855\u001b[0m   \u001b[38;5;66;03m# In this case we have created variables on the first call, so we run the\u001b[39;00m\n\u001b[1;32m    856\u001b[0m   \u001b[38;5;66;03m# defunned version which is guaranteed to never create variables.\u001b[39;00m\n\u001b[0;32m--> 857\u001b[0m   \u001b[38;5;28;01mreturn\u001b[39;00m \u001b[38;5;28mself\u001b[39m\u001b[38;5;241m.\u001b[39m_no_variable_creation_fn(\u001b[38;5;241m*\u001b[39margs, \u001b[38;5;241m*\u001b[39m\u001b[38;5;241m*\u001b[39mkwds)  \u001b[38;5;66;03m# pylint: disable=not-callable\u001b[39;00m\n\u001b[1;32m    858\u001b[0m \u001b[38;5;28;01melif\u001b[39;00m \u001b[38;5;28mself\u001b[39m\u001b[38;5;241m.\u001b[39m_variable_creation_fn \u001b[38;5;129;01mis\u001b[39;00m \u001b[38;5;129;01mnot\u001b[39;00m \u001b[38;5;28;01mNone\u001b[39;00m:\n\u001b[1;32m    859\u001b[0m   \u001b[38;5;66;03m# Release the lock early so that multiple threads can perform the call\u001b[39;00m\n\u001b[1;32m    860\u001b[0m   \u001b[38;5;66;03m# in parallel.\u001b[39;00m\n\u001b[1;32m    861\u001b[0m   \u001b[38;5;28mself\u001b[39m\u001b[38;5;241m.\u001b[39m_lock\u001b[38;5;241m.\u001b[39mrelease()\n",
      "File \u001b[0;32m~/anaconda3/envs/Number41/lib/python3.11/site-packages/tensorflow/python/eager/polymorphic_function/tracing_compiler.py:148\u001b[0m, in \u001b[0;36mTracingCompiler.__call__\u001b[0;34m(self, *args, **kwargs)\u001b[0m\n\u001b[1;32m    145\u001b[0m \u001b[38;5;28;01mwith\u001b[39;00m \u001b[38;5;28mself\u001b[39m\u001b[38;5;241m.\u001b[39m_lock:\n\u001b[1;32m    146\u001b[0m   (concrete_function,\n\u001b[1;32m    147\u001b[0m    filtered_flat_args) \u001b[38;5;241m=\u001b[39m \u001b[38;5;28mself\u001b[39m\u001b[38;5;241m.\u001b[39m_maybe_define_function(args, kwargs)\n\u001b[0;32m--> 148\u001b[0m \u001b[38;5;28;01mreturn\u001b[39;00m concrete_function\u001b[38;5;241m.\u001b[39m_call_flat(\n\u001b[1;32m    149\u001b[0m     filtered_flat_args, captured_inputs\u001b[38;5;241m=\u001b[39mconcrete_function\u001b[38;5;241m.\u001b[39mcaptured_inputs)\n",
      "File \u001b[0;32m~/anaconda3/envs/Number41/lib/python3.11/site-packages/tensorflow/python/eager/polymorphic_function/monomorphic_function.py:1349\u001b[0m, in \u001b[0;36mConcreteFunction._call_flat\u001b[0;34m(self, args, captured_inputs)\u001b[0m\n\u001b[1;32m   1345\u001b[0m possible_gradient_type \u001b[38;5;241m=\u001b[39m gradients_util\u001b[38;5;241m.\u001b[39mPossibleTapeGradientTypes(args)\n\u001b[1;32m   1346\u001b[0m \u001b[38;5;28;01mif\u001b[39;00m (possible_gradient_type \u001b[38;5;241m==\u001b[39m gradients_util\u001b[38;5;241m.\u001b[39mPOSSIBLE_GRADIENT_TYPES_NONE\n\u001b[1;32m   1347\u001b[0m     \u001b[38;5;129;01mand\u001b[39;00m executing_eagerly):\n\u001b[1;32m   1348\u001b[0m   \u001b[38;5;66;03m# No tape is watching; skip to running the function.\u001b[39;00m\n\u001b[0;32m-> 1349\u001b[0m   \u001b[38;5;28;01mreturn\u001b[39;00m \u001b[38;5;28mself\u001b[39m\u001b[38;5;241m.\u001b[39m_build_call_outputs(\u001b[38;5;28mself\u001b[39m\u001b[38;5;241m.\u001b[39m_inference_function(\u001b[38;5;241m*\u001b[39margs))\n\u001b[1;32m   1350\u001b[0m forward_backward \u001b[38;5;241m=\u001b[39m \u001b[38;5;28mself\u001b[39m\u001b[38;5;241m.\u001b[39m_select_forward_and_backward_functions(\n\u001b[1;32m   1351\u001b[0m     args,\n\u001b[1;32m   1352\u001b[0m     possible_gradient_type,\n\u001b[1;32m   1353\u001b[0m     executing_eagerly)\n\u001b[1;32m   1354\u001b[0m forward_function, args_with_tangents \u001b[38;5;241m=\u001b[39m forward_backward\u001b[38;5;241m.\u001b[39mforward()\n",
      "File \u001b[0;32m~/anaconda3/envs/Number41/lib/python3.11/site-packages/tensorflow/python/eager/polymorphic_function/atomic_function.py:196\u001b[0m, in \u001b[0;36mAtomicFunction.__call__\u001b[0;34m(self, *args)\u001b[0m\n\u001b[1;32m    194\u001b[0m \u001b[38;5;28;01mwith\u001b[39;00m record\u001b[38;5;241m.\u001b[39mstop_recording():\n\u001b[1;32m    195\u001b[0m   \u001b[38;5;28;01mif\u001b[39;00m \u001b[38;5;28mself\u001b[39m\u001b[38;5;241m.\u001b[39m_bound_context\u001b[38;5;241m.\u001b[39mexecuting_eagerly():\n\u001b[0;32m--> 196\u001b[0m     outputs \u001b[38;5;241m=\u001b[39m \u001b[38;5;28mself\u001b[39m\u001b[38;5;241m.\u001b[39m_bound_context\u001b[38;5;241m.\u001b[39mcall_function(\n\u001b[1;32m    197\u001b[0m         \u001b[38;5;28mself\u001b[39m\u001b[38;5;241m.\u001b[39mname,\n\u001b[1;32m    198\u001b[0m         \u001b[38;5;28mlist\u001b[39m(args),\n\u001b[1;32m    199\u001b[0m         \u001b[38;5;28mlen\u001b[39m(\u001b[38;5;28mself\u001b[39m\u001b[38;5;241m.\u001b[39mfunction_type\u001b[38;5;241m.\u001b[39mflat_outputs),\n\u001b[1;32m    200\u001b[0m     )\n\u001b[1;32m    201\u001b[0m   \u001b[38;5;28;01melse\u001b[39;00m:\n\u001b[1;32m    202\u001b[0m     outputs \u001b[38;5;241m=\u001b[39m make_call_op_in_graph(\u001b[38;5;28mself\u001b[39m, \u001b[38;5;28mlist\u001b[39m(args))\n",
      "File \u001b[0;32m~/anaconda3/envs/Number41/lib/python3.11/site-packages/tensorflow/python/eager/context.py:1457\u001b[0m, in \u001b[0;36mContext.call_function\u001b[0;34m(self, name, tensor_inputs, num_outputs)\u001b[0m\n\u001b[1;32m   1455\u001b[0m cancellation_context \u001b[38;5;241m=\u001b[39m cancellation\u001b[38;5;241m.\u001b[39mcontext()\n\u001b[1;32m   1456\u001b[0m \u001b[38;5;28;01mif\u001b[39;00m cancellation_context \u001b[38;5;129;01mis\u001b[39;00m \u001b[38;5;28;01mNone\u001b[39;00m:\n\u001b[0;32m-> 1457\u001b[0m   outputs \u001b[38;5;241m=\u001b[39m execute\u001b[38;5;241m.\u001b[39mexecute(\n\u001b[1;32m   1458\u001b[0m       name\u001b[38;5;241m.\u001b[39mdecode(\u001b[38;5;124m\"\u001b[39m\u001b[38;5;124mutf-8\u001b[39m\u001b[38;5;124m\"\u001b[39m),\n\u001b[1;32m   1459\u001b[0m       num_outputs\u001b[38;5;241m=\u001b[39mnum_outputs,\n\u001b[1;32m   1460\u001b[0m       inputs\u001b[38;5;241m=\u001b[39mtensor_inputs,\n\u001b[1;32m   1461\u001b[0m       attrs\u001b[38;5;241m=\u001b[39mattrs,\n\u001b[1;32m   1462\u001b[0m       ctx\u001b[38;5;241m=\u001b[39m\u001b[38;5;28mself\u001b[39m,\n\u001b[1;32m   1463\u001b[0m   )\n\u001b[1;32m   1464\u001b[0m \u001b[38;5;28;01melse\u001b[39;00m:\n\u001b[1;32m   1465\u001b[0m   outputs \u001b[38;5;241m=\u001b[39m execute\u001b[38;5;241m.\u001b[39mexecute_with_cancellation(\n\u001b[1;32m   1466\u001b[0m       name\u001b[38;5;241m.\u001b[39mdecode(\u001b[38;5;124m\"\u001b[39m\u001b[38;5;124mutf-8\u001b[39m\u001b[38;5;124m\"\u001b[39m),\n\u001b[1;32m   1467\u001b[0m       num_outputs\u001b[38;5;241m=\u001b[39mnum_outputs,\n\u001b[0;32m   (...)\u001b[0m\n\u001b[1;32m   1471\u001b[0m       cancellation_manager\u001b[38;5;241m=\u001b[39mcancellation_context,\n\u001b[1;32m   1472\u001b[0m   )\n",
      "File \u001b[0;32m~/anaconda3/envs/Number41/lib/python3.11/site-packages/tensorflow/python/eager/execute.py:53\u001b[0m, in \u001b[0;36mquick_execute\u001b[0;34m(op_name, num_outputs, inputs, attrs, ctx, name)\u001b[0m\n\u001b[1;32m     51\u001b[0m \u001b[38;5;28;01mtry\u001b[39;00m:\n\u001b[1;32m     52\u001b[0m   ctx\u001b[38;5;241m.\u001b[39mensure_initialized()\n\u001b[0;32m---> 53\u001b[0m   tensors \u001b[38;5;241m=\u001b[39m pywrap_tfe\u001b[38;5;241m.\u001b[39mTFE_Py_Execute(ctx\u001b[38;5;241m.\u001b[39m_handle, device_name, op_name,\n\u001b[1;32m     54\u001b[0m                                       inputs, attrs, num_outputs)\n\u001b[1;32m     55\u001b[0m \u001b[38;5;28;01mexcept\u001b[39;00m core\u001b[38;5;241m.\u001b[39m_NotOkStatusException \u001b[38;5;28;01mas\u001b[39;00m e:\n\u001b[1;32m     56\u001b[0m   \u001b[38;5;28;01mif\u001b[39;00m name \u001b[38;5;129;01mis\u001b[39;00m \u001b[38;5;129;01mnot\u001b[39;00m \u001b[38;5;28;01mNone\u001b[39;00m:\n",
      "\u001b[0;31mKeyboardInterrupt\u001b[0m: "
     ]
    }
   ],
   "source": [
    "history_cnn_7_2 = model7_2.fit(train_generator_7_2, validation_data = validation_generator_7_2, \n",
    "                           epochs = 45, callbacks=[custom_early_stopping])"
   ]
  },
  {
   "cell_type": "code",
   "execution_count": null,
   "id": "6fc8eb79",
   "metadata": {},
   "outputs": [],
   "source": []
  },
  {
   "cell_type": "code",
   "execution_count": 19,
   "id": "169b82ae",
   "metadata": {},
   "outputs": [],
   "source": [
    "model7_2 = Sequential()\n",
    "\n",
    "# define 3x3 filter window sizes. Create 32 filters.\n",
    "model7_2.add(Conv2D(filters=32, kernel_size=(3, 3), activation='relu', input_shape=(160, 120, 3), kernel_regularizer = l2(5e-4) ))\n",
    "model7_2.add(MaxPooling2D(pool_size=(2, 2)))\n",
    "\n",
    "# define 3x3 filter window sizes. Create 64 filters.\n",
    "model7_2.add(Conv2D(64, (3, 3), activation='relu', kernel_regularizer = l2(5e-4)))\n",
    "model7_2.add(MaxPooling2D((2, 2)))\n",
    "\n",
    "model7_2.add(Conv2D(64, (3, 3), activation='relu', kernel_regularizer = l2(5e-4)))\n",
    "model7_2.add(Dropout(0.1))\n",
    "\n",
    "# transition to dense fully-connected part of network\n",
    "model7_2.add(Flatten())\n",
    "model7_2.add(Dense(128, activation='relu'))\n",
    "model7_2.add(Dropout(0.1))\n",
    "\n",
    "model7_2.add(BatchNormalization())\n",
    "model7_2.add(Dense(64, activation='relu'))\n",
    "model7_2.add(Dropout(0.6))\n",
    "\n",
    "model7_2.add(Dense(10, activation='softmax'))\n",
    "\n",
    "model7_2.compile(optimizer='adam', loss='categorical_crossentropy',  metrics=['accuracy'])"
   ]
  },
  {
   "cell_type": "code",
   "execution_count": 20,
   "id": "d0707e3d",
   "metadata": {},
   "outputs": [
    {
     "name": "stdout",
     "output_type": "stream",
     "text": [
      "Epoch 1/45\n",
      " 71/395 [====>.........................] - ETA: 55s - loss: 2.2965 - accuracy: 0.2266"
     ]
    },
    {
     "ename": "KeyboardInterrupt",
     "evalue": "",
     "output_type": "error",
     "traceback": [
      "\u001b[0;31m---------------------------------------------------------------------------\u001b[0m",
      "\u001b[0;31mKeyboardInterrupt\u001b[0m                         Traceback (most recent call last)",
      "Cell \u001b[0;32mIn[20], line 1\u001b[0m\n\u001b[0;32m----> 1\u001b[0m history_cnn_7_2 \u001b[38;5;241m=\u001b[39m model7_2\u001b[38;5;241m.\u001b[39mfit(train_generator_7_2, validation_data \u001b[38;5;241m=\u001b[39m validation_generator_7_2, \n\u001b[1;32m      2\u001b[0m                            epochs \u001b[38;5;241m=\u001b[39m \u001b[38;5;241m45\u001b[39m, callbacks\u001b[38;5;241m=\u001b[39m[custom_early_stopping])\n",
      "File \u001b[0;32m~/anaconda3/envs/Number41/lib/python3.11/site-packages/keras/src/utils/traceback_utils.py:65\u001b[0m, in \u001b[0;36mfilter_traceback.<locals>.error_handler\u001b[0;34m(*args, **kwargs)\u001b[0m\n\u001b[1;32m     63\u001b[0m filtered_tb \u001b[38;5;241m=\u001b[39m \u001b[38;5;28;01mNone\u001b[39;00m\n\u001b[1;32m     64\u001b[0m \u001b[38;5;28;01mtry\u001b[39;00m:\n\u001b[0;32m---> 65\u001b[0m     \u001b[38;5;28;01mreturn\u001b[39;00m fn(\u001b[38;5;241m*\u001b[39margs, \u001b[38;5;241m*\u001b[39m\u001b[38;5;241m*\u001b[39mkwargs)\n\u001b[1;32m     66\u001b[0m \u001b[38;5;28;01mexcept\u001b[39;00m \u001b[38;5;167;01mException\u001b[39;00m \u001b[38;5;28;01mas\u001b[39;00m e:\n\u001b[1;32m     67\u001b[0m     filtered_tb \u001b[38;5;241m=\u001b[39m _process_traceback_frames(e\u001b[38;5;241m.\u001b[39m__traceback__)\n",
      "File \u001b[0;32m~/anaconda3/envs/Number41/lib/python3.11/site-packages/keras/src/engine/training.py:1742\u001b[0m, in \u001b[0;36mModel.fit\u001b[0;34m(self, x, y, batch_size, epochs, verbose, callbacks, validation_split, validation_data, shuffle, class_weight, sample_weight, initial_epoch, steps_per_epoch, validation_steps, validation_batch_size, validation_freq, max_queue_size, workers, use_multiprocessing)\u001b[0m\n\u001b[1;32m   1734\u001b[0m \u001b[38;5;28;01mwith\u001b[39;00m tf\u001b[38;5;241m.\u001b[39mprofiler\u001b[38;5;241m.\u001b[39mexperimental\u001b[38;5;241m.\u001b[39mTrace(\n\u001b[1;32m   1735\u001b[0m     \u001b[38;5;124m\"\u001b[39m\u001b[38;5;124mtrain\u001b[39m\u001b[38;5;124m\"\u001b[39m,\n\u001b[1;32m   1736\u001b[0m     epoch_num\u001b[38;5;241m=\u001b[39mepoch,\n\u001b[0;32m   (...)\u001b[0m\n\u001b[1;32m   1739\u001b[0m     _r\u001b[38;5;241m=\u001b[39m\u001b[38;5;241m1\u001b[39m,\n\u001b[1;32m   1740\u001b[0m ):\n\u001b[1;32m   1741\u001b[0m     callbacks\u001b[38;5;241m.\u001b[39mon_train_batch_begin(step)\n\u001b[0;32m-> 1742\u001b[0m     tmp_logs \u001b[38;5;241m=\u001b[39m \u001b[38;5;28mself\u001b[39m\u001b[38;5;241m.\u001b[39mtrain_function(iterator)\n\u001b[1;32m   1743\u001b[0m     \u001b[38;5;28;01mif\u001b[39;00m data_handler\u001b[38;5;241m.\u001b[39mshould_sync:\n\u001b[1;32m   1744\u001b[0m         context\u001b[38;5;241m.\u001b[39masync_wait()\n",
      "File \u001b[0;32m~/anaconda3/envs/Number41/lib/python3.11/site-packages/tensorflow/python/util/traceback_utils.py:150\u001b[0m, in \u001b[0;36mfilter_traceback.<locals>.error_handler\u001b[0;34m(*args, **kwargs)\u001b[0m\n\u001b[1;32m    148\u001b[0m filtered_tb \u001b[38;5;241m=\u001b[39m \u001b[38;5;28;01mNone\u001b[39;00m\n\u001b[1;32m    149\u001b[0m \u001b[38;5;28;01mtry\u001b[39;00m:\n\u001b[0;32m--> 150\u001b[0m   \u001b[38;5;28;01mreturn\u001b[39;00m fn(\u001b[38;5;241m*\u001b[39margs, \u001b[38;5;241m*\u001b[39m\u001b[38;5;241m*\u001b[39mkwargs)\n\u001b[1;32m    151\u001b[0m \u001b[38;5;28;01mexcept\u001b[39;00m \u001b[38;5;167;01mException\u001b[39;00m \u001b[38;5;28;01mas\u001b[39;00m e:\n\u001b[1;32m    152\u001b[0m   filtered_tb \u001b[38;5;241m=\u001b[39m _process_traceback_frames(e\u001b[38;5;241m.\u001b[39m__traceback__)\n",
      "File \u001b[0;32m~/anaconda3/envs/Number41/lib/python3.11/site-packages/tensorflow/python/eager/polymorphic_function/polymorphic_function.py:825\u001b[0m, in \u001b[0;36mFunction.__call__\u001b[0;34m(self, *args, **kwds)\u001b[0m\n\u001b[1;32m    822\u001b[0m compiler \u001b[38;5;241m=\u001b[39m \u001b[38;5;124m\"\u001b[39m\u001b[38;5;124mxla\u001b[39m\u001b[38;5;124m\"\u001b[39m \u001b[38;5;28;01mif\u001b[39;00m \u001b[38;5;28mself\u001b[39m\u001b[38;5;241m.\u001b[39m_jit_compile \u001b[38;5;28;01melse\u001b[39;00m \u001b[38;5;124m\"\u001b[39m\u001b[38;5;124mnonXla\u001b[39m\u001b[38;5;124m\"\u001b[39m\n\u001b[1;32m    824\u001b[0m \u001b[38;5;28;01mwith\u001b[39;00m OptionalXlaContext(\u001b[38;5;28mself\u001b[39m\u001b[38;5;241m.\u001b[39m_jit_compile):\n\u001b[0;32m--> 825\u001b[0m   result \u001b[38;5;241m=\u001b[39m \u001b[38;5;28mself\u001b[39m\u001b[38;5;241m.\u001b[39m_call(\u001b[38;5;241m*\u001b[39margs, \u001b[38;5;241m*\u001b[39m\u001b[38;5;241m*\u001b[39mkwds)\n\u001b[1;32m    827\u001b[0m new_tracing_count \u001b[38;5;241m=\u001b[39m \u001b[38;5;28mself\u001b[39m\u001b[38;5;241m.\u001b[39mexperimental_get_tracing_count()\n\u001b[1;32m    828\u001b[0m without_tracing \u001b[38;5;241m=\u001b[39m (tracing_count \u001b[38;5;241m==\u001b[39m new_tracing_count)\n",
      "File \u001b[0;32m~/anaconda3/envs/Number41/lib/python3.11/site-packages/tensorflow/python/eager/polymorphic_function/polymorphic_function.py:857\u001b[0m, in \u001b[0;36mFunction._call\u001b[0;34m(self, *args, **kwds)\u001b[0m\n\u001b[1;32m    854\u001b[0m   \u001b[38;5;28mself\u001b[39m\u001b[38;5;241m.\u001b[39m_lock\u001b[38;5;241m.\u001b[39mrelease()\n\u001b[1;32m    855\u001b[0m   \u001b[38;5;66;03m# In this case we have created variables on the first call, so we run the\u001b[39;00m\n\u001b[1;32m    856\u001b[0m   \u001b[38;5;66;03m# defunned version which is guaranteed to never create variables.\u001b[39;00m\n\u001b[0;32m--> 857\u001b[0m   \u001b[38;5;28;01mreturn\u001b[39;00m \u001b[38;5;28mself\u001b[39m\u001b[38;5;241m.\u001b[39m_no_variable_creation_fn(\u001b[38;5;241m*\u001b[39margs, \u001b[38;5;241m*\u001b[39m\u001b[38;5;241m*\u001b[39mkwds)  \u001b[38;5;66;03m# pylint: disable=not-callable\u001b[39;00m\n\u001b[1;32m    858\u001b[0m \u001b[38;5;28;01melif\u001b[39;00m \u001b[38;5;28mself\u001b[39m\u001b[38;5;241m.\u001b[39m_variable_creation_fn \u001b[38;5;129;01mis\u001b[39;00m \u001b[38;5;129;01mnot\u001b[39;00m \u001b[38;5;28;01mNone\u001b[39;00m:\n\u001b[1;32m    859\u001b[0m   \u001b[38;5;66;03m# Release the lock early so that multiple threads can perform the call\u001b[39;00m\n\u001b[1;32m    860\u001b[0m   \u001b[38;5;66;03m# in parallel.\u001b[39;00m\n\u001b[1;32m    861\u001b[0m   \u001b[38;5;28mself\u001b[39m\u001b[38;5;241m.\u001b[39m_lock\u001b[38;5;241m.\u001b[39mrelease()\n",
      "File \u001b[0;32m~/anaconda3/envs/Number41/lib/python3.11/site-packages/tensorflow/python/eager/polymorphic_function/tracing_compiler.py:148\u001b[0m, in \u001b[0;36mTracingCompiler.__call__\u001b[0;34m(self, *args, **kwargs)\u001b[0m\n\u001b[1;32m    145\u001b[0m \u001b[38;5;28;01mwith\u001b[39;00m \u001b[38;5;28mself\u001b[39m\u001b[38;5;241m.\u001b[39m_lock:\n\u001b[1;32m    146\u001b[0m   (concrete_function,\n\u001b[1;32m    147\u001b[0m    filtered_flat_args) \u001b[38;5;241m=\u001b[39m \u001b[38;5;28mself\u001b[39m\u001b[38;5;241m.\u001b[39m_maybe_define_function(args, kwargs)\n\u001b[0;32m--> 148\u001b[0m \u001b[38;5;28;01mreturn\u001b[39;00m concrete_function\u001b[38;5;241m.\u001b[39m_call_flat(\n\u001b[1;32m    149\u001b[0m     filtered_flat_args, captured_inputs\u001b[38;5;241m=\u001b[39mconcrete_function\u001b[38;5;241m.\u001b[39mcaptured_inputs)\n",
      "File \u001b[0;32m~/anaconda3/envs/Number41/lib/python3.11/site-packages/tensorflow/python/eager/polymorphic_function/monomorphic_function.py:1349\u001b[0m, in \u001b[0;36mConcreteFunction._call_flat\u001b[0;34m(self, args, captured_inputs)\u001b[0m\n\u001b[1;32m   1345\u001b[0m possible_gradient_type \u001b[38;5;241m=\u001b[39m gradients_util\u001b[38;5;241m.\u001b[39mPossibleTapeGradientTypes(args)\n\u001b[1;32m   1346\u001b[0m \u001b[38;5;28;01mif\u001b[39;00m (possible_gradient_type \u001b[38;5;241m==\u001b[39m gradients_util\u001b[38;5;241m.\u001b[39mPOSSIBLE_GRADIENT_TYPES_NONE\n\u001b[1;32m   1347\u001b[0m     \u001b[38;5;129;01mand\u001b[39;00m executing_eagerly):\n\u001b[1;32m   1348\u001b[0m   \u001b[38;5;66;03m# No tape is watching; skip to running the function.\u001b[39;00m\n\u001b[0;32m-> 1349\u001b[0m   \u001b[38;5;28;01mreturn\u001b[39;00m \u001b[38;5;28mself\u001b[39m\u001b[38;5;241m.\u001b[39m_build_call_outputs(\u001b[38;5;28mself\u001b[39m\u001b[38;5;241m.\u001b[39m_inference_function(\u001b[38;5;241m*\u001b[39margs))\n\u001b[1;32m   1350\u001b[0m forward_backward \u001b[38;5;241m=\u001b[39m \u001b[38;5;28mself\u001b[39m\u001b[38;5;241m.\u001b[39m_select_forward_and_backward_functions(\n\u001b[1;32m   1351\u001b[0m     args,\n\u001b[1;32m   1352\u001b[0m     possible_gradient_type,\n\u001b[1;32m   1353\u001b[0m     executing_eagerly)\n\u001b[1;32m   1354\u001b[0m forward_function, args_with_tangents \u001b[38;5;241m=\u001b[39m forward_backward\u001b[38;5;241m.\u001b[39mforward()\n",
      "File \u001b[0;32m~/anaconda3/envs/Number41/lib/python3.11/site-packages/tensorflow/python/eager/polymorphic_function/atomic_function.py:196\u001b[0m, in \u001b[0;36mAtomicFunction.__call__\u001b[0;34m(self, *args)\u001b[0m\n\u001b[1;32m    194\u001b[0m \u001b[38;5;28;01mwith\u001b[39;00m record\u001b[38;5;241m.\u001b[39mstop_recording():\n\u001b[1;32m    195\u001b[0m   \u001b[38;5;28;01mif\u001b[39;00m \u001b[38;5;28mself\u001b[39m\u001b[38;5;241m.\u001b[39m_bound_context\u001b[38;5;241m.\u001b[39mexecuting_eagerly():\n\u001b[0;32m--> 196\u001b[0m     outputs \u001b[38;5;241m=\u001b[39m \u001b[38;5;28mself\u001b[39m\u001b[38;5;241m.\u001b[39m_bound_context\u001b[38;5;241m.\u001b[39mcall_function(\n\u001b[1;32m    197\u001b[0m         \u001b[38;5;28mself\u001b[39m\u001b[38;5;241m.\u001b[39mname,\n\u001b[1;32m    198\u001b[0m         \u001b[38;5;28mlist\u001b[39m(args),\n\u001b[1;32m    199\u001b[0m         \u001b[38;5;28mlen\u001b[39m(\u001b[38;5;28mself\u001b[39m\u001b[38;5;241m.\u001b[39mfunction_type\u001b[38;5;241m.\u001b[39mflat_outputs),\n\u001b[1;32m    200\u001b[0m     )\n\u001b[1;32m    201\u001b[0m   \u001b[38;5;28;01melse\u001b[39;00m:\n\u001b[1;32m    202\u001b[0m     outputs \u001b[38;5;241m=\u001b[39m make_call_op_in_graph(\u001b[38;5;28mself\u001b[39m, \u001b[38;5;28mlist\u001b[39m(args))\n",
      "File \u001b[0;32m~/anaconda3/envs/Number41/lib/python3.11/site-packages/tensorflow/python/eager/context.py:1457\u001b[0m, in \u001b[0;36mContext.call_function\u001b[0;34m(self, name, tensor_inputs, num_outputs)\u001b[0m\n\u001b[1;32m   1455\u001b[0m cancellation_context \u001b[38;5;241m=\u001b[39m cancellation\u001b[38;5;241m.\u001b[39mcontext()\n\u001b[1;32m   1456\u001b[0m \u001b[38;5;28;01mif\u001b[39;00m cancellation_context \u001b[38;5;129;01mis\u001b[39;00m \u001b[38;5;28;01mNone\u001b[39;00m:\n\u001b[0;32m-> 1457\u001b[0m   outputs \u001b[38;5;241m=\u001b[39m execute\u001b[38;5;241m.\u001b[39mexecute(\n\u001b[1;32m   1458\u001b[0m       name\u001b[38;5;241m.\u001b[39mdecode(\u001b[38;5;124m\"\u001b[39m\u001b[38;5;124mutf-8\u001b[39m\u001b[38;5;124m\"\u001b[39m),\n\u001b[1;32m   1459\u001b[0m       num_outputs\u001b[38;5;241m=\u001b[39mnum_outputs,\n\u001b[1;32m   1460\u001b[0m       inputs\u001b[38;5;241m=\u001b[39mtensor_inputs,\n\u001b[1;32m   1461\u001b[0m       attrs\u001b[38;5;241m=\u001b[39mattrs,\n\u001b[1;32m   1462\u001b[0m       ctx\u001b[38;5;241m=\u001b[39m\u001b[38;5;28mself\u001b[39m,\n\u001b[1;32m   1463\u001b[0m   )\n\u001b[1;32m   1464\u001b[0m \u001b[38;5;28;01melse\u001b[39;00m:\n\u001b[1;32m   1465\u001b[0m   outputs \u001b[38;5;241m=\u001b[39m execute\u001b[38;5;241m.\u001b[39mexecute_with_cancellation(\n\u001b[1;32m   1466\u001b[0m       name\u001b[38;5;241m.\u001b[39mdecode(\u001b[38;5;124m\"\u001b[39m\u001b[38;5;124mutf-8\u001b[39m\u001b[38;5;124m\"\u001b[39m),\n\u001b[1;32m   1467\u001b[0m       num_outputs\u001b[38;5;241m=\u001b[39mnum_outputs,\n\u001b[0;32m   (...)\u001b[0m\n\u001b[1;32m   1471\u001b[0m       cancellation_manager\u001b[38;5;241m=\u001b[39mcancellation_context,\n\u001b[1;32m   1472\u001b[0m   )\n",
      "File \u001b[0;32m~/anaconda3/envs/Number41/lib/python3.11/site-packages/tensorflow/python/eager/execute.py:53\u001b[0m, in \u001b[0;36mquick_execute\u001b[0;34m(op_name, num_outputs, inputs, attrs, ctx, name)\u001b[0m\n\u001b[1;32m     51\u001b[0m \u001b[38;5;28;01mtry\u001b[39;00m:\n\u001b[1;32m     52\u001b[0m   ctx\u001b[38;5;241m.\u001b[39mensure_initialized()\n\u001b[0;32m---> 53\u001b[0m   tensors \u001b[38;5;241m=\u001b[39m pywrap_tfe\u001b[38;5;241m.\u001b[39mTFE_Py_Execute(ctx\u001b[38;5;241m.\u001b[39m_handle, device_name, op_name,\n\u001b[1;32m     54\u001b[0m                                       inputs, attrs, num_outputs)\n\u001b[1;32m     55\u001b[0m \u001b[38;5;28;01mexcept\u001b[39;00m core\u001b[38;5;241m.\u001b[39m_NotOkStatusException \u001b[38;5;28;01mas\u001b[39;00m e:\n\u001b[1;32m     56\u001b[0m   \u001b[38;5;28;01mif\u001b[39;00m name \u001b[38;5;129;01mis\u001b[39;00m \u001b[38;5;129;01mnot\u001b[39;00m \u001b[38;5;28;01mNone\u001b[39;00m:\n",
      "\u001b[0;31mKeyboardInterrupt\u001b[0m: "
     ]
    }
   ],
   "source": [
    "history_cnn_7_2 = model7_2.fit(train_generator_7_2, validation_data = validation_generator_7_2, \n",
    "                           epochs = 45, callbacks=[custom_early_stopping])"
   ]
  },
  {
   "cell_type": "code",
   "execution_count": null,
   "id": "b0dea7ea",
   "metadata": {},
   "outputs": [],
   "source": []
  },
  {
   "cell_type": "code",
   "execution_count": null,
   "id": "c3487f06",
   "metadata": {},
   "outputs": [],
   "source": [
    "\n",
    "Epoch 1/45\n",
    "395/395 [==============================] - 77s 194ms/step - loss: 2.4973 - accuracy: 0.1621 - val_loss: 2.3259 - val_accuracy: 0.1299\n",
    "Epoch 2/45\n",
    "395/395 [==============================] - 76s 192ms/step - loss: 2.1895 - accuracy: 0.2005 - val_loss: 2.1288 - val_accuracy: 0.2004\n",
    "Epoch 3/45\n",
    "204/395 [==============>...............] - ETA: 32s - loss: 2.1489 - accuracy: 0.2102"
   ]
  },
  {
   "cell_type": "code",
   "execution_count": null,
   "id": "b08e3e93",
   "metadata": {},
   "outputs": [],
   "source": []
  },
  {
   "cell_type": "code",
   "execution_count": null,
   "id": "51713eb5",
   "metadata": {},
   "outputs": [],
   "source": []
  },
  {
   "cell_type": "code",
   "execution_count": null,
   "id": "a988b5fd",
   "metadata": {},
   "outputs": [],
   "source": []
  },
  {
   "cell_type": "code",
   "execution_count": null,
   "id": "bf077395",
   "metadata": {},
   "outputs": [],
   "source": []
  },
  {
   "cell_type": "code",
   "execution_count": null,
   "id": "b25cd937",
   "metadata": {},
   "outputs": [],
   "source": []
  },
  {
   "cell_type": "code",
   "execution_count": null,
   "id": "945fc203",
   "metadata": {},
   "outputs": [],
   "source": []
  },
  {
   "cell_type": "code",
   "execution_count": null,
   "id": "47144787",
   "metadata": {},
   "outputs": [],
   "source": []
  },
  {
   "cell_type": "code",
   "execution_count": null,
   "id": "b1449516",
   "metadata": {},
   "outputs": [],
   "source": []
  },
  {
   "cell_type": "code",
   "execution_count": null,
   "id": "9fe5f26e",
   "metadata": {},
   "outputs": [],
   "source": [
    "train_data_gen_1 = ImageDataGenerator(rescale = 1./255, validation_split = .3)\n",
    "\n",
    "train_generator_1 = train_data_gen_1.flow_from_directory(\n",
    "\n",
    "                                                    train_dir, \n",
    "                                                    target_size = (200, 150),\n",
    "                                                    batch_size = 32,\n",
    "                                                    class_mode = 'categorical',\n",
    "                                                    color_mode = 'rgb',\n",
    "                                                    seed = 42,\n",
    "                                                    subset = 'training',)\n",
    "\n",
    "val_data_gen_1 = ImageDataGenerator(rescale=1./255)\n",
    "\n",
    "validation_generator_1 = train_data_gen_1.flow_from_directory(\n",
    "    \n",
    "                                                    train_dir, \n",
    "                                                    target_size = (200, 150),\n",
    "                                                    batch_size = 32,\n",
    "                                                    class_mode = 'categorical',\n",
    "                                                    color_mode = 'rgb',\n",
    "                                                    seed = 42,\n",
    "                                                    subset = 'validation',)\n",
    "\n",
    "test_data_gen_1 = ImageDataGenerator(rescale=1./255)\n",
    "\n",
    "test_generator_1 = test_data_gen_1.flow_from_directory(\n",
    "\n",
    "                                                    test_dir, \n",
    "                                                    target_size = (200, 150),\n",
    "                                                    batch_size = 32,\n",
    "                                                    class_mode = 'categorical',\n",
    "                                                    color_mode = 'rgb',\n",
    "                                                    seed = 42,\n",
    "                                                    shuffle = False)"
   ]
  },
  {
   "cell_type": "code",
   "execution_count": null,
   "id": "cea3bcd3",
   "metadata": {},
   "outputs": [],
   "source": [
    "model15 = Sequential()\n",
    "\n",
    "# define 3x3 filter window sizes. Create 32 filters.\n",
    "model15.add(Conv2D(filters=32,\n",
    "                        kernel_size=(3, 3),\n",
    "                        activation='relu',\n",
    "                        input_shape=(200, 150, 3)))\n",
    "\n",
    "model15.add(BatchNormalization())\n",
    "model15.add(MaxPooling2D(pool_size=(2, 2)))\n",
    "# define 3x3 filter window sizes. Create 64 filters.\n",
    "\n",
    "model15.add(Conv2D(64, (3, 3), activation='relu'))\n",
    "model15.add(BatchNormalization())\n",
    "model15.add(MaxPooling2D((2, 2)))\n",
    "\n",
    "model15.add(Conv2D(64, (3, 3), activation='relu'))\n",
    "model15.add(BatchNormalization())\n",
    "model15.add(MaxPooling2D((2, 2)))\n",
    "\n",
    "# transition to dense fully-connected part of network\n",
    "model15.add(GlobalAveragePooling2D())\n",
    "\n",
    "model15.add(Dense(10, activation='softmax'))\n",
    "\n",
    "model15.compile(optimizer='adam', loss='categorical_crossentropy',  metrics=['accuracy'])"
   ]
  },
  {
   "cell_type": "code",
   "execution_count": null,
   "id": "622289ea",
   "metadata": {
    "scrolled": true
   },
   "outputs": [],
   "source": [
    "history_cnn_15 = model15.fit(train_generator_1, validation_data = validation_generator_1, epochs = 35, batch_size=32)"
   ]
  },
  {
   "cell_type": "markdown",
   "id": "eacc309b",
   "metadata": {},
   "source": [
    "### Switch Train/Validation to 80/20, add more regularization, change Cov2D to 32"
   ]
  },
  {
   "cell_type": "code",
   "execution_count": 4,
   "id": "af3226bd",
   "metadata": {},
   "outputs": [
    {
     "name": "stdout",
     "output_type": "stream",
     "text": [
      "Found 5939 images belonging to 10 classes.\n",
      "Found 1483 images belonging to 10 classes.\n",
      "Found 1310 images belonging to 10 classes.\n"
     ]
    }
   ],
   "source": [
    "train_data_gen_2 = ImageDataGenerator(rescale = 1./255, validation_split = .2)\n",
    "\n",
    "train_generator_2 = train_data_gen_2.flow_from_directory(\n",
    "\n",
    "                                                    train_dir, \n",
    "                                                    target_size = (200, 150),\n",
    "                                                    batch_size = 32,\n",
    "                                                    class_mode = 'categorical',\n",
    "                                                    color_mode = 'rgb',\n",
    "                                                    seed = 42,\n",
    "                                                    subset = 'training',)\n",
    "\n",
    "val_data_gen_2 = ImageDataGenerator(rescale=1./255)\n",
    "\n",
    "validation_generator_2 = train_data_gen_2.flow_from_directory(\n",
    "    \n",
    "                                                    train_dir, \n",
    "                                                    target_size = (200, 150),\n",
    "                                                    batch_size = 32,\n",
    "                                                    class_mode = 'categorical',\n",
    "                                                    color_mode = 'rgb',\n",
    "                                                    seed = 42,\n",
    "                                                    subset = 'validation',)\n",
    "\n",
    "test_data_gen_2 = ImageDataGenerator(rescale=1./255)\n",
    "\n",
    "test_generator_2 = test_data_gen_2.flow_from_directory(\n",
    "\n",
    "                                                    test_dir, \n",
    "                                                    target_size = (200, 150),\n",
    "                                                    batch_size = 32,\n",
    "                                                    class_mode = 'categorical',\n",
    "                                                    color_mode = 'rgb',\n",
    "                                                    seed = 42,\n",
    "                                                    shuffle = False)"
   ]
  },
  {
   "cell_type": "code",
   "execution_count": null,
   "id": "214f926b",
   "metadata": {},
   "outputs": [],
   "source": [
    "train_data_gen_3 = ImageDataGenerator(rescale = 1./255, validation_split = .20)\n",
    "\n",
    "train_generator_3 = train_data_gen_3.flow_from_directory(\n",
    "\n",
    "                                                    train_dir, \n",
    "                                                    target_size = (200, 150),\n",
    "                                                    batch_size = 32,\n",
    "                                                    class_mode = 'categorical',\n",
    "                                                    color_mode = 'rgb',\n",
    "                                                    seed = 42,\n",
    "                                                    subset = 'training',)\n",
    "\n",
    "val_data_gen_3 = ImageDataGenerator(rescale=1./255)\n",
    "\n",
    "validation_generator_3 = train_data_gen_3.flow_from_directory(\n",
    "    \n",
    "                                                    train_dir, \n",
    "                                                    target_size = (200, 150),\n",
    "                                                    batch_size = 32,\n",
    "                                                    class_mode = 'categorical',\n",
    "                                                    color_mode = 'rgb',\n",
    "                                                    seed = 42,\n",
    "                                                    subset = 'validation',)\n",
    "\n",
    "test_data_gen_3 = ImageDataGenerator(rescale=1./255)\n",
    "\n",
    "test_generator_3 = test_data_gen_3.flow_from_directory(\n",
    "\n",
    "                                                    test_dir, \n",
    "                                                    target_size = (200, 150),\n",
    "                                                    batch_size = 32,\n",
    "                                                    class_mode = 'categorical',\n",
    "                                                    color_mode = 'rgb',\n",
    "                                                    seed = 42,\n",
    "                                                    shuffle = False)"
   ]
  },
  {
   "cell_type": "code",
   "execution_count": null,
   "id": "97082458",
   "metadata": {},
   "outputs": [],
   "source": [
    "model3 = Sequential()\n",
    "\n",
    "# define 3x3 filter window sizes. Create 32 filters.\n",
    "model3.add(Conv2D(filters=32,\n",
    "                        kernel_size=(3, 3),\n",
    "                        activation='relu',\n",
    "                        input_shape=(200, 150, 3), kernel_regularizer = l2(5e-4) ))\n",
    "\n",
    "model3.add(BatchNormalization())\n",
    "model3.add(MaxPooling2D(pool_size=(4, 4)))\n",
    "# define 3x3 filter window sizes. Create 64 filters.\n",
    "\n",
    "model3.add(Conv2D(64, (3, 3), activation='relu', kernel_regularizer = l2(5e-4) ))\n",
    "model3.add(BatchNormalization())\n",
    "model3.add(MaxPooling2D((4, 4)))\n",
    "\n",
    "model3.add(Conv2D(64, (3, 3), activation='relu', kernel_regularizer = l2(5e-4) ))\n",
    "model3.add(BatchNormalization())\n",
    "model3.add(MaxPooling2D((2, 2)))\n",
    "model3.add(Dropout(0.2))\n",
    "\n",
    "# transition to dense fully-connected part of network\n",
    "model3.add(GlobalAveragePooling2D())\n",
    "\n",
    "model3.add(Dense(10, activation='softmax'))\n",
    "\n",
    "model3.compile(optimizer='adam', loss='categorical_crossentropy',  metrics=['accuracy'])"
   ]
  },
  {
   "cell_type": "code",
   "execution_count": null,
   "id": "2e26654f",
   "metadata": {},
   "outputs": [],
   "source": [
    "history_cnn_3 = model3.fit(train_generator_3, validation_data = validation_generator_3, epochs = 35, batch_size=32)"
   ]
  },
  {
   "cell_type": "code",
   "execution_count": null,
   "id": "5eeee7d8",
   "metadata": {},
   "outputs": [],
   "source": []
  },
  {
   "cell_type": "code",
   "execution_count": null,
   "id": "38fa363f",
   "metadata": {},
   "outputs": [],
   "source": []
  },
  {
   "cell_type": "code",
   "execution_count": null,
   "id": "e90792f6",
   "metadata": {},
   "outputs": [],
   "source": []
  },
  {
   "cell_type": "code",
   "execution_count": null,
   "id": "1924ec7f",
   "metadata": {},
   "outputs": [],
   "source": [
    "model4 = Sequential()\n",
    "\n",
    "# define 3x3 filter window sizes. Create 32 filters.\n",
    "model4.add(Conv2D(filters=32,\n",
    "                        kernel_size=(3, 3),\n",
    "                        activation='relu',\n",
    "                        input_shape=(200, 150, 3), kernel_regularizer = l2(5e-2) ))\n",
    "\n",
    "model4.add(BatchNormalization())\n",
    "model4.add(MaxPooling2D(pool_size=(2, 2)))\n",
    "# define 3x3 filter window sizes. Create 64 filters.\n",
    "\n",
    "model4.add(Conv2D(32, (3, 3), activation='relu', kernel_regularizer = l2(5e-2) ))\n",
    "model4.add(BatchNormalization())\n",
    "model4.add(MaxPooling2D((2, 2)))\n",
    "\n",
    "model4.add(Conv2D(64, (3, 3), activation='relu', kernel_regularizer = l2(5e-2) ))\n",
    "model4.add(BatchNormalization())\n",
    "model4.add(MaxPooling2D((2, 2)))\n",
    "model4.add(Dropout(0.25))\n",
    "\n",
    "# transition to dense fully-connected part of network\n",
    "model4.add(GlobalAveragePooling2D())\n",
    "\n",
    "model4.add(Dense(10, activation='softmax'))\n",
    "\n",
    "model4.compile(optimizer='adam', loss='categorical_crossentropy',  metrics=['accuracy'])"
   ]
  },
  {
   "cell_type": "code",
   "execution_count": null,
   "id": "33358645",
   "metadata": {},
   "outputs": [],
   "source": []
  },
  {
   "cell_type": "code",
   "execution_count": null,
   "id": "c3716880",
   "metadata": {},
   "outputs": [],
   "source": []
  },
  {
   "cell_type": "code",
   "execution_count": null,
   "id": "f657f6eb",
   "metadata": {},
   "outputs": [],
   "source": [
    "model5 = Sequential()\n",
    "\n",
    "# define 3x3 filter window sizes. Create 32 filters.\n",
    "model5.add(Conv2D(filters=32, kernel_size=(3, 3), activation='relu', input_shape=(200, 150, 3), kernel_regularizer = l2(5e-3)))\n",
    "# max pool in 2x2 window\n",
    "model5.add(MaxPooling2D(pool_size=(2, 2)))\n",
    "\n",
    "# define 3x3 filter window sizes. Create 64 filters.\n",
    "model5.add(Conv2D(64, (3, 3), activation='relu', kernel_regularizer = l2(5e-3)))\n",
    "model5.add(MaxPooling2D((2, 2)))\n",
    "\n",
    "# transition to dense fully-connected part of network\n",
    "model5.add(Flatten())\n",
    "model5.add(Dense(64, activation='relu'))\n",
    "model5.add(Dropout(0.3))\n",
    "\n",
    "model5.add(BatchNormalization())\n",
    "model5.add(Dense(128, activation='relu'))\n",
    "model5.add(Dropout(0.5))\n",
    "\n",
    "model5.add(Dense(10, activation='softmax'))\n",
    "\n",
    "model5.compile(optimizer='adam', loss='categorical_crossentropy',  metrics=['accuracy'])"
   ]
  },
  {
   "cell_type": "code",
   "execution_count": null,
   "id": "8ad13396",
   "metadata": {},
   "outputs": [],
   "source": [
    "history_cnn_5 = model5.fit(train_generator_3, validation_data = validation_generator_3, epochs = 35, batch_size=32)"
   ]
  },
  {
   "cell_type": "code",
   "execution_count": null,
   "id": "cfffff2a",
   "metadata": {},
   "outputs": [],
   "source": []
  },
  {
   "cell_type": "code",
   "execution_count": null,
   "id": "98a3411e",
   "metadata": {},
   "outputs": [],
   "source": [
    "model6 = Sequential()\n",
    "\n",
    "# define 3x3 filter window sizes. Create 32 filters.\n",
    "model6.add(Conv2D(filters=32, kernel_size=(3, 3), activation='relu', input_shape=(200, 150, 3), kernel_regularizer = l2(5e-4)))\n",
    "# max pool in 2x2 window\n",
    "model6.add(MaxPooling2D(pool_size=(2, 2)))\n",
    "\n",
    "# define 3x3 filter window sizes. Create 64 filters.\n",
    "model6.add(Conv2D(64, (3, 3), activation='relu', kernel_regularizer = l2(5e-4)))\n",
    "model6.add(MaxPooling2D((2, 2)))\n",
    "\n",
    "# transition to dense fully-connected part of network\n",
    "model6.add(Flatten())\n",
    "model6.add(Dense(128, activation='relu'))\n",
    "model6.add(Dropout(0.3))\n",
    "\n",
    "model6.add(BatchNormalization())\n",
    "model6.add(Dense(64, activation='relu'))\n",
    "model6.add(Dropout(0.7))\n",
    "\n",
    "model6.add(Dense(10, activation='softmax'))\n",
    "\n",
    "model6.compile(optimizer='adam', loss='categorical_crossentropy',  metrics=['accuracy'])"
   ]
  },
  {
   "cell_type": "code",
   "execution_count": null,
   "id": "b177afd9",
   "metadata": {},
   "outputs": [],
   "source": [
    "history_cnn_6 = model6.fit(train_generator_3, validation_data = validation_generator_3, epochs = 35, batch_size=32)"
   ]
  },
  {
   "cell_type": "markdown",
   "id": "2e9c4782",
   "metadata": {},
   "source": [
    "## Less Strong Regularization"
   ]
  },
  {
   "cell_type": "code",
   "execution_count": null,
   "id": "4846139a",
   "metadata": {},
   "outputs": [],
   "source": [
    "model8 = Sequential()\n",
    "\n",
    "# define 3x3 filter window sizes. Create 32 filters.\n",
    "model8.add(Conv2D(filters=32, kernel_size=(3, 3), activation='relu', input_shape=(200, 150, 3), kernel_regularizer = l2(5e-4)))\n",
    "model8.add(MaxPooling2D(pool_size=(2, 2)))\n",
    "\n",
    "model8.add(Conv2D(64, (3, 3), activation='relu', kernel_regularizer = l2(5e-4)))\n",
    "model8.add(MaxPooling2D((2, 2)))\n",
    "\n",
    "# transition to dense fully-connected part of network\n",
    "model8.add(Flatten())\n",
    "model8.add(Dense(128, activation='relu'))\n",
    "model8.add(Dropout(0.2))\n",
    "\n",
    "model8.add(BatchNormalization())\n",
    "model8.add(Dense(64, activation='relu'))\n",
    "model8.add(Dropout(0.4))\n",
    "\n",
    "model8.add(Dense(10, activation='softmax'))\n",
    "\n",
    "model8.compile(optimizer='adam', loss='categorical_crossentropy',  metrics=['accuracy'])"
   ]
  },
  {
   "cell_type": "code",
   "execution_count": null,
   "id": "3ca44a02",
   "metadata": {},
   "outputs": [],
   "source": [
    "history_cnn_8 = model8.fit(train_generator_3, validation_data = validation_generator_3, epochs = 35, batch_size=32)"
   ]
  },
  {
   "cell_type": "code",
   "execution_count": null,
   "id": "c67e51bb",
   "metadata": {},
   "outputs": [],
   "source": []
  },
  {
   "cell_type": "code",
   "execution_count": null,
   "id": "05d77061",
   "metadata": {},
   "outputs": [],
   "source": [
    "model9 = Sequential()\n",
    "\n",
    "# define 3x3 filter window sizes. Create 32 filters.\n",
    "model9.add(Conv2D(filters=32, kernel_size=(3, 3), activation='relu', input_shape=(200, 150, 3), kernel_regularizer = l2(8e-4)))\n",
    "model9.add(MaxPooling2D(pool_size=(2, 2)))\n",
    "\n",
    "model9.add(Conv2D(64, (3, 3), activation='relu', kernel_regularizer = l2(8e-4)))\n",
    "model9.add(MaxPooling2D((2, 2)))\n",
    "\n",
    "# transition to dense fully-connected part of network\n",
    "model9.add(Flatten())\n",
    "model9.add(Dense(128, activation='relu'))\n",
    "model9.add(Dropout(0.25))\n",
    "\n",
    "model9.add(BatchNormalization())\n",
    "model9.add(Dense(64, activation='relu'))\n",
    "model9.add(Dropout(0.5))\n",
    "\n",
    "model9.add(Dense(10, activation='softmax'))\n",
    "\n",
    "model9.compile(optimizer='adam', loss='categorical_crossentropy',  metrics=['accuracy'])"
   ]
  },
  {
   "cell_type": "code",
   "execution_count": null,
   "id": "3fa08b22",
   "metadata": {},
   "outputs": [],
   "source": [
    "history_cnn_9 = model9.fit(train_generator_3, validation_data = validation_generator_3, epochs = 35, batch_size=32)"
   ]
  },
  {
   "cell_type": "code",
   "execution_count": null,
   "id": "db2aa354",
   "metadata": {},
   "outputs": [],
   "source": []
  },
  {
   "cell_type": "code",
   "execution_count": null,
   "id": "e4c8435b",
   "metadata": {},
   "outputs": [],
   "source": []
  },
  {
   "cell_type": "code",
   "execution_count": null,
   "id": "84a0d271",
   "metadata": {},
   "outputs": [],
   "source": []
  },
  {
   "cell_type": "code",
   "execution_count": null,
   "id": "440081b9",
   "metadata": {},
   "outputs": [],
   "source": []
  },
  {
   "cell_type": "markdown",
   "id": "8c32243d",
   "metadata": {},
   "source": [
    "repeasting previous success of model 7"
   ]
  },
  {
   "cell_type": "code",
   "execution_count": null,
   "id": "08b7b23f",
   "metadata": {},
   "outputs": [],
   "source": []
  },
  {
   "cell_type": "code",
   "execution_count": null,
   "id": "ce6729e1",
   "metadata": {},
   "outputs": [],
   "source": []
  },
  {
   "cell_type": "code",
   "execution_count": null,
   "id": "d0f3e0c7",
   "metadata": {},
   "outputs": [],
   "source": []
  },
  {
   "cell_type": "code",
   "execution_count": null,
   "id": "b164cc68",
   "metadata": {},
   "outputs": [],
   "source": []
  },
  {
   "cell_type": "code",
   "execution_count": null,
   "id": "07157d6b",
   "metadata": {},
   "outputs": [],
   "source": []
  },
  {
   "cell_type": "code",
   "execution_count": null,
   "id": "4ee4f22f",
   "metadata": {},
   "outputs": [],
   "source": []
  },
  {
   "cell_type": "code",
   "execution_count": null,
   "id": "9000a8aa",
   "metadata": {},
   "outputs": [],
   "source": []
  },
  {
   "cell_type": "code",
   "execution_count": null,
   "id": "3fa3f52c",
   "metadata": {},
   "outputs": [],
   "source": []
  },
  {
   "cell_type": "code",
   "execution_count": null,
   "id": "9706d0e3",
   "metadata": {},
   "outputs": [],
   "source": []
  },
  {
   "cell_type": "code",
   "execution_count": null,
   "id": "cfb37510",
   "metadata": {},
   "outputs": [],
   "source": [
    "mode28 = Sequential()\n",
    "\n",
    "# define 3x3 filter window sizes. Create 32 filters.\n",
    "mode28.add(Conv2D(filters=32,\n",
    "                        kernel_size=(3, 3),\n",
    "                        activation='relu',\n",
    "                        input_shape=(200, 150, 3), kernel_regularizer = l2(5e-4) ))\n",
    "\n",
    "# max pool in 2x2 window\n",
    "mode28.add(MaxPooling2D(pool_size=(2, 2)))\n",
    "\n",
    "# define 3x3 filter window sizes. Create 64 filters.\n",
    "mode28.add(Conv2D(64, (3, 3), activation='relu', kernel_regularizer = l2(5e-4)))\n",
    "mode28.add(MaxPooling2D((2, 2)))\n",
    "\n",
    "mode28.add(Conv2D(64, (3, 3), activation='relu', kernel_regularizer = l2(7e-4)))\n",
    "mode28.add(MaxPooling2D((2, 2)))\n",
    "\n",
    "mode28.add(Conv2D(64, (3, 3), activation='relu', kernel_regularizer = l2(5e-3)))\n",
    "mode28.add(Dropout(0.25))\n",
    "\n",
    "# transition to dense fully-connected part of network\n",
    "mode28.add(Flatten())\n",
    "mode28.add(Dense(128, activation='relu'))\n",
    "mode28.add(Dropout(0.3))\n",
    "\n",
    "mode28.add(BatchNormalization())\n",
    "mode28.add(Dense(64, activation='relu'))\n",
    "mode28.add(Dropout(0.7))\n",
    "\n",
    "mode28.add(Dense(10, activation='softmax'))\n",
    "\n",
    "mode28.compile(optimizer='adam', loss='categorical_crossentropy',  metrics=['accuracy'])"
   ]
  },
  {
   "cell_type": "code",
   "execution_count": null,
   "id": "9702c8a0",
   "metadata": {
    "scrolled": true
   },
   "outputs": [],
   "source": [
    "history_cnn_28 = mode28.fit(train_generator_3, validation_data = validation_generator_3, epochs = 45)"
   ]
  },
  {
   "cell_type": "code",
   "execution_count": 12,
   "id": "75379a6a",
   "metadata": {},
   "outputs": [],
   "source": [
    "custom_early_stopping = EarlyStopping(monitor='val_accuracy', patience=5) \n",
    "callbacks=[custom_early_stopping]"
   ]
  },
  {
   "cell_type": "code",
   "execution_count": null,
   "id": "e4697068",
   "metadata": {},
   "outputs": [],
   "source": []
  },
  {
   "cell_type": "code",
   "execution_count": 11,
   "id": "82aa0c1e",
   "metadata": {},
   "outputs": [
    {
     "name": "stdout",
     "output_type": "stream",
     "text": [
      "Found 6314 images belonging to 10 classes.\n",
      "Found 1108 images belonging to 10 classes.\n",
      "Found 1310 images belonging to 10 classes.\n"
     ]
    }
   ],
   "source": [
    "train_data_gen_4 = ImageDataGenerator(rescale = 1./255, validation_split = .15)\n",
    "\n",
    "train_generator_4 = train_data_gen_4.flow_from_directory(\n",
    "\n",
    "                                                    train_dir, \n",
    "                                                    target_size = (200, 150),\n",
    "                                                    batch_size = 32,\n",
    "                                                    class_mode = 'categorical',\n",
    "                                                    color_mode = 'rgb',\n",
    "                                                    seed = 42,\n",
    "                                                    subset = 'training',)\n",
    "\n",
    "val_data_gen_4 = ImageDataGenerator(rescale=1./255)\n",
    "\n",
    "validation_generator_4 = train_data_gen_4.flow_from_directory(\n",
    "    \n",
    "                                                    train_dir, \n",
    "                                                    target_size = (200, 150),\n",
    "                                                    batch_size = 32,\n",
    "                                                    class_mode = 'categorical',\n",
    "                                                    color_mode = 'rgb',\n",
    "                                                    seed = 42,\n",
    "                                                    subset = 'validation',)\n",
    "\n",
    "test_data_gen_4 = ImageDataGenerator(rescale=1./255)\n",
    "\n",
    "test_generator_4 = test_data_gen_4.flow_from_directory(\n",
    "\n",
    "                                                    test_dir, \n",
    "                                                    target_size = (200, 150),\n",
    "                                                    batch_size = 32,\n",
    "                                                    class_mode = 'categorical',\n",
    "                                                    color_mode = 'rgb',\n",
    "                                                    seed = 42,\n",
    "                                                    shuffle = False)"
   ]
  },
  {
   "cell_type": "code",
   "execution_count": 6,
   "id": "d8057073",
   "metadata": {},
   "outputs": [],
   "source": [
    "model19 = Sequential()\n",
    "\n",
    "# define 3x3 filter window sizes. Create 32 filters.\n",
    "model19.add(Conv2D(filters=32, kernel_size=(3, 3), activation='relu', input_shape=(200, 150, 3)\n",
    "                   , kernel_regularizer = l2(5e-4) ))\n",
    "model19.add(MaxPooling2D(pool_size=(2, 2)))\n",
    "\n",
    "# define 3x3 filter window sizes. Create 64 filters.\n",
    "model19.add(Conv2D(64, (3, 3), activation='relu', kernel_regularizer = l2(5e-4)))\n",
    "model19.add(MaxPooling2D((2, 2)))\n",
    "\n",
    "model19.add(Conv2D(64, (3, 3), activation='relu', kernel_regularizer = l2(8e-3)))\n",
    "model19.add(MaxPooling2D((2, 2)))\n",
    "model19.add(Dropout(0.1))\n",
    "\n",
    "model19.add(Conv2D(64, (3, 3), activation='relu', kernel_regularizer = l2(8e-3)))\n",
    "model19.add(MaxPooling2D(pool_size=(2, 2)))\n",
    "model19.add(Dropout(0.25))\n",
    "\n",
    "# transition to dense fully-connected part of network\n",
    "model19.add(Flatten())\n",
    "model19.add(Dense(128, activation='relu'))\n",
    "model19.add(Dropout(0.35))\n",
    "\n",
    "model19.add(BatchNormalization())\n",
    "model19.add(Dense(64, activation='relu'))\n",
    "model19.add(Dropout(0.7))\n",
    "\n",
    "model19.add(Dense(10, activation='softmax'))\n",
    "\n",
    "model19.compile(optimizer='adam', loss='categorical_crossentropy',  metrics=['accuracy'])"
   ]
  },
  {
   "cell_type": "code",
   "execution_count": 7,
   "id": "fd60d443",
   "metadata": {
    "scrolled": false
   },
   "outputs": [
    {
     "name": "stdout",
     "output_type": "stream",
     "text": [
      "Epoch 1/45\n",
      "198/198 [==============================] - 62s 313ms/step - loss: 2.9035 - accuracy: 0.1806 - val_loss: 2.4415 - val_accuracy: 0.3114\n",
      "Epoch 2/45\n",
      "198/198 [==============================] - 61s 308ms/step - loss: 2.0945 - accuracy: 0.3253 - val_loss: 1.9284 - val_accuracy: 0.4404\n",
      "Epoch 3/45\n",
      "198/198 [==============================] - 59s 298ms/step - loss: 1.7850 - accuracy: 0.4118 - val_loss: 1.8345 - val_accuracy: 0.3872\n",
      "Epoch 4/45\n",
      "198/198 [==============================] - 58s 291ms/step - loss: 1.6145 - accuracy: 0.4607 - val_loss: 1.7706 - val_accuracy: 0.4440\n",
      "Epoch 5/45\n",
      "198/198 [==============================] - 57s 287ms/step - loss: 1.4771 - accuracy: 0.5177 - val_loss: 1.5168 - val_accuracy: 0.4928\n",
      "Epoch 6/45\n",
      "198/198 [==============================] - 58s 294ms/step - loss: 1.3869 - accuracy: 0.5459 - val_loss: 1.5155 - val_accuracy: 0.5099\n",
      "Epoch 7/45\n",
      "198/198 [==============================] - 57s 287ms/step - loss: 1.3015 - accuracy: 0.5846 - val_loss: 1.4912 - val_accuracy: 0.5740\n",
      "Epoch 8/45\n",
      "198/198 [==============================] - 56s 282ms/step - loss: 1.2372 - accuracy: 0.6061 - val_loss: 1.6142 - val_accuracy: 0.5036\n",
      "Epoch 9/45\n",
      "198/198 [==============================] - 59s 295ms/step - loss: 1.1814 - accuracy: 0.6435 - val_loss: 1.2969 - val_accuracy: 0.6218\n",
      "Epoch 10/45\n",
      "198/198 [==============================] - 59s 297ms/step - loss: 1.1159 - accuracy: 0.6498 - val_loss: 1.3926 - val_accuracy: 0.5695\n",
      "Epoch 11/45\n",
      "198/198 [==============================] - 56s 284ms/step - loss: 1.0744 - accuracy: 0.6788 - val_loss: 1.2362 - val_accuracy: 0.6390\n",
      "Epoch 12/45\n",
      "198/198 [==============================] - 58s 293ms/step - loss: 1.0547 - accuracy: 0.6935 - val_loss: 1.1988 - val_accuracy: 0.6480\n",
      "Epoch 13/45\n",
      "198/198 [==============================] - 57s 289ms/step - loss: 0.9925 - accuracy: 0.7111 - val_loss: 1.2535 - val_accuracy: 0.6110\n",
      "Epoch 14/45\n",
      "198/198 [==============================] - 57s 288ms/step - loss: 0.9917 - accuracy: 0.7094 - val_loss: 1.2722 - val_accuracy: 0.6002\n",
      "Epoch 15/45\n",
      "198/198 [==============================] - 56s 284ms/step - loss: 0.9140 - accuracy: 0.7423 - val_loss: 1.3768 - val_accuracy: 0.6191\n",
      "Epoch 16/45\n",
      "198/198 [==============================] - 56s 281ms/step - loss: 0.9064 - accuracy: 0.7496 - val_loss: 1.3125 - val_accuracy: 0.6119\n",
      "Epoch 17/45\n",
      "198/198 [==============================] - 56s 281ms/step - loss: 0.8996 - accuracy: 0.7520 - val_loss: 1.2078 - val_accuracy: 0.6579\n",
      "Epoch 18/45\n",
      "198/198 [==============================] - 56s 280ms/step - loss: 0.8758 - accuracy: 0.7650 - val_loss: 1.2610 - val_accuracy: 0.6769\n",
      "Epoch 19/45\n",
      "198/198 [==============================] - 56s 281ms/step - loss: 0.8496 - accuracy: 0.7669 - val_loss: 1.6595 - val_accuracy: 0.6426\n",
      "Epoch 20/45\n",
      "198/198 [==============================] - 56s 282ms/step - loss: 0.8572 - accuracy: 0.7705 - val_loss: 1.4459 - val_accuracy: 0.6327\n",
      "Epoch 21/45\n",
      "198/198 [==============================] - 56s 282ms/step - loss: 0.8132 - accuracy: 0.7848 - val_loss: 1.3497 - val_accuracy: 0.6597\n",
      "Epoch 22/45\n",
      "198/198 [==============================] - 56s 282ms/step - loss: 0.7821 - accuracy: 0.7951 - val_loss: 1.2255 - val_accuracy: 0.7013\n",
      "Epoch 23/45\n",
      "198/198 [==============================] - 56s 283ms/step - loss: 0.7950 - accuracy: 0.7894 - val_loss: 1.4455 - val_accuracy: 0.6381\n",
      "Epoch 24/45\n",
      "198/198 [==============================] - 56s 283ms/step - loss: 0.7747 - accuracy: 0.8009 - val_loss: 1.4200 - val_accuracy: 0.6417\n",
      "Epoch 25/45\n",
      "198/198 [==============================] - 56s 283ms/step - loss: 0.7474 - accuracy: 0.8077 - val_loss: 1.3751 - val_accuracy: 0.6588\n",
      "Epoch 26/45\n",
      "198/198 [==============================] - 56s 283ms/step - loss: 0.7572 - accuracy: 0.7992 - val_loss: 1.4834 - val_accuracy: 0.6191\n",
      "Epoch 27/45\n",
      "198/198 [==============================] - 56s 281ms/step - loss: 0.7348 - accuracy: 0.8106 - val_loss: 1.5759 - val_accuracy: 0.6173\n"
     ]
    }
   ],
   "source": [
    "history_cnn_19 = model19.fit(train_generator_4, validation_data = validation_generator_4, \n",
    "                             epochs = 45, callbacks=[custom_early_stopping])"
   ]
  },
  {
   "cell_type": "code",
   "execution_count": null,
   "id": "92e05a53",
   "metadata": {},
   "outputs": [],
   "source": [
    "model19.save('saved_models/cnn_model_19.h5')\n",
    "\n",
    "train_cnn_history_19 = pd.DataFrame(history_cnn_19.history)\n",
    "\n",
    "train_cnn_history_19.to_pickle(\"saved_models/train_cnn_history_12.pkl\")  "
   ]
  },
  {
   "cell_type": "code",
   "execution_count": null,
   "id": "6a7d948c",
   "metadata": {},
   "outputs": [],
   "source": []
  },
  {
   "cell_type": "code",
   "execution_count": null,
   "id": "300ff707",
   "metadata": {},
   "outputs": [],
   "source": [
    "new_model = models.load_model('saved_models/cnn_model_2')\n",
    "train_cnn_history_7 = pd.read_pickle('saved_models/train_cnn_history_7.pkl')"
   ]
  },
  {
   "cell_type": "code",
   "execution_count": null,
   "id": "83cadeee",
   "metadata": {},
   "outputs": [],
   "source": []
  },
  {
   "cell_type": "code",
   "execution_count": null,
   "id": "f7eff618",
   "metadata": {},
   "outputs": [],
   "source": [
    "_, test_acc = model19.evaluate(test_generator_4)"
   ]
  },
  {
   "cell_type": "code",
   "execution_count": null,
   "id": "4df0ceeb",
   "metadata": {},
   "outputs": [],
   "source": [
    "train_cnn_history = pd.DataFrame(history_cnn_19.history)\n",
    "train_cnn_history.index.name = 'epochs'\n",
    "\n",
    "col_list = ['loss', 'val_loss']\n",
    "train_cnn_history[col_list].plot()\n",
    "plt.ylabel('Categorical cross entropy')\n",
    "plt.title('Training loss history')\n",
    "\n",
    "col_list = ['accuracy', 'val_accuracy']\n",
    "train_cnn_history[col_list].plot()\n",
    "plt.ylabel('Accuracy')\n",
    "plt.title('Training loss history')\n",
    "\n",
    "plt.show()"
   ]
  },
  {
   "cell_type": "code",
   "execution_count": null,
   "id": "9c2eb65b",
   "metadata": {},
   "outputs": [],
   "source": [
    "predictions = model19.predict(test_generator_4)"
   ]
  },
  {
   "cell_type": "code",
   "execution_count": null,
   "id": "6741c92e",
   "metadata": {},
   "outputs": [],
   "source": [
    "predicted_labels = [np.argmax(pred) for pred in predictions]\n",
    "true_labels = test_generator_4.classes\n",
    "\n",
    "accuracy = np.mean(np.array(predicted_labels) == true_labels)\n",
    "print(\"Accuracy:\", accuracy)"
   ]
  },
  {
   "cell_type": "code",
   "execution_count": null,
   "id": "cf478999",
   "metadata": {},
   "outputs": [],
   "source": [
    "fig, ax = plt.subplots(figsize = (14,14))\n",
    "\n",
    "ConfusionMatrixDisplay.from_predictions(true_labels, predicted_labels, ax = ax);"
   ]
  },
  {
   "cell_type": "code",
   "execution_count": null,
   "id": "8556b167",
   "metadata": {},
   "outputs": [],
   "source": [
    "class_labels = ['air_conditioner', 'car_horn', 'children_playing', 'dog_bark', 'drilling', 'engine_idling', \n",
    "               'gun_shot', 'jackhammer', 'siren', 'street_music']\n",
    "y_true_labeled = []\n",
    "y_pred_labeled = []\n",
    "\n",
    "for label in true_labels:\n",
    "    y_true_labeled.append(class_labels[label])\n",
    "\n",
    "for label in predicted_labels:\n",
    "    y_pred_labeled.append(class_labels[label])"
   ]
  },
  {
   "cell_type": "code",
   "execution_count": null,
   "id": "ebd1e074",
   "metadata": {},
   "outputs": [],
   "source": [
    "fig, ax = plt.subplots(figsize = (14,14))\n",
    "\n",
    "ConfusionMatrixDisplay.from_predictions(y_true_labeled, y_pred_labeled, \n",
    "                                        normalize = 'true', colorbar=False, labels = class_labels, ax = ax);"
   ]
  },
  {
   "cell_type": "code",
   "execution_count": null,
   "id": "990bee39",
   "metadata": {},
   "outputs": [],
   "source": []
  },
  {
   "cell_type": "code",
   "execution_count": null,
   "id": "b96c5401",
   "metadata": {},
   "outputs": [],
   "source": []
  },
  {
   "cell_type": "markdown",
   "id": "0074e394",
   "metadata": {},
   "source": [
    "Praveen Style"
   ]
  },
  {
   "cell_type": "code",
   "execution_count": null,
   "id": "04ca5eef",
   "metadata": {},
   "outputs": [],
   "source": [
    "model7 = Sequential()\n",
    "\n",
    "model7.add(Conv2D(filters=32, kernel_size=(3, 3), activation='relu', input_shape=(200, 150, 3)))\n",
    "\n",
    "model7.add(BatchNormalization())\n",
    "model7.add(MaxPooling2D(pool_size=(2, 2)))\n",
    "\n",
    "model7.add(Conv2D(64, (3, 3), activation='relu'))\n",
    "model7.add(BatchNormalization())\n",
    "model7.add(MaxPooling2D((2, 2)))\n",
    "\n",
    "model7.add(Conv2D(64, (3, 3), activation='relu'))\n",
    "model7.add(BatchNormalization())\n",
    "model7.add(MaxPooling2D((2, 2)))\n",
    "\n",
    "# transition to dense\n",
    "model7.add(GlobalAveragePooling2D())\n",
    "\n",
    "model7.add(Dense(10, activation='softmax'))\n",
    "\n",
    "model7.compile(optimizer='adam', loss='categorical_crossentropy',  metrics=['accuracy'])"
   ]
  },
  {
   "cell_type": "code",
   "execution_count": null,
   "id": "450bf580",
   "metadata": {},
   "outputs": [],
   "source": [
    "history_cnn_7 = model7.fit(train_generator_3, validation_data = validation_generator_3, epochs = 35, batch_size=32)"
   ]
  }
 ],
 "metadata": {
  "kernelspec": {
   "display_name": "Python Number41",
   "language": "python",
   "name": "number41"
  },
  "language_info": {
   "codemirror_mode": {
    "name": "ipython",
    "version": 3
   },
   "file_extension": ".py",
   "mimetype": "text/x-python",
   "name": "python",
   "nbconvert_exporter": "python",
   "pygments_lexer": "ipython3",
   "version": "3.11.4"
  }
 },
 "nbformat": 4,
 "nbformat_minor": 5
}
