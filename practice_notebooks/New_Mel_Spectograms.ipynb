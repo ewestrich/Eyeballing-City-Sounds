{
 "cells": [
  {
   "cell_type": "code",
   "execution_count": 6,
   "id": "ed85f9c8",
   "metadata": {},
   "outputs": [],
   "source": [
    "import pandas as pd\n",
    "import numpy as np\n",
    "import matplotlib.pyplot as plt\n",
    "%matplotlib inline\n",
    "\n",
    "import os\n",
    "\n",
    "import librosa\n",
    "import librosa.display\n",
    "\n",
    "import IPython\n",
    "\n",
    "from IPython.display import Audio\n",
    "\n",
    "from sklearn.model_selection import train_test_split"
   ]
  },
  {
   "cell_type": "code",
   "execution_count": 7,
   "id": "c6e52438",
   "metadata": {},
   "outputs": [],
   "source": [
    "plt.ioff();"
   ]
  },
  {
   "cell_type": "code",
   "execution_count": 8,
   "id": "c156e7b8",
   "metadata": {},
   "outputs": [],
   "source": [
    "meta_data = pd.read_csv('Source/UrbanSound8K/metadata/UrbanSound8K.csv')"
   ]
  },
  {
   "cell_type": "code",
   "execution_count": 9,
   "id": "c87744fe",
   "metadata": {},
   "outputs": [
    {
     "data": {
      "text/plain": [
       "dog_bark            1000\n",
       "children_playing    1000\n",
       "air_conditioner     1000\n",
       "street_music        1000\n",
       "engine_idling       1000\n",
       "jackhammer          1000\n",
       "drilling            1000\n",
       "siren                929\n",
       "car_horn             429\n",
       "gun_shot             374\n",
       "Name: class, dtype: int64"
      ]
     },
     "execution_count": 9,
     "metadata": {},
     "output_type": "execute_result"
    }
   ],
   "source": [
    "meta_data['class'].value_counts()"
   ]
  },
  {
   "cell_type": "code",
   "execution_count": 10,
   "id": "897db511",
   "metadata": {},
   "outputs": [],
   "source": [
    "train_meta_data, test_meta_data = train_test_split(meta_data, test_size=0.15\\\n",
    "                                                   ,random_state=28, stratify=meta_data['classID'])"
   ]
  },
  {
   "cell_type": "code",
   "execution_count": 11,
   "id": "4d17a040",
   "metadata": {},
   "outputs": [],
   "source": [
    "# Save training data spectograms\n",
    "\n",
    "for idx, row in train_meta_data.iterrows():\n",
    "    \n",
    "    path = 'Source/UrbanSound8K/audio/fold{}/{}'.format(row['fold'], row['slice_file_name'])\n",
    "    \n",
    "    y, sr = librosa.load(path)\n",
    "    \n",
    "    # Standardize the length to 88,200 samples, or 4 seconds\n",
    "    if y.shape != (88200,):\n",
    "        y = np.resize(y, 88200)\n",
    "    \n",
    "    \n",
    "    # Create Matplotlib Image\n",
    "    fig, ax = plt.subplots()\n",
    "    \n",
    "    S = librosa.feature.melspectrogram(y=y, sr=sr,)\n",
    "    S_db_mel = librosa.amplitude_to_db(S, ref=np.max)\n",
    "    \n",
    "    img = librosa.display.specshow(S_db_mel, x_axis='time' , y_axis='log', ax = ax)\n",
    "    plt.axis('off')    \n",
    "    \n",
    "    \n",
    "    # Save the Spectogram Image\n",
    "    my_path = 'Data/'\n",
    "    file_name = row['slice_file_name'][:-4]\n",
    "\n",
    "    training_path = 'mel_train_85_15/{}/'.format(row['classID'])\n",
    "        \n",
    "    if not os.path.isdir(my_path + training_path):\n",
    "        os.makedirs(my_path + training_path)\n",
    "        \n",
    "    plt.savefig(my_path + training_path + file_name)\n",
    "    \n",
    "    plt.close()"
   ]
  },
  {
   "cell_type": "code",
   "execution_count": 12,
   "id": "9804cd6d",
   "metadata": {},
   "outputs": [],
   "source": [
    "# Save training data spectograms\n",
    "\n",
    "for idx, row in test_meta_data.iterrows():\n",
    "    \n",
    "    path = 'Source/UrbanSound8K/audio/fold{}/{}'.format(row['fold'], row['slice_file_name'])\n",
    "    \n",
    "    y, sr = librosa.load(path)\n",
    "    \n",
    "    # Standardize the length to 88,200 samples, or 4 seconds\n",
    "    if y.shape != (88200,):\n",
    "        y = np.resize(y, 88200)\n",
    "    \n",
    "    \n",
    "    # Create Matplotlib Image\n",
    "    fig, ax = plt.subplots()\n",
    "    \n",
    "    S = librosa.feature.melspectrogram(y=y, sr=sr,)\n",
    "    S_db_mel = librosa.amplitude_to_db(S, ref=np.max)\n",
    "    \n",
    "    img = librosa.display.specshow(S_db_mel, x_axis='time' , y_axis='log', ax = ax)\n",
    "    plt.axis('off')    \n",
    "    \n",
    "    \n",
    "    # Save the Spectogram Image\n",
    "    my_path = 'Data/'\n",
    "    file_name = row['slice_file_name'][:-4]\n",
    "\n",
    "    testing_path = 'mel_test_85_15/{}/'.format(row['classID'])\n",
    "        \n",
    "    if not os.path.isdir(my_path + testing_path):\n",
    "        os.makedirs(my_path + testing_path)\n",
    "        \n",
    "    plt.savefig(my_path + testing_path + file_name)\n",
    "    \n",
    "    plt.close()"
   ]
  },
  {
   "cell_type": "code",
   "execution_count": null,
   "id": "1c7d43dd",
   "metadata": {},
   "outputs": [],
   "source": []
  }
 ],
 "metadata": {
  "kernelspec": {
   "display_name": "Python Number41",
   "language": "python",
   "name": "number41"
  },
  "language_info": {
   "codemirror_mode": {
    "name": "ipython",
    "version": 3
   },
   "file_extension": ".py",
   "mimetype": "text/x-python",
   "name": "python",
   "nbconvert_exporter": "python",
   "pygments_lexer": "ipython3",
   "version": "3.11.4"
  }
 },
 "nbformat": 4,
 "nbformat_minor": 5
}
