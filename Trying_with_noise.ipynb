{
 "cells": [
  {
   "cell_type": "code",
   "execution_count": 1,
   "id": "3dcc8fad",
   "metadata": {},
   "outputs": [],
   "source": [
    "import numpy as np\n",
    "import pandas as pd\n",
    "from matplotlib import pyplot as plt\n",
    "import seaborn as sns\n",
    "\n",
    "from sklearn.metrics import confusion_matrix\n",
    "from sklearn.metrics import ConfusionMatrixDisplay\n",
    "\n",
    "from tensorflow.keras import datasets\n",
    "from tensorflow.keras.utils import to_categorical\n",
    "from tensorflow.keras.models import Sequential\n",
    "\n",
    "from tensorflow.keras.layers import Dense # creates densely connected layer object\n",
    "from tensorflow.keras.layers import Flatten # takes 2D input and turns into 1D array\n",
    "\n",
    "from tensorflow import keras\n",
    "from tensorflow.keras import datasets, layers, models\n",
    "\n",
    "from tensorflow.keras.layers import Conv2D # convolution layer\n",
    "from tensorflow.keras.layers import MaxPooling2D # max pooling layer\n",
    "\n",
    "from tensorflow.keras.layers import GlobalAveragePooling2D\n",
    "from tensorflow.keras.callbacks import EarlyStopping"
   ]
  },
  {
   "cell_type": "code",
   "execution_count": 2,
   "id": "e7692697",
   "metadata": {},
   "outputs": [],
   "source": [
    "from tensorflow.keras.regularizers import l2\n",
    "from tensorflow.keras.layers import Dropout\n",
    "\n",
    "from tensorflow.keras.layers import BatchNormalization\n",
    "from tensorflow.keras.layers import Activation\n",
    "\n",
    "from keras.preprocessing.image import ImageDataGenerator"
   ]
  },
  {
   "cell_type": "code",
   "execution_count": 3,
   "id": "0999fad4",
   "metadata": {},
   "outputs": [],
   "source": [
    "train_dir_2 = 'Data/train_mel_and_noise'\n",
    "\n",
    "test_dir = 'Data/mel_test_85_15'"
   ]
  },
  {
   "cell_type": "code",
   "execution_count": 4,
   "id": "a92e9991",
   "metadata": {},
   "outputs": [],
   "source": [
    "train_data_gen_7_2 = ImageDataGenerator(rescale = 1./255, validation_split = .15)\n",
    "\n",
    "train_generator_7_2 = train_data_gen_7_2.flow_from_directory(\n",
    "\n",
    "                                                    train_dir_2, \n",
    "                                                    target_size = (200, 150),\n",
    "                                                    batch_size = 32,\n",
    "                                                    class_mode = 'categorical',\n",
    "                                                    color_mode = 'rgb',\n",
    "                                                    seed = 42,\n",
    "                                                    subset = 'training',)\n",
    "\n",
    "val_data_gen_7_2 = ImageDataGenerator(rescale=1./255)\n",
    "\n",
    "validation_generator_7_2 = train_data_gen_7_2.flow_from_directory(\n",
    "    \n",
    "                                                    train_dir_2, \n",
    "                                                    target_size = (200, 150),\n",
    "                                                    batch_size = 32,\n",
    "                                                    class_mode = 'categorical',\n",
    "                                                    color_mode = 'rgb',\n",
    "                                                    seed = 42,\n",
    "                                                    subset = 'validation',)\n",
    "\n",
    "test_data_gen_7_2 = ImageDataGenerator(rescale=1./255)\n",
    "\n",
    "test_generator_7_2 = test_data_gen_7_2.flow_from_directory(\n",
    "\n",
    "                                                    test_dir, \n",
    "                                                    target_size = (200, 150),\n",
    "                                                    batch_size = 32,\n",
    "                                                    class_mode = 'categorical',\n",
    "                                                    color_mode = 'rgb',\n",
    "                                                    seed = 42,\n",
    "                                                    shuffle = False)"
   ]
  },
  {
   "cell_type": "code",
   "execution_count": 9,
   "id": "98cf0d8d",
   "metadata": {},
   "outputs": [],
   "source": [
    "custom_early_stopping = EarlyStopping(monitor='val_accuracy', patience=5) \n",
    "callbacks=[custom_early_stopping]"
   ]
  },
  {
   "cell_type": "code",
   "execution_count": 10,
   "id": "9c6b1ddf",
   "metadata": {},
   "outputs": [],
   "source": [
    "model7_2 = Sequential()\n",
    "\n",
    "# define 3x3 filter window sizes. Create 32 filters.\n",
    "model7_2.add(Conv2D(filters=32,\n",
    "                        kernel_size=(3, 3),\n",
    "                        activation='relu',\n",
    "                        input_shape=(200, 150, 3), kernel_regularizer = l2(5e-4) ))\n",
    "\n",
    "# max pool in 2x2 window\n",
    "model7_2.add(MaxPooling2D(pool_size=(2, 2)))\n",
    "\n",
    "# define 3x3 filter window sizes. Create 64 filters.\n",
    "model7_2.add(Conv2D(64, (3, 3), activation='relu', kernel_regularizer = l2(5e-4)))\n",
    "model7_2.add(MaxPooling2D((2, 2)))\n",
    "\n",
    "model7_2.add(Conv2D(64, (3, 3), activation='relu', kernel_regularizer = l2(8e-4)))\n",
    "model7_2.add(MaxPooling2D((2, 2)))\n",
    "model7_2.add(Dropout(0.1))\n",
    "\n",
    "model7_2.add(Conv2D(64, (3, 3), activation='relu', kernel_regularizer = l2(7e-3)))\n",
    "model7_2.add(Dropout(0.25))\n",
    "\n",
    "# transition to dense fully-connected part of network\n",
    "model7_2.add(Flatten())\n",
    "model7_2.add(Dense(128, activation='relu'))\n",
    "model7_2.add(Dropout(0.4))\n",
    "\n",
    "model7_2.add(BatchNormalization())\n",
    "model7_2.add(Dense(64, activation='relu'))\n",
    "model7_2.add(Dropout(0.7))\n",
    "\n",
    "model7_2.add(Dense(10, activation='softmax'))\n",
    "\n",
    "model7_2.compile(optimizer='adam', loss='categorical_crossentropy',  metrics=['accuracy'])"
   ]
  },
  {
   "cell_type": "code",
   "execution_count": 11,
   "id": "9d609764",
   "metadata": {},
   "outputs": [],
   "source": [
    "history_cnn_7_2 = model7_2.fit(train_generator_7_2, validation_data = validation_generator_7_2, \n",
    "                           epochs = 45, callbacks=[custom_early_stopping])"
   ]
  },
  {
   "cell_type": "code",
   "execution_count": null,
   "id": "ada2a69c",
   "metadata": {},
   "outputs": [],
   "source": []
  }
 ],
 "metadata": {
  "kernelspec": {
   "display_name": "Python Number41",
   "language": "python",
   "name": "number41"
  },
  "language_info": {
   "codemirror_mode": {
    "name": "ipython",
    "version": 3
   },
   "file_extension": ".py",
   "mimetype": "text/x-python",
   "name": "python",
   "nbconvert_exporter": "python",
   "pygments_lexer": "ipython3",
   "version": "3.11.4"
  }
 },
 "nbformat": 4,
 "nbformat_minor": 5
}
