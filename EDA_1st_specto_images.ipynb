{
 "cells": [
  {
   "cell_type": "code",
   "execution_count": null,
   "id": "6af68c81",
   "metadata": {},
   "outputs": [],
   "source": [
    "import pandas as pd\n",
    "import numpy as np\n",
    "import matplotlib.pyplot as plt\n",
    "%matplotlib inline\n",
    "\n",
    "import os\n",
    "\n",
    "import librosa\n",
    "import librosa.display\n",
    "\n",
    "import IPython\n",
    "\n",
    "from IPython.display import Audio\n",
    "\n",
    "from sklearn.model_selection import train_test_split"
   ]
  },
  {
   "cell_type": "code",
   "execution_count": null,
   "id": "ce177b9f",
   "metadata": {},
   "outputs": [],
   "source": [
    "data, sample_rate= librosa.load('UrbanSound8K/audio/fold1/7383-3-0-0.wav')"
   ]
  },
  {
   "cell_type": "code",
   "execution_count": null,
   "id": "0bfd37b4",
   "metadata": {},
   "outputs": [],
   "source": [
    "filename = 'UrbanSound8K/audio/fold1/24074-1-0-10.wav'"
   ]
  },
  {
   "cell_type": "code",
   "execution_count": null,
   "id": "4d04fbc6",
   "metadata": {},
   "outputs": [],
   "source": [
    "plt.figure(figsize = (15,5))\n",
    "\n",
    "librosa.display.waveshow(data, sr = sample_rate)\n",
    "Audio(filename);"
   ]
  },
  {
   "cell_type": "code",
   "execution_count": null,
   "id": "0f36a6e4",
   "metadata": {},
   "outputs": [],
   "source": [
    "Audio(filename)"
   ]
  },
  {
   "cell_type": "code",
   "execution_count": null,
   "id": "543ea7cf",
   "metadata": {},
   "outputs": [],
   "source": [
    "meta_data = pd.read_csv('UrbanSound8K/metadata/UrbanSound8K.csv')"
   ]
  },
  {
   "cell_type": "code",
   "execution_count": null,
   "id": "56dd1430",
   "metadata": {},
   "outputs": [],
   "source": [
    "meta_data.head(10)"
   ]
  },
  {
   "cell_type": "code",
   "execution_count": null,
   "id": "a1a7098d",
   "metadata": {},
   "outputs": [],
   "source": [
    "start_df = pd.DataFrame(meta_data.iloc[0, :]).T"
   ]
  },
  {
   "cell_type": "code",
   "execution_count": null,
   "id": "b9eb9db1",
   "metadata": {},
   "outputs": [],
   "source": [
    "start_df"
   ]
  },
  {
   "cell_type": "code",
   "execution_count": null,
   "id": "36b6955a",
   "metadata": {},
   "outputs": [],
   "source": [
    "Audio('UrbanSound8K/audio/fold5/100032-3-0-0.wav')"
   ]
  },
  {
   "cell_type": "code",
   "execution_count": null,
   "id": "bbab61db",
   "metadata": {},
   "outputs": [],
   "source": [
    "    y, sr = librosa.load('UrbanSound8K/audio/fold5/100032-3-0-0.wav')\n",
    "        \n",
    "    fig, ax = plt.subplots()\n",
    "    \n",
    "    D = librosa.stft(y)  # Short Time Fourier Transform (STFT) of y\n",
    "    S_db = librosa.amplitude_to_db(np.abs(D), ref=np.max)\n",
    "    \n",
    "    img = librosa.display.specshow(S_db, ax = ax)\n",
    "    fig.colorbar(img, ax=ax, format=\"%+2.f dB\");"
   ]
  },
  {
   "cell_type": "code",
   "execution_count": null,
   "id": "595d4847",
   "metadata": {},
   "outputs": [],
   "source": [
    "    y_2, sr = librosa.load('UrbanSound8K/audio/fold10/100648-1-0-0.wav')\n",
    "Audio('UrbanSound8K/audio/fold10/100648-1-0-0.wav')"
   ]
  },
  {
   "cell_type": "code",
   "execution_count": null,
   "id": "18f4c9c7",
   "metadata": {},
   "outputs": [],
   "source": [
    "    y_2, sr = librosa.load('UrbanSound8K/audio/fold10/100648-1-0-0.wav')\n",
    "        \n",
    "    fig, ax = plt.subplots()\n",
    "    \n",
    "    D_2 = librosa.stft(y_2)  # Short Time Fourier Transform (STFT) of y\n",
    "    S_db_2 = librosa.amplitude_to_db(np.abs(D_2), ref=np.max)\n",
    "    \n",
    "    img_2 = librosa.display.specshow(S_db_2, ax = ax)\n",
    "    fig.colorbar(img_2, ax=ax, format=\"%+2.f dB\");"
   ]
  },
  {
   "cell_type": "code",
   "execution_count": null,
   "id": "a5f0ba13",
   "metadata": {},
   "outputs": [],
   "source": [
    "fig, ax = plt.subplots()\n",
    "M = librosa.feature.melspectrogram(y=y, sr=sr)\n",
    "M_db = librosa.power_to_db(M, ref=np.max)\n",
    "img = librosa.display.specshow(M_db, y_axis='mel', x_axis='time', ax=ax)\n",
    "ax.set(title='Mel spectrogram display')\n",
    "fig.colorbar(img, ax=ax, format=\"%+2.f dB\")"
   ]
  },
  {
   "cell_type": "code",
   "execution_count": null,
   "id": "5de99d76",
   "metadata": {},
   "outputs": [],
   "source": [
    "chroma = librosa.feature.chroma_cqt(y=y, sr=sr)\n",
    "fig, ax = plt.subplots()\n",
    "img = librosa.display.specshow(chroma, y_axis='chroma', x_axis='time', ax=ax)\n",
    "ax.set(title='Chromagram demonstration')\n",
    "fig.colorbar(img, ax=ax)"
   ]
  },
  {
   "cell_type": "code",
   "execution_count": null,
   "id": "8fe33d1f",
   "metadata": {},
   "outputs": [],
   "source": [
    "for idx, row in start_df.iterrows():\n",
    "    path = '/Users/eitan/Documents/Flatiron/Capstone/UrbanSound8K/audio/fold{}/{}'.format(row['fold'],\n",
    "                                                                                         row['slice_file_name'])\n",
    "    print(path)\n",
    "    y, sr = librosa.load(path)"
   ]
  },
  {
   "cell_type": "code",
   "execution_count": null,
   "id": "5750ef23",
   "metadata": {},
   "outputs": [],
   "source": [
    "for idx, row in start_df.iterrows():\n",
    "    path = '/Users/eitan/Documents/Flatiron/Capstone/UrbanSound8K/audio/fold{}/{}'.format(row['fold'],\n",
    "                                                                                         row['slice_file_name'])\n",
    "    y, sr = librosa.load(path)\n",
    "        \n",
    "    fig, ax = plt.subplots()\n",
    "    \n",
    "    D = librosa.stft(y)  # Short Time Fourier Transform (STFT) of y\n",
    "    S_db = librosa.amplitude_to_db(np.abs(D), ref=np.max)\n",
    "    \n",
    "    img = librosa.display.specshow(S_db, ax = ax)\n"
   ]
  },
  {
   "cell_type": "code",
   "execution_count": null,
   "id": "dea16262",
   "metadata": {},
   "outputs": [],
   "source": [
    "for idx, row in meta_data.itrrows():\n",
    "  \n",
    "    path = '/Users/eitan/Documents/Flatiron/Capstone/UrbanSound8K/audio/fold{}/{}'.format(row['fold'],\n",
    "                                                                                         row['slice_file_name'])\n",
    "    \n",
    "    librosa.loads(path)\n",
    "    # spectra gram goes here \n",
    "    training_path = 'train/{}/'.fromat(row['ClassID'])\n",
    "    test_path = \n",
    "    if idx < 6000:\n",
    "        plt.savefig(training_path+ str(idx))\n",
    "    else: \n",
    "        plt.savefig(test_path + str(idx))"
   ]
  },
  {
   "cell_type": "code",
   "execution_count": null,
   "id": "9bde5c85",
   "metadata": {},
   "outputs": [],
   "source": [
    "for idx, row in meta_data.iterrows():\n",
    "    print(idx)\n",
    "    print(row['slice_file_name'])\n",
    "    print(row['fold'])\n",
    "    "
   ]
  },
  {
   "cell_type": "code",
   "execution_count": null,
   "id": "f783fa02",
   "metadata": {},
   "outputs": [],
   "source": [
    "for Row, Index in meta_data.(iterrows):\n",
    "    os.shutil.copy2('/Users/eitan/Documents/Flatiron/Capstone/UrbanSound8K/audio/fold{}/{}'\\\n",
    ".format(Row['fold']/Row['slice_file_name']), /Users/eitan/Documents/Flatiron/Capstone/Data\n",
    "\n",
    ")"
   ]
  },
  {
   "cell_type": "code",
   "execution_count": null,
   "id": "90b3b83a",
   "metadata": {},
   "outputs": [],
   "source": [
    "\n",
    "'/Users/eitan/Documents/Flatiron/Capstone/UrbanSound8K/audio/fold{}/{}'\\\n",
    ".format(Row['fold']/Row['slice_file_name']"
   ]
  },
  {
   "cell_type": "code",
   "execution_count": null,
   "id": "8c729945",
   "metadata": {},
   "outputs": [],
   "source": []
  },
  {
   "cell_type": "code",
   "execution_count": null,
   "id": "bb51fd3c",
   "metadata": {},
   "outputs": [],
   "source": []
  },
  {
   "cell_type": "code",
   "execution_count": null,
   "id": "750b6f0d",
   "metadata": {},
   "outputs": [],
   "source": []
  },
  {
   "cell_type": "code",
   "execution_count": null,
   "id": "f90a638f",
   "metadata": {},
   "outputs": [],
   "source": [
    "meta_data['class'].value_counts()"
   ]
  },
  {
   "cell_type": "code",
   "execution_count": null,
   "id": "098f8b5d",
   "metadata": {},
   "outputs": [],
   "source": [
    "filename_2 = 'UrbanSound8K/audio/fold5/100263-2-0-137.wav'\n",
    "data_2, sample_rate_2= librosa.load(filename_2)\n",
    "\n",
    "Audio(filename_2)"
   ]
  },
  {
   "cell_type": "markdown",
   "id": "c0be0b1d",
   "metadata": {},
   "source": [
    "### Pre-Processing"
   ]
  },
  {
   "cell_type": "code",
   "execution_count": null,
   "id": "25959be2",
   "metadata": {},
   "outputs": [],
   "source": [
    "auio_file_path = 'UrbanSound8K/audio/fold5/100263-2-0-137.wav'\n",
    "audio_data, samp_rate = librosa.load(auio_file_path)"
   ]
  },
  {
   "cell_type": "code",
   "execution_count": null,
   "id": "162b1171",
   "metadata": {},
   "outputs": [],
   "source": [
    "len(audio_data)"
   ]
  },
  {
   "cell_type": "code",
   "execution_count": null,
   "id": "852e5801",
   "metadata": {},
   "outputs": [],
   "source": [
    "wav_samp_rate, wave_audio = wav.read(auio_file_path)"
   ]
  },
  {
   "cell_type": "code",
   "execution_count": null,
   "id": "4fd73f18",
   "metadata": {},
   "outputs": [],
   "source": [
    "wave_audio"
   ]
  },
  {
   "cell_type": "code",
   "execution_count": null,
   "id": "ab40f02c",
   "metadata": {
    "scrolled": false
   },
   "outputs": [],
   "source": [
    "plt.figure(figsize = (12,5))\n",
    "plt.plot(wave_audio);"
   ]
  },
  {
   "cell_type": "markdown",
   "id": "1424c8f5",
   "metadata": {},
   "source": [
    "mel-frequency cepstral coefficients (MFCC)"
   ]
  },
  {
   "cell_type": "code",
   "execution_count": null,
   "id": "c55607d0",
   "metadata": {},
   "outputs": [],
   "source": [
    "meta_data"
   ]
  },
  {
   "cell_type": "code",
   "execution_count": null,
   "id": "6534586e",
   "metadata": {},
   "outputs": [],
   "source": [
    "start_df = pd.DataFrame(meta_data.iloc[0, :]).T\n",
    "start_df"
   ]
  },
  {
   "cell_type": "code",
   "execution_count": null,
   "id": "a4845e12",
   "metadata": {},
   "outputs": [],
   "source": [
    "    y, sr = librosa.load('UrbanSound8K/audio/fold10/100795-3-1-0.wav')\n",
    "    \n",
    "    fig, ax = plt.subplots()\n",
    "    \n",
    "    D = librosa.stft(y)  # Short Time Fourier Transform (STFT) of y\n",
    "    S_db = librosa.amplitude_to_db(np.abs(D), ref=np.max)\n",
    "    \n",
    "    img = librosa.display.specshow(S_db, ax = ax)\n",
    "    plt.show()"
   ]
  },
  {
   "cell_type": "code",
   "execution_count": null,
   "id": "c672542b",
   "metadata": {},
   "outputs": [],
   "source": [
    "os.path.abspath(__file__)"
   ]
  },
  {
   "cell_type": "code",
   "execution_count": null,
   "id": "18f15c7e",
   "metadata": {},
   "outputs": [],
   "source": [
    "for idx, row in start_df.iterrows():\n",
    "    path = '/Users/eitan/Documents/Flatiron/Capstone/UrbanSound8K/audio/fold{}/{}'.format(row['fold'],\n",
    "                                                                                         row['slice_file_name'])\n",
    "    y, sr = librosa.load(path)\n",
    "\n",
    "    fig, ax = plt.subplots()\n",
    "    \n",
    "    D = librosa.stft(y)  # Short Time Fourier Transform (STFT) of y\n",
    "    S_db = librosa.amplitude_to_db(np.abs(D), ref=np.max)\n",
    "    \n",
    "    img = librosa.display.specshow(S_db, ax = ax)\n",
    "    \n",
    "    my_path = '/Users/eitan/Documents/Flatiron/Capstone/'\n",
    "    training_path = 'train/{}/'.format(row['classID'])\n",
    "    file_name = row['slice_file_name'][:-4]\n",
    "    \n",
    "    if not os.path.isdir(my_path + training_path):\n",
    "        os.makedirs(my_path + training_path)\n",
    "\n",
    "    plt.savefig(my_path + training_path + file_name)"
   ]
  },
  {
   "cell_type": "code",
   "execution_count": null,
   "id": "b61a9f41",
   "metadata": {},
   "outputs": [],
   "source": [
    "meta_data"
   ]
  },
  {
   "cell_type": "code",
   "execution_count": null,
   "id": "83868ea9",
   "metadata": {},
   "outputs": [],
   "source": []
  },
  {
   "cell_type": "code",
   "execution_count": null,
   "id": "3cd8de06",
   "metadata": {},
   "outputs": [],
   "source": [
    "meta_rand = meta_data.sample(frac=1, random_state = 1).reset_index(drop=True)"
   ]
  },
  {
   "cell_type": "code",
   "execution_count": null,
   "id": "5d165cc3",
   "metadata": {},
   "outputs": [],
   "source": [
    "meta_rand"
   ]
  },
  {
   "cell_type": "code",
   "execution_count": null,
   "id": "ad6b0e92",
   "metadata": {},
   "outputs": [],
   "source": [
    "plt.ioff();"
   ]
  },
  {
   "cell_type": "code",
   "execution_count": null,
   "id": "2eda5611",
   "metadata": {},
   "outputs": [],
   "source": [
    "fig, ax = plt.subplots()\n",
    "    \n",
    "D = librosa.stft(y)  # Short Time Fourier Transform (STFT) of y\n",
    "S_db = librosa.amplitude_to_db(np.abs(D), ref=np.max)\n",
    "    \n",
    "img = librosa.display.specshow(S_db, ax = ax)\n",
    "\n",
    "plt.show()"
   ]
  },
  {
   "cell_type": "code",
   "execution_count": null,
   "id": "379e1f22",
   "metadata": {},
   "outputs": [],
   "source": [
    "for idx, row in meta_rand.iterrows():\n",
    "    path = '/Users/eitan/Documents/Flatiron/Capstone/UrbanSound8K/audio/fold{}/{}'.format(row['fold'],\n",
    "                                                                                         row['slice_file_name'])\n",
    "    y, sr = librosa.load(path)\n",
    "\n",
    "    fig, ax = plt.subplots()\n",
    "    \n",
    "    D = librosa.stft(y)  # Short Time Fourier Transform (STFT) of y\n",
    "    S_db = librosa.amplitude_to_db(np.abs(D), ref=np.max)\n",
    "    \n",
    "    img = librosa.display.specshow(S_db, ax = ax)\n",
    "    \n",
    "    my_path = '/Users/eitan/Documents/Flatiron/Capstone/'\n",
    "    file_name = row['slice_file_name'][:-4]\n",
    "\n",
    "    if idx < 6090:\n",
    "        training_path = 'train/{}/'.format(row['classID'])\n",
    "        \n",
    "        if not os.path.isdir(my_path + training_path):\n",
    "                os.makedirs(my_path + training_path)\n",
    "        \n",
    "        plt.savefig(my_path + training_path + file_name)\n",
    "\n",
    "    else: \n",
    "        test_path = 'test/{}/'.format(row['classID'])\n",
    "        \n",
    "        if not os.path.isdir(my_path + test_path):\n",
    "            os.makedirs(my_path + test_path)\n",
    "        \n",
    "        plt.savefig(my_path + test_path + file_name)\n",
    "    \n",
    "    plt.close()"
   ]
  },
  {
   "cell_type": "code",
   "execution_count": null,
   "id": "935c8b5e",
   "metadata": {},
   "outputs": [],
   "source": [
    "train_meta_data, test_meta_data = train_test_split(meta_data, test_size=0.25\\\n",
    "                                                   ,random_state=0, stratify=meta_data['classID'])"
   ]
  },
  {
   "cell_type": "code",
   "execution_count": null,
   "id": "9c99a960",
   "metadata": {},
   "outputs": [],
   "source": [
    "rand_10 = meta_rand.loc[:10,:]"
   ]
  },
  {
   "cell_type": "code",
   "execution_count": null,
   "id": "dc62a77f",
   "metadata": {
    "scrolled": false
   },
   "outputs": [],
   "source": [
    "for idx, row in rand_10.iterrows():\n",
    "    \n",
    "    y, sr = librosa.load('UrbanSound8K/audio/fold{}/{}'.format(row['fold'], row['slice_file_name']))\n",
    "\n",
    "    fig, ax = plt.subplots()\n",
    "    \n",
    "    D = librosa.stft(y)  # Short Time Fourier Transform (STFT) of y\n",
    "    S_db = librosa.amplitude_to_db(np.abs(D), ref=np.max)    \n",
    "    \n",
    "    img = librosa.display.specshow(S_db, x_axis='time', y_axis='linear', ax=ax)\n",
    "    ax.set(title = 'Index #: {} Class: {}'.format(idx, row['class']))\n",
    "    fig.colorbar(img, ax=ax, format=\"%+2.f dB\")\n",
    "\n",
    "    \n",
    "    plt.show()"
   ]
  },
  {
   "cell_type": "code",
   "execution_count": null,
   "id": "b20d61c2",
   "metadata": {},
   "outputs": [],
   "source": [
    "rand_next_20 = meta_rand.loc[10:30,:]"
   ]
  },
  {
   "cell_type": "code",
   "execution_count": null,
   "id": "19001953",
   "metadata": {
    "scrolled": false
   },
   "outputs": [],
   "source": [
    "for idx, row in rand_next_20.iterrows():\n",
    "    \n",
    "    y, sr = librosa.load('UrbanSound8K/audio/fold{}/{}'.format(row['fold'], row['slice_file_name']))\n",
    "\n",
    "    fig, ax = plt.subplots()\n",
    "    \n",
    "    D = librosa.stft(y)  # Short Time Fourier Transform (STFT) of y\n",
    "    S_db = librosa.amplitude_to_db(np.abs(D), ref=np.max)    \n",
    "    \n",
    "    img = librosa.display.specshow(S_db, x_axis='time', y_axis='linear', ax=ax)\n",
    "    ax.set(title = 'Index #: {}; Class: {}; Salience: {}'.format(idx, row['class'], row['salience']))\n",
    "    fig.colorbar(img, ax=ax, format=\"%+2.f dB\")\n",
    "\n",
    "    \n",
    "    plt.show()"
   ]
  },
  {
   "cell_type": "code",
   "execution_count": null,
   "id": "82a99bc7",
   "metadata": {},
   "outputs": [],
   "source": []
  }
 ],
 "metadata": {
  "kernelspec": {
   "display_name": "Python Number41",
   "language": "python",
   "name": "number41"
  },
  "language_info": {
   "codemirror_mode": {
    "name": "ipython",
    "version": 3
   },
   "file_extension": ".py",
   "mimetype": "text/x-python",
   "name": "python",
   "nbconvert_exporter": "python",
   "pygments_lexer": "ipython3",
   "version": "3.11.4"
  }
 },
 "nbformat": 4,
 "nbformat_minor": 5
}
