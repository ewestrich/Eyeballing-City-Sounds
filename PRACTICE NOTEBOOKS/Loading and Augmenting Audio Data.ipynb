{
 "cells": [
  {
   "cell_type": "code",
   "execution_count": null,
   "id": "9987a1b1",
   "metadata": {},
   "outputs": [],
   "source": [
    "import pandas as pd\n",
    "import numpy as np\n",
    "import matplotlib.pyplot as plt\n",
    "%matplotlib inline\n",
    "\n",
    "import os\n",
    "\n",
    "import librosa\n",
    "import librosa.display\n",
    "\n",
    "import IPython\n",
    "\n",
    "from IPython.display import Audio\n",
    "\n",
    "from sklearn.model_selection import train_test_split\n",
    "from sklearn.preprocessing import scale"
   ]
  },
  {
   "cell_type": "code",
   "execution_count": null,
   "id": "48e62726",
   "metadata": {},
   "outputs": [],
   "source": [
    "meta_data = pd.read_csv('../Source/UrbanSound8K/metadata/UrbanSound8K.csv')"
   ]
  },
  {
   "cell_type": "code",
   "execution_count": null,
   "id": "20415fb3",
   "metadata": {},
   "outputs": [],
   "source": [
    "meta_data['class'].value_counts()"
   ]
  },
  {
   "cell_type": "code",
   "execution_count": null,
   "id": "c748f2d2",
   "metadata": {},
   "outputs": [],
   "source": [
    "Audio('../Source/UrbanSound8K/audio/fold5/100032-3-0-0.wav')"
   ]
  },
  {
   "cell_type": "code",
   "execution_count": null,
   "id": "7e0dd7b8",
   "metadata": {},
   "outputs": [],
   "source": [
    "from scipy.io.wavfile import read, write\n"
   ]
  },
  {
   "cell_type": "code",
   "execution_count": null,
   "id": "cf481a6e",
   "metadata": {},
   "outputs": [],
   "source": [
    "y, sr = librosa.load('../Source/UrbanSound8K/audio/fold5/100032-3-0-0.wav')\n",
    "    \n",
    "if y.shape != (88200,):\n",
    "    y = np.resize(y, 88200)\n",
    "        \n",
    "write('dog_bark_4_sec.wav', sr, data=y)\n"
   ]
  },
  {
   "cell_type": "code",
   "execution_count": null,
   "id": "f150fd3b",
   "metadata": {},
   "outputs": [],
   "source": [
    "y, sr = librosa.load('dog_bark_4_sec.wav')\n",
    "Audio('dog_bark_4_sec.wav')"
   ]
  },
  {
   "cell_type": "code",
   "execution_count": null,
   "id": "91d78a14",
   "metadata": {},
   "outputs": [],
   "source": [
    "meta_data.head(30)"
   ]
  },
  {
   "cell_type": "code",
   "execution_count": null,
   "id": "d463ff42",
   "metadata": {},
   "outputs": [],
   "source": [
    "        =if y.shape != (88200,):\n",
    "            y = np.resize(y, 88200)\n"
   ]
  },
  {
   "cell_type": "code",
   "execution_count": null,
   "id": "c2851a19",
   "metadata": {},
   "outputs": [],
   "source": [
    "for idx, row in meta_data[:25].iterrows():\n",
    "    \n",
    "    y, sr = librosa.load('../Source/UrbanSound8K/audio/fold{}/{}'.format(row['fold'], row['slice_file_name']))\n",
    "    \n",
    "    if y.shape != (88200,):\n",
    "        y = np.resize(y, 88200)\n",
    "\n",
    "    fig, ax = plt.subplots()\n",
    "    \n",
    "    D = librosa.stft(y)  # Short Time Fourier Transform (STFT) of y\n",
    "    S_db = librosa.amplitude_to_db(np.abs(D), ref=np.max)    \n",
    "    \n",
    "    img = librosa.display.specshow(S_db, x_axis='time', y_axis='log', ax=ax)\n",
    "    ax.set(title = 'Class: {} Salience: {} \\n Fold #: {} Audio File: {}'.format(row['class'], row['salience'], row['fold'], row['slice_file_name']))\n",
    "    fig.colorbar(img, ax=ax, format=\"%+2.f dB\")\n",
    "\n",
    "    \n",
    "    plt.show()"
   ]
  },
  {
   "cell_type": "code",
   "execution_count": null,
   "id": "aac4e4cd",
   "metadata": {},
   "outputs": [],
   "source": []
  },
  {
   "cell_type": "code",
   "execution_count": null,
   "id": "3c5cd24b",
   "metadata": {},
   "outputs": [],
   "source": []
  },
  {
   "cell_type": "code",
   "execution_count": null,
   "id": "cb77582c",
   "metadata": {},
   "outputs": [],
   "source": [
    "y, sr = librosa.load('UrbanSound8K/audio/fold{}/{}'.format(row['fold'], row['slice_file_name']))\n",
    "\n",
    "fig, ax = plt.subplots()\n"
   ]
  },
  {
   "cell_type": "code",
   "execution_count": null,
   "id": "318ba845",
   "metadata": {},
   "outputs": [],
   "source": []
  },
  {
   "cell_type": "code",
   "execution_count": null,
   "id": "3f585100",
   "metadata": {},
   "outputs": [],
   "source": [
    "y, sr = librosa.load('/Users/eitan/Documents/Flatiron/Capstone/UrbanSound8K/audio/fold8/171464-3-2-0.wav')"
   ]
  },
  {
   "cell_type": "code",
   "execution_count": null,
   "id": "6c6a17e0",
   "metadata": {},
   "outputs": [],
   "source": [
    "meta_data[meta_data['slice_file_name'] == '171464-3-2-0.wav']"
   ]
  },
  {
   "cell_type": "code",
   "execution_count": null,
   "id": "87bf21b0",
   "metadata": {},
   "outputs": [],
   "source": [
    "meta_data[(meta_data['class'] == 'dog_bark') &  (meta_data['salience'] == 1)]"
   ]
  },
  {
   "cell_type": "code",
   "execution_count": null,
   "id": "94de5f74",
   "metadata": {},
   "outputs": [],
   "source": [
    "meta_data[(meta_data['class'] == 'dog_bark') &  (meta_data['salience'] == 2)]"
   ]
  },
  {
   "cell_type": "code",
   "execution_count": null,
   "id": "519bf9ff",
   "metadata": {},
   "outputs": [],
   "source": [
    "y, sr = librosa.load('/Users/eitan/Documents/Flatiron/Capstone/UrbanSound8K/audio/fold4/102102-3-0-0.wav')\n",
    "S = librosa.feature.melspectrogram(y=y, sr=sr,)\n",
    "\n",
    "S_db_mel = librosa.amplitude_to_db(S, ref=np.max)\n",
    "\n",
    "\n",
    "fig, ax = plt.subplots(figsize=(10, 5))\n",
    "# Plot the mel spectogram\n",
    "img = librosa.display.specshow(S_db_mel,\n",
    "                              x_axis='time',\n",
    "                              y_axis='log',\n",
    "                              ax=ax)\n",
    "ax.set_title('Mel Spectogram Example', fontsize=20)\n",
    "fig.colorbar(img, ax=ax, format=f'%0.2f')\n",
    "plt.show()"
   ]
  },
  {
   "cell_type": "code",
   "execution_count": null,
   "id": "c14f152a",
   "metadata": {},
   "outputs": [],
   "source": [
    "y, sr = librosa.load('../Source/UrbanSound8K/audio/fold6/101281-3-0-0.wav')\n",
    "\n",
    "S = librosa.feature.melspectrogram(y=y, sr=sr,)\n",
    "\n",
    "S_db_mel = librosa.amplitude_to_db(S, ref=np.max)\n",
    "\n",
    "\n",
    "fig, ax = plt.subplots(figsize=(10, 5))\n",
    "# Plot the mel spectogram\n",
    "img = librosa.display.specshow(S_db_mel, ax=ax\n",
    "                              , x_axis='time'\n",
    "                             , y_axis='log')\n",
    "                             \n",
    "#ax.set_title('Mel Spectogram Example', fontsize=20)\n",
    "#fig.colorbar(img, ax=ax, format=f'%0.2f')\n",
    "plt.show()"
   ]
  },
  {
   "cell_type": "code",
   "execution_count": null,
   "id": "137b59db",
   "metadata": {},
   "outputs": [],
   "source": [
    "y, sr = librosa.load('/Users/eitan/Documents/Flatiron/Capstone/UrbanSound8K/audio/fold6/101281-3-0-14.wav')\n",
    "\n",
    "S = librosa.feature.melspectrogram(y=y, sr=sr,)\n",
    "\n",
    "S_db_mel = librosa.amplitude_to_db(S, ref=np.max)\n",
    "\n",
    "\n",
    "fig, ax = plt.subplots(figsize=(10, 5))\n",
    "# Plot the mel spectogram\n",
    "img = librosa.display.specshow(S_db_mel,\n",
    "                              x_axis='time',\n",
    "                              y_axis='log',\n",
    "                              ax=ax)\n",
    "ax.set_title('Mel Spectogram Example', fontsize=20)\n",
    "fig.colorbar(img, ax=ax, format=f'%0.2f')\n",
    "plt.show()"
   ]
  },
  {
   "cell_type": "code",
   "execution_count": null,
   "id": "298f7bdb",
   "metadata": {},
   "outputs": [],
   "source": [
    "y, sr = librosa.load('/Users/eitan/Documents/Flatiron/Capstone/UrbanSound8K/audio/fold8/171464-3-2-0.wav')\n",
    "\n",
    "S = librosa.feature.melspectrogram(y=y, sr=sr,)\n",
    "\n",
    "S_db_mel = librosa.amplitude_to_db(S, ref=np.max)\n",
    "\n",
    "\n",
    "fig, ax = plt.subplots(figsize=(10, 5))\n",
    "# Plot the mel spectogram\n",
    "img = librosa.display.specshow(S_db_mel,\n",
    "                              x_axis='time',\n",
    "                              y_axis='log',\n",
    "                              ax=ax)\n",
    "ax.set_title('Mel Spectogram Example', fontsize=20)\n",
    "fig.colorbar(img, ax=ax, format=f'%0.2f')\n",
    "plt.show()"
   ]
  },
  {
   "cell_type": "code",
   "execution_count": null,
   "id": "d4be3718",
   "metadata": {},
   "outputs": [],
   "source": []
  },
  {
   "cell_type": "code",
   "execution_count": null,
   "id": "40972c2a",
   "metadata": {},
   "outputs": [],
   "source": []
  },
  {
   "cell_type": "code",
   "execution_count": null,
   "id": "062a3fb7",
   "metadata": {},
   "outputs": [],
   "source": [
    "meta_data[(meta_data['class'] == 'street_music') &  (meta_data['salience'] == 2)]"
   ]
  },
  {
   "cell_type": "code",
   "execution_count": null,
   "id": "525bf63e",
   "metadata": {},
   "outputs": [],
   "source": [
    "y, sr = librosa.load('/Users/eitan/Documents/Flatiron/Capstone/UrbanSound8K/audio/fold7/101848-9-0-0.wav')\n",
    "\n",
    "S = librosa.feature.melspectrogram(y=y, sr=sr,)\n",
    "\n",
    "S_db_mel = librosa.amplitude_to_db(S, ref=np.max)\n",
    "\n",
    "\n",
    "fig, ax = plt.subplots(figsize=(10, 5))\n",
    "# Plot the mel spectogram\n",
    "img = librosa.display.specshow(S_db_mel,\n",
    "                              x_axis='time',\n",
    "                              y_axis='log',\n",
    "                              ax=ax)\n",
    "ax.set_title('Mel Spectogram Example', fontsize=20)\n",
    "fig.colorbar(img, ax=ax, format=f'%0.2f')\n",
    "plt.show()"
   ]
  },
  {
   "cell_type": "code",
   "execution_count": null,
   "id": "aefce364",
   "metadata": {},
   "outputs": [],
   "source": [
    "y, sr = librosa.load('/Users/eitan/Documents/Flatiron/Capstone/UrbanSound8K/audio/fold7/101848-9-0-0.wav')\n",
    "\n",
    "plt.figure(figsize = (15,6))\n",
    "librosa.display.waveshow(y, sr = sr, color = 'purple');"
   ]
  },
  {
   "cell_type": "code",
   "execution_count": null,
   "id": "d0ac8431",
   "metadata": {},
   "outputs": [],
   "source": [
    "Audio('UrbanSound8K/audio/fold7/101848-9-0-0.wav')"
   ]
  },
  {
   "cell_type": "code",
   "execution_count": null,
   "id": "03fe56d2",
   "metadata": {},
   "outputs": [],
   "source": [
    "Audio('UrbanSound8K/audio/fold4/107653-9-0-12.wav')"
   ]
  },
  {
   "cell_type": "code",
   "execution_count": null,
   "id": "5d2b2382",
   "metadata": {},
   "outputs": [],
   "source": []
  },
  {
   "cell_type": "code",
   "execution_count": null,
   "id": "a142729a",
   "metadata": {},
   "outputs": [],
   "source": [
    "X = librosa.stft(y)\n",
    "Xdb = librosa.amplitude_to_db(abs(X))"
   ]
  },
  {
   "cell_type": "code",
   "execution_count": null,
   "id": "8240cc55",
   "metadata": {},
   "outputs": [],
   "source": [
    "plt.figure(figsize = (14,7))\n",
    "librosa.display.specshow(Xdb, sr=sr, x_axis='time', y_axis = 'hz')\n",
    "plt.colorbar();"
   ]
  },
  {
   "cell_type": "code",
   "execution_count": null,
   "id": "ec80295f",
   "metadata": {},
   "outputs": [],
   "source": [
    "plt.figure(figsize = (14,7))\n",
    "librosa.display.specshow(Xdb, sr=sr, x_axis='time', y_axis = 'linear')\n",
    "plt.colorbar();"
   ]
  },
  {
   "cell_type": "code",
   "execution_count": null,
   "id": "f8912f7e",
   "metadata": {},
   "outputs": [],
   "source": [
    "plt.figure(figsize = (14,7))\n",
    "librosa.display.specshow(Xdb, sr=sr, x_axis='time', y_axis = 'log')\n",
    "plt.colorbar();"
   ]
  },
  {
   "cell_type": "code",
   "execution_count": null,
   "id": "cd3f3104",
   "metadata": {},
   "outputs": [],
   "source": []
  },
  {
   "cell_type": "code",
   "execution_count": null,
   "id": "44bd93f3",
   "metadata": {},
   "outputs": [],
   "source": [
    "tempo, beat_frames = librosa.beat.beat_track(y = y, sr = sr)"
   ]
  },
  {
   "cell_type": "code",
   "execution_count": null,
   "id": "f1b3897d",
   "metadata": {},
   "outputs": [],
   "source": [
    "tempo"
   ]
  },
  {
   "cell_type": "code",
   "execution_count": null,
   "id": "7d732776",
   "metadata": {},
   "outputs": [],
   "source": [
    "beat_frames"
   ]
  },
  {
   "cell_type": "code",
   "execution_count": null,
   "id": "3dddcc78",
   "metadata": {},
   "outputs": [],
   "source": []
  },
  {
   "cell_type": "markdown",
   "id": "88b1b2c7",
   "metadata": {},
   "source": [
    "### Feature Extraction"
   ]
  },
  {
   "cell_type": "markdown",
   "id": "bc1fc7e8",
   "metadata": {},
   "source": [
    "#### Zero Crossing Rate"
   ]
  },
  {
   "cell_type": "markdown",
   "id": "95830ef2",
   "metadata": {},
   "source": [
    "Rate of the sign changes along the signal (when the wave crosses zero)"
   ]
  },
  {
   "cell_type": "code",
   "execution_count": null,
   "id": "e59fe894",
   "metadata": {},
   "outputs": [],
   "source": [
    "Audio('UrbanSound8K/audio/fold6/99710-9-0-6.wav')"
   ]
  },
  {
   "cell_type": "code",
   "execution_count": null,
   "id": "92ae8197",
   "metadata": {},
   "outputs": [],
   "source": [
    "y, sr = librosa.load('/Users/eitan/Documents/Flatiron/Capstone/UrbanSound8K/audio/fold6/99710-9-0-6.wav')\n",
    "\n",
    "plt.figure(figsize = (15,6))\n",
    "librosa.display.waveshow(y, sr = sr, color = 'purple');"
   ]
  },
  {
   "cell_type": "code",
   "execution_count": null,
   "id": "f67f2a04",
   "metadata": {},
   "outputs": [],
   "source": [
    "y.shape"
   ]
  },
  {
   "cell_type": "markdown",
   "id": "48da09ff",
   "metadata": {},
   "source": [
    "Zooming in"
   ]
  },
  {
   "cell_type": "code",
   "execution_count": null,
   "id": "2399a160",
   "metadata": {},
   "outputs": [],
   "source": [
    "plt.figure(figsize = (15,8))\n",
    "plt.plot(y[0:50])\n",
    "plt.grid();"
   ]
  },
  {
   "cell_type": "code",
   "execution_count": null,
   "id": "b53a2e40",
   "metadata": {},
   "outputs": [],
   "source": [
    "zero_crossings = librosa.zero_crossings(y[0:50], pad = False)\n",
    "zero_crossings.sum()"
   ]
  },
  {
   "cell_type": "code",
   "execution_count": null,
   "id": "d9c3d53b",
   "metadata": {},
   "outputs": [],
   "source": [
    "zero_crossings = librosa.zero_crossings(y, pad = False)\n",
    "zero_crossings.sum()"
   ]
  },
  {
   "cell_type": "code",
   "execution_count": null,
   "id": "9c2aa9d4",
   "metadata": {},
   "outputs": [],
   "source": []
  },
  {
   "cell_type": "code",
   "execution_count": null,
   "id": "4701a615",
   "metadata": {},
   "outputs": [],
   "source": []
  },
  {
   "cell_type": "markdown",
   "id": "b560610f",
   "metadata": {},
   "source": [
    "### Specreal Centroid"
   ]
  },
  {
   "cell_type": "code",
   "execution_count": null,
   "id": "f53af5aa",
   "metadata": {},
   "outputs": [],
   "source": [
    "from sklearn.preprocessing import minmax_scale"
   ]
  },
  {
   "cell_type": "code",
   "execution_count": null,
   "id": "3f780512",
   "metadata": {},
   "outputs": [],
   "source": [
    "y, sr = librosa.load('/Users/eitan/Documents/Flatiron/Capstone/UrbanSound8K/audio/fold6/99710-9-0-6.wav')\n"
   ]
  },
  {
   "cell_type": "code",
   "execution_count": null,
   "id": "93c85e9c",
   "metadata": {},
   "outputs": [],
   "source": [
    "all_centroids = librosa.feature.spectral_centroid(y=y, sr=sr)[0]"
   ]
  },
  {
   "cell_type": "code",
   "execution_count": null,
   "id": "ae2ec14a",
   "metadata": {},
   "outputs": [],
   "source": [
    "all_centroids.shape"
   ]
  },
  {
   "cell_type": "code",
   "execution_count": null,
   "id": "84a237eb",
   "metadata": {},
   "outputs": [],
   "source": [
    "frames = range(len(all_centroids))"
   ]
  },
  {
   "cell_type": "code",
   "execution_count": null,
   "id": "d32c0be6",
   "metadata": {},
   "outputs": [],
   "source": [
    "t = librosa.frames_to_time(frames)"
   ]
  },
  {
   "cell_type": "code",
   "execution_count": null,
   "id": "a68e8bad",
   "metadata": {},
   "outputs": [],
   "source": [
    "t.shape"
   ]
  },
  {
   "cell_type": "code",
   "execution_count": null,
   "id": "f350ac22",
   "metadata": {},
   "outputs": [],
   "source": [
    "def normalize_spectrum(x, axis=0):\n",
    "    return minmax_scale(x, axis = axis)"
   ]
  },
  {
   "cell_type": "code",
   "execution_count": null,
   "id": "d2d3fe48",
   "metadata": {},
   "outputs": [],
   "source": [
    "plt.figure(figsize = (15,6))\n",
    "librosa.display.waveshow(y= y, sr = sr, alpha=0.5)\n",
    "plt.plot(t, normalize_spectrum(all_centroids), color = 'r');"
   ]
  },
  {
   "cell_type": "code",
   "execution_count": null,
   "id": "42c12a8c",
   "metadata": {},
   "outputs": [],
   "source": []
  },
  {
   "cell_type": "code",
   "execution_count": null,
   "id": "01af59e4",
   "metadata": {},
   "outputs": [],
   "source": []
  },
  {
   "cell_type": "markdown",
   "id": "f9cd38d3",
   "metadata": {},
   "source": [
    "### Spectral Rolloff"
   ]
  },
  {
   "cell_type": "code",
   "execution_count": null,
   "id": "11fe2668",
   "metadata": {},
   "outputs": [],
   "source": [
    "y, sr = librosa.load('/Users/eitan/Documents/Flatiron/Capstone/UrbanSound8K/audio/fold6/99710-9-0-6.wav')\n"
   ]
  },
  {
   "cell_type": "code",
   "execution_count": null,
   "id": "5d9cc1cf",
   "metadata": {},
   "outputs": [],
   "source": [
    "all_spectral_rolloff = librosa.feature.spectral_rolloff(y =y, sr =sr)[0]"
   ]
  },
  {
   "cell_type": "code",
   "execution_count": null,
   "id": "08c791f8",
   "metadata": {},
   "outputs": [],
   "source": [
    "frames = range(len(all_spectral_rolloff))\n",
    "\n",
    "t = librosa.frames_to_time(frames)"
   ]
  },
  {
   "cell_type": "code",
   "execution_count": null,
   "id": "9abf3701",
   "metadata": {},
   "outputs": [],
   "source": [
    "all_spectral_rolloff.shape"
   ]
  },
  {
   "cell_type": "code",
   "execution_count": null,
   "id": "4434a9a0",
   "metadata": {},
   "outputs": [],
   "source": [
    "plt.figure(figsize = (15,6))\n",
    "librosa.display.waveshow(y= y, sr = sr, alpha=0.5)\n",
    "plt.plot(t, normalize_spectrum(all_spectral_rolloff), color = 'r');"
   ]
  },
  {
   "cell_type": "code",
   "execution_count": null,
   "id": "78afb43f",
   "metadata": {},
   "outputs": [],
   "source": []
  },
  {
   "cell_type": "markdown",
   "id": "82e72104",
   "metadata": {},
   "source": [
    "### Mel Frequency Cepstral Coefficients (MFCC)"
   ]
  },
  {
   "cell_type": "code",
   "execution_count": null,
   "id": "3be54348",
   "metadata": {},
   "outputs": [],
   "source": []
  },
  {
   "cell_type": "code",
   "execution_count": null,
   "id": "a48ca13c",
   "metadata": {},
   "outputs": [],
   "source": [
    "mfcc.shape"
   ]
  },
  {
   "cell_type": "code",
   "execution_count": null,
   "id": "feb2186c",
   "metadata": {},
   "outputs": [],
   "source": [
    "y, sr = librosa.load('/Users/eitan/Documents/Flatiron/Capstone/UrbanSound8K/audio/fold6/99710-9-0-6.wav')\n",
    "\n",
    "mfcc = librosa.feature.mfcc(y = y, sr =sr)\n",
    "librosa.display.specshow(mfcc, sr= sr, x_axis = 'time');"
   ]
  },
  {
   "cell_type": "code",
   "execution_count": null,
   "id": "6d40be51",
   "metadata": {},
   "outputs": [],
   "source": [
    "y, sr = librosa.load('/Users/eitan/Documents/Flatiron/Capstone/UrbanSound8K/audio/fold7/101848-9-0-0.wav')\n",
    "mfcc = librosa.feature.mfcc(y = y, sr =sr)\n",
    "librosa.display.specshow(mfcc, sr= sr, x_axis = 'time');"
   ]
  },
  {
   "cell_type": "code",
   "execution_count": null,
   "id": "82e4d9dc",
   "metadata": {},
   "outputs": [],
   "source": [
    "y, sr = librosa.load('/Users/eitan/Documents/Flatiron/Capstone/UrbanSound8K/audio/fold5/100852-0-0-0.wav')\n",
    "mfcc = librosa.feature.mfcc(y = y, sr =sr)\n",
    "\n",
    "librosa.display.specshow(mfcc, sr= sr, x_axis = 'time');"
   ]
  },
  {
   "cell_type": "code",
   "execution_count": null,
   "id": "5d074e99",
   "metadata": {},
   "outputs": [],
   "source": [
    "y, sr = librosa.load('/Users/eitan/Documents/Flatiron/Capstone/UrbanSound8K/audio/fold5/100852-0-0-0.wav')\n",
    "mfcc = librosa.feature.mfcc(y = y, sr =sr)\n",
    "mfccs = scale(mfcc, axis = 1)\n",
    "\n",
    "librosa.display.specshow(mfccs, sr= sr, x_axis = 'time');"
   ]
  },
  {
   "cell_type": "code",
   "execution_count": null,
   "id": "6d0640d0",
   "metadata": {},
   "outputs": [],
   "source": []
  },
  {
   "cell_type": "code",
   "execution_count": null,
   "id": "9becf14e",
   "metadata": {},
   "outputs": [],
   "source": [
    "y, sr = librosa.load('/Users/eitan/Documents/Flatiron/Capstone/UrbanSound8K/audio/fold6/99710-9-0-6.wav')\n",
    "\n",
    "mfcc = librosa.feature.mfcc(y = y, sr =sr)\n",
    "librosa.display.specshow(mfcc, sr= sr, x_axis = 'time');"
   ]
  },
  {
   "cell_type": "code",
   "execution_count": null,
   "id": "151dc66e",
   "metadata": {},
   "outputs": [],
   "source": [
    "mfccs = scale(mfcc, axis = 1)\n",
    "librosa.display.specshow(mfccs, sr = sr, x_axis = 'time');"
   ]
  },
  {
   "cell_type": "code",
   "execution_count": null,
   "id": "3da67036",
   "metadata": {},
   "outputs": [],
   "source": []
  },
  {
   "cell_type": "code",
   "execution_count": null,
   "id": "ada5ba77",
   "metadata": {},
   "outputs": [],
   "source": []
  },
  {
   "cell_type": "code",
   "execution_count": null,
   "id": "0b146eb8",
   "metadata": {},
   "outputs": [],
   "source": [
    "for idx, row in meta_data[:5].iterrows():\n",
    "    \n",
    "    y, sr = librosa.load('UrbanSound8K/audio/fold{}/{}'.format(row['fold'], row['slice_file_name']))\n",
    "\n",
    "    fig, ax = plt.subplots()\n",
    "    \n",
    "    mfcc = librosa.feature.mfcc(y = y, sr =sr)\n",
    "    mfccs = scale(mfcc, axis = 1)\n",
    "    librosa.display.specshow(mfccs, sr= sr, x_axis = 'time');\n",
    "    \n",
    "    #D = librosa.stft(y)  # Short Time Fourier Transform (STFT) of y\n",
    "    #S_db = librosa.amplitude_to_db(np.abs(D), ref=np.max)    \n",
    "    \n",
    "    #img = librosa.display.specshow(S_db, x_axis='time', y_axis='linear', ax=ax)\n",
    "    ax.set(title = 'Class: {} Salience: {} \\n Fold #: {} Audio File: {}'.format(row['class'], row['salience'], row['fold'], row['slice_file_name']))\n",
    "    fig.colorbar(img, ax=ax, format=\"%+2.f dB\")\n",
    "\n",
    "    \n",
    "    plt.show()"
   ]
  },
  {
   "cell_type": "code",
   "execution_count": null,
   "id": "a0c7bd4b",
   "metadata": {},
   "outputs": [],
   "source": []
  },
  {
   "cell_type": "code",
   "execution_count": null,
   "id": "4876db32",
   "metadata": {},
   "outputs": [],
   "source": [
    "children_playing_1 = meta_data[(meta_data['class'] == 'children_playing') & (meta_data['salience'] == 1)]"
   ]
  },
  {
   "cell_type": "code",
   "execution_count": null,
   "id": "3a50507a",
   "metadata": {},
   "outputs": [],
   "source": [
    "children_playing_1"
   ]
  },
  {
   "cell_type": "code",
   "execution_count": null,
   "id": "d483db4d",
   "metadata": {},
   "outputs": [],
   "source": [
    "for idx, row in children_playing_1[:5].iterrows():\n",
    "    \n",
    "    y, sr = librosa.load('UrbanSound8K/audio/fold{}/{}'.format(row['fold'], row['slice_file_name']))\n",
    "\n",
    "    fig, ax = plt.subplots()\n",
    "    \n",
    "    mfcc = librosa.feature.mfcc(y = y, sr =sr)\n",
    "    mfccs = scale(mfcc, axis = 1)\n",
    "    librosa.display.specshow(mfccs, sr= sr, x_axis = 'time');\n",
    "    \n",
    "    #D = librosa.stft(y)  # Short Time Fourier Transform (STFT) of y\n",
    "    #S_db = librosa.amplitude_to_db(np.abs(D), ref=np.max)    \n",
    "    \n",
    "    #img = librosa.display.specshow(S_db, x_axis='time', y_axis='linear', ax=ax)\n",
    "    ax.set(title = 'Class: {} Salience: {} \\n Fold #: {} Audio File: {}'.format(row['class'], row['salience'], row['fold'], row['slice_file_name']))\n",
    "    fig.colorbar(img, ax=ax, format=\"%+2.f dB\")\n",
    "\n",
    "    \n",
    "    plt.show()"
   ]
  },
  {
   "cell_type": "code",
   "execution_count": null,
   "id": "d2768b52",
   "metadata": {},
   "outputs": [],
   "source": [
    "children_playing_2 = meta_data[(meta_data['class'] == 'children_playing') & (meta_data['salience'] == 2)]"
   ]
  },
  {
   "cell_type": "code",
   "execution_count": null,
   "id": "b32aa04a",
   "metadata": {},
   "outputs": [],
   "source": [
    "for idx, row in children_playing_2[:5].iterrows():\n",
    "    \n",
    "    y, sr = librosa.load('UrbanSound8K/audio/fold{}/{}'.format(row['fold'], row['slice_file_name']))\n",
    "\n",
    "    fig, ax = plt.subplots()\n",
    "    \n",
    "    mfcc = librosa.feature.mfcc(y = y, sr =sr)\n",
    "    mfccs = scale(mfcc, axis = 1)\n",
    "    librosa.display.specshow(mfccs, sr= sr, x_axis = 'time');\n",
    "    \n",
    "    #D = librosa.stft(y)  # Short Time Fourier Transform (STFT) of y\n",
    "    #S_db = librosa.amplitude_to_db(np.abs(D), ref=np.max)    \n",
    "    \n",
    "    #img = librosa.display.specshow(S_db, x_axis='time', y_axis='linear', ax=ax)\n",
    "    ax.set(title = 'Class: {} Salience: {} \\n Fold #: {} Audio File: {}'.format(row['class'], row['salience'], row['fold'], row['slice_file_name']))\n",
    "    fig.colorbar(img, ax=ax, format=\"%+2.f dB\")\n",
    "\n",
    "    \n",
    "    plt.show()"
   ]
  },
  {
   "cell_type": "code",
   "execution_count": null,
   "id": "8037cc77",
   "metadata": {},
   "outputs": [],
   "source": [
    "meta_data['class'].unique()"
   ]
  },
  {
   "cell_type": "code",
   "execution_count": null,
   "id": "af7c789f",
   "metadata": {},
   "outputs": [],
   "source": [
    "engine_1 = meta_data[(meta_data['class'] == 'engine_idling') & (meta_data['salience'] == 1)]"
   ]
  },
  {
   "cell_type": "code",
   "execution_count": null,
   "id": "3d1e7a83",
   "metadata": {},
   "outputs": [],
   "source": [
    "def mfccs_plot(df, samples):\n",
    "    for idx, row in df[:samples].iterrows():\n",
    "        y, sr = librosa.load('UrbanSound8K/audio/fold{}/{}'.format(row['fold'], row['slice_file_name']))\n",
    "        \n",
    "        if y.shape != (88200,):\n",
    "            y = np.resize(y, 88200)\n",
    "\n",
    "        fig, ax = plt.subplots()\n",
    "        mfcc = librosa.feature.mfcc(y = y, sr =sr)\n",
    "        mfccs = scale(mfcc, axis = 1)\n",
    "        librosa.display.specshow(mfccs, sr= sr, x_axis = 'time');\n",
    "    \n",
    "    #D = librosa.stft(y)  # Short Time Fourier Transform (STFT) of y\n",
    "    #S_db = librosa.amplitude_to_db(np.abs(D), ref=np.max)    \n",
    "    \n",
    "    #img = librosa.display.specshow(S_db, x_axis='time', y_axis='linear', ax=ax)\n",
    "        ax.set(title = 'Class: {} Salience: {} \\n Fold #: {} Audio File: {}'.format(row['class'], row['salience'], row['fold'], row['slice_file_name']))\n",
    "        fig.colorbar(img, ax=ax, format=\"%+2.f dB\")\n",
    "\n",
    "    \n",
    "    return plt.show()"
   ]
  },
  {
   "cell_type": "code",
   "execution_count": null,
   "id": "8add1862",
   "metadata": {},
   "outputs": [],
   "source": [
    "for idx, row in engine_1[:5].iterrows():\n",
    "    \n",
    "    y, sr = librosa.load('UrbanSound8K/audio/fold{}/{}'.format(row['fold'], row['slice_file_name']))\n",
    "\n",
    "    fig, ax = plt.subplots()\n",
    "    \n",
    "    mfcc = librosa.feature.mfcc(y = y, sr =sr)\n",
    "    mfccs = scale(mfcc, axis = 1)\n",
    "    librosa.display.specshow(mfccs, sr= sr, x_axis = 'time');\n",
    "    \n",
    "    #D = librosa.stft(y)  # Short Time Fourier Transform (STFT) of y\n",
    "    #S_db = librosa.amplitude_to_db(np.abs(D), ref=np.max)    \n",
    "    \n",
    "    #img = librosa.display.specshow(S_db, x_axis='time', y_axis='linear', ax=ax)\n",
    "    ax.set(title = 'Class: {} Salience: {} \\n Fold #: {} Audio File: {}'.format(row['class'], row['salience'], row['fold'], row['slice_file_name']))\n",
    "    fig.colorbar(img, ax=ax, format=\"%+2.f dB\")\n",
    "\n",
    "    \n",
    "    plt.show()"
   ]
  },
  {
   "cell_type": "code",
   "execution_count": null,
   "id": "074d0824",
   "metadata": {},
   "outputs": [],
   "source": [
    "car_horn_1 = meta_data[(meta_data['class'] == 'car_horn') & (meta_data['salience'] == 1)]"
   ]
  },
  {
   "cell_type": "code",
   "execution_count": null,
   "id": "6e3b370d",
   "metadata": {},
   "outputs": [],
   "source": [
    "for idx, row in car_horn_1[:5].iterrows():\n",
    "    \n",
    "    y, sr = librosa.load('UrbanSound8K/audio/fold{}/{}'.format(row['fold'], row['slice_file_name']))\n",
    "\n",
    "    fig, ax = plt.subplots()\n",
    "    \n",
    "    mfcc = librosa.feature.mfcc(y = y, sr =sr)\n",
    "    mfccs = scale(mfcc, axis = 1)\n",
    "    librosa.display.specshow(mfccs, sr= sr, x_axis = 'time');\n",
    "    \n",
    "    #D = librosa.stft(y)  # Short Time Fourier Transform (STFT) of y\n",
    "    #S_db = librosa.amplitude_to_db(np.abs(D), ref=np.max)    \n",
    "    \n",
    "    #img = librosa.display.specshow(S_db, x_axis='time', y_axis='linear', ax=ax)\n",
    "    ax.set(title = 'Class: {} Salience: {} \\n Fold #: {} Audio File: {}'.format(row['class'], row['salience'], row['fold'], row['slice_file_name']))\n",
    "    fig.colorbar(img, ax=ax, format=\"%+2.f dB\")\n",
    "\n",
    "    \n",
    "    plt.show()"
   ]
  },
  {
   "cell_type": "code",
   "execution_count": null,
   "id": "4bf2f29a",
   "metadata": {},
   "outputs": [],
   "source": []
  },
  {
   "cell_type": "code",
   "execution_count": null,
   "id": "9cc0928f",
   "metadata": {},
   "outputs": [],
   "source": [
    "mfccs_plot(car_horn_1, 5)"
   ]
  },
  {
   "cell_type": "code",
   "execution_count": null,
   "id": "e206c128",
   "metadata": {},
   "outputs": [],
   "source": [
    "engine_2 = meta_data[(meta_data['class'] == 'engine_idling') & (meta_data['salience'] == 2)]"
   ]
  },
  {
   "cell_type": "code",
   "execution_count": null,
   "id": "401edc11",
   "metadata": {},
   "outputs": [],
   "source": [
    "mfccs_plot(engine_1, 5)"
   ]
  },
  {
   "cell_type": "code",
   "execution_count": null,
   "id": "b85cdd4f",
   "metadata": {},
   "outputs": [],
   "source": [
    "mfccs_plot(engine_2, 5)"
   ]
  },
  {
   "cell_type": "code",
   "execution_count": null,
   "id": "dacf8bc0",
   "metadata": {},
   "outputs": [],
   "source": [
    "drilling_1 = meta_data[(meta_data['class'] == 'drilling') & (meta_data['salience'] == 1)]"
   ]
  },
  {
   "cell_type": "code",
   "execution_count": null,
   "id": "022d7256",
   "metadata": {},
   "outputs": [],
   "source": [
    "def play_audio_df(df, samples):\n",
    "    for idx, row in df[:samples].iterrows():\n",
    "        path = 'UrbanSound8K/audio/fold{}/{}'.format(row['fold'], row['slice_file_name'])\n",
    "        \n",
    "        y, sr = librosa.load(path)\n",
    "        \n",
    "        if y.shape != (88200,):\n",
    "            y = np.resize(y, 88200)\n",
    "\n",
    "    return Audio('UrbanSound8K/audio/fold6/99710-9-0-6.wav')"
   ]
  },
  {
   "cell_type": "code",
   "execution_count": null,
   "id": "59072074",
   "metadata": {},
   "outputs": [],
   "source": [
    "play_audio_df(drilling_1, 5)"
   ]
  },
  {
   "cell_type": "code",
   "execution_count": null,
   "id": "2a637f22",
   "metadata": {},
   "outputs": [],
   "source": [
    "mfccs_plot(drilling_1, 5)"
   ]
  },
  {
   "cell_type": "markdown",
   "id": "f84eb540",
   "metadata": {},
   "source": [
    "### Root Mean Square"
   ]
  },
  {
   "cell_type": "code",
   "execution_count": null,
   "id": "093fe8b2",
   "metadata": {},
   "outputs": [],
   "source": [
    "y, sr = librosa.load('/Users/eitan/Documents/Flatiron/Capstone/UrbanSound8K/audio/fold7/101848-9-0-0.wav')\n",
    "\n",
    "rms_vals = librosa.feature.rms(y =y)"
   ]
  },
  {
   "cell_type": "code",
   "execution_count": null,
   "id": "f5078568",
   "metadata": {},
   "outputs": [],
   "source": [
    "S, phase = librosa.magphase(librosa.stft(y))\n",
    "rms_mag = librosa.feature.rms(S=S)"
   ]
  },
  {
   "cell_type": "code",
   "execution_count": null,
   "id": "94702ff0",
   "metadata": {},
   "outputs": [],
   "source": []
  },
  {
   "cell_type": "code",
   "execution_count": null,
   "id": "61e74332",
   "metadata": {},
   "outputs": [],
   "source": []
  },
  {
   "cell_type": "code",
   "execution_count": null,
   "id": "dcfa1bd3",
   "metadata": {},
   "outputs": [],
   "source": [
    "meta_data['class'].unique()"
   ]
  }
 ],
 "metadata": {
  "kernelspec": {
   "display_name": "Python Number41",
   "language": "python",
   "name": "number41"
  },
  "language_info": {
   "codemirror_mode": {
    "name": "ipython",
    "version": 3
   },
   "file_extension": ".py",
   "mimetype": "text/x-python",
   "name": "python",
   "nbconvert_exporter": "python",
   "pygments_lexer": "ipython3",
   "version": "3.11.4"
  }
 },
 "nbformat": 4,
 "nbformat_minor": 5
}
