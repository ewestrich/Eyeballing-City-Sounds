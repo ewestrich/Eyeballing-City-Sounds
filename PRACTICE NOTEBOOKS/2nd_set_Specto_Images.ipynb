{
 "cells": [
  {
   "cell_type": "code",
   "execution_count": null,
   "id": "62496ccd",
   "metadata": {},
   "outputs": [],
   "source": [
    "import pandas as pd\n",
    "import numpy as np\n",
    "import matplotlib.pyplot as plt\n",
    "%matplotlib inline\n",
    "\n",
    "import os\n",
    "\n",
    "import librosa\n",
    "import librosa.display\n",
    "\n",
    "import IPython\n",
    "\n",
    "from IPython.display import Audio\n",
    "\n",
    "from sklearn.model_selection import train_test_split"
   ]
  },
  {
   "cell_type": "code",
   "execution_count": null,
   "id": "50888538",
   "metadata": {},
   "outputs": [],
   "source": [
    "plt.ioff();"
   ]
  },
  {
   "cell_type": "code",
   "execution_count": null,
   "id": "7d94ad1f",
   "metadata": {},
   "outputs": [],
   "source": [
    "meta_data = pd.read_csv('UrbanSound8K/metadata/UrbanSound8K.csv')"
   ]
  },
  {
   "cell_type": "code",
   "execution_count": null,
   "id": "153bdb5f",
   "metadata": {},
   "outputs": [],
   "source": [
    "meta_rand = meta_data.sample(frac=1, random_state = 1).reset_index(drop=True)"
   ]
  },
  {
   "cell_type": "code",
   "execution_count": null,
   "id": "dcd92e9f",
   "metadata": {},
   "outputs": [],
   "source": [
    "meta_data[['classID', 'class']].value_counts().sort_index()"
   ]
  },
  {
   "cell_type": "code",
   "execution_count": null,
   "id": "acfc4f11",
   "metadata": {},
   "outputs": [],
   "source": [
    "rand_20 = meta_rand.loc[:20,:]"
   ]
  },
  {
   "cell_type": "code",
   "execution_count": null,
   "id": "267ac338",
   "metadata": {
    "scrolled": false
   },
   "outputs": [],
   "source": [
    "for idx, row in rand_20.iterrows():\n",
    "    \n",
    "    y, sr = librosa.load('UrbanSound8K/audio/fold{}/{}'.format(row['fold'], row['slice_file_name']))\n",
    "\n",
    "    fig, ax = plt.subplots()\n",
    "    \n",
    "    D = librosa.stft(y)  # Short Time Fourier Transform (STFT) of y\n",
    "    S_db = librosa.amplitude_to_db(np.abs(D), ref=np.max)    \n",
    "    \n",
    "    img = librosa.display.specshow(S_db, x_axis='time', y_axis='linear', ax=ax)\n",
    "    ax.set(title = 'Index #: {}; Class: {}; Salience: {}'.format(idx, row['class'], row['salience']))\n",
    "    fig.colorbar(img, ax=ax, format=\"%+2.f dB\")\n",
    "\n",
    "    \n",
    "    plt.show()"
   ]
  },
  {
   "cell_type": "code",
   "execution_count": null,
   "id": "20fab5ac",
   "metadata": {},
   "outputs": [],
   "source": []
  },
  {
   "cell_type": "code",
   "execution_count": null,
   "id": "7859b92f",
   "metadata": {},
   "outputs": [],
   "source": [
    "train_meta_data, test_meta_data = train_test_split(meta_data, test_size=0.25\\\n",
    "                                                   ,random_state=0, stratify=meta_data['classID'])"
   ]
  },
  {
   "cell_type": "code",
   "execution_count": null,
   "id": "b69149ba",
   "metadata": {},
   "outputs": [],
   "source": []
  },
  {
   "cell_type": "code",
   "execution_count": null,
   "id": "0246e302",
   "metadata": {},
   "outputs": [],
   "source": [
    "''''# save train spectos\n",
    "\n",
    "for idx, row in train_meta_data.iterrows():\n",
    "    path = '/Users/eitan/Documents/Flatiron/Capstone/UrbanSound8K/audio/fold{}/{}'.format(row['fold'],\n",
    "                                                                                         row['slice_file_name'])\n",
    "    y, sr = librosa.load(path)\n",
    "\n",
    "    fig, ax = plt.subplots()\n",
    "    \n",
    "    D = librosa.stft(y)  # Short Time Fourier Transform (STFT) of y\n",
    "    S_db = librosa.amplitude_to_db(np.abs(D), ref=np.max)\n",
    "    \n",
    "    img = librosa.display.specshow(S_db, ax = ax)\n",
    "    \n",
    "    my_path = '/Users/eitan/Documents/Flatiron/Capstone/'\n",
    "    file_name = row['slice_file_name'][:-4]\n",
    "\n",
    "    training_path = 'train_splits/{}/'.format(row['classID'])\n",
    "        \n",
    "    if not os.path.isdir(my_path + training_path):\n",
    "        os.makedirs(my_path + training_path)\n",
    "        \n",
    "    plt.savefig(my_path + training_path + file_name)\n",
    "    \n",
    "    plt.close()"
   ]
  },
  {
   "cell_type": "code",
   "execution_count": null,
   "id": "22666932",
   "metadata": {},
   "outputs": [],
   "source": [
    "''''# save test spectos\n",
    "\n",
    "for idx, row in test_meta_data.iterrows():\n",
    "    path = '/Users/eitan/Documents/Flatiron/Capstone/UrbanSound8K/audio/fold{}/{}'.format(row['fold'],\n",
    "                                                                                         row['slice_file_name'])\n",
    "    y, sr = librosa.load(path)\n",
    "\n",
    "    fig, ax = plt.subplots()\n",
    "    \n",
    "    D = librosa.stft(y)  # Short Time Fourier Transform (STFT) of y\n",
    "    S_db = librosa.amplitude_to_db(np.abs(D), ref=np.max)\n",
    "    \n",
    "    img = librosa.display.specshow(S_db, ax = ax)\n",
    "    \n",
    "    my_path = '/Users/eitan/Documents/Flatiron/Capstone/'\n",
    "    file_name = row['slice_file_name'][:-4]\n",
    "    \n",
    "    testing_path = 'test_splits/{}/'.format(row['classID'])\n",
    "        \n",
    "    if not os.path.isdir(my_path + testing_path):\n",
    "        os.makedirs(my_path + testing_path)\n",
    "        \n",
    "    plt.savefig(my_path + testing_path + file_name)\n",
    "\n",
    "    plt.close()"
   ]
  },
  {
   "cell_type": "code",
   "execution_count": null,
   "id": "62579b80",
   "metadata": {},
   "outputs": [],
   "source": []
  },
  {
   "cell_type": "code",
   "execution_count": null,
   "id": "276eb232",
   "metadata": {},
   "outputs": [],
   "source": [
    "meta_rand.head(40)"
   ]
  },
  {
   "cell_type": "code",
   "execution_count": null,
   "id": "0c8a05a7",
   "metadata": {},
   "outputs": [],
   "source": [
    "meta_rand.iloc[:40]"
   ]
  },
  {
   "cell_type": "code",
   "execution_count": null,
   "id": "1ff672db",
   "metadata": {
    "scrolled": false
   },
   "outputs": [],
   "source": [
    "for idx, row in meta_rand.iloc[:40].iterrows():\n",
    "    \n",
    "    y, sr =  librosa.load('UrbanSound8K/audio/fold{}/{}'.format(row['fold'], row['slice_file_name']))\n",
    "\n",
    "    fig, ax = plt.subplots()\n",
    "    \n",
    "    D = librosa.stft(y)  # Short Time Fourier Transform (STFT) of y\n",
    "    S_db = librosa.amplitude_to_db(np.abs(D), ref=np.max)    \n",
    "    \n",
    "    img = librosa.display.specshow(S_db, x_axis='time', y_axis='linear', ax=ax)\n",
    "    ax.set(title = 'Index #: {}; Class: {}; Salience: {}'.format(idx, row['class'], row['salience']))\n",
    "    fig.colorbar(img, ax=ax, format=\"%+2.f dB\")\n",
    "\n",
    "    \n",
    "    plt.show()"
   ]
  },
  {
   "cell_type": "markdown",
   "id": "76a7a5de",
   "metadata": {},
   "source": [
    "Function to get durations of different audio files"
   ]
  },
  {
   "cell_type": "code",
   "execution_count": null,
   "id": "d9f272ea",
   "metadata": {},
   "outputs": [],
   "source": [
    "y, sr = librosa.load('/Users/eitan/Documents/Flatiron/Capstone/UrbanSound8K/audio/fold3/12647-3-0-0.wav')"
   ]
  },
  {
   "cell_type": "code",
   "execution_count": null,
   "id": "d4208d7b",
   "metadata": {},
   "outputs": [],
   "source": [
    "y.shape"
   ]
  },
  {
   "cell_type": "code",
   "execution_count": null,
   "id": "def927d8",
   "metadata": {},
   "outputs": [],
   "source": [
    "y_4 = np.resize(y, 88200)"
   ]
  },
  {
   "cell_type": "code",
   "execution_count": null,
   "id": "20fd8df1",
   "metadata": {},
   "outputs": [],
   "source": [
    "    fig, ax = plt.subplots(figsize=(12, 4))\n",
    "    \n",
    "    D = librosa.stft(y)  # Short Time Fourier Transform (STFT) of y\n",
    "    S_db = librosa.amplitude_to_db(np.abs(D), ref=np.max)    \n",
    "    \n",
    "    img = librosa.display.specshow(S_db, x_axis='time', y_axis='linear', ax=ax)\n",
    "    fig.colorbar(img, ax=ax, format=\"%+2.f dB\")\n",
    "    plt.show()"
   ]
  },
  {
   "cell_type": "code",
   "execution_count": null,
   "id": "5a7c18aa",
   "metadata": {},
   "outputs": [],
   "source": [
    "    fig, ax = plt.subplots(figsize=(12, 4))\n",
    "    \n",
    "    D = librosa.stft(y_4)  # Short Time Fourier Transform (STFT) of y\n",
    "    S_db = librosa.amplitude_to_db(np.abs(D), ref=np.max)    \n",
    "    \n",
    "    img = librosa.display.specshow(S_db, x_axis='time', y_axis='linear', ax=ax)\n",
    "    fig.colorbar(img, ax=ax, format=\"%+2.f dB\")\n",
    "    plt.show()"
   ]
  },
  {
   "cell_type": "code",
   "execution_count": null,
   "id": "68c7383b",
   "metadata": {},
   "outputs": [],
   "source": [
    "Audio(y,rate=sr)\n"
   ]
  },
  {
   "cell_type": "code",
   "execution_count": null,
   "id": "9e946c66",
   "metadata": {},
   "outputs": [],
   "source": [
    "Audio(y_4,rate=sr)\n"
   ]
  },
  {
   "cell_type": "code",
   "execution_count": null,
   "id": "fe42d7a0",
   "metadata": {},
   "outputs": [],
   "source": [
    "y, sr = librosa.load('/Users/eitan/Documents/Flatiron/Capstone/UrbanSound8K/audio/fold4/95404-3-0-4.wav')"
   ]
  },
  {
   "cell_type": "code",
   "execution_count": null,
   "id": "1fedcbad",
   "metadata": {},
   "outputs": [],
   "source": [
    "len(y)"
   ]
  },
  {
   "cell_type": "code",
   "execution_count": null,
   "id": "010a5486",
   "metadata": {},
   "outputs": [],
   "source": [
    "y, sr = librosa.load('/Users/eitan/Documents/Flatiron/Capstone/UrbanSound8K/audio/fold8/42324-4-1-0.wav')"
   ]
  },
  {
   "cell_type": "code",
   "execution_count": null,
   "id": "7f77dcf8",
   "metadata": {},
   "outputs": [],
   "source": [
    "ipd.Audio('/Users/eitan/Documents/Flatiron/Capstone/UrbanSound8K/audio/fold8/42324-4-1-0.wav')"
   ]
  },
  {
   "cell_type": "code",
   "execution_count": null,
   "id": "b6a34003",
   "metadata": {},
   "outputs": [],
   "source": [
    "    fig, ax = plt.subplots(figsize=(12, 4))\n",
    "    \n",
    "    D = librosa.stft(y)  # Short Time Fourier Transform (STFT) of y\n",
    "    S_db = librosa.amplitude_to_db(np.abs(D), ref=np.max)    \n",
    "    \n",
    "    img = librosa.display.specshow(S_db, x_axis='time', y_axis='linear', ax=ax)\n",
    "    fig.colorbar(img, ax=ax, format=\"%+2.f dB\")\n",
    "    plt.show()"
   ]
  },
  {
   "cell_type": "code",
   "execution_count": null,
   "id": "db7f80e3",
   "metadata": {},
   "outputs": [],
   "source": [
    "# And compute the spectrogram magnitude and phase\n",
    "S_full, phase = librosa.magphase(librosa.stft(y))\n",
    "\n",
    "idx = slice(*librosa.time_to_frames([30, 35], sr=sr))\n",
    "fig, ax = plt.subplots(figsize=(12, 4))\n",
    "librosa.display.specshow(librosa.amplitude_to_db(S_full, ref=np.max),\n",
    "                         y_axis='log', x_axis='time', sr=sr)\n",
    "plt.colorbar()\n",
    "plt.tight_layout()\n",
    "plt.show();"
   ]
  },
  {
   "cell_type": "code",
   "execution_count": null,
   "id": "44c3c0a7",
   "metadata": {},
   "outputs": [],
   "source": []
  },
  {
   "cell_type": "code",
   "execution_count": null,
   "id": "506fd722",
   "metadata": {},
   "outputs": [],
   "source": [
    "y, sr = librosa.load('/Users/eitan/Documents/Flatiron/Capstone/UrbanSound8K/audio/fold10/99192-4-0-52.wav')"
   ]
  },
  {
   "cell_type": "code",
   "execution_count": null,
   "id": "8ac72ce5",
   "metadata": {},
   "outputs": [],
   "source": [
    "y.shape"
   ]
  },
  {
   "cell_type": "code",
   "execution_count": null,
   "id": "72ff1c9b",
   "metadata": {},
   "outputs": [],
   "source": [
    "if y.shape == (88200,):\n",
    "    print('Good work')\n",
    "\n",
    "else:\n",
    "    print('Try Again')"
   ]
  },
  {
   "cell_type": "code",
   "execution_count": null,
   "id": "e5aa4aba",
   "metadata": {},
   "outputs": [],
   "source": [
    "import IPython.display as ipd\n"
   ]
  },
  {
   "cell_type": "code",
   "execution_count": null,
   "id": "561a31f7",
   "metadata": {},
   "outputs": [],
   "source": [
    "ipd.Audio('/Users/eitan/Documents/Flatiron/Capstone/UrbanSound8K/audio/fold10/99192-4-0-52.wav')"
   ]
  },
  {
   "cell_type": "code",
   "execution_count": null,
   "id": "20c2ea59",
   "metadata": {},
   "outputs": [],
   "source": [
    "    fig, ax = plt.subplots(figsize=(12, 4))\n",
    "    \n",
    "    D = librosa.stft(y)  # Short Time Fourier Transform (STFT) of y\n",
    "    S_db = librosa.amplitude_to_db(np.abs(D), ref=np.max)    \n",
    "    \n",
    "    img = librosa.display.specshow(S_db, x_axis='time', y_axis='linear', ax=ax)\n",
    "    fig.colorbar(img, ax=ax, format=\"%+2.f dB\")\n",
    "    plt.show()"
   ]
  },
  {
   "cell_type": "code",
   "execution_count": null,
   "id": "efa42a55",
   "metadata": {},
   "outputs": [],
   "source": [
    "# And compute the spectrogram magnitude and phase\n",
    "S_full, phase = librosa.magphase(librosa.stft(y))\n"
   ]
  },
  {
   "cell_type": "code",
   "execution_count": null,
   "id": "c216c159",
   "metadata": {},
   "outputs": [],
   "source": [
    "idx = slice(*librosa.time_to_frames([30, 35], sr=sr))\n",
    "fig, ax = plt.subplots(figsize=(12, 4))\n",
    "librosa.display.specshow(librosa.amplitude_to_db(S_full, ref=np.max),\n",
    "                         y_axis='log', x_axis='time', sr=sr)\n",
    "plt.colorbar()\n",
    "plt.tight_layout()\n",
    "plt.show();"
   ]
  },
  {
   "cell_type": "code",
   "execution_count": null,
   "id": "721b425c",
   "metadata": {},
   "outputs": [],
   "source": [
    "plt.figure(figsize=(12, 8))\n",
    "plt.subplot(3, 1, 1)\n",
    "librosa.display.specshow(librosa.amplitude_to_db(S_full[:, idx], ref=np.max),\n",
    "                         y_axis='log', sr=sr)\n",
    "plt.title('Full spectrum')\n",
    "plt.colorbar()\n",
    "\n",
    "plt.subplot(3, 1, 2)\n",
    "librosa.display.specshow(librosa.amplitude_to_db(S_background[:, idx], ref=np.max),\n",
    "                         y_axis='log', sr=sr)\n",
    "plt.title('Background')\n",
    "plt.colorbar()\n",
    "plt.subplot(3, 1, 3)\n",
    "librosa.display.specshow(librosa.amplitude_to_db(S_foreground[:, idx], ref=np.max),\n",
    "                         y_axis='log', x_axis='time', sr=sr)\n",
    "plt.title('Foreground')\n",
    "plt.colorbar()\n",
    "plt.tight_layout()\n",
    "plt.show()"
   ]
  },
  {
   "cell_type": "code",
   "execution_count": null,
   "id": "b4595c4c",
   "metadata": {},
   "outputs": [],
   "source": [
    "y, sr = librosa.load('/Users/eitan/Documents/Flatiron/Capstone/UrbanSound8K/audio/fold1/157867-8-0-23.wav')"
   ]
  },
  {
   "cell_type": "code",
   "execution_count": null,
   "id": "17dbddc1",
   "metadata": {},
   "outputs": [],
   "source": [
    "librosa.get_duration(path = '/Users/eitan/Documents/Flatiron/Capstone/UrbanSound8K/audio/fold1/157867-8-0-23.wav')"
   ]
  },
  {
   "cell_type": "code",
   "execution_count": null,
   "id": "f872adaf",
   "metadata": {},
   "outputs": [],
   "source": [
    "y, sr = librosa.load(path = '/Users/eitan/Documents/Flatiron/Capstone/UrbanSound8K/audio/fold1/157867-8-0-23.wav')\n",
    "S = librosa.stft(y)\n",
    "librosa.get_duration(S=S, sr=sr)"
   ]
  },
  {
   "cell_type": "code",
   "execution_count": null,
   "id": "6c07d8ad",
   "metadata": {},
   "outputs": [],
   "source": [
    "D = librosa.stft(y)\n",
    "S_db = librosa.amplitude_to_db(np.abs(D), ref=np.max)\n",
    "S_db.shape"
   ]
  },
  {
   "cell_type": "code",
   "execution_count": null,
   "id": "abf4901f",
   "metadata": {},
   "outputs": [],
   "source": [
    "# Plot the transformed audio data\n",
    "fig, ax = plt.subplots(figsize=(10, 5))\n",
    "img = librosa.display.specshow(S_db,\n",
    "                              x_axis='time',\n",
    "                              y_axis='log',\n",
    "                              ax=ax)\n",
    "ax.set_title('Spectogram Example', fontsize=20)\n",
    "fig.colorbar(img, ax=ax, format=f'%0.2f')\n",
    "plt.show()"
   ]
  },
  {
   "cell_type": "code",
   "execution_count": null,
   "id": "340e9634",
   "metadata": {},
   "outputs": [],
   "source": [
    "S = librosa.feature.melspectrogram(y=y,\n",
    "                                   sr=sr,)\n",
    "S_db_mel = librosa.amplitude_to_db(S, ref=np.max)\n"
   ]
  },
  {
   "cell_type": "code",
   "execution_count": null,
   "id": "8c9cbd38",
   "metadata": {},
   "outputs": [],
   "source": [
    "fig, ax = plt.subplots(figsize=(10, 5))\n",
    "# Plot the mel spectogram\n",
    "img = librosa.display.specshow(S_db_mel,\n",
    "                              x_axis='time',\n",
    "                              y_axis='log',\n",
    "                              ax=ax)\n",
    "ax.set_title('Mel Spectogram Example', fontsize=20)\n",
    "fig.colorbar(img, ax=ax, format=f'%0.2f')\n",
    "plt.show()"
   ]
  },
  {
   "cell_type": "code",
   "execution_count": null,
   "id": "6198c24f",
   "metadata": {},
   "outputs": [],
   "source": [
    "y, sr = librosa.load('/Users/eitan/Documents/Flatiron/Capstone/UrbanSound8K/audio/fold8/171464-3-2-0.wav')"
   ]
  },
  {
   "cell_type": "code",
   "execution_count": null,
   "id": "bc52f5e9",
   "metadata": {},
   "outputs": [],
   "source": [
    "librosa.get_duration(path = '/Users/eitan/Documents/Flatiron/Capstone/UrbanSound8K/audio/fold8/171464-3-2-0.wav')"
   ]
  },
  {
   "cell_type": "code",
   "execution_count": null,
   "id": "1e423c26",
   "metadata": {},
   "outputs": [],
   "source": [
    "y, sr = librosa.load(path = '/Users/eitan/Documents/Flatiron/Capstone/UrbanSound8K/audio/fold8/171464-3-2-0.wav')\n",
    "S = librosa.stft(y)\n",
    "librosa.get_duration(S=S, sr=sr)"
   ]
  },
  {
   "cell_type": "code",
   "execution_count": null,
   "id": "19c7918a",
   "metadata": {},
   "outputs": [],
   "source": [
    "if "
   ]
  },
  {
   "cell_type": "code",
   "execution_count": null,
   "id": "9ae39c60",
   "metadata": {},
   "outputs": [],
   "source": [
    "len(y)"
   ]
  },
  {
   "cell_type": "code",
   "execution_count": null,
   "id": "287e0a96",
   "metadata": {},
   "outputs": [],
   "source": [
    "librosa.effects.time_stretch(ym )"
   ]
  },
  {
   "cell_type": "code",
   "execution_count": null,
   "id": "81836b5b",
   "metadata": {},
   "outputs": [],
   "source": [
    "librosa.util.fix_length(y, size=10)\n"
   ]
  },
  {
   "cell_type": "markdown",
   "id": "d5d99dac",
   "metadata": {},
   "source": [
    "### Redoing the Spectogram images\n",
    "#### now manipulating the length of the spectorgram to a standard of 4 Seconds"
   ]
  },
  {
   "cell_type": "code",
   "execution_count": null,
   "id": "2687160e",
   "metadata": {},
   "outputs": [],
   "source": [
    "train_meta_data, test_meta_data = train_test_split(meta_data, test_size=0.25\\\n",
    "                                                   ,random_state=0, stratify=meta_data['classID'])\n"
   ]
  },
  {
   "cell_type": "code",
   "execution_count": null,
   "id": "00434956",
   "metadata": {},
   "outputs": [],
   "source": [
    "train_meta_data"
   ]
  },
  {
   "cell_type": "code",
   "execution_count": null,
   "id": "482ab9bb",
   "metadata": {},
   "outputs": [],
   "source": [
    "#save train spectos\n",
    "\n",
    "for idx, row in train_meta_data.iterrows():\n",
    "    path = '/Users/eitan/Documents/Flatiron/Capstone/UrbanSound8K/audio/fold{}/{}'.format(row['fold'],\n",
    "                                                                                         row['slice_file_name'])\n",
    "    y, sr = librosa.load(path)\n",
    "    \n",
    "    if y.shape != (88200,):\n",
    "        y = np.resize(y, 88200)\n",
    "    \n",
    "    fig, ax = plt.subplots()\n",
    "    \n",
    "    D = librosa.stft(y)  # Short Time Fourier Transform (STFT) of y\n",
    "    S_db = librosa.amplitude_to_db(np.abs(D), ref=np.max)\n",
    "    \n",
    "    img = librosa.display.specshow(S_db, ax = ax)\n",
    "    \n",
    "    my_path = '/Users/eitan/Documents/Flatiron/Capstone/'\n",
    "    file_name = row['slice_file_name'][:-4]\n",
    "\n",
    "    training_path = 'train_splits_2/{}/'.format(row['classID'])\n",
    "        \n",
    "    if not os.path.isdir(my_path + training_path):\n",
    "        os.makedirs(my_path + training_path)\n",
    "        \n",
    "    plt.savefig(my_path + training_path + file_name)\n",
    "    \n",
    "    plt.close()"
   ]
  },
  {
   "cell_type": "code",
   "execution_count": null,
   "id": "79151f39",
   "metadata": {},
   "outputs": [],
   "source": [
    "# save test spectos\n",
    "\n",
    "for idx, row in test_meta_data.iterrows():\n",
    "    path = '/Users/eitan/Documents/Flatiron/Capstone/UrbanSound8K/audio/fold{}/{}'.format(row['fold'],\n",
    "                                                                                         row['slice_file_name'])\n",
    "    y, sr = librosa.load(path)\n",
    "    \n",
    "    if y.shape != (88200,):\n",
    "        y = np.resize(y, 88200)\n",
    "\n",
    "    \n",
    "    fig, ax = plt.subplots()\n",
    "    \n",
    "    D = librosa.stft(y)  # Short Time Fourier Transform (STFT) of y\n",
    "    S_db = librosa.amplitude_to_db(np.abs(D), ref=np.max)\n",
    "    \n",
    "    img = librosa.display.specshow(S_db, ax = ax)\n",
    "    \n",
    "    my_path = '/Users/eitan/Documents/Flatiron/Capstone/'\n",
    "    file_name = row['slice_file_name'][:-4]\n",
    "    \n",
    "    testing_path = 'test_splits_2/{}/'.format(row['classID'])\n",
    "        \n",
    "    if not os.path.isdir(my_path + testing_path):\n",
    "        os.makedirs(my_path + testing_path)\n",
    "        \n",
    "    plt.savefig(my_path + testing_path + file_name)\n",
    "\n",
    "    plt.close()"
   ]
  },
  {
   "cell_type": "code",
   "execution_count": null,
   "id": "7eccaef9",
   "metadata": {},
   "outputs": [],
   "source": [
    "counter = 0\n",
    "for idx, row in meta_rand.iloc[:400].iterrows():\n",
    "    \n",
    "    y, sr =  librosa.load('UrbanSound8K/audio/fold{}/{}'.format(row['fold'], row['slice_file_name']))\n",
    "    \n",
    "    if y.shape != (88200,):\n",
    "        y = np.resize(y, 88200)\n",
    "        counter += 1\n",
    "    \n",
    "\n",
    "    \n",
    "    fig, ax = plt.subplots()\n",
    "    \n",
    "    D = librosa.stft(y)  # Short Time Fourier Transform (STFT) of y\n",
    "    S_db = librosa.amplitude_to_db(np.abs(D), ref=np.max)    \n",
    "    \n",
    "    img = librosa.display.specshow(S_db, x_axis='time', y_axis='linear', ax=ax)\n",
    "    ax.set(title = 'Index #: {}; Class: {}; Salience: {}'.format(idx, row['class'], row['salience']))\n",
    "    fig.colorbar(img, ax=ax, format=\"%+2.f dB\")\n",
    "\n",
    "    \n",
    "    plt.show()"
   ]
  }
 ],
 "metadata": {
  "kernelspec": {
   "display_name": "Python Number41",
   "language": "python",
   "name": "number41"
  },
  "language_info": {
   "codemirror_mode": {
    "name": "ipython",
    "version": 3
   },
   "file_extension": ".py",
   "mimetype": "text/x-python",
   "name": "python",
   "nbconvert_exporter": "python",
   "pygments_lexer": "ipython3",
   "version": "3.11.4"
  }
 },
 "nbformat": 4,
 "nbformat_minor": 5
}
