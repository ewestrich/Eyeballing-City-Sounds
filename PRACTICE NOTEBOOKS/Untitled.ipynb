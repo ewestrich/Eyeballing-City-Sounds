{
 "cells": [
  {
   "cell_type": "markdown",
   "id": "4c5546dd",
   "metadata": {},
   "source": [
    "https://www.youtube.com/watch?v=vbhlEMcb7RQ\n",
    "\n",
    "frame, amplitude, time frequencies"
   ]
  },
  {
   "cell_type": "markdown",
   "id": "c133b073",
   "metadata": {},
   "source": [
    "Feature Extraction\n",
    "\n",
    "Zero Crossing Rate, Spectral Centroid, Spectral Rolloff, MFCC, Chroma Frequencies"
   ]
  },
  {
   "cell_type": "code",
   "execution_count": null,
   "id": "6b774e74",
   "metadata": {},
   "outputs": [],
   "source": []
  }
 ],
 "metadata": {
  "kernelspec": {
   "display_name": "Python Number41",
   "language": "python",
   "name": "number41"
  },
  "language_info": {
   "codemirror_mode": {
    "name": "ipython",
    "version": 3
   },
   "file_extension": ".py",
   "mimetype": "text/x-python",
   "name": "python",
   "nbconvert_exporter": "python",
   "pygments_lexer": "ipython3",
   "version": "3.11.4"
  }
 },
 "nbformat": 4,
 "nbformat_minor": 5
}
