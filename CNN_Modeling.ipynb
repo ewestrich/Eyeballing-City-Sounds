{
 "cells": [
  {
   "cell_type": "code",
   "execution_count": 1,
   "id": "9f6cc618",
   "metadata": {},
   "outputs": [],
   "source": [
    "import numpy as np\n",
    "import pandas as pd\n",
    "from matplotlib import pyplot as plt\n",
    "import seaborn as sns\n",
    "\n",
    "from sklearn.metrics import confusion_matrix\n",
    "from sklearn.metrics import ConfusionMatrixDisplay\n",
    "\n",
    "from tensorflow.keras import datasets\n",
    "from tensorflow.keras.utils import to_categorical\n",
    "from tensorflow.keras.models import Sequential\n",
    "\n",
    "from tensorflow.keras.layers import Dense # creates densely connected layer object\n",
    "from tensorflow.keras.layers import Flatten # takes 2D input and turns into 1D array\n",
    "\n",
    "from tensorflow import keras\n",
    "from tensorflow.keras import datasets, layers, models\n",
    "\n",
    "from tensorflow.keras.layers import Conv2D # convolution layer\n",
    "from tensorflow.keras.layers import MaxPooling2D # max pooling layer"
   ]
  },
  {
   "cell_type": "code",
   "execution_count": 2,
   "id": "34a7ad1d",
   "metadata": {},
   "outputs": [],
   "source": [
    "from tensorflow.keras.regularizers import l2\n",
    "from tensorflow.keras.layers import Dropout\n",
    "\n",
    "# a new layer that rescales/normalizes the activations after each layer.\n",
    "# has a weak regularization effect. also allows \n",
    "\n",
    "from tensorflow.keras.layers import BatchNormalization\n",
    "from tensorflow.keras.layers import Activation\n",
    "\n",
    "from keras.preprocessing.image import ImageDataGenerator"
   ]
  },
  {
   "cell_type": "code",
   "execution_count": 3,
   "id": "a5c6964e",
   "metadata": {},
   "outputs": [],
   "source": [
    "from tensorflow.keras.regularizers import l2\n",
    "from tensorflow.keras.layers import Dropout\n",
    "\n",
    "# a new layer that rescales/normalizes the activations after each layer.\n",
    "# has a weak regularization effect. also allows \n",
    "\n",
    "from tensorflow.keras.layers import BatchNormalization\n",
    "from tensorflow.keras.layers import Activation\n",
    "\n",
    "from keras.preprocessing.image import ImageDataGenerator"
   ]
  },
  {
   "cell_type": "code",
   "execution_count": 4,
   "id": "1d6fd001",
   "metadata": {},
   "outputs": [],
   "source": [
    "train_dir = 'Data/mel_train'\n",
    "\n",
    "test_dir = 'Data/mel_test'"
   ]
  },
  {
   "cell_type": "code",
   "execution_count": 6,
   "id": "076d109d",
   "metadata": {},
   "outputs": [
    {
     "name": "stdout",
     "output_type": "stream",
     "text": [
      "Found 5240 images belonging to 10 classes.\n"
     ]
    }
   ],
   "source": [
    "train_data_gen = ImageDataGenerator(rescale = 1./255, validation_split = .2)\n",
    "\n",
    "train_generator = train_data_gen.flow_from_directory(\n",
    "    \n",
    "                                                    train_dir, \n",
    "                                                    target_size = (150, 150),\n",
    "                                                    batch_size = 32,\n",
    "                                                    class_mode = 'categorical',\n",
    "                                                    color_mode = 'rgb',\n",
    "                                                    seed = 42,\n",
    "                                                    subset = 'training',)"
   ]
  },
  {
   "cell_type": "code",
   "execution_count": 7,
   "id": "4bab2de4",
   "metadata": {},
   "outputs": [
    {
     "name": "stdout",
     "output_type": "stream",
     "text": [
      "Found 1309 images belonging to 10 classes.\n"
     ]
    }
   ],
   "source": [
    "val_data_gen = ImageDataGenerator(rescale=1./255)\n",
    "\n",
    "validation_generator = train_data_gen.flow_from_directory(\n",
    "    \n",
    "                                                    train_dir, \n",
    "                                                    target_size = (150, 150),\n",
    "                                                    batch_size = 32,\n",
    "                                                    class_mode = 'categorical',\n",
    "                                                    color_mode = 'rgb',\n",
    "                                                    seed = 42,\n",
    "                                                    subset = 'validation',)"
   ]
  },
  {
   "cell_type": "code",
   "execution_count": 8,
   "id": "aed4608c",
   "metadata": {},
   "outputs": [
    {
     "name": "stdout",
     "output_type": "stream",
     "text": [
      "Found 2183 images belonging to 10 classes.\n"
     ]
    }
   ],
   "source": [
    "test_data_gen = ImageDataGenerator(rescale=1./255)\n",
    "\n",
    "test_generator = test_data_gen.flow_from_directory(\n",
    "\n",
    "                                                    test_dir, \n",
    "                                                    target_size = (150, 150),\n",
    "                                                    batch_size = 32,\n",
    "                                                    class_mode = 'categorical',\n",
    "                                                    color_mode = 'rgb',\n",
    "                                                    seed = 42,\n",
    "                                                    shuffle = False)"
   ]
  },
  {
   "cell_type": "code",
   "execution_count": null,
   "id": "16f496fc",
   "metadata": {},
   "outputs": [],
   "source": [
    "model2 = Sequential()\n",
    "\n",
    "# define 3x3 filter window sizes. Create 32 filters.\n",
    "model2.add(Conv2D(filters=32,\n",
    "                        kernel_size=(3, 3),\n",
    "                        activation='relu',\n",
    "                        input_shape=(150, 150, 3), kernel_regularizer = l2(5e-3) ))\n",
    "\n",
    "# max pool in 2x2 window\n",
    "model2.add(MaxPooling2D(pool_size=(2, 2)))\n",
    "\n",
    "# define 3x3 filter window sizes. Create 64 filters.\n",
    "model2.add(Conv2D(64, (3, 3), activation='relu', kernel_regularizer = l2(5e-3)))\n",
    "model2.add(Dropout(0.25))\n",
    "\n",
    "model2.add(Conv2D(64, (3, 3), activation='relu', kernel_regularizer = l2(5e-3)))\n",
    "model2.add(Dropout(0.25))\n",
    "\n",
    "\n",
    "\n",
    "# transition to dense fully-connected part of network\n",
    "model2.add(Flatten())\n",
    "model2.add(Dense(64, activation='relu'))\n",
    "model2.add(Dropout(0.25))\n",
    "\n",
    "model2.add(BatchNormalization())\n",
    "model2.add(Dense(128, activation='relu'))\n",
    "model2.add(Dropout(0.65))\n",
    "\n",
    "model2.add(Dense(10, activation='softmax'))\n",
    "\n",
    "model2.compile(optimizer='adam', loss='categorical_crossentropy',  metrics=['accuracy'])"
   ]
  },
  {
   "cell_type": "code",
   "execution_count": null,
   "id": "76a5e0da",
   "metadata": {},
   "outputs": [],
   "source": [
    "history_cnn_2 = model2.fit(train_generator, validation_data = validation_generator, epochs = 25,)"
   ]
  },
  {
   "cell_type": "code",
   "execution_count": 12,
   "id": "24a47d32",
   "metadata": {},
   "outputs": [],
   "source": [
    "model2 = Sequential()\n",
    "\n",
    "# define 3x3 filter window sizes. Create 32 filters.\n",
    "model2.add(Conv2D(filters=32,\n",
    "                        kernel_size=(3, 3),\n",
    "                        activation='relu',\n",
    "                        input_shape=(150, 150, 3), kernel_regularizer = l2(5e-4) ))\n",
    "\n",
    "# max pool in 2x2 window\n",
    "model2.add(MaxPooling2D(pool_size=(2, 2)))\n",
    "\n",
    "# define 3x3 filter window sizes. Create 64 filters.\n",
    "model2.add(Conv2D(64, (3, 3), activation='relu', kernel_regularizer = l2(5e-4)))\n",
    "model2.add(MaxPooling2D((2, 2)))\n",
    "\n",
    "model2.add(Conv2D(64, (3, 3), activation='relu', kernel_regularizer = l2(5e-4)))\n",
    "model2.add(Dropout(0.2))\n",
    "\n",
    "\n",
    "model2.add(MaxPooling2D((2, 2)))\n",
    "model2.add(Conv2D(64, (3, 3), activation='relu', kernel_regularizer = l2(5e-4)))\n",
    "model2.add(Dropout(0.25))\n",
    "\n",
    "\n",
    "\n",
    "# transition to dense fully-connected part of network\n",
    "model2.add(Flatten())\n",
    "model2.add(Dense(64, activation='relu'))\n",
    "model2.add(Dropout(0.25))\n",
    "\n",
    "model2.add(BatchNormalization())\n",
    "model2.add(Dense(128, activation='relu'))\n",
    "model2.add(Dropout(0.65))\n",
    "\n",
    "model2.add(Dense(10, activation='softmax'))\n",
    "\n",
    "model2.compile(optimizer='adam', loss='categorical_crossentropy',  metrics=['accuracy'])"
   ]
  },
  {
   "cell_type": "code",
   "execution_count": 13,
   "id": "2a98188e",
   "metadata": {},
   "outputs": [
    {
     "name": "stdout",
     "output_type": "stream",
     "text": [
      "Epoch 1/25\n",
      "164/164 [==============================] - 42s 253ms/step - loss: 2.2262 - accuracy: 0.2189 - val_loss: 2.1950 - val_accuracy: 0.2513\n",
      "Epoch 2/25\n",
      "164/164 [==============================] - 40s 242ms/step - loss: 1.9252 - accuracy: 0.3376 - val_loss: 2.0659 - val_accuracy: 0.2819\n",
      "Epoch 3/25\n",
      "164/164 [==============================] - 40s 241ms/step - loss: 1.7428 - accuracy: 0.4076 - val_loss: 1.6787 - val_accuracy: 0.4645\n",
      "Epoch 4/25\n",
      "164/164 [==============================] - 39s 239ms/step - loss: 1.5750 - accuracy: 0.4716 - val_loss: 2.9229 - val_accuracy: 0.1566\n",
      "Epoch 5/25\n",
      "164/164 [==============================] - 41s 250ms/step - loss: 1.4503 - accuracy: 0.5231 - val_loss: 1.5041 - val_accuracy: 0.4782\n",
      "Epoch 6/25\n",
      "164/164 [==============================] - 45s 276ms/step - loss: 1.2905 - accuracy: 0.5889 - val_loss: 1.5013 - val_accuracy: 0.4629\n",
      "Epoch 7/25\n",
      "164/164 [==============================] - 39s 235ms/step - loss: 1.1975 - accuracy: 0.6240 - val_loss: 1.6916 - val_accuracy: 0.4698\n",
      "Epoch 8/25\n",
      "164/164 [==============================] - 39s 236ms/step - loss: 1.1172 - accuracy: 0.6508 - val_loss: 1.1374 - val_accuracy: 0.6585\n",
      "Epoch 9/25\n",
      "164/164 [==============================] - 39s 236ms/step - loss: 0.9958 - accuracy: 0.6973 - val_loss: 1.2235 - val_accuracy: 0.6241\n",
      "Epoch 10/25\n",
      "164/164 [==============================] - 39s 234ms/step - loss: 0.9699 - accuracy: 0.7124 - val_loss: 1.2203 - val_accuracy: 0.6287\n",
      "Epoch 11/25\n",
      "164/164 [==============================] - 38s 232ms/step - loss: 0.9501 - accuracy: 0.7109 - val_loss: 1.1946 - val_accuracy: 0.6303\n",
      "Epoch 12/25\n",
      "164/164 [==============================] - 39s 235ms/step - loss: 0.8451 - accuracy: 0.7521 - val_loss: 1.1309 - val_accuracy: 0.6593\n",
      "Epoch 13/25\n",
      "164/164 [==============================] - 39s 240ms/step - loss: 0.7865 - accuracy: 0.7765 - val_loss: 1.1701 - val_accuracy: 0.6478\n",
      "Epoch 14/25\n",
      "164/164 [==============================] - 40s 245ms/step - loss: 0.7660 - accuracy: 0.7844 - val_loss: 1.2571 - val_accuracy: 0.6249\n",
      "Epoch 15/25\n",
      "164/164 [==============================] - 40s 241ms/step - loss: 0.7230 - accuracy: 0.7985 - val_loss: 1.0888 - val_accuracy: 0.6875\n",
      "Epoch 16/25\n",
      "164/164 [==============================] - 39s 236ms/step - loss: 0.6391 - accuracy: 0.8277 - val_loss: 1.0794 - val_accuracy: 0.6822\n",
      "Epoch 17/25\n",
      "164/164 [==============================] - 41s 252ms/step - loss: 0.7308 - accuracy: 0.8044 - val_loss: 1.3348 - val_accuracy: 0.5745\n",
      "Epoch 18/25\n",
      "164/164 [==============================] - 40s 244ms/step - loss: 0.6750 - accuracy: 0.8094 - val_loss: 1.1195 - val_accuracy: 0.6723\n",
      "Epoch 19/25\n",
      "164/164 [==============================] - 44s 266ms/step - loss: 0.6325 - accuracy: 0.8300 - val_loss: 1.1231 - val_accuracy: 0.6600\n",
      "Epoch 20/25\n",
      "164/164 [==============================] - 40s 246ms/step - loss: 0.5726 - accuracy: 0.8540 - val_loss: 1.2601 - val_accuracy: 0.6303\n",
      "Epoch 21/25\n",
      "164/164 [==============================] - 38s 233ms/step - loss: 0.6425 - accuracy: 0.8296 - val_loss: 1.1007 - val_accuracy: 0.6998\n",
      "Epoch 22/25\n",
      "164/164 [==============================] - 38s 233ms/step - loss: 0.5382 - accuracy: 0.8664 - val_loss: 1.1199 - val_accuracy: 0.6944\n",
      "Epoch 23/25\n",
      "164/164 [==============================] - 39s 236ms/step - loss: 0.4840 - accuracy: 0.8828 - val_loss: 1.2807 - val_accuracy: 0.6684\n",
      "Epoch 24/25\n",
      "164/164 [==============================] - 39s 237ms/step - loss: 0.4510 - accuracy: 0.8897 - val_loss: 1.2773 - val_accuracy: 0.6837\n",
      "Epoch 25/25\n",
      "164/164 [==============================] - 38s 233ms/step - loss: 0.4436 - accuracy: 0.8895 - val_loss: 1.4622 - val_accuracy: 0.6364\n"
     ]
    }
   ],
   "source": [
    "history_cnn_2 = model2.fit(train_generator, validation_data = validation_generator, epochs = 25,)"
   ]
  },
  {
   "cell_type": "code",
   "execution_count": null,
   "id": "fe8f2810",
   "metadata": {},
   "outputs": [],
   "source": []
  }
 ],
 "metadata": {
  "kernelspec": {
   "display_name": "Python Number41",
   "language": "python",
   "name": "number41"
  },
  "language_info": {
   "codemirror_mode": {
    "name": "ipython",
    "version": 3
   },
   "file_extension": ".py",
   "mimetype": "text/x-python",
   "name": "python",
   "nbconvert_exporter": "python",
   "pygments_lexer": "ipython3",
   "version": "3.11.4"
  }
 },
 "nbformat": 4,
 "nbformat_minor": 5
}
