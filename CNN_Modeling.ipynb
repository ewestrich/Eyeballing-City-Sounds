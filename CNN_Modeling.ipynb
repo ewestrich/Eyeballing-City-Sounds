{
 "cells": [
  {
   "cell_type": "code",
   "execution_count": 51,
   "id": "9f6cc618",
   "metadata": {},
   "outputs": [],
   "source": [
    "import numpy as np\n",
    "import pandas as pd\n",
    "from matplotlib import pyplot as plt\n",
    "import seaborn as sns\n",
    "\n",
    "from sklearn.metrics import confusion_matrix\n",
    "from sklearn.metrics import ConfusionMatrixDisplay\n",
    "\n",
    "from tensorflow.keras import datasets\n",
    "from tensorflow.keras.utils import to_categorical\n",
    "from tensorflow.keras.models import Sequential\n",
    "\n",
    "from tensorflow.keras.layers import Dense # creates densely connected layer object\n",
    "from tensorflow.keras.layers import Flatten # takes 2D input and turns into 1D array\n",
    "\n",
    "from tensorflow import keras\n",
    "from tensorflow.keras import datasets, layers, models\n",
    "\n",
    "from tensorflow.keras.layers import Conv2D # convolution layer\n",
    "from tensorflow.keras.layers import MaxPooling2D # max pooling layer"
   ]
  },
  {
   "cell_type": "code",
   "execution_count": 52,
   "id": "34a7ad1d",
   "metadata": {},
   "outputs": [],
   "source": [
    "from tensorflow.keras.regularizers import l2\n",
    "from tensorflow.keras.layers import Dropout\n",
    "\n",
    "# a new layer that rescales/normalizes the activations after each layer.\n",
    "# has a weak regularization effect. also allows \n",
    "\n",
    "from tensorflow.keras.layers import BatchNormalization\n",
    "from tensorflow.keras.layers import Activation\n",
    "\n",
    "from keras.preprocessing.image import ImageDataGenerator"
   ]
  },
  {
   "cell_type": "code",
   "execution_count": null,
   "id": "a5c6964e",
   "metadata": {},
   "outputs": [],
   "source": []
  },
  {
   "cell_type": "code",
   "execution_count": 53,
   "id": "1d6fd001",
   "metadata": {},
   "outputs": [],
   "source": [
    "train_dir = 'Data/mel_train'\n",
    "\n",
    "test_dir = 'Data/mel_test'"
   ]
  },
  {
   "cell_type": "code",
   "execution_count": 5,
   "id": "076d109d",
   "metadata": {},
   "outputs": [
    {
     "name": "stdout",
     "output_type": "stream",
     "text": [
      "Found 5240 images belonging to 10 classes.\n"
     ]
    }
   ],
   "source": [
    "train_data_gen = ImageDataGenerator(rescale = 1./255, validation_split = .2)\n",
    "\n",
    "train_generator = train_data_gen.flow_from_directory(\n",
    "    \n",
    "                                                    train_dir, \n",
    "                                                    target_size = (150, 150),\n",
    "                                                    batch_size = 32,\n",
    "                                                    class_mode = 'categorical',\n",
    "                                                    color_mode = 'rgb',\n",
    "                                                    seed = 42,\n",
    "                                                    subset = 'training',)"
   ]
  },
  {
   "cell_type": "code",
   "execution_count": 6,
   "id": "4bab2de4",
   "metadata": {},
   "outputs": [
    {
     "name": "stdout",
     "output_type": "stream",
     "text": [
      "Found 1309 images belonging to 10 classes.\n"
     ]
    }
   ],
   "source": [
    "val_data_gen = ImageDataGenerator(rescale=1./255)\n",
    "\n",
    "validation_generator = train_data_gen.flow_from_directory(\n",
    "    \n",
    "                                                    train_dir, \n",
    "                                                    target_size = (150, 150),\n",
    "                                                    batch_size = 32,\n",
    "                                                    class_mode = 'categorical',\n",
    "                                                    color_mode = 'rgb',\n",
    "                                                    seed = 42,\n",
    "                                                    subset = 'validation',)"
   ]
  },
  {
   "cell_type": "code",
   "execution_count": 7,
   "id": "aed4608c",
   "metadata": {},
   "outputs": [
    {
     "name": "stdout",
     "output_type": "stream",
     "text": [
      "Found 2183 images belonging to 10 classes.\n"
     ]
    }
   ],
   "source": [
    "test_data_gen = ImageDataGenerator(rescale=1./255)\n",
    "\n",
    "test_generator = test_data_gen.flow_from_directory(\n",
    "\n",
    "                                                    test_dir, \n",
    "                                                    target_size = (150, 150),\n",
    "                                                    batch_size = 32,\n",
    "                                                    class_mode = 'categorical',\n",
    "                                                    color_mode = 'rgb',\n",
    "                                                    seed = 42,\n",
    "                                                    shuffle = False)"
   ]
  },
  {
   "cell_type": "code",
   "execution_count": null,
   "id": "16f496fc",
   "metadata": {},
   "outputs": [],
   "source": [
    "model2 = Sequential()\n",
    "\n",
    "# define 3x3 filter window sizes. Create 32 filters.\n",
    "model2.add(Conv2D(filters=32,\n",
    "                        kernel_size=(3, 3),\n",
    "                        activation='relu',\n",
    "                        input_shape=(150, 150, 3), kernel_regularizer = l2(5e-3) ))\n",
    "\n",
    "# max pool in 2x2 window\n",
    "model2.add(MaxPooling2D(pool_size=(2, 2)))\n",
    "\n",
    "# define 3x3 filter window sizes. Create 64 filters.\n",
    "model2.add(Conv2D(64, (3, 3), activation='relu', kernel_regularizer = l2(5e-3)))\n",
    "model2.add(Dropout(0.25))\n",
    "\n",
    "model2.add(Conv2D(64, (3, 3), activation='relu', kernel_regularizer = l2(5e-3)))\n",
    "model2.add(Dropout(0.25))\n",
    "\n",
    "\n",
    "\n",
    "# transition to dense fully-connected part of network\n",
    "model2.add(Flatten())\n",
    "model2.add(Dense(64, activation='relu'))\n",
    "model2.add(Dropout(0.25))\n",
    "\n",
    "model2.add(BatchNormalization())\n",
    "model2.add(Dense(128, activation='relu'))\n",
    "model2.add(Dropout(0.65))\n",
    "\n",
    "model2.add(Dense(10, activation='softmax'))\n",
    "\n",
    "model2.compile(optimizer='adam', loss='categorical_crossentropy',  metrics=['accuracy'])"
   ]
  },
  {
   "cell_type": "code",
   "execution_count": null,
   "id": "3a936e07",
   "metadata": {},
   "outputs": [],
   "source": []
  },
  {
   "cell_type": "code",
   "execution_count": null,
   "id": "76a5e0da",
   "metadata": {},
   "outputs": [],
   "source": [
    "history_cnn_2 = model2.fit(train_generator, validation_data = validation_generator, epochs = 25,)"
   ]
  },
  {
   "cell_type": "code",
   "execution_count": 8,
   "id": "24a47d32",
   "metadata": {},
   "outputs": [],
   "source": [
    "model2 = Sequential()\n",
    "\n",
    "# define 3x3 filter window sizes. Create 32 filters.\n",
    "model2.add(Conv2D(filters=32,\n",
    "                        kernel_size=(3, 3),\n",
    "                        activation='relu',\n",
    "                        input_shape=(150, 150, 3), kernel_regularizer = l2(5e-4) ))\n",
    "\n",
    "# max pool in 2x2 window\n",
    "model2.add(MaxPooling2D(pool_size=(2, 2)))\n",
    "\n",
    "# define 3x3 filter window sizes. Create 64 filters.\n",
    "model2.add(Conv2D(64, (3, 3), activation='relu', kernel_regularizer = l2(5e-4)))\n",
    "model2.add(MaxPooling2D((2, 2)))\n",
    "\n",
    "model2.add(Conv2D(64, (3, 3), activation='relu', kernel_regularizer = l2(5e-4)))\n",
    "model2.add(Dropout(0.2))\n",
    "\n",
    "\n",
    "model2.add(MaxPooling2D((2, 2)))\n",
    "\n",
    "model2.add(Conv2D(64, (3, 3), activation='relu', kernel_regularizer = l2(5e-4)))\n",
    "model2.add(Dropout(0.2))\n",
    "\n",
    "# transition to dense fully-connected part of network\n",
    "model2.add(Flatten())\n",
    "model2.add(Dense(64, activation='relu'))\n",
    "model2.add(Dropout(0.25))\n",
    "\n",
    "model2.add(BatchNormalization())\n",
    "model2.add(Dense(128, activation='relu'))\n",
    "model2.add(Dropout(0.7))\n",
    "\n",
    "model2.add(Dense(10, activation='softmax'))\n",
    "\n",
    "model2.compile(optimizer='adam', loss='categorical_crossentropy',  metrics=['accuracy'])"
   ]
  },
  {
   "cell_type": "code",
   "execution_count": 9,
   "id": "2a98188e",
   "metadata": {},
   "outputs": [
    {
     "name": "stdout",
     "output_type": "stream",
     "text": [
      "Epoch 1/25\n",
      "164/164 [==============================] - 41s 248ms/step - loss: 2.3099 - accuracy: 0.2109 - val_loss: 1.9559 - val_accuracy: 0.3308\n",
      "Epoch 2/25\n",
      "164/164 [==============================] - 38s 234ms/step - loss: 1.9229 - accuracy: 0.3347 - val_loss: 1.7822 - val_accuracy: 0.3667\n",
      "Epoch 3/25\n",
      "164/164 [==============================] - 39s 237ms/step - loss: 1.7266 - accuracy: 0.3880 - val_loss: 1.6224 - val_accuracy: 0.3980\n",
      "Epoch 4/25\n",
      "164/164 [==============================] - 40s 245ms/step - loss: 1.5743 - accuracy: 0.4487 - val_loss: 1.9181 - val_accuracy: 0.3621\n",
      "Epoch 5/25\n",
      "164/164 [==============================] - 40s 242ms/step - loss: 1.4570 - accuracy: 0.5050 - val_loss: 1.2960 - val_accuracy: 0.5386\n",
      "Epoch 6/25\n",
      "164/164 [==============================] - 38s 233ms/step - loss: 1.3265 - accuracy: 0.5573 - val_loss: 1.2953 - val_accuracy: 0.5668\n",
      "Epoch 7/25\n",
      "164/164 [==============================] - 38s 232ms/step - loss: 1.2692 - accuracy: 0.5920 - val_loss: 1.2189 - val_accuracy: 0.5752\n",
      "Epoch 8/25\n",
      "164/164 [==============================] - 38s 232ms/step - loss: 1.1660 - accuracy: 0.6357 - val_loss: 1.3012 - val_accuracy: 0.5294\n",
      "Epoch 9/25\n",
      "164/164 [==============================] - 38s 232ms/step - loss: 1.0924 - accuracy: 0.6578 - val_loss: 1.2750 - val_accuracy: 0.5921\n",
      "Epoch 10/25\n",
      "164/164 [==============================] - 38s 233ms/step - loss: 1.0228 - accuracy: 0.6800 - val_loss: 1.2478 - val_accuracy: 0.5989\n",
      "Epoch 11/25\n",
      "164/164 [==============================] - 38s 232ms/step - loss: 0.9583 - accuracy: 0.7076 - val_loss: 1.3016 - val_accuracy: 0.5905\n",
      "Epoch 12/25\n",
      "164/164 [==============================] - 38s 234ms/step - loss: 0.8428 - accuracy: 0.7439 - val_loss: 1.1546 - val_accuracy: 0.6455\n",
      "Epoch 13/25\n",
      "164/164 [==============================] - 39s 239ms/step - loss: 0.8196 - accuracy: 0.7552 - val_loss: 1.1906 - val_accuracy: 0.6555\n",
      "Epoch 14/25\n",
      "164/164 [==============================] - 40s 244ms/step - loss: 0.7575 - accuracy: 0.7830 - val_loss: 1.3357 - val_accuracy: 0.6639\n",
      "Epoch 15/25\n",
      "164/164 [==============================] - 40s 244ms/step - loss: 0.7059 - accuracy: 0.7945 - val_loss: 1.2941 - val_accuracy: 0.6234\n",
      "Epoch 16/25\n",
      "164/164 [==============================] - 41s 248ms/step - loss: 0.6616 - accuracy: 0.8132 - val_loss: 1.2495 - val_accuracy: 0.6249\n",
      "Epoch 17/25\n",
      "164/164 [==============================] - 41s 249ms/step - loss: 0.6542 - accuracy: 0.8126 - val_loss: 1.2209 - val_accuracy: 0.6875\n",
      "Epoch 18/25\n",
      "164/164 [==============================] - 40s 244ms/step - loss: 0.5906 - accuracy: 0.8401 - val_loss: 1.4397 - val_accuracy: 0.6570\n",
      "Epoch 19/25\n",
      "164/164 [==============================] - 40s 242ms/step - loss: 0.6107 - accuracy: 0.8305 - val_loss: 1.2755 - val_accuracy: 0.6807\n",
      "Epoch 20/25\n",
      "164/164 [==============================] - 40s 242ms/step - loss: 0.5716 - accuracy: 0.8456 - val_loss: 1.3579 - val_accuracy: 0.6906\n",
      "Epoch 21/25\n",
      "164/164 [==============================] - 42s 257ms/step - loss: 0.5664 - accuracy: 0.8508 - val_loss: 1.6834 - val_accuracy: 0.6547\n",
      "Epoch 22/25\n",
      "164/164 [==============================] - 39s 239ms/step - loss: 0.4873 - accuracy: 0.8758 - val_loss: 1.5188 - val_accuracy: 0.6662\n",
      "Epoch 23/25\n",
      "164/164 [==============================] - 40s 244ms/step - loss: 0.4811 - accuracy: 0.8760 - val_loss: 1.3295 - val_accuracy: 0.6822\n",
      "Epoch 24/25\n",
      "164/164 [==============================] - 39s 240ms/step - loss: 0.4485 - accuracy: 0.8863 - val_loss: 1.6617 - val_accuracy: 0.6570\n",
      "Epoch 25/25\n",
      "164/164 [==============================] - 39s 239ms/step - loss: 0.4800 - accuracy: 0.8813 - val_loss: 1.7552 - val_accuracy: 0.6455\n"
     ]
    }
   ],
   "source": [
    "history_cnn_2 = model2.fit(train_generator, validation_data = validation_generator, epochs = 25,)"
   ]
  },
  {
   "cell_type": "code",
   "execution_count": 10,
   "id": "50059d92",
   "metadata": {},
   "outputs": [
    {
     "name": "stdout",
     "output_type": "stream",
     "text": [
      "INFO:tensorflow:Assets written to: saved_models/cnn_model_2/assets\n"
     ]
    },
    {
     "name": "stderr",
     "output_type": "stream",
     "text": [
      "INFO:tensorflow:Assets written to: saved_models/cnn_model_2/assets\n"
     ]
    }
   ],
   "source": [
    "model2.save('saved_models/cnn_model_2')\n"
   ]
  },
  {
   "cell_type": "code",
   "execution_count": 11,
   "id": "7dd394de",
   "metadata": {},
   "outputs": [],
   "source": [
    "new_model = models.load_model('saved_models/cnn_model_2')"
   ]
  },
  {
   "cell_type": "code",
   "execution_count": 18,
   "id": "88202ef1",
   "metadata": {},
   "outputs": [
    {
     "name": "stdout",
     "output_type": "stream",
     "text": [
      "Model: \"sequential\"\n",
      "_________________________________________________________________\n",
      " Layer (type)                Output Shape              Param #   \n",
      "=================================================================\n",
      " conv2d (Conv2D)             (None, 148, 148, 32)      896       \n",
      "                                                                 \n",
      " max_pooling2d (MaxPooling2  (None, 74, 74, 32)        0         \n",
      " D)                                                              \n",
      "                                                                 \n",
      " conv2d_1 (Conv2D)           (None, 72, 72, 64)        18496     \n",
      "                                                                 \n",
      " max_pooling2d_1 (MaxPoolin  (None, 36, 36, 64)        0         \n",
      " g2D)                                                            \n",
      "                                                                 \n",
      " conv2d_2 (Conv2D)           (None, 34, 34, 64)        36928     \n",
      "                                                                 \n",
      " dropout (Dropout)           (None, 34, 34, 64)        0         \n",
      "                                                                 \n",
      " max_pooling2d_2 (MaxPoolin  (None, 17, 17, 64)        0         \n",
      " g2D)                                                            \n",
      "                                                                 \n",
      " conv2d_3 (Conv2D)           (None, 15, 15, 64)        36928     \n",
      "                                                                 \n",
      " dropout_1 (Dropout)         (None, 15, 15, 64)        0         \n",
      "                                                                 \n",
      " flatten (Flatten)           (None, 14400)             0         \n",
      "                                                                 \n",
      " dense (Dense)               (None, 64)                921664    \n",
      "                                                                 \n",
      " dropout_2 (Dropout)         (None, 64)                0         \n",
      "                                                                 \n",
      " batch_normalization (Batch  (None, 64)                256       \n",
      " Normalization)                                                  \n",
      "                                                                 \n",
      " dense_1 (Dense)             (None, 128)               8320      \n",
      "                                                                 \n",
      " dropout_3 (Dropout)         (None, 128)               0         \n",
      "                                                                 \n",
      " dense_2 (Dense)             (None, 10)                1290      \n",
      "                                                                 \n",
      "=================================================================\n",
      "Total params: 1024778 (3.91 MB)\n",
      "Trainable params: 1024650 (3.91 MB)\n",
      "Non-trainable params: 128 (512.00 Byte)\n",
      "_________________________________________________________________\n"
     ]
    }
   ],
   "source": [
    "new_model.summary()"
   ]
  },
  {
   "cell_type": "code",
   "execution_count": 19,
   "id": "b40d63fe",
   "metadata": {},
   "outputs": [
    {
     "name": "stdout",
     "output_type": "stream",
     "text": [
      "69/69 [==============================] - 9s 127ms/step - loss: 0.8411 - accuracy: 0.8085\n"
     ]
    }
   ],
   "source": [
    "_, test_acc = model2.evaluate(test_generator)"
   ]
  },
  {
   "cell_type": "code",
   "execution_count": 20,
   "id": "35574e84",
   "metadata": {},
   "outputs": [
    {
     "data": {
      "image/png": "[encoded data removed]",
      "text/plain": [
       "<Figure size 640x480 with 1 Axes>"
      ]
     },
     "metadata": {},
     "output_type": "display_data"
    }
   ],
   "source": [
    "train_cnn_history = pd.DataFrame(history_cnn_2.history)\n",
    "train_cnn_history.index.name = 'epochs'\n",
    "\n",
    "col_list = ['loss', 'val_loss']\n",
    "train_cnn_history[col_list].plot()\n",
    "plt.ylabel('Categorical cross entropy')\n",
    "plt.title('Training loss history')\n",
    "plt.show()"
   ]
  },
  {
   "cell_type": "code",
   "execution_count": 21,
   "id": "e20e51ea",
   "metadata": {},
   "outputs": [
    {
     "data": {
      "image/png": "[encoded data removed]",
      "text/plain": [
       "<Figure size 640x480 with 1 Axes>"
      ]
     },
     "metadata": {},
     "output_type": "display_data"
    }
   ],
   "source": [
    "col_list = ['accuracy', 'val_accuracy']\n",
    "train_cnn_history[col_list].plot()\n",
    "plt.ylabel('Accuracy')\n",
    "plt.title('Training loss history')\n",
    "plt.show()"
   ]
  },
  {
   "cell_type": "code",
   "execution_count": 22,
   "id": "e27ebe11",
   "metadata": {},
   "outputs": [
    {
     "name": "stdout",
     "output_type": "stream",
     "text": [
      "69/69 [==============================] - 9s 128ms/step\n"
     ]
    }
   ],
   "source": [
    "predictions = model2.predict(test_generator)"
   ]
  },
  {
   "cell_type": "code",
   "execution_count": 23,
   "id": "6ca5f9f5",
   "metadata": {},
   "outputs": [],
   "source": [
    "predicted_labels = [np.argmax(pred) for pred in predictions]"
   ]
  },
  {
   "cell_type": "code",
   "execution_count": 24,
   "id": "b59346a0",
   "metadata": {},
   "outputs": [],
   "source": [
    "true_labels = test_generator.classes"
   ]
  },
  {
   "cell_type": "code",
   "execution_count": 25,
   "id": "600286d2",
   "metadata": {},
   "outputs": [
    {
     "name": "stdout",
     "output_type": "stream",
     "text": [
      "Accuracy: 0.8085203847915712\n"
     ]
    }
   ],
   "source": [
    "accuracy = np.mean(np.array(predicted_labels) == true_labels)\n",
    "print(\"Accuracy:\", accuracy)"
   ]
  },
  {
   "cell_type": "code",
   "execution_count": 26,
   "id": "d013834f",
   "metadata": {},
   "outputs": [
    {
     "data": {
      "image/png": "[encoded data removed]",
      "text/plain": [
       "<Figure size 1400x1400 with 2 Axes>"
      ]
     },
     "metadata": {},
     "output_type": "display_data"
    }
   ],
   "source": [
    "fig, ax = plt.subplots(figsize = (14,14))\n",
    "\n",
    "ConfusionMatrixDisplay.from_predictions(true_labels, predicted_labels, ax = ax);"
   ]
  },
  {
   "cell_type": "code",
   "execution_count": 27,
   "id": "a78a222c",
   "metadata": {},
   "outputs": [],
   "source": [
    "class_labels = ['air_conditioner', 'car_horn', 'children_playing', 'dog_bark', 'drilling', 'engine_idling', \n",
    "               'gun_shot', 'jackhammer', 'siren', 'street_music']"
   ]
  },
  {
   "cell_type": "code",
   "execution_count": 28,
   "id": "b86e46fe",
   "metadata": {},
   "outputs": [],
   "source": [
    "y_true_labeled = []\n",
    "y_pred_labeled = []\n",
    "\n",
    "for label in true_labels:\n",
    "    y_true_labeled.append(class_labels[label])\n",
    "\n",
    "for label in predicted_labels:\n",
    "    y_pred_labeled.append(class_labels[label])\n",
    "    "
   ]
  },
  {
   "cell_type": "code",
   "execution_count": 29,
   "id": "c07702a4",
   "metadata": {},
   "outputs": [
    {
     "data": {
      "image/png": "[encoded data removed]",
      "text/plain": [
       "<Figure size 1400x1400 with 1 Axes>"
      ]
     },
     "metadata": {},
     "output_type": "display_data"
    }
   ],
   "source": [
    "fig, ax = plt.subplots(figsize = (14,14))\n",
    "\n",
    "ConfusionMatrixDisplay.from_predictions(y_true_labeled, y_pred_labeled, \n",
    "                                        normalize = 'true', colorbar=False, labels = class_labels, ax = ax);"
   ]
  },
  {
   "cell_type": "markdown",
   "id": "fe6f29d4",
   "metadata": {},
   "source": [
    "### Model 3 With Stronger Regularization"
   ]
  },
  {
   "cell_type": "code",
   "execution_count": 30,
   "id": "057fd2fb",
   "metadata": {},
   "outputs": [],
   "source": [
    "model3 = Sequential()\n",
    "\n",
    "# define 3x3 filter window sizes. Create 32 filters.\n",
    "model3.add(Conv2D(filters=32,\n",
    "                        kernel_size=(3, 3),\n",
    "                        activation='relu',\n",
    "                        input_shape=(150, 150, 3), kernel_regularizer = l2(5e-3) ))\n",
    "\n",
    "# max pool in 2x2 window\n",
    "model3.add(MaxPooling2D(pool_size=(2, 2)))\n",
    "\n",
    "# define 3x3 filter window sizes. Create 64 filters.\n",
    "model3.add(Conv2D(64, (3, 3), activation='relu', kernel_regularizer = l2(5e-3)))\n",
    "model3.add(MaxPooling2D((2, 2)))\n",
    "\n",
    "model3.add(Conv2D(64, (3, 3), activation='relu', kernel_regularizer = l2(5e-3)))\n",
    "model3.add(Dropout(0.2))\n",
    "\n",
    "model3.add(MaxPooling2D((2, 2)))\n",
    "\n",
    "model3.add(Conv2D(64, (3, 3), activation='relu', kernel_regularizer = l2(5e-3)))\n",
    "model3.add(Dropout(0.25))\n",
    "\n",
    "# transition to dense fully-connected part of network\n",
    "model3.add(Flatten())\n",
    "model3.add(Dense(64, activation='relu'))\n",
    "model3.add(Dropout(0.35))\n",
    "\n",
    "model3.add(BatchNormalization())\n",
    "model3.add(Dense(128, activation='relu'))\n",
    "model3.add(Dropout(0.7))\n",
    "\n",
    "model3.add(Dense(10, activation='softmax'))\n",
    "\n",
    "model3.compile(optimizer='adam', loss='categorical_crossentropy',  metrics=['accuracy'])"
   ]
  },
  {
   "cell_type": "code",
   "execution_count": 31,
   "id": "0879f601",
   "metadata": {},
   "outputs": [
    {
     "name": "stdout",
     "output_type": "stream",
     "text": [
      "Epoch 1/35\n",
      "164/164 [==============================] - 41s 244ms/step - loss: 2.7860 - accuracy: 0.1752 - val_loss: 2.3945 - val_accuracy: 0.2200\n",
      "Epoch 2/35\n",
      "164/164 [==============================] - 40s 243ms/step - loss: 2.2624 - accuracy: 0.2368 - val_loss: 2.3762 - val_accuracy: 0.1704\n",
      "Epoch 3/35\n",
      "164/164 [==============================] - 41s 249ms/step - loss: 2.1188 - accuracy: 0.2525 - val_loss: 2.4361 - val_accuracy: 0.2193\n",
      "Epoch 4/35\n",
      "164/164 [==============================] - 40s 244ms/step - loss: 2.0310 - accuracy: 0.2687 - val_loss: 2.2079 - val_accuracy: 0.2353\n",
      "Epoch 5/35\n",
      "164/164 [==============================] - 40s 241ms/step - loss: 1.9708 - accuracy: 0.2739 - val_loss: 2.2387 - val_accuracy: 0.1833\n",
      "Epoch 6/35\n",
      "164/164 [==============================] - 40s 241ms/step - loss: 1.8944 - accuracy: 0.3027 - val_loss: 1.8580 - val_accuracy: 0.3782\n",
      "Epoch 7/35\n",
      "164/164 [==============================] - 41s 249ms/step - loss: 1.8639 - accuracy: 0.3271 - val_loss: 2.0809 - val_accuracy: 0.2712\n",
      "Epoch 8/35\n",
      "164/164 [==============================] - 40s 242ms/step - loss: 1.7999 - accuracy: 0.3477 - val_loss: 1.8323 - val_accuracy: 0.3598\n",
      "Epoch 9/35\n",
      "164/164 [==============================] - 40s 246ms/step - loss: 1.7406 - accuracy: 0.3693 - val_loss: 1.7378 - val_accuracy: 0.4263\n",
      "Epoch 10/35\n",
      "164/164 [==============================] - 41s 251ms/step - loss: 1.7114 - accuracy: 0.3817 - val_loss: 1.7533 - val_accuracy: 0.4110\n",
      "Epoch 11/35\n",
      "164/164 [==============================] - 41s 249ms/step - loss: 1.6645 - accuracy: 0.4025 - val_loss: 1.6663 - val_accuracy: 0.4278\n",
      "Epoch 12/35\n",
      "164/164 [==============================] - 40s 243ms/step - loss: 1.6274 - accuracy: 0.4103 - val_loss: 1.8808 - val_accuracy: 0.3659\n",
      "Epoch 13/35\n",
      "164/164 [==============================] - 43s 261ms/step - loss: 1.6135 - accuracy: 0.4195 - val_loss: 1.5970 - val_accuracy: 0.4057\n",
      "Epoch 14/35\n",
      "164/164 [==============================] - 44s 266ms/step - loss: 1.5535 - accuracy: 0.4385 - val_loss: 1.7159 - val_accuracy: 0.3980\n",
      "Epoch 15/35\n",
      "164/164 [==============================] - 44s 266ms/step - loss: 1.5352 - accuracy: 0.4559 - val_loss: 1.6011 - val_accuracy: 0.4629\n",
      "Epoch 16/35\n",
      "164/164 [==============================] - 40s 240ms/step - loss: 1.5040 - accuracy: 0.4664 - val_loss: 1.8656 - val_accuracy: 0.3804\n",
      "Epoch 17/35\n",
      "164/164 [==============================] - 40s 243ms/step - loss: 1.4641 - accuracy: 0.4857 - val_loss: 1.6370 - val_accuracy: 0.4515\n",
      "Epoch 18/35\n",
      "164/164 [==============================] - 40s 241ms/step - loss: 1.4612 - accuracy: 0.4939 - val_loss: 1.5000 - val_accuracy: 0.4614\n",
      "Epoch 19/35\n",
      "164/164 [==============================] - 41s 252ms/step - loss: 1.4128 - accuracy: 0.5122 - val_loss: 1.5847 - val_accuracy: 0.4370\n",
      "Epoch 20/35\n",
      "164/164 [==============================] - 40s 243ms/step - loss: 1.4050 - accuracy: 0.5225 - val_loss: 1.4946 - val_accuracy: 0.4691\n",
      "Epoch 21/35\n",
      "164/164 [==============================] - 40s 241ms/step - loss: 1.3748 - accuracy: 0.5265 - val_loss: 1.5032 - val_accuracy: 0.4706\n",
      "Epoch 22/35\n",
      "164/164 [==============================] - 41s 251ms/step - loss: 1.3579 - accuracy: 0.5441 - val_loss: 1.5303 - val_accuracy: 0.5065\n",
      "Epoch 23/35\n",
      "164/164 [==============================] - 45s 273ms/step - loss: 1.3045 - accuracy: 0.5710 - val_loss: 1.5249 - val_accuracy: 0.5348\n",
      "Epoch 24/35\n",
      "164/164 [==============================] - 44s 267ms/step - loss: 1.3005 - accuracy: 0.5706 - val_loss: 1.4601 - val_accuracy: 0.4744\n",
      "Epoch 25/35\n",
      "164/164 [==============================] - 40s 245ms/step - loss: 1.2774 - accuracy: 0.5870 - val_loss: 1.4019 - val_accuracy: 0.5508\n",
      "Epoch 26/35\n",
      "164/164 [==============================] - 42s 254ms/step - loss: 1.2564 - accuracy: 0.5916 - val_loss: 1.3701 - val_accuracy: 0.5332\n",
      "Epoch 27/35\n",
      "164/164 [==============================] - 40s 244ms/step - loss: 1.1922 - accuracy: 0.6191 - val_loss: 1.4599 - val_accuracy: 0.5439\n",
      "Epoch 28/35\n",
      "164/164 [==============================] - 40s 242ms/step - loss: 1.2204 - accuracy: 0.6027 - val_loss: 1.4327 - val_accuracy: 0.5279\n",
      "Epoch 29/35\n",
      "164/164 [==============================] - 45s 275ms/step - loss: 1.1834 - accuracy: 0.6181 - val_loss: 1.2666 - val_accuracy: 0.6043\n",
      "Epoch 30/35\n",
      "164/164 [==============================] - 42s 257ms/step - loss: 1.1736 - accuracy: 0.6321 - val_loss: 1.3151 - val_accuracy: 0.5592\n",
      "Epoch 31/35\n",
      "164/164 [==============================] - 43s 259ms/step - loss: 1.1356 - accuracy: 0.6521 - val_loss: 1.3375 - val_accuracy: 0.5691\n",
      "Epoch 32/35\n",
      "164/164 [==============================] - 40s 246ms/step - loss: 1.1632 - accuracy: 0.6372 - val_loss: 1.3702 - val_accuracy: 0.5882\n",
      "Epoch 33/35\n",
      "164/164 [==============================] - 40s 243ms/step - loss: 1.1157 - accuracy: 0.6576 - val_loss: 1.2556 - val_accuracy: 0.6173\n",
      "Epoch 34/35\n",
      "164/164 [==============================] - 39s 240ms/step - loss: 1.0863 - accuracy: 0.6729 - val_loss: 1.3122 - val_accuracy: 0.5943\n",
      "Epoch 35/35\n",
      "164/164 [==============================] - 39s 239ms/step - loss: 1.0495 - accuracy: 0.6742 - val_loss: 1.3093 - val_accuracy: 0.5898\n"
     ]
    }
   ],
   "source": [
    "history_cnn_3 = model3.fit(train_generator, validation_data = validation_generator, epochs = 35)"
   ]
  },
  {
   "cell_type": "code",
   "execution_count": 41,
   "id": "51e652ca",
   "metadata": {},
   "outputs": [],
   "source": [
    "model3.save('saved_models/cnn_model_3.h5')"
   ]
  },
  {
   "cell_type": "code",
   "execution_count": 42,
   "id": "98f6fedc",
   "metadata": {},
   "outputs": [],
   "source": [
    "new_model_3 = models.load_model('saved_models/cnn_model_3.h5')"
   ]
  },
  {
   "cell_type": "code",
   "execution_count": 43,
   "id": "6ee9ff86",
   "metadata": {},
   "outputs": [
    {
     "data": {
      "text/plain": [
       "<keras.src.engine.sequential.Sequential at 0x175e2efd0>"
      ]
     },
     "execution_count": 43,
     "metadata": {},
     "output_type": "execute_result"
    }
   ],
   "source": [
    "new_model_3"
   ]
  },
  {
   "cell_type": "code",
   "execution_count": null,
   "id": "2c2d35e1",
   "metadata": {},
   "outputs": [],
   "source": []
  },
  {
   "cell_type": "code",
   "execution_count": null,
   "id": "ed398cab",
   "metadata": {},
   "outputs": [],
   "source": []
  },
  {
   "cell_type": "code",
   "execution_count": null,
   "id": "68dcd7aa",
   "metadata": {},
   "outputs": [],
   "source": [
    "model4 = Sequential()\n",
    "\n",
    "# define 3x3 filter window sizes. Create 32 filters.\n",
    "model4.add(Conv2D(filters=32,\n",
    "                        kernel_size=(3, 3),\n",
    "                        activation='relu',\n",
    "                        input_shape=(150, 150, 3), kernel_regularizer = l2(7e-4) ))\n",
    "\n",
    "# max pool in 2x2 window\n",
    "model4.add(MaxPooling2D(pool_size=(2, 2)))\n",
    "\n",
    "# define 3x3 filter window sizes. Create 64 filters.\n",
    "model4.add(Conv2D(64, (3, 3), activation='relu', kernel_regularizer = l2(7e-4)))\n",
    "model4.add(MaxPooling2D((2, 2)))\n",
    "\n",
    "model4.add(Conv2D(64, (3, 3), activation='relu', kernel_regularizer = l2(7e-4)))\n",
    "model4.add(Dropout(0.2))\n",
    "\n",
    "model4.add(MaxPooling2D((2, 2)))\n",
    "\n",
    "model4.add(Conv2D(64, (3, 3), activation='relu', kernel_regularizer = l2(7e-4)))\n",
    "model4.add(Dropout(0.25))\n",
    "\n",
    "# transition to dense fully-connected part of network\n",
    "model4.add(Flatten())\n",
    "model4.add(Dense(64, activation='relu'))\n",
    "model4.add(Dropout(0.3))\n",
    "\n",
    "model4.add(BatchNormalization())\n",
    "model4.add(Dense(128, activation='relu'))\n",
    "model4.add(Dropout(0.65))\n",
    "\n",
    "model4.add(Dense(10, activation='softmax'))\n",
    "\n",
    "model4.compile(optimizer='adam', loss='categorical_crossentropy',  metrics=['accuracy'])"
   ]
  },
  {
   "cell_type": "code",
   "execution_count": null,
   "id": "0663dd87",
   "metadata": {},
   "outputs": [],
   "source": [
    "history_cnn_4 = model4.fit(train_generator, validation_data = validation_generator, epochs = 30)"
   ]
  },
  {
   "cell_type": "code",
   "execution_count": null,
   "id": "1f521e71",
   "metadata": {},
   "outputs": [],
   "source": []
  },
  {
   "cell_type": "code",
   "execution_count": null,
   "id": "382acc96",
   "metadata": {},
   "outputs": [],
   "source": []
  },
  {
   "cell_type": "code",
   "execution_count": null,
   "id": "baefed1e",
   "metadata": {},
   "outputs": [],
   "source": []
  },
  {
   "cell_type": "markdown",
   "id": "13ecc4a1",
   "metadata": {},
   "source": [
    "### Tried Chaning the Train/Validation Split from 80/20 to 70/30"
   ]
  },
  {
   "cell_type": "code",
   "execution_count": 5,
   "id": "739eae04",
   "metadata": {},
   "outputs": [
    {
     "name": "stdout",
     "output_type": "stream",
     "text": [
      "Found 4585 images belonging to 10 classes.\n"
     ]
    }
   ],
   "source": [
    "train_data_gen_2 = ImageDataGenerator(rescale = 1./255, validation_split = .3)\n",
    "\n",
    "train_generator_2 = train_data_gen_2.flow_from_directory(\n",
    "    \n",
    "                                                    train_dir, \n",
    "                                                    target_size = (150, 150),\n",
    "                                                    batch_size = 32,\n",
    "                                                    class_mode = 'categorical',\n",
    "                                                    color_mode = 'rgb',\n",
    "                                                    seed = 42,\n",
    "                                                    subset = 'training',)"
   ]
  },
  {
   "cell_type": "code",
   "execution_count": 6,
   "id": "76e30f8b",
   "metadata": {},
   "outputs": [
    {
     "name": "stdout",
     "output_type": "stream",
     "text": [
      "Found 1964 images belonging to 10 classes.\n"
     ]
    }
   ],
   "source": [
    "val_data_gen_2 = ImageDataGenerator(rescale=1./255)\n",
    "\n",
    "validation_generator_2 = train_data_gen_2.flow_from_directory(\n",
    "    \n",
    "                                                    train_dir, \n",
    "                                                    target_size = (150, 150),\n",
    "                                                    batch_size = 32,\n",
    "                                                    class_mode = 'categorical',\n",
    "                                                    color_mode = 'rgb',\n",
    "                                                    seed = 42,\n",
    "                                                    subset = 'validation',)"
   ]
  },
  {
   "cell_type": "code",
   "execution_count": 7,
   "id": "1ba43866",
   "metadata": {},
   "outputs": [
    {
     "name": "stdout",
     "output_type": "stream",
     "text": [
      "Found 2183 images belonging to 10 classes.\n"
     ]
    }
   ],
   "source": [
    "test_data_gen = ImageDataGenerator(rescale=1./255)\n",
    "\n",
    "test_generator = test_data_gen.flow_from_directory(\n",
    "\n",
    "                                                    test_dir, \n",
    "                                                    target_size = (150, 150),\n",
    "                                                    batch_size = 32,\n",
    "                                                    class_mode = 'categorical',\n",
    "                                                    color_mode = 'rgb',\n",
    "                                                    seed = 42,\n",
    "                                                    shuffle = False)"
   ]
  },
  {
   "cell_type": "code",
   "execution_count": 10,
   "id": "ac0dcd47",
   "metadata": {},
   "outputs": [],
   "source": [
    "model4 = Sequential()\n",
    "\n",
    "# define 3x3 filter window sizes. Create 32 filters.\n",
    "model4.add(Conv2D(filters=32,\n",
    "                        kernel_size=(3, 3),\n",
    "                        activation='relu',\n",
    "                        input_shape=(150, 150, 3), kernel_regularizer = l2(5e-4) ))\n",
    "\n",
    "# max pool in 2x2 window\n",
    "model4.add(MaxPooling2D(pool_size=(2, 2)))\n",
    "\n",
    "# define 3x3 filter window sizes. Create 64 filters.\n",
    "model4.add(Conv2D(64, (3, 3), activation='relu', kernel_regularizer = l2(5e-4)))\n",
    "model4.add(MaxPooling2D((2, 2)))\n",
    "\n",
    "model4.add(Conv2D(64, (3, 3), activation='relu', kernel_regularizer = l2(5e-4)))\n",
    "model4.add(Dropout(0.2))\n",
    "\n",
    "\n",
    "model4.add(MaxPooling2D((2, 2)))\n",
    "\n",
    "model4.add(Conv2D(64, (3, 3), activation='relu', kernel_regularizer = l2(5e-4)))\n",
    "model4.add(Dropout(0.2))\n",
    "\n",
    "# transition to dense fully-connected part of network\n",
    "model4.add(Flatten())\n",
    "model4.add(Dense(64, activation='relu'))\n",
    "model4.add(Dropout(0.25))\n",
    "\n",
    "model4.add(BatchNormalization())\n",
    "model4.add(Dense(128, activation='relu'))\n",
    "model4.add(Dropout(0.6))\n",
    "\n",
    "model4.add(Dense(10, activation='softmax'))\n",
    "\n",
    "model4.compile(optimizer='adam', loss='categorical_crossentropy',  metrics=['accuracy'])"
   ]
  },
  {
   "cell_type": "code",
   "execution_count": 11,
   "id": "cf9559b7",
   "metadata": {},
   "outputs": [
    {
     "name": "stdout",
     "output_type": "stream",
     "text": [
      "Epoch 1/35\n",
      "144/144 [==============================] - 41s 279ms/step - loss: 2.2916 - accuracy: 0.1917 - val_loss: 2.1903 - val_accuracy: 0.2587\n",
      "Epoch 2/35\n",
      "144/144 [==============================] - 38s 261ms/step - loss: 2.0339 - accuracy: 0.2674 - val_loss: 2.2093 - val_accuracy: 0.2510\n",
      "Epoch 3/35\n",
      "144/144 [==============================] - 38s 263ms/step - loss: 1.9355 - accuracy: 0.3034 - val_loss: 2.0890 - val_accuracy: 0.2363\n",
      "Epoch 4/35\n",
      "144/144 [==============================] - 39s 271ms/step - loss: 1.8548 - accuracy: 0.3265 - val_loss: 1.8890 - val_accuracy: 0.3559\n",
      "Epoch 5/35\n",
      "144/144 [==============================] - 39s 272ms/step - loss: 1.7158 - accuracy: 0.3725 - val_loss: 1.7523 - val_accuracy: 0.3936\n",
      "Epoch 6/35\n",
      "144/144 [==============================] - 38s 262ms/step - loss: 1.5819 - accuracy: 0.4281 - val_loss: 1.5573 - val_accuracy: 0.4644\n",
      "Epoch 7/35\n",
      "144/144 [==============================] - 38s 263ms/step - loss: 1.5017 - accuracy: 0.4696 - val_loss: 1.7437 - val_accuracy: 0.4791\n",
      "Epoch 8/35\n",
      "144/144 [==============================] - 39s 268ms/step - loss: 1.3935 - accuracy: 0.5156 - val_loss: 1.5294 - val_accuracy: 0.4857\n",
      "Epoch 9/35\n",
      "144/144 [==============================] - 38s 261ms/step - loss: 1.3018 - accuracy: 0.5551 - val_loss: 1.3908 - val_accuracy: 0.5209\n",
      "Epoch 10/35\n",
      "144/144 [==============================] - 37s 259ms/step - loss: 1.1631 - accuracy: 0.6155 - val_loss: 1.4536 - val_accuracy: 0.5387\n",
      "Epoch 11/35\n",
      "144/144 [==============================] - 37s 256ms/step - loss: 1.0541 - accuracy: 0.6646 - val_loss: 1.2727 - val_accuracy: 0.5657\n",
      "Epoch 12/35\n",
      "144/144 [==============================] - 37s 256ms/step - loss: 0.9841 - accuracy: 0.6796 - val_loss: 1.5057 - val_accuracy: 0.5244\n",
      "Epoch 13/35\n",
      "144/144 [==============================] - 37s 254ms/step - loss: 0.9287 - accuracy: 0.7010 - val_loss: 1.2167 - val_accuracy: 0.6023\n",
      "Epoch 14/35\n",
      "144/144 [==============================] - 37s 259ms/step - loss: 0.8557 - accuracy: 0.7472 - val_loss: 1.3964 - val_accuracy: 0.5657\n",
      "Epoch 15/35\n",
      "144/144 [==============================] - 38s 264ms/step - loss: 0.8132 - accuracy: 0.7455 - val_loss: 1.5003 - val_accuracy: 0.5397\n",
      "Epoch 16/35\n",
      "144/144 [==============================] - 41s 283ms/step - loss: 0.7701 - accuracy: 0.7568 - val_loss: 1.1523 - val_accuracy: 0.6390\n",
      "Epoch 17/35\n",
      "144/144 [==============================] - 43s 296ms/step - loss: 0.7019 - accuracy: 0.7919 - val_loss: 1.1677 - val_accuracy: 0.6619\n",
      "Epoch 18/35\n",
      "144/144 [==============================] - 39s 273ms/step - loss: 0.7291 - accuracy: 0.7828 - val_loss: 1.2725 - val_accuracy: 0.6441\n",
      "Epoch 19/35\n",
      "144/144 [==============================] - 676s 4s/step - loss: 0.6459 - accuracy: 0.8085 - val_loss: 1.2456 - val_accuracy: 0.6624\n",
      "Epoch 20/35\n",
      "144/144 [==============================] - 5041s 35s/step - loss: 0.6247 - accuracy: 0.8174 - val_loss: 1.2850 - val_accuracy: 0.6181\n",
      "Epoch 21/35\n",
      "144/144 [==============================] - 1376s 10s/step - loss: 0.6170 - accuracy: 0.8292 - val_loss: 1.4548 - val_accuracy: 0.6044\n",
      "Epoch 22/35\n",
      "144/144 [==============================] - 46s 317ms/step - loss: 0.5957 - accuracy: 0.8288 - val_loss: 1.2508 - val_accuracy: 0.6533\n",
      "Epoch 23/35\n",
      "144/144 [==============================] - 38s 261ms/step - loss: 0.5206 - accuracy: 0.8495 - val_loss: 1.4729 - val_accuracy: 0.6054\n",
      "Epoch 24/35\n",
      "144/144 [==============================] - 38s 262ms/step - loss: 0.5225 - accuracy: 0.8465 - val_loss: 1.3734 - val_accuracy: 0.6400\n",
      "Epoch 25/35\n",
      "144/144 [==============================] - 40s 275ms/step - loss: 0.4988 - accuracy: 0.8602 - val_loss: 1.3476 - val_accuracy: 0.6471\n",
      "Epoch 26/35\n",
      "144/144 [==============================] - 37s 256ms/step - loss: 0.4651 - accuracy: 0.8713 - val_loss: 1.3374 - val_accuracy: 0.6640\n",
      "Epoch 27/35\n",
      "144/144 [==============================] - 37s 255ms/step - loss: 0.4571 - accuracy: 0.8707 - val_loss: 1.3022 - val_accuracy: 0.6527\n",
      "Epoch 28/35\n",
      "144/144 [==============================] - 37s 256ms/step - loss: 0.4624 - accuracy: 0.8720 - val_loss: 1.5677 - val_accuracy: 0.6085\n",
      "Epoch 29/35\n",
      "144/144 [==============================] - 37s 257ms/step - loss: 0.4336 - accuracy: 0.8844 - val_loss: 1.4976 - val_accuracy: 0.6130\n",
      "Epoch 30/35\n",
      "144/144 [==============================] - 37s 256ms/step - loss: 0.4341 - accuracy: 0.8848 - val_loss: 1.4340 - val_accuracy: 0.6522\n",
      "Epoch 31/35\n",
      "144/144 [==============================] - 39s 269ms/step - loss: 0.3929 - accuracy: 0.8979 - val_loss: 1.5676 - val_accuracy: 0.6466\n",
      "Epoch 32/35\n",
      "144/144 [==============================] - 41s 286ms/step - loss: 0.4065 - accuracy: 0.8960 - val_loss: 1.3827 - val_accuracy: 0.6701\n",
      "Epoch 33/35\n",
      "144/144 [==============================] - 38s 261ms/step - loss: 0.3680 - accuracy: 0.9086 - val_loss: 1.5362 - val_accuracy: 0.6421\n",
      "Epoch 34/35\n",
      "144/144 [==============================] - 40s 279ms/step - loss: 0.3797 - accuracy: 0.9067 - val_loss: 1.5479 - val_accuracy: 0.6329\n",
      "Epoch 35/35\n",
      "144/144 [==============================] - 38s 262ms/step - loss: 0.4002 - accuracy: 0.9051 - val_loss: 1.5076 - val_accuracy: 0.6614\n"
     ]
    }
   ],
   "source": [
    "history_cnn_4 = model4.fit(train_generator_2, validation_data = validation_generator_2, epochs = 35)"
   ]
  },
  {
   "cell_type": "code",
   "execution_count": 13,
   "id": "b347b2fb",
   "metadata": {},
   "outputs": [],
   "source": [
    "model4.save('saved_models/cnn_model_4.h5')"
   ]
  },
  {
   "cell_type": "code",
   "execution_count": 22,
   "id": "b638f037",
   "metadata": {},
   "outputs": [
    {
     "ename": "NameError",
     "evalue": "name 'history_cnn_4' is not defined",
     "output_type": "error",
     "traceback": [
      "\u001b[0;31m---------------------------------------------------------------------------\u001b[0m",
      "\u001b[0;31mNameError\u001b[0m                                 Traceback (most recent call last)",
      "Cell \u001b[0;32mIn[22], line 1\u001b[0m\n\u001b[0;32m----> 1\u001b[0m (pd\u001b[38;5;241m.\u001b[39mDataFrame(history_cnn_4\u001b[38;5;241m.\u001b[39mhistory))\u001b[38;5;241m.\u001b[39mto_pickle(\u001b[38;5;124m\"\u001b[39m\u001b[38;5;124msaved_models/train_cnn_history_4.pkl\u001b[39m\u001b[38;5;124m\"\u001b[39m)\n",
      "\u001b[0;31mNameError\u001b[0m: name 'history_cnn_4' is not defined"
     ]
    }
   ],
   "source": [
    "(pd.DataFrame(history_cnn_4.history)).to_pickle(\"saved_models/train_cnn_history_4.pkl\")  "
   ]
  },
  {
   "cell_type": "code",
   "execution_count": null,
   "id": "c4026881",
   "metadata": {},
   "outputs": [],
   "source": [
    "train_cnn_history_5 = pd.DataFrame(history_cnn_5.history)"
   ]
  },
  {
   "cell_type": "code",
   "execution_count": null,
   "id": "3b1b9929",
   "metadata": {},
   "outputs": [],
   "source": [
    "history_cnn_4"
   ]
  },
  {
   "cell_type": "code",
   "execution_count": 8,
   "id": "1ef190ec",
   "metadata": {},
   "outputs": [],
   "source": [
    "model5 = Sequential()\n",
    "\n",
    "# define 3x3 filter window sizes. Create 32 filters.\n",
    "model5.add(Conv2D(filters=32,\n",
    "                        kernel_size=(3, 3),\n",
    "                        activation='relu',\n",
    "                        input_shape=(150, 150, 3), kernel_regularizer = l2(5e-4) ))\n",
    "\n",
    "# max pool in 2x2 window\n",
    "model5.add(MaxPooling2D(pool_size=(2, 2)))\n",
    "\n",
    "# define 3x3 filter window sizes. Create 64 filters.\n",
    "model5.add(Conv2D(64, (3, 3), activation='relu', kernel_regularizer = l2(5e-4)))\n",
    "model5.add(MaxPooling2D((2, 2)))\n",
    "\n",
    "model5.add(Conv2D(64, (3, 3), activation='relu', kernel_regularizer = l2(5e-4)))\n",
    "model5.add(Dropout(0.2))\n",
    "\n",
    "\n",
    "model5.add(MaxPooling2D((2, 2)))\n",
    "\n",
    "model5.add(Conv2D(64, (3, 3), activation='relu', kernel_regularizer = l2(5e-4)))\n",
    "model5.add(Dropout(0.25))\n",
    "\n",
    "# transition to dense fully-connected part of network\n",
    "model5.add(Flatten())\n",
    "model5.add(Dense(64, activation='relu'))\n",
    "model5.add(Dropout(0.25))\n",
    "\n",
    "model5.add(BatchNormalization())\n",
    "model5.add(Dense(128, activation='relu'))\n",
    "model5.add(Dropout(0.7))\n",
    "\n",
    "model5.add(Dense(10, activation='softmax'))\n",
    "\n",
    "model5.compile(optimizer='adam', loss='categorical_crossentropy',  metrics=['accuracy'])"
   ]
  },
  {
   "cell_type": "code",
   "execution_count": 9,
   "id": "89cbc7c7",
   "metadata": {},
   "outputs": [
    {
     "name": "stdout",
     "output_type": "stream",
     "text": [
      "Epoch 1/35\n",
      "144/144 [==============================] - 43s 298ms/step - loss: 2.3386 - accuracy: 0.1948 - val_loss: 2.1630 - val_accuracy: 0.2413\n",
      "Epoch 2/35\n",
      "144/144 [==============================] - 40s 274ms/step - loss: 2.0969 - accuracy: 0.2567 - val_loss: 2.4994 - val_accuracy: 0.1792\n",
      "Epoch 3/35\n",
      "144/144 [==============================] - 39s 272ms/step - loss: 2.0888 - accuracy: 0.2473 - val_loss: 1.9732 - val_accuracy: 0.3737\n",
      "Epoch 4/35\n",
      "144/144 [==============================] - 40s 275ms/step - loss: 1.9420 - accuracy: 0.3104 - val_loss: 1.8156 - val_accuracy: 0.4022\n",
      "Epoch 5/35\n",
      "144/144 [==============================] - 42s 287ms/step - loss: 1.8214 - accuracy: 0.3505 - val_loss: 1.7346 - val_accuracy: 0.4414\n",
      "Epoch 6/35\n",
      "144/144 [==============================] - 40s 276ms/step - loss: 1.7536 - accuracy: 0.3712 - val_loss: 1.6364 - val_accuracy: 0.4496\n",
      "Epoch 7/35\n",
      "144/144 [==============================] - 38s 266ms/step - loss: 1.6133 - accuracy: 0.4275 - val_loss: 1.5198 - val_accuracy: 0.4969\n",
      "Epoch 8/35\n",
      "144/144 [==============================] - 38s 265ms/step - loss: 1.6069 - accuracy: 0.4290 - val_loss: 1.4975 - val_accuracy: 0.5046\n",
      "Epoch 9/35\n",
      "144/144 [==============================] - 38s 261ms/step - loss: 1.5095 - accuracy: 0.4857 - val_loss: 1.4310 - val_accuracy: 0.5270\n",
      "Epoch 10/35\n",
      "144/144 [==============================] - 39s 268ms/step - loss: 1.4566 - accuracy: 0.5001 - val_loss: 1.3844 - val_accuracy: 0.5570\n",
      "Epoch 11/35\n",
      "144/144 [==============================] - 39s 271ms/step - loss: 1.4951 - accuracy: 0.4879 - val_loss: 1.3824 - val_accuracy: 0.5738\n",
      "Epoch 12/35\n",
      "144/144 [==============================] - 38s 262ms/step - loss: 1.4740 - accuracy: 0.4971 - val_loss: 1.3668 - val_accuracy: 0.5494\n",
      "Epoch 13/35\n",
      "144/144 [==============================] - 38s 263ms/step - loss: 1.3772 - accuracy: 0.5344 - val_loss: 1.3391 - val_accuracy: 0.5586\n",
      "Epoch 14/35\n",
      "144/144 [==============================] - 38s 266ms/step - loss: 1.3282 - accuracy: 0.5549 - val_loss: 1.2530 - val_accuracy: 0.5820\n",
      "Epoch 15/35\n",
      "144/144 [==============================] - 38s 264ms/step - loss: 1.3009 - accuracy: 0.5668 - val_loss: 1.3143 - val_accuracy: 0.5550\n",
      "Epoch 16/35\n",
      "144/144 [==============================] - 38s 265ms/step - loss: 1.2738 - accuracy: 0.5762 - val_loss: 1.2432 - val_accuracy: 0.5993\n",
      "Epoch 17/35\n",
      "144/144 [==============================] - 38s 264ms/step - loss: 1.2250 - accuracy: 0.5926 - val_loss: 1.2030 - val_accuracy: 0.6064\n",
      "Epoch 18/35\n",
      "144/144 [==============================] - 38s 263ms/step - loss: 1.1852 - accuracy: 0.6214 - val_loss: 1.2128 - val_accuracy: 0.5937\n",
      "Epoch 19/35\n",
      "144/144 [==============================] - 38s 264ms/step - loss: 1.1193 - accuracy: 0.6314 - val_loss: 1.2719 - val_accuracy: 0.5743\n",
      "Epoch 20/35\n",
      "144/144 [==============================] - 38s 262ms/step - loss: 1.4969 - accuracy: 0.4875 - val_loss: 1.5296 - val_accuracy: 0.5178\n",
      "Epoch 21/35\n",
      "144/144 [==============================] - 38s 264ms/step - loss: 1.3850 - accuracy: 0.5335 - val_loss: 1.2444 - val_accuracy: 0.6181\n",
      "Epoch 22/35\n",
      "144/144 [==============================] - 38s 264ms/step - loss: 1.5142 - accuracy: 0.4851 - val_loss: 1.5822 - val_accuracy: 0.4175\n",
      "Epoch 23/35\n",
      "144/144 [==============================] - 38s 265ms/step - loss: 1.4981 - accuracy: 0.4929 - val_loss: 1.3044 - val_accuracy: 0.6375\n",
      "Epoch 24/35\n",
      "144/144 [==============================] - 38s 264ms/step - loss: 1.2941 - accuracy: 0.5599 - val_loss: 1.2623 - val_accuracy: 0.6339\n",
      "Epoch 25/35\n",
      "144/144 [==============================] - 40s 274ms/step - loss: 1.2478 - accuracy: 0.5806 - val_loss: 1.2488 - val_accuracy: 0.6415\n",
      "Epoch 26/35\n",
      "144/144 [==============================] - 41s 282ms/step - loss: 1.1568 - accuracy: 0.6157 - val_loss: 1.1445 - val_accuracy: 0.6777\n",
      "Epoch 27/35\n",
      "144/144 [==============================] - 44s 308ms/step - loss: 1.1388 - accuracy: 0.6316 - val_loss: 1.1797 - val_accuracy: 0.6410\n",
      "Epoch 28/35\n",
      "144/144 [==============================] - 43s 301ms/step - loss: 1.1010 - accuracy: 0.6360 - val_loss: 1.3075 - val_accuracy: 0.6191\n",
      "Epoch 29/35\n",
      "144/144 [==============================] - 50s 345ms/step - loss: 1.0575 - accuracy: 0.6567 - val_loss: 1.2602 - val_accuracy: 0.6527\n",
      "Epoch 30/35\n",
      "144/144 [==============================] - 42s 291ms/step - loss: 1.0660 - accuracy: 0.6637 - val_loss: 1.1191 - val_accuracy: 0.6553\n",
      "Epoch 31/35\n",
      "144/144 [==============================] - 40s 279ms/step - loss: 0.9714 - accuracy: 0.6962 - val_loss: 1.1669 - val_accuracy: 0.6599\n",
      "Epoch 32/35\n",
      "144/144 [==============================] - 39s 270ms/step - loss: 0.9666 - accuracy: 0.6940 - val_loss: 1.1014 - val_accuracy: 0.6797\n",
      "Epoch 33/35\n",
      "144/144 [==============================] - 39s 268ms/step - loss: 1.1234 - accuracy: 0.6528 - val_loss: 1.2437 - val_accuracy: 0.6594\n",
      "Epoch 34/35\n",
      "144/144 [==============================] - 39s 268ms/step - loss: 0.9485 - accuracy: 0.7145 - val_loss: 1.2478 - val_accuracy: 0.6288\n",
      "Epoch 35/35\n",
      "144/144 [==============================] - 38s 264ms/step - loss: 0.9322 - accuracy: 0.7132 - val_loss: 1.1765 - val_accuracy: 0.6497\n"
     ]
    }
   ],
   "source": [
    "history_cnn_5 = model5.fit(train_generator_2, validation_data = validation_generator_2, epochs = 35)"
   ]
  },
  {
   "cell_type": "code",
   "execution_count": 11,
   "id": "da025f43",
   "metadata": {},
   "outputs": [],
   "source": [
    "model5.save('saved_models/cnn_model_5.h5')"
   ]
  },
  {
   "cell_type": "code",
   "execution_count": 19,
   "id": "33ef9942",
   "metadata": {},
   "outputs": [],
   "source": [
    "train_cnn_history_5 = pd.DataFrame(history_cnn_5.history)"
   ]
  },
  {
   "cell_type": "code",
   "execution_count": 16,
   "id": "34f3d774",
   "metadata": {},
   "outputs": [],
   "source": [
    "train_cnn_history_5.to_pickle(\"saved_models/train_cnn_history_5.pkl\")  "
   ]
  },
  {
   "cell_type": "code",
   "execution_count": 25,
   "id": "18179de3",
   "metadata": {},
   "outputs": [],
   "source": [
    "model6 = Sequential()\n",
    "\n",
    "# define 3x3 filter window sizes. Create 32 filters.\n",
    "model6.add(Conv2D(filters=32,\n",
    "                        kernel_size=(3, 3),\n",
    "                        activation='relu',\n",
    "                        input_shape=(150, 150, 3), kernel_regularizer = l2(5e-4) ))\n",
    "\n",
    "# max pool in 2x2 window\n",
    "model6.add(MaxPooling2D(pool_size=(2, 2)))\n",
    "\n",
    "# define 3x3 filter window sizes. Create 64 filters.\n",
    "model6.add(Conv2D(64, (3, 3), activation='relu', kernel_regularizer = l2(5e-4)))\n",
    "model6.add(MaxPooling2D((2, 2)))\n",
    "\n",
    "model6.add(Conv2D(64, (3, 3), activation='relu', kernel_regularizer = l2(5e-4)))\n",
    "model6.add(Dropout(0.2))\n",
    "model6.add(MaxPooling2D((2, 2)))\n",
    "\n",
    "model6.add(Conv2D(64, (3, 3), activation='relu', kernel_regularizer = l2(5e-4)))\n",
    "model6.add(Dropout(0.2))\n",
    "model6.add(MaxPooling2D((2, 2)))\n",
    "\n",
    "model6.add(Conv2D(64, (3, 3), activation='relu', kernel_regularizer = l2(5e-4)))\n",
    "model6.add(Dropout(0.25))\n",
    "\n",
    "# transition to dense fully-connected part of network\n",
    "model6.add(Flatten())\n",
    "model6.add(Dense(64, activation='relu'))\n",
    "model6.add(Dropout(0.25))\n",
    "\n",
    "model6.add(BatchNormalization())\n",
    "model6.add(Dense(128, activation='relu'))\n",
    "model6.add(Dropout(0.7))\n",
    "\n",
    "model6.add(Dense(10, activation='softmax'))\n",
    "\n",
    "model6.compile(optimizer='adam', loss='categorical_crossentropy',  metrics=['accuracy'])"
   ]
  },
  {
   "cell_type": "code",
   "execution_count": 26,
   "id": "bdb96ba2",
   "metadata": {},
   "outputs": [
    {
     "name": "stdout",
     "output_type": "stream",
     "text": [
      "Epoch 1/35\n",
      "144/144 [==============================] - 41s 279ms/step - loss: 2.3891 - accuracy: 0.1819 - val_loss: 2.3289 - val_accuracy: 0.1787\n",
      "Epoch 2/35\n",
      "144/144 [==============================] - 41s 287ms/step - loss: 2.0513 - accuracy: 0.2779 - val_loss: 2.0917 - val_accuracy: 0.2419\n",
      "Epoch 3/35\n",
      "144/144 [==============================] - 41s 283ms/step - loss: 1.7824 - accuracy: 0.3745 - val_loss: 1.6276 - val_accuracy: 0.5046\n",
      "Epoch 4/35\n",
      "144/144 [==============================] - 42s 294ms/step - loss: 1.5703 - accuracy: 0.4569 - val_loss: 1.4692 - val_accuracy: 0.4949\n",
      "Epoch 5/35\n",
      "144/144 [==============================] - 42s 292ms/step - loss: 1.4427 - accuracy: 0.5003 - val_loss: 1.3053 - val_accuracy: 0.5754\n",
      "Epoch 6/35\n",
      "144/144 [==============================] - 40s 274ms/step - loss: 1.2951 - accuracy: 0.5710 - val_loss: 1.2949 - val_accuracy: 0.5570\n",
      "Epoch 7/35\n",
      "144/144 [==============================] - 39s 270ms/step - loss: 1.2214 - accuracy: 0.5993 - val_loss: 1.2655 - val_accuracy: 0.5850\n",
      "Epoch 8/35\n",
      "144/144 [==============================] - 42s 289ms/step - loss: 1.1013 - accuracy: 0.6467 - val_loss: 1.1328 - val_accuracy: 0.6339\n",
      "Epoch 9/35\n",
      "144/144 [==============================] - 39s 267ms/step - loss: 1.0422 - accuracy: 0.6722 - val_loss: 1.3610 - val_accuracy: 0.5932\n",
      "Epoch 10/35\n",
      "144/144 [==============================] - 39s 271ms/step - loss: 0.9944 - accuracy: 0.6960 - val_loss: 1.0822 - val_accuracy: 0.6665\n",
      "Epoch 11/35\n",
      "144/144 [==============================] - 40s 278ms/step - loss: 0.9011 - accuracy: 0.7415 - val_loss: 1.1586 - val_accuracy: 0.6431\n",
      "Epoch 12/35\n",
      "144/144 [==============================] - 39s 267ms/step - loss: 0.8236 - accuracy: 0.7653 - val_loss: 1.2646 - val_accuracy: 0.6085\n",
      "Epoch 13/35\n",
      "144/144 [==============================] - 39s 272ms/step - loss: 0.7860 - accuracy: 0.7856 - val_loss: 1.1497 - val_accuracy: 0.6701\n",
      "Epoch 14/35\n",
      "144/144 [==============================] - 39s 271ms/step - loss: 0.7660 - accuracy: 0.7939 - val_loss: 1.3722 - val_accuracy: 0.6023\n",
      "Epoch 15/35\n",
      "144/144 [==============================] - 40s 274ms/step - loss: 0.7340 - accuracy: 0.8098 - val_loss: 1.1022 - val_accuracy: 0.6853\n",
      "Epoch 16/35\n",
      "144/144 [==============================] - 40s 276ms/step - loss: 0.6699 - accuracy: 0.8236 - val_loss: 1.1073 - val_accuracy: 0.6920\n",
      "Epoch 17/35\n",
      "144/144 [==============================] - 40s 277ms/step - loss: 0.7089 - accuracy: 0.8140 - val_loss: 1.2350 - val_accuracy: 0.6471\n",
      "Epoch 18/35\n",
      "144/144 [==============================] - 40s 279ms/step - loss: 0.6379 - accuracy: 0.8349 - val_loss: 1.3329 - val_accuracy: 0.6512\n",
      "Epoch 19/35\n",
      "144/144 [==============================] - 41s 284ms/step - loss: 0.6213 - accuracy: 0.8419 - val_loss: 1.3199 - val_accuracy: 0.6568\n",
      "Epoch 20/35\n",
      "144/144 [==============================] - 40s 280ms/step - loss: 0.5571 - accuracy: 0.8689 - val_loss: 1.2609 - val_accuracy: 0.6670\n",
      "Epoch 21/35\n",
      "144/144 [==============================] - 41s 282ms/step - loss: 0.5332 - accuracy: 0.8713 - val_loss: 1.3657 - val_accuracy: 0.6482\n",
      "Epoch 22/35\n",
      "144/144 [==============================] - 38s 266ms/step - loss: 0.5653 - accuracy: 0.8654 - val_loss: 1.1641 - val_accuracy: 0.6930\n",
      "Epoch 23/35\n",
      "144/144 [==============================] - 38s 264ms/step - loss: 0.5271 - accuracy: 0.8744 - val_loss: 1.2956 - val_accuracy: 0.6838\n",
      "Epoch 24/35\n",
      "144/144 [==============================] - 38s 266ms/step - loss: 0.5651 - accuracy: 0.8737 - val_loss: 1.3355 - val_accuracy: 0.6818\n",
      "Epoch 25/35\n",
      "144/144 [==============================] - 45s 315ms/step - loss: 0.5241 - accuracy: 0.8796 - val_loss: 1.2150 - val_accuracy: 0.7037\n",
      "Epoch 26/35\n",
      "144/144 [==============================] - 40s 277ms/step - loss: 0.5121 - accuracy: 0.8870 - val_loss: 1.3176 - val_accuracy: 0.6736\n",
      "Epoch 27/35\n",
      "144/144 [==============================] - 38s 263ms/step - loss: 0.4741 - accuracy: 0.8947 - val_loss: 1.3633 - val_accuracy: 0.6716\n",
      "Epoch 28/35\n",
      "144/144 [==============================] - 41s 281ms/step - loss: 0.4409 - accuracy: 0.9091 - val_loss: 1.2640 - val_accuracy: 0.6752\n",
      "Epoch 29/35\n",
      "144/144 [==============================] - 38s 264ms/step - loss: 0.4475 - accuracy: 0.9043 - val_loss: 1.3518 - val_accuracy: 0.6650\n",
      "Epoch 30/35\n",
      "144/144 [==============================] - 38s 262ms/step - loss: 0.4414 - accuracy: 0.9075 - val_loss: 1.3110 - val_accuracy: 0.6624\n",
      "Epoch 31/35\n",
      "144/144 [==============================] - 37s 260ms/step - loss: 0.4375 - accuracy: 0.9093 - val_loss: 1.4193 - val_accuracy: 0.6471\n",
      "Epoch 32/35\n",
      "144/144 [==============================] - 38s 263ms/step - loss: 0.4212 - accuracy: 0.9182 - val_loss: 1.4500 - val_accuracy: 0.6497\n",
      "Epoch 33/35\n",
      "144/144 [==============================] - 38s 265ms/step - loss: 0.4468 - accuracy: 0.9012 - val_loss: 1.4277 - val_accuracy: 0.7006\n",
      "Epoch 34/35\n",
      "144/144 [==============================] - 38s 262ms/step - loss: 0.4572 - accuracy: 0.9056 - val_loss: 1.5733 - val_accuracy: 0.6502\n",
      "Epoch 35/35\n",
      "144/144 [==============================] - 38s 265ms/step - loss: 0.4157 - accuracy: 0.9202 - val_loss: 1.4420 - val_accuracy: 0.6680\n"
     ]
    }
   ],
   "source": [
    "history_cnn_6 = model6.fit(train_generator_2, validation_data = validation_generator_2, epochs = 35)"
   ]
  },
  {
   "cell_type": "code",
   "execution_count": 28,
   "id": "7aa342eb",
   "metadata": {},
   "outputs": [
    {
     "name": "stderr",
     "output_type": "stream",
     "text": [
      "/Users/eitan/anaconda3/envs/Number41/lib/python3.11/site-packages/keras/src/engine/training.py:3000: UserWarning: You are saving your model as an HDF5 file via `model.save()`. This file format is considered legacy. We recommend using instead the native Keras format, e.g. `model.save('my_model.keras')`.\n",
      "  saving_api.save_model(\n"
     ]
    }
   ],
   "source": [
    "model6.save('saved_models/cnn_model_6.h5')\n",
    "\n",
    "train_cnn_history_6 = pd.DataFrame(history_cnn_6.history)\n",
    "\n",
    "train_cnn_history_6.to_pickle(\"saved_models/train_cnn_history_6.pkl\")  "
   ]
  },
  {
   "cell_type": "code",
   "execution_count": null,
   "id": "edd2d793",
   "metadata": {},
   "outputs": [],
   "source": []
  },
  {
   "cell_type": "code",
   "execution_count": null,
   "id": "55585d68",
   "metadata": {},
   "outputs": [],
   "source": []
  },
  {
   "cell_type": "code",
   "execution_count": null,
   "id": "6f459000",
   "metadata": {},
   "outputs": [],
   "source": []
  },
  {
   "cell_type": "code",
   "execution_count": null,
   "id": "8c3bb887",
   "metadata": {},
   "outputs": [],
   "source": []
  },
  {
   "cell_type": "code",
   "execution_count": null,
   "id": "b1f4a229",
   "metadata": {},
   "outputs": [],
   "source": []
  },
  {
   "cell_type": "code",
   "execution_count": 38,
   "id": "067d7710",
   "metadata": {},
   "outputs": [],
   "source": [
    "model7 = Sequential()\n",
    "\n",
    "# define 3x3 filter window sizes. Create 32 filters.\n",
    "model7.add(Conv2D(filters=32,\n",
    "                        kernel_size=(3, 3),\n",
    "                        activation='relu',\n",
    "                        input_shape=(150, 150, 3), kernel_regularizer = l2(7e-4) ))\n",
    "\n",
    "# max pool in 2x2 window\n",
    "model7.add(MaxPooling2D(pool_size=(2, 2)))\n",
    "\n",
    "# define 3x3 filter window sizes. Create 64 filters.\n",
    "model7.add(Conv2D(64, (3, 3), activation='relu', kernel_regularizer = l2(7e-4)))\n",
    "model7.add(MaxPooling2D((2, 2)))\n",
    "\n",
    "model7.add(Conv2D(64, (3, 3), activation='relu', kernel_regularizer = l2(7e-4)))\n",
    "model7.add(Dropout(0.2))\n",
    "model7.add(MaxPooling2D((2, 2)))\n",
    "\n",
    "model7.add(Conv2D(64, (3, 3), activation='relu', kernel_regularizer = l2(7e-4)))\n",
    "model7.add(MaxPooling2D((2, 2)))\n",
    "model7.add(Dropout(0.25))\n",
    "\n",
    "model7.add(Conv2D(64, (3, 3), activation='relu', kernel_regularizer = l2(7e-4)))\n",
    "model7.add(Dropout(0.25))\n",
    "\n",
    "# transition to dense fully-connected part of network\n",
    "model7.add(Flatten())\n",
    "model7.add(Dense(64, activation='relu'))\n",
    "model7.add(Dropout(0.35))\n",
    "\n",
    "model7.add(BatchNormalization())\n",
    "model7.add(Dense(128, activation='relu'))\n",
    "model7.add(Dropout(0.7))\n",
    "\n",
    "model7.add(Dense(10, activation='softmax'))\n",
    "\n",
    "model7.compile(optimizer='adam', loss='categorical_crossentropy',  metrics=['accuracy'])"
   ]
  },
  {
   "cell_type": "code",
   "execution_count": 39,
   "id": "a59d8503",
   "metadata": {},
   "outputs": [
    {
     "name": "stdout",
     "output_type": "stream",
     "text": [
      "Epoch 1/35\n",
      "144/144 [==============================] - 41s 284ms/step - loss: 2.5346 - accuracy: 0.1472 - val_loss: 2.2082 - val_accuracy: 0.2342\n",
      "Epoch 2/35\n",
      "144/144 [==============================] - 40s 274ms/step - loss: 2.2532 - accuracy: 0.2052 - val_loss: 2.1557 - val_accuracy: 0.2785\n",
      "Epoch 3/35\n",
      "144/144 [==============================] - 39s 271ms/step - loss: 2.1427 - accuracy: 0.2438 - val_loss: 2.0860 - val_accuracy: 0.3167\n",
      "Epoch 4/35\n",
      "144/144 [==============================] - 39s 268ms/step - loss: 2.0783 - accuracy: 0.2613 - val_loss: 2.1370 - val_accuracy: 0.2627\n",
      "Epoch 5/35\n",
      "144/144 [==============================] - 38s 267ms/step - loss: 2.0156 - accuracy: 0.2709 - val_loss: 1.8688 - val_accuracy: 0.3717\n",
      "Epoch 6/35\n",
      "144/144 [==============================] - 38s 264ms/step - loss: 1.9737 - accuracy: 0.2940 - val_loss: 2.0316 - val_accuracy: 0.2439\n",
      "Epoch 7/35\n",
      "144/144 [==============================] - 38s 266ms/step - loss: 1.9249 - accuracy: 0.3005 - val_loss: 1.8450 - val_accuracy: 0.3656\n",
      "Epoch 8/35\n",
      "144/144 [==============================] - 37s 255ms/step - loss: 1.8703 - accuracy: 0.3237 - val_loss: 1.8846 - val_accuracy: 0.3702\n",
      "Epoch 9/35\n",
      "144/144 [==============================] - 37s 254ms/step - loss: 1.8110 - accuracy: 0.3415 - val_loss: 2.1163 - val_accuracy: 0.2627\n",
      "Epoch 10/35\n",
      "144/144 [==============================] - 37s 254ms/step - loss: 1.7417 - accuracy: 0.3708 - val_loss: 1.9234 - val_accuracy: 0.3304\n",
      "Epoch 11/35\n",
      "144/144 [==============================] - 37s 255ms/step - loss: 1.6376 - accuracy: 0.4281 - val_loss: 1.7186 - val_accuracy: 0.4751\n",
      "Epoch 12/35\n",
      "144/144 [==============================] - 37s 254ms/step - loss: 1.5667 - accuracy: 0.4565 - val_loss: 1.7980 - val_accuracy: 0.3880\n",
      "Epoch 13/35\n",
      "144/144 [==============================] - 37s 253ms/step - loss: 1.4849 - accuracy: 0.4833 - val_loss: 1.5245 - val_accuracy: 0.5132\n",
      "Epoch 14/35\n",
      "144/144 [==============================] - 37s 257ms/step - loss: 1.6888 - accuracy: 0.4181 - val_loss: 1.5508 - val_accuracy: 0.4934\n",
      "Epoch 15/35\n",
      "144/144 [==============================] - 37s 254ms/step - loss: 1.4655 - accuracy: 0.5023 - val_loss: 1.4059 - val_accuracy: 0.5636\n",
      "Epoch 16/35\n",
      "144/144 [==============================] - 37s 259ms/step - loss: 1.3184 - accuracy: 0.5701 - val_loss: 1.3490 - val_accuracy: 0.5524\n",
      "Epoch 17/35\n",
      "144/144 [==============================] - 37s 258ms/step - loss: 1.3529 - accuracy: 0.5409 - val_loss: 1.4971 - val_accuracy: 0.5122\n",
      "Epoch 18/35\n",
      "144/144 [==============================] - 37s 254ms/step - loss: 1.2818 - accuracy: 0.5716 - val_loss: 1.2186 - val_accuracy: 0.5922\n",
      "Epoch 19/35\n",
      "144/144 [==============================] - 37s 260ms/step - loss: 1.2245 - accuracy: 0.6109 - val_loss: 1.2056 - val_accuracy: 0.6049\n",
      "Epoch 20/35\n",
      "144/144 [==============================] - 37s 256ms/step - loss: 1.2043 - accuracy: 0.6205 - val_loss: 1.2960 - val_accuracy: 0.5723\n",
      "Epoch 21/35\n",
      "144/144 [==============================] - 38s 262ms/step - loss: 1.1424 - accuracy: 0.6358 - val_loss: 1.2140 - val_accuracy: 0.5911\n",
      "Epoch 22/35\n",
      "144/144 [==============================] - 38s 261ms/step - loss: 1.1020 - accuracy: 0.6587 - val_loss: 1.2120 - val_accuracy: 0.6237\n",
      "Epoch 23/35\n",
      "144/144 [==============================] - 37s 257ms/step - loss: 1.0391 - accuracy: 0.6851 - val_loss: 1.2680 - val_accuracy: 0.6207\n",
      "Epoch 24/35\n",
      "144/144 [==============================] - 37s 254ms/step - loss: 1.0784 - accuracy: 0.6707 - val_loss: 1.2929 - val_accuracy: 0.6079\n",
      "Epoch 25/35\n",
      "144/144 [==============================] - 37s 255ms/step - loss: 1.0244 - accuracy: 0.7060 - val_loss: 1.2007 - val_accuracy: 0.6466\n",
      "Epoch 26/35\n",
      "144/144 [==============================] - 37s 257ms/step - loss: 0.9757 - accuracy: 0.7145 - val_loss: 1.2572 - val_accuracy: 0.6197\n",
      "Epoch 27/35\n",
      "144/144 [==============================] - 39s 267ms/step - loss: 0.9376 - accuracy: 0.7370 - val_loss: 1.3211 - val_accuracy: 0.6054\n",
      "Epoch 28/35\n",
      "144/144 [==============================] - 38s 260ms/step - loss: 0.9126 - accuracy: 0.7415 - val_loss: 1.3359 - val_accuracy: 0.6115\n",
      "Epoch 29/35\n",
      "144/144 [==============================] - 37s 256ms/step - loss: 0.9296 - accuracy: 0.7405 - val_loss: 1.3279 - val_accuracy: 0.6354\n",
      "Epoch 30/35\n",
      "144/144 [==============================] - 37s 257ms/step - loss: 0.8460 - accuracy: 0.7664 - val_loss: 1.1324 - val_accuracy: 0.6752\n",
      "Epoch 31/35\n",
      "144/144 [==============================] - 37s 260ms/step - loss: 0.8320 - accuracy: 0.7808 - val_loss: 1.2287 - val_accuracy: 0.6477\n",
      "Epoch 32/35\n",
      "144/144 [==============================] - 37s 255ms/step - loss: 0.7892 - accuracy: 0.7996 - val_loss: 1.2559 - val_accuracy: 0.6645\n",
      "Epoch 33/35\n",
      "144/144 [==============================] - 37s 258ms/step - loss: 0.8527 - accuracy: 0.7730 - val_loss: 1.3582 - val_accuracy: 0.6166\n",
      "Epoch 34/35\n",
      "144/144 [==============================] - 37s 258ms/step - loss: 0.8055 - accuracy: 0.7856 - val_loss: 1.2116 - val_accuracy: 0.6762\n",
      "Epoch 35/35\n",
      "144/144 [==============================] - 37s 257ms/step - loss: 0.7715 - accuracy: 0.8011 - val_loss: 1.2626 - val_accuracy: 0.6696\n"
     ]
    }
   ],
   "source": [
    "history_cnn_7 = model7.fit(train_generator_2, validation_data = validation_generator_2, epochs = 35)"
   ]
  },
  {
   "cell_type": "code",
   "execution_count": 44,
   "id": "680ce3eb",
   "metadata": {},
   "outputs": [
    {
     "name": "stderr",
     "output_type": "stream",
     "text": [
      "/Users/eitan/anaconda3/envs/Number41/lib/python3.11/site-packages/keras/src/engine/training.py:3000: UserWarning: You are saving your model as an HDF5 file via `model.save()`. This file format is considered legacy. We recommend using instead the native Keras format, e.g. `model.save('my_model.keras')`.\n",
      "  saving_api.save_model(\n"
     ]
    }
   ],
   "source": [
    "model7.save('saved_models/cnn_model_7.h5')\n",
    "\n",
    "train_cnn_history_7 = pd.DataFrame(history_cnn_7.history)\n",
    "\n",
    "train_cnn_history_7.to_pickle(\"saved_models/train_cnn_history_7.pkl\")  "
   ]
  },
  {
   "cell_type": "code",
   "execution_count": null,
   "id": "e53b1ec0",
   "metadata": {},
   "outputs": [],
   "source": []
  },
  {
   "cell_type": "code",
   "execution_count": null,
   "id": "5e08d38a",
   "metadata": {},
   "outputs": [],
   "source": []
  },
  {
   "cell_type": "code",
   "execution_count": 14,
   "id": "39d8d8a2",
   "metadata": {},
   "outputs": [
    {
     "name": "stdout",
     "output_type": "stream",
     "text": [
      "Found 4585 images belonging to 10 classes.\n"
     ]
    }
   ],
   "source": [
    "train_data_gen_3 = ImageDataGenerator(rescale = 1./255, validation_split = .3)\n",
    "\n",
    "train_generator_3 = train_data_gen_3.flow_from_directory(\n",
    "    \n",
    "                                                    train_dir, \n",
    "                                                    target_size = (320, 240),\n",
    "                                                    batch_size = 32,\n",
    "                                                    class_mode = 'categorical',\n",
    "                                                    color_mode = 'rgb',\n",
    "                                                    seed = 42,\n",
    "                                                    subset = 'training',)"
   ]
  },
  {
   "cell_type": "code",
   "execution_count": 15,
   "id": "336542ca",
   "metadata": {},
   "outputs": [
    {
     "name": "stdout",
     "output_type": "stream",
     "text": [
      "Found 1964 images belonging to 10 classes.\n"
     ]
    }
   ],
   "source": [
    "val_data_gen_3 = ImageDataGenerator(rescale=1./255)\n",
    "\n",
    "validation_generator_3 = train_data_gen_3.flow_from_directory(\n",
    "    \n",
    "                                                    train_dir, \n",
    "                                                    target_size = (320, 240),\n",
    "                                                    batch_size = 32,\n",
    "                                                    class_mode = 'categorical',\n",
    "                                                    color_mode = 'rgb',\n",
    "                                                    seed = 42,\n",
    "                                                    subset = 'validation',)"
   ]
  },
  {
   "cell_type": "code",
   "execution_count": 16,
   "id": "ae41a46a",
   "metadata": {},
   "outputs": [
    {
     "name": "stdout",
     "output_type": "stream",
     "text": [
      "Found 2183 images belonging to 10 classes.\n"
     ]
    }
   ],
   "source": [
    "test_data_gen_3 = ImageDataGenerator(rescale=1./255)\n",
    "\n",
    "test_generator_3 = test_data_gen_3.flow_from_directory(\n",
    "\n",
    "                                                    test_dir, \n",
    "                                                    target_size = (320, 240),\n",
    "                                                    batch_size = 32,\n",
    "                                                    class_mode = 'categorical',\n",
    "                                                    color_mode = 'rgb',\n",
    "                                                    seed = 42,\n",
    "                                                    shuffle = False)"
   ]
  },
  {
   "cell_type": "code",
   "execution_count": 8,
   "id": "b29124cf",
   "metadata": {},
   "outputs": [],
   "source": [
    "model8 = Sequential()\n",
    "\n",
    "# define 3x3 filter window sizes. Create 32 filters.\n",
    "model8.add(Conv2D(filters=32,\n",
    "                        kernel_size=(5, 5),\n",
    "                        activation='relu',\n",
    "                        input_shape=(320, 240, 3), kernel_regularizer = l2(7e-4) ))\n",
    "\n",
    "# max pool in 2x2 window\n",
    "model8.add(MaxPooling2D(pool_size=(2, 2)))\n",
    "\n",
    "# define 3x3 filter window sizes. Create 64 filters.\n",
    "model8.add(Conv2D(64, (3, 3), activation='relu', kernel_regularizer = l2(7e-4)))\n",
    "model8.add(MaxPooling2D((2, 2)))\n",
    "\n",
    "model8.add(Conv2D(64, (3, 3), activation='relu', kernel_regularizer = l2(7e-4)))\n",
    "model8.add(Dropout(0.2))\n",
    "\n",
    "# transition to dense fully-connected part of network\n",
    "model8.add(Flatten())\n",
    "model8.add(Dense(64, activation='relu'))\n",
    "model8.add(Dropout(0.3))\n",
    "\n",
    "model8.add(BatchNormalization())\n",
    "model8.add(Dense(64, activation='relu'))\n",
    "model8.add(Dropout(0.6))\n",
    "\n",
    "model8.add(Dense(10, activation='softmax'))\n",
    "\n",
    "model8.compile(optimizer='adam', loss='categorical_crossentropy',  metrics=['accuracy'])"
   ]
  },
  {
   "cell_type": "code",
   "execution_count": 9,
   "id": "0839ac5e",
   "metadata": {},
   "outputs": [
    {
     "name": "stdout",
     "output_type": "stream",
     "text": [
      "Epoch 1/35\n",
      "144/144 [==============================] - 147s 1s/step - loss: 2.4230 - accuracy: 0.1346 - val_loss: 2.2507 - val_accuracy: 0.2531\n",
      "Epoch 2/35\n",
      "144/144 [==============================] - 147s 1s/step - loss: 2.2035 - accuracy: 0.1871 - val_loss: 2.1277 - val_accuracy: 0.2663\n",
      "Epoch 3/35\n",
      "144/144 [==============================] - 159s 1s/step - loss: 2.1432 - accuracy: 0.1956 - val_loss: 2.2038 - val_accuracy: 0.1675\n",
      "Epoch 4/35\n",
      "144/144 [==============================] - 173s 1s/step - loss: 2.0810 - accuracy: 0.2273 - val_loss: 2.1045 - val_accuracy: 0.2805\n",
      "Epoch 5/35\n",
      "144/144 [==============================] - 166s 1s/step - loss: 2.0634 - accuracy: 0.2244 - val_loss: 2.1274 - val_accuracy: 0.2312\n",
      "Epoch 6/35\n",
      "144/144 [==============================] - 174s 1s/step - loss: 2.0091 - accuracy: 0.2576 - val_loss: 1.9205 - val_accuracy: 0.3467\n",
      "Epoch 7/35\n",
      "144/144 [==============================] - 160s 1s/step - loss: 1.9309 - accuracy: 0.2796 - val_loss: 1.9158 - val_accuracy: 0.2943\n",
      "Epoch 8/35\n",
      "144/144 [==============================] - 179s 1s/step - loss: 1.8789 - accuracy: 0.3034 - val_loss: 1.7591 - val_accuracy: 0.3910\n",
      "Epoch 9/35\n",
      "144/144 [==============================] - 172s 1s/step - loss: 1.8504 - accuracy: 0.3230 - val_loss: 1.7261 - val_accuracy: 0.4150\n",
      "Epoch 10/35\n",
      "144/144 [==============================] - 173s 1s/step - loss: 1.7254 - accuracy: 0.3662 - val_loss: 1.5831 - val_accuracy: 0.4649\n",
      "Epoch 11/35\n",
      "144/144 [==============================] - 167s 1s/step - loss: 1.6592 - accuracy: 0.3943 - val_loss: 1.5253 - val_accuracy: 0.4771\n",
      "Epoch 12/35\n",
      "144/144 [==============================] - 175s 1s/step - loss: 1.5924 - accuracy: 0.4231 - val_loss: 1.5041 - val_accuracy: 0.5178\n",
      "Epoch 13/35\n",
      "144/144 [==============================] - 187s 1s/step - loss: 1.5316 - accuracy: 0.4537 - val_loss: 1.4783 - val_accuracy: 0.5199\n",
      "Epoch 14/35\n",
      "144/144 [==============================] - 160s 1s/step - loss: 1.4807 - accuracy: 0.4746 - val_loss: 1.3476 - val_accuracy: 0.5545\n",
      "Epoch 15/35\n",
      "144/144 [==============================] - 162s 1s/step - loss: 1.4184 - accuracy: 0.4940 - val_loss: 1.4235 - val_accuracy: 0.5311\n",
      "Epoch 16/35\n",
      "144/144 [==============================] - 150s 1s/step - loss: 1.3945 - accuracy: 0.4988 - val_loss: 1.4877 - val_accuracy: 0.4908\n",
      "Epoch 17/35\n",
      "144/144 [==============================] - 161s 1s/step - loss: 1.3875 - accuracy: 0.5141 - val_loss: 1.3638 - val_accuracy: 0.5677\n",
      "Epoch 18/35\n",
      "144/144 [==============================] - 161s 1s/step - loss: 1.3454 - accuracy: 0.5372 - val_loss: 1.3082 - val_accuracy: 0.5937\n",
      "Epoch 19/35\n",
      "144/144 [==============================] - 171s 1s/step - loss: 1.4018 - accuracy: 0.5182 - val_loss: 1.2661 - val_accuracy: 0.6166\n",
      "Epoch 20/35\n",
      "144/144 [==============================] - 167s 1s/step - loss: 1.2655 - accuracy: 0.5668 - val_loss: 1.4486 - val_accuracy: 0.5443\n",
      "Epoch 21/35\n",
      "144/144 [==============================] - 169s 1s/step - loss: 1.3732 - accuracy: 0.5272 - val_loss: 1.5878 - val_accuracy: 0.4883\n",
      "Epoch 22/35\n",
      "144/144 [==============================] - 198s 1s/step - loss: 1.4874 - accuracy: 0.4820 - val_loss: 1.3316 - val_accuracy: 0.5687\n",
      "Epoch 23/35\n",
      "144/144 [==============================] - 158s 1s/step - loss: 1.2380 - accuracy: 0.5791 - val_loss: 1.3194 - val_accuracy: 0.5957\n",
      "Epoch 24/35\n",
      " 34/144 [======>.......................] - ETA: 1:41 - loss: 1.1611 - accuracy: 0.5947"
     ]
    },
    {
     "ename": "KeyboardInterrupt",
     "evalue": "",
     "output_type": "error",
     "traceback": [
      "\u001b[0;31m---------------------------------------------------------------------------\u001b[0m",
      "\u001b[0;31mKeyboardInterrupt\u001b[0m                         Traceback (most recent call last)",
      "Cell \u001b[0;32mIn[9], line 1\u001b[0m\n\u001b[0;32m----> 1\u001b[0m history_cnn_8 \u001b[38;5;241m=\u001b[39m model8\u001b[38;5;241m.\u001b[39mfit(train_generator_3, validation_data \u001b[38;5;241m=\u001b[39m validation_generator_3, epochs \u001b[38;5;241m=\u001b[39m \u001b[38;5;241m35\u001b[39m)\n",
      "File \u001b[0;32m~/anaconda3/envs/Number41/lib/python3.11/site-packages/keras/src/utils/traceback_utils.py:65\u001b[0m, in \u001b[0;36mfilter_traceback.<locals>.error_handler\u001b[0;34m(*args, **kwargs)\u001b[0m\n\u001b[1;32m     63\u001b[0m filtered_tb \u001b[38;5;241m=\u001b[39m \u001b[38;5;28;01mNone\u001b[39;00m\n\u001b[1;32m     64\u001b[0m \u001b[38;5;28;01mtry\u001b[39;00m:\n\u001b[0;32m---> 65\u001b[0m     \u001b[38;5;28;01mreturn\u001b[39;00m fn(\u001b[38;5;241m*\u001b[39margs, \u001b[38;5;241m*\u001b[39m\u001b[38;5;241m*\u001b[39mkwargs)\n\u001b[1;32m     66\u001b[0m \u001b[38;5;28;01mexcept\u001b[39;00m \u001b[38;5;167;01mException\u001b[39;00m \u001b[38;5;28;01mas\u001b[39;00m e:\n\u001b[1;32m     67\u001b[0m     filtered_tb \u001b[38;5;241m=\u001b[39m _process_traceback_frames(e\u001b[38;5;241m.\u001b[39m__traceback__)\n",
      "File \u001b[0;32m~/anaconda3/envs/Number41/lib/python3.11/site-packages/keras/src/engine/training.py:1742\u001b[0m, in \u001b[0;36mModel.fit\u001b[0;34m(self, x, y, batch_size, epochs, verbose, callbacks, validation_split, validation_data, shuffle, class_weight, sample_weight, initial_epoch, steps_per_epoch, validation_steps, validation_batch_size, validation_freq, max_queue_size, workers, use_multiprocessing)\u001b[0m\n\u001b[1;32m   1734\u001b[0m \u001b[38;5;28;01mwith\u001b[39;00m tf\u001b[38;5;241m.\u001b[39mprofiler\u001b[38;5;241m.\u001b[39mexperimental\u001b[38;5;241m.\u001b[39mTrace(\n\u001b[1;32m   1735\u001b[0m     \u001b[38;5;124m\"\u001b[39m\u001b[38;5;124mtrain\u001b[39m\u001b[38;5;124m\"\u001b[39m,\n\u001b[1;32m   1736\u001b[0m     epoch_num\u001b[38;5;241m=\u001b[39mepoch,\n\u001b[0;32m   (...)\u001b[0m\n\u001b[1;32m   1739\u001b[0m     _r\u001b[38;5;241m=\u001b[39m\u001b[38;5;241m1\u001b[39m,\n\u001b[1;32m   1740\u001b[0m ):\n\u001b[1;32m   1741\u001b[0m     callbacks\u001b[38;5;241m.\u001b[39mon_train_batch_begin(step)\n\u001b[0;32m-> 1742\u001b[0m     tmp_logs \u001b[38;5;241m=\u001b[39m \u001b[38;5;28mself\u001b[39m\u001b[38;5;241m.\u001b[39mtrain_function(iterator)\n\u001b[1;32m   1743\u001b[0m     \u001b[38;5;28;01mif\u001b[39;00m data_handler\u001b[38;5;241m.\u001b[39mshould_sync:\n\u001b[1;32m   1744\u001b[0m         context\u001b[38;5;241m.\u001b[39masync_wait()\n",
      "File \u001b[0;32m~/anaconda3/envs/Number41/lib/python3.11/site-packages/tensorflow/python/util/traceback_utils.py:150\u001b[0m, in \u001b[0;36mfilter_traceback.<locals>.error_handler\u001b[0;34m(*args, **kwargs)\u001b[0m\n\u001b[1;32m    148\u001b[0m filtered_tb \u001b[38;5;241m=\u001b[39m \u001b[38;5;28;01mNone\u001b[39;00m\n\u001b[1;32m    149\u001b[0m \u001b[38;5;28;01mtry\u001b[39;00m:\n\u001b[0;32m--> 150\u001b[0m   \u001b[38;5;28;01mreturn\u001b[39;00m fn(\u001b[38;5;241m*\u001b[39margs, \u001b[38;5;241m*\u001b[39m\u001b[38;5;241m*\u001b[39mkwargs)\n\u001b[1;32m    151\u001b[0m \u001b[38;5;28;01mexcept\u001b[39;00m \u001b[38;5;167;01mException\u001b[39;00m \u001b[38;5;28;01mas\u001b[39;00m e:\n\u001b[1;32m    152\u001b[0m   filtered_tb \u001b[38;5;241m=\u001b[39m _process_traceback_frames(e\u001b[38;5;241m.\u001b[39m__traceback__)\n",
      "File \u001b[0;32m~/anaconda3/envs/Number41/lib/python3.11/site-packages/tensorflow/python/eager/polymorphic_function/polymorphic_function.py:825\u001b[0m, in \u001b[0;36mFunction.__call__\u001b[0;34m(self, *args, **kwds)\u001b[0m\n\u001b[1;32m    822\u001b[0m compiler \u001b[38;5;241m=\u001b[39m \u001b[38;5;124m\"\u001b[39m\u001b[38;5;124mxla\u001b[39m\u001b[38;5;124m\"\u001b[39m \u001b[38;5;28;01mif\u001b[39;00m \u001b[38;5;28mself\u001b[39m\u001b[38;5;241m.\u001b[39m_jit_compile \u001b[38;5;28;01melse\u001b[39;00m \u001b[38;5;124m\"\u001b[39m\u001b[38;5;124mnonXla\u001b[39m\u001b[38;5;124m\"\u001b[39m\n\u001b[1;32m    824\u001b[0m \u001b[38;5;28;01mwith\u001b[39;00m OptionalXlaContext(\u001b[38;5;28mself\u001b[39m\u001b[38;5;241m.\u001b[39m_jit_compile):\n\u001b[0;32m--> 825\u001b[0m   result \u001b[38;5;241m=\u001b[39m \u001b[38;5;28mself\u001b[39m\u001b[38;5;241m.\u001b[39m_call(\u001b[38;5;241m*\u001b[39margs, \u001b[38;5;241m*\u001b[39m\u001b[38;5;241m*\u001b[39mkwds)\n\u001b[1;32m    827\u001b[0m new_tracing_count \u001b[38;5;241m=\u001b[39m \u001b[38;5;28mself\u001b[39m\u001b[38;5;241m.\u001b[39mexperimental_get_tracing_count()\n\u001b[1;32m    828\u001b[0m without_tracing \u001b[38;5;241m=\u001b[39m (tracing_count \u001b[38;5;241m==\u001b[39m new_tracing_count)\n",
      "File \u001b[0;32m~/anaconda3/envs/Number41/lib/python3.11/site-packages/tensorflow/python/eager/polymorphic_function/polymorphic_function.py:857\u001b[0m, in \u001b[0;36mFunction._call\u001b[0;34m(self, *args, **kwds)\u001b[0m\n\u001b[1;32m    854\u001b[0m   \u001b[38;5;28mself\u001b[39m\u001b[38;5;241m.\u001b[39m_lock\u001b[38;5;241m.\u001b[39mrelease()\n\u001b[1;32m    855\u001b[0m   \u001b[38;5;66;03m# In this case we have created variables on the first call, so we run the\u001b[39;00m\n\u001b[1;32m    856\u001b[0m   \u001b[38;5;66;03m# defunned version which is guaranteed to never create variables.\u001b[39;00m\n\u001b[0;32m--> 857\u001b[0m   \u001b[38;5;28;01mreturn\u001b[39;00m \u001b[38;5;28mself\u001b[39m\u001b[38;5;241m.\u001b[39m_no_variable_creation_fn(\u001b[38;5;241m*\u001b[39margs, \u001b[38;5;241m*\u001b[39m\u001b[38;5;241m*\u001b[39mkwds)  \u001b[38;5;66;03m# pylint: disable=not-callable\u001b[39;00m\n\u001b[1;32m    858\u001b[0m \u001b[38;5;28;01melif\u001b[39;00m \u001b[38;5;28mself\u001b[39m\u001b[38;5;241m.\u001b[39m_variable_creation_fn \u001b[38;5;129;01mis\u001b[39;00m \u001b[38;5;129;01mnot\u001b[39;00m \u001b[38;5;28;01mNone\u001b[39;00m:\n\u001b[1;32m    859\u001b[0m   \u001b[38;5;66;03m# Release the lock early so that multiple threads can perform the call\u001b[39;00m\n\u001b[1;32m    860\u001b[0m   \u001b[38;5;66;03m# in parallel.\u001b[39;00m\n\u001b[1;32m    861\u001b[0m   \u001b[38;5;28mself\u001b[39m\u001b[38;5;241m.\u001b[39m_lock\u001b[38;5;241m.\u001b[39mrelease()\n",
      "File \u001b[0;32m~/anaconda3/envs/Number41/lib/python3.11/site-packages/tensorflow/python/eager/polymorphic_function/tracing_compiler.py:148\u001b[0m, in \u001b[0;36mTracingCompiler.__call__\u001b[0;34m(self, *args, **kwargs)\u001b[0m\n\u001b[1;32m    145\u001b[0m \u001b[38;5;28;01mwith\u001b[39;00m \u001b[38;5;28mself\u001b[39m\u001b[38;5;241m.\u001b[39m_lock:\n\u001b[1;32m    146\u001b[0m   (concrete_function,\n\u001b[1;32m    147\u001b[0m    filtered_flat_args) \u001b[38;5;241m=\u001b[39m \u001b[38;5;28mself\u001b[39m\u001b[38;5;241m.\u001b[39m_maybe_define_function(args, kwargs)\n\u001b[0;32m--> 148\u001b[0m \u001b[38;5;28;01mreturn\u001b[39;00m concrete_function\u001b[38;5;241m.\u001b[39m_call_flat(\n\u001b[1;32m    149\u001b[0m     filtered_flat_args, captured_inputs\u001b[38;5;241m=\u001b[39mconcrete_function\u001b[38;5;241m.\u001b[39mcaptured_inputs)\n",
      "File \u001b[0;32m~/anaconda3/envs/Number41/lib/python3.11/site-packages/tensorflow/python/eager/polymorphic_function/monomorphic_function.py:1349\u001b[0m, in \u001b[0;36mConcreteFunction._call_flat\u001b[0;34m(self, args, captured_inputs)\u001b[0m\n\u001b[1;32m   1345\u001b[0m possible_gradient_type \u001b[38;5;241m=\u001b[39m gradients_util\u001b[38;5;241m.\u001b[39mPossibleTapeGradientTypes(args)\n\u001b[1;32m   1346\u001b[0m \u001b[38;5;28;01mif\u001b[39;00m (possible_gradient_type \u001b[38;5;241m==\u001b[39m gradients_util\u001b[38;5;241m.\u001b[39mPOSSIBLE_GRADIENT_TYPES_NONE\n\u001b[1;32m   1347\u001b[0m     \u001b[38;5;129;01mand\u001b[39;00m executing_eagerly):\n\u001b[1;32m   1348\u001b[0m   \u001b[38;5;66;03m# No tape is watching; skip to running the function.\u001b[39;00m\n\u001b[0;32m-> 1349\u001b[0m   \u001b[38;5;28;01mreturn\u001b[39;00m \u001b[38;5;28mself\u001b[39m\u001b[38;5;241m.\u001b[39m_build_call_outputs(\u001b[38;5;28mself\u001b[39m\u001b[38;5;241m.\u001b[39m_inference_function(\u001b[38;5;241m*\u001b[39margs))\n\u001b[1;32m   1350\u001b[0m forward_backward \u001b[38;5;241m=\u001b[39m \u001b[38;5;28mself\u001b[39m\u001b[38;5;241m.\u001b[39m_select_forward_and_backward_functions(\n\u001b[1;32m   1351\u001b[0m     args,\n\u001b[1;32m   1352\u001b[0m     possible_gradient_type,\n\u001b[1;32m   1353\u001b[0m     executing_eagerly)\n\u001b[1;32m   1354\u001b[0m forward_function, args_with_tangents \u001b[38;5;241m=\u001b[39m forward_backward\u001b[38;5;241m.\u001b[39mforward()\n",
      "File \u001b[0;32m~/anaconda3/envs/Number41/lib/python3.11/site-packages/tensorflow/python/eager/polymorphic_function/atomic_function.py:196\u001b[0m, in \u001b[0;36mAtomicFunction.__call__\u001b[0;34m(self, *args)\u001b[0m\n\u001b[1;32m    194\u001b[0m \u001b[38;5;28;01mwith\u001b[39;00m record\u001b[38;5;241m.\u001b[39mstop_recording():\n\u001b[1;32m    195\u001b[0m   \u001b[38;5;28;01mif\u001b[39;00m \u001b[38;5;28mself\u001b[39m\u001b[38;5;241m.\u001b[39m_bound_context\u001b[38;5;241m.\u001b[39mexecuting_eagerly():\n\u001b[0;32m--> 196\u001b[0m     outputs \u001b[38;5;241m=\u001b[39m \u001b[38;5;28mself\u001b[39m\u001b[38;5;241m.\u001b[39m_bound_context\u001b[38;5;241m.\u001b[39mcall_function(\n\u001b[1;32m    197\u001b[0m         \u001b[38;5;28mself\u001b[39m\u001b[38;5;241m.\u001b[39mname,\n\u001b[1;32m    198\u001b[0m         \u001b[38;5;28mlist\u001b[39m(args),\n\u001b[1;32m    199\u001b[0m         \u001b[38;5;28mlen\u001b[39m(\u001b[38;5;28mself\u001b[39m\u001b[38;5;241m.\u001b[39mfunction_type\u001b[38;5;241m.\u001b[39mflat_outputs),\n\u001b[1;32m    200\u001b[0m     )\n\u001b[1;32m    201\u001b[0m   \u001b[38;5;28;01melse\u001b[39;00m:\n\u001b[1;32m    202\u001b[0m     outputs \u001b[38;5;241m=\u001b[39m make_call_op_in_graph(\u001b[38;5;28mself\u001b[39m, \u001b[38;5;28mlist\u001b[39m(args))\n",
      "File \u001b[0;32m~/anaconda3/envs/Number41/lib/python3.11/site-packages/tensorflow/python/eager/context.py:1457\u001b[0m, in \u001b[0;36mContext.call_function\u001b[0;34m(self, name, tensor_inputs, num_outputs)\u001b[0m\n\u001b[1;32m   1455\u001b[0m cancellation_context \u001b[38;5;241m=\u001b[39m cancellation\u001b[38;5;241m.\u001b[39mcontext()\n\u001b[1;32m   1456\u001b[0m \u001b[38;5;28;01mif\u001b[39;00m cancellation_context \u001b[38;5;129;01mis\u001b[39;00m \u001b[38;5;28;01mNone\u001b[39;00m:\n\u001b[0;32m-> 1457\u001b[0m   outputs \u001b[38;5;241m=\u001b[39m execute\u001b[38;5;241m.\u001b[39mexecute(\n\u001b[1;32m   1458\u001b[0m       name\u001b[38;5;241m.\u001b[39mdecode(\u001b[38;5;124m\"\u001b[39m\u001b[38;5;124mutf-8\u001b[39m\u001b[38;5;124m\"\u001b[39m),\n\u001b[1;32m   1459\u001b[0m       num_outputs\u001b[38;5;241m=\u001b[39mnum_outputs,\n\u001b[1;32m   1460\u001b[0m       inputs\u001b[38;5;241m=\u001b[39mtensor_inputs,\n\u001b[1;32m   1461\u001b[0m       attrs\u001b[38;5;241m=\u001b[39mattrs,\n\u001b[1;32m   1462\u001b[0m       ctx\u001b[38;5;241m=\u001b[39m\u001b[38;5;28mself\u001b[39m,\n\u001b[1;32m   1463\u001b[0m   )\n\u001b[1;32m   1464\u001b[0m \u001b[38;5;28;01melse\u001b[39;00m:\n\u001b[1;32m   1465\u001b[0m   outputs \u001b[38;5;241m=\u001b[39m execute\u001b[38;5;241m.\u001b[39mexecute_with_cancellation(\n\u001b[1;32m   1466\u001b[0m       name\u001b[38;5;241m.\u001b[39mdecode(\u001b[38;5;124m\"\u001b[39m\u001b[38;5;124mutf-8\u001b[39m\u001b[38;5;124m\"\u001b[39m),\n\u001b[1;32m   1467\u001b[0m       num_outputs\u001b[38;5;241m=\u001b[39mnum_outputs,\n\u001b[0;32m   (...)\u001b[0m\n\u001b[1;32m   1471\u001b[0m       cancellation_manager\u001b[38;5;241m=\u001b[39mcancellation_context,\n\u001b[1;32m   1472\u001b[0m   )\n",
      "File \u001b[0;32m~/anaconda3/envs/Number41/lib/python3.11/site-packages/tensorflow/python/eager/execute.py:53\u001b[0m, in \u001b[0;36mquick_execute\u001b[0;34m(op_name, num_outputs, inputs, attrs, ctx, name)\u001b[0m\n\u001b[1;32m     51\u001b[0m \u001b[38;5;28;01mtry\u001b[39;00m:\n\u001b[1;32m     52\u001b[0m   ctx\u001b[38;5;241m.\u001b[39mensure_initialized()\n\u001b[0;32m---> 53\u001b[0m   tensors \u001b[38;5;241m=\u001b[39m pywrap_tfe\u001b[38;5;241m.\u001b[39mTFE_Py_Execute(ctx\u001b[38;5;241m.\u001b[39m_handle, device_name, op_name,\n\u001b[1;32m     54\u001b[0m                                       inputs, attrs, num_outputs)\n\u001b[1;32m     55\u001b[0m \u001b[38;5;28;01mexcept\u001b[39;00m core\u001b[38;5;241m.\u001b[39m_NotOkStatusException \u001b[38;5;28;01mas\u001b[39;00m e:\n\u001b[1;32m     56\u001b[0m   \u001b[38;5;28;01mif\u001b[39;00m name \u001b[38;5;129;01mis\u001b[39;00m \u001b[38;5;129;01mnot\u001b[39;00m \u001b[38;5;28;01mNone\u001b[39;00m:\n",
      "\u001b[0;31mKeyboardInterrupt\u001b[0m: "
     ]
    }
   ],
   "source": [
    "history_cnn_8 = model8.fit(train_generator_3, validation_data = validation_generator_3, epochs = 35)"
   ]
  },
  {
   "cell_type": "code",
   "execution_count": null,
   "id": "6ab62ed3",
   "metadata": {},
   "outputs": [],
   "source": [
    "model8.save('saved_models/cnn_model_8.h5')\n",
    "\n",
    "train_cnn_history_8 = pd.DataFrame(history_cnn_8.history)\n",
    "\n",
    "train_cnn_history_8.to_pickle(\"saved_models/train_cnn_history_8.pkl\")  "
   ]
  },
  {
   "cell_type": "code",
   "execution_count": null,
   "id": "94e3861f",
   "metadata": {},
   "outputs": [],
   "source": []
  },
  {
   "cell_type": "code",
   "execution_count": null,
   "id": "399c8d48",
   "metadata": {},
   "outputs": [],
   "source": []
  },
  {
   "cell_type": "code",
   "execution_count": 19,
   "id": "52a080e3",
   "metadata": {},
   "outputs": [],
   "source": [
    "model9 = Sequential()\n",
    "\n",
    "# define 3x3 filter window sizes. Create 32 filters.\n",
    "model9.add(Conv2D(filters=32,\n",
    "                        kernel_size=(5, 5),\n",
    "                        activation='relu',\n",
    "                        input_shape=(320, 240, 3), kernel_regularizer = l2(5e-4) ))\n",
    "\n",
    "# max pool in 2x2 window\n",
    "model9.add(MaxPooling2D(pool_size=(2, 2)))\n",
    "\n",
    "# define 3x3 filter window sizes. Create 64 filters.\n",
    "model9.add(Conv2D(64, (3, 3), activation='relu', kernel_regularizer = l2(5e-4)))\n",
    "model9.add(MaxPooling2D((2, 2)))\n",
    "\n",
    "model9.add(Conv2D(64, (3, 3), activation='relu', kernel_regularizer = l2(5e-4)))\n",
    "model9.add(Dropout(0.2))\n",
    "model9.add(MaxPooling2D((2, 2)))\n",
    "\n",
    "model9.add(Conv2D(64, (3, 3), activation='relu', kernel_regularizer = l2(5e-4)))\n",
    "model9.add(Dropout(0.2))\n",
    "\n",
    "model9.add(Conv2D(64, (3, 3), activation='relu', kernel_regularizer = l2(5e-4)))\n",
    "model9.add(Dropout(0.2))\n",
    "\n",
    "# transition to dense fully-connected part of network\n",
    "model9.add(Flatten())\n",
    "model9.add(Dense(64, activation='relu'))\n",
    "model9.add(Dropout(0.25))\n",
    "\n",
    "model9.add(BatchNormalization())\n",
    "model9.add(Dense(64, activation='relu'))\n",
    "model9.add(Dropout(0.5))\n",
    "\n",
    "model9.add(Dense(10, activation='softmax'))\n",
    "\n",
    "model9.compile(optimizer='adam', loss='categorical_crossentropy',  metrics=['accuracy'])"
   ]
  },
  {
   "cell_type": "code",
   "execution_count": 20,
   "id": "80a62abf",
   "metadata": {},
   "outputs": [
    {
     "name": "stdout",
     "output_type": "stream",
     "text": [
      "Epoch 1/35\n",
      "144/144 [==============================] - 160s 1s/step - loss: 2.3213 - accuracy: 0.1963 - val_loss: 2.0964 - val_accuracy: 0.3269\n",
      "Epoch 2/35\n",
      "144/144 [==============================] - 153s 1s/step - loss: 2.0525 - accuracy: 0.2748 - val_loss: 3.3898 - val_accuracy: 0.1176\n",
      "Epoch 3/35\n",
      "144/144 [==============================] - 159s 1s/step - loss: 1.9471 - accuracy: 0.3064 - val_loss: 1.9692 - val_accuracy: 0.3335\n",
      "Epoch 4/35\n",
      "144/144 [==============================] - 155s 1s/step - loss: 1.8196 - accuracy: 0.3581 - val_loss: 1.6721 - val_accuracy: 0.4501\n",
      "Epoch 5/35\n",
      "144/144 [==============================] - 156s 1s/step - loss: 1.7278 - accuracy: 0.3806 - val_loss: 1.5994 - val_accuracy: 0.4735\n",
      "Epoch 6/35\n",
      "144/144 [==============================] - 156s 1s/step - loss: 1.6538 - accuracy: 0.4198 - val_loss: 1.5207 - val_accuracy: 0.5097\n",
      "Epoch 7/35\n",
      "144/144 [==============================] - 157s 1s/step - loss: 1.6231 - accuracy: 0.4231 - val_loss: 1.6807 - val_accuracy: 0.3839\n",
      "Epoch 8/35\n",
      "144/144 [==============================] - 158s 1s/step - loss: 1.6319 - accuracy: 0.4249 - val_loss: 1.4598 - val_accuracy: 0.5484\n",
      "Epoch 9/35\n",
      "144/144 [==============================] - 157s 1s/step - loss: 1.5408 - accuracy: 0.4539 - val_loss: 1.5330 - val_accuracy: 0.4832\n",
      "Epoch 10/35\n",
      "144/144 [==============================] - 156s 1s/step - loss: 1.4429 - accuracy: 0.4899 - val_loss: 1.4936 - val_accuracy: 0.5097\n",
      "Epoch 11/35\n",
      "144/144 [==============================] - 156s 1s/step - loss: 1.4088 - accuracy: 0.5088 - val_loss: 1.3892 - val_accuracy: 0.5575\n",
      "Epoch 12/35\n",
      "144/144 [==============================] - 156s 1s/step - loss: 1.4620 - accuracy: 0.4846 - val_loss: 1.4399 - val_accuracy: 0.5178\n",
      "Epoch 13/35\n",
      "144/144 [==============================] - 155s 1s/step - loss: 1.3348 - accuracy: 0.5330 - val_loss: 1.3736 - val_accuracy: 0.5550\n",
      "Epoch 14/35\n",
      "144/144 [==============================] - 154s 1s/step - loss: 1.3030 - accuracy: 0.5509 - val_loss: 1.4287 - val_accuracy: 0.5321\n",
      "Epoch 15/35\n",
      "144/144 [==============================] - 155s 1s/step - loss: 1.2245 - accuracy: 0.5815 - val_loss: 1.3497 - val_accuracy: 0.5550\n",
      "Epoch 16/35\n",
      "144/144 [==============================] - 157s 1s/step - loss: 1.1639 - accuracy: 0.6107 - val_loss: 1.3242 - val_accuracy: 0.5555\n",
      "Epoch 17/35\n",
      "144/144 [==============================] - 157s 1s/step - loss: 1.1190 - accuracy: 0.6201 - val_loss: 1.3628 - val_accuracy: 0.5835\n",
      "Epoch 18/35\n",
      "144/144 [==============================] - 156s 1s/step - loss: 1.0718 - accuracy: 0.6423 - val_loss: 1.2392 - val_accuracy: 0.5804\n",
      "Epoch 19/35\n",
      "144/144 [==============================] - 156s 1s/step - loss: 1.1497 - accuracy: 0.6242 - val_loss: 2.6840 - val_accuracy: 0.3951\n",
      "Epoch 20/35\n",
      "144/144 [==============================] - 155s 1s/step - loss: 1.2480 - accuracy: 0.5987 - val_loss: 1.4188 - val_accuracy: 0.5779\n",
      "Epoch 21/35\n",
      "144/144 [==============================] - 155s 1s/step - loss: 1.0498 - accuracy: 0.6654 - val_loss: 1.3135 - val_accuracy: 0.6156\n",
      "Epoch 22/35\n",
      "144/144 [==============================] - 155s 1s/step - loss: 1.0130 - accuracy: 0.6879 - val_loss: 1.2959 - val_accuracy: 0.6258\n",
      "Epoch 23/35\n",
      "144/144 [==============================] - 155s 1s/step - loss: 0.9633 - accuracy: 0.7027 - val_loss: 1.3901 - val_accuracy: 0.5952\n",
      "Epoch 24/35\n",
      "144/144 [==============================] - 156s 1s/step - loss: 0.9426 - accuracy: 0.7112 - val_loss: 1.3666 - val_accuracy: 0.6151\n",
      "Epoch 25/35\n",
      "144/144 [==============================] - 155s 1s/step - loss: 0.8584 - accuracy: 0.7341 - val_loss: 1.6251 - val_accuracy: 0.6186\n",
      "Epoch 26/35\n",
      "144/144 [==============================] - 154s 1s/step - loss: 0.8785 - accuracy: 0.7333 - val_loss: 1.6419 - val_accuracy: 0.5514\n",
      "Epoch 27/35\n",
      "144/144 [==============================] - 153s 1s/step - loss: 0.9215 - accuracy: 0.7189 - val_loss: 1.2803 - val_accuracy: 0.6390\n",
      "Epoch 28/35\n",
      "144/144 [==============================] - 154s 1s/step - loss: 0.7961 - accuracy: 0.7564 - val_loss: 1.6076 - val_accuracy: 0.6115\n",
      "Epoch 29/35\n",
      "144/144 [==============================] - 155s 1s/step - loss: 0.7536 - accuracy: 0.7754 - val_loss: 1.3879 - val_accuracy: 0.6222\n",
      "Epoch 30/35\n",
      "144/144 [==============================] - 154s 1s/step - loss: 0.7331 - accuracy: 0.7819 - val_loss: 1.3731 - val_accuracy: 0.6319\n",
      "Epoch 31/35\n",
      "144/144 [==============================] - 154s 1s/step - loss: 0.6913 - accuracy: 0.7965 - val_loss: 1.2671 - val_accuracy: 0.6589\n",
      "Epoch 32/35\n",
      "144/144 [==============================] - 155s 1s/step - loss: 1.0795 - accuracy: 0.6687 - val_loss: 1.5183 - val_accuracy: 0.5876\n",
      "Epoch 33/35\n",
      "144/144 [==============================] - 155s 1s/step - loss: 0.7734 - accuracy: 0.7712 - val_loss: 1.4305 - val_accuracy: 0.6441\n",
      "Epoch 34/35\n",
      "144/144 [==============================] - 156s 1s/step - loss: 0.6570 - accuracy: 0.8074 - val_loss: 1.4255 - val_accuracy: 0.6365\n",
      "Epoch 35/35\n",
      "144/144 [==============================] - 156s 1s/step - loss: 0.6238 - accuracy: 0.8231 - val_loss: 1.5436 - val_accuracy: 0.6517\n"
     ]
    }
   ],
   "source": [
    "history_cnn_9 = model9.fit(train_generator_3, validation_data = validation_generator_3, epochs = 35)"
   ]
  },
  {
   "cell_type": "code",
   "execution_count": 23,
   "id": "5a86a535",
   "metadata": {},
   "outputs": [
    {
     "name": "stderr",
     "output_type": "stream",
     "text": [
      "/Users/eitan/anaconda3/envs/Number41/lib/python3.11/site-packages/keras/src/engine/training.py:3000: UserWarning: You are saving your model as an HDF5 file via `model.save()`. This file format is considered legacy. We recommend using instead the native Keras format, e.g. `model.save('my_model.keras')`.\n",
      "  saving_api.save_model(\n"
     ]
    }
   ],
   "source": [
    "model9.save('saved_models/cnn_model_9.h5')\n",
    "\n",
    "train_cnn_history_9 = pd.DataFrame(history_cnn_9.history)\n",
    "\n",
    "train_cnn_history_9.to_pickle(\"saved_models/train_cnn_history_9.pkl\")  "
   ]
  },
  {
   "cell_type": "code",
   "execution_count": null,
   "id": "408a9d59",
   "metadata": {},
   "outputs": [],
   "source": []
  },
  {
   "cell_type": "code",
   "execution_count": 54,
   "id": "2a0d8110",
   "metadata": {},
   "outputs": [
    {
     "name": "stdout",
     "output_type": "stream",
     "text": [
      "Found 4585 images belonging to 10 classes.\n",
      "Found 1964 images belonging to 10 classes.\n",
      "Found 2183 images belonging to 10 classes.\n"
     ]
    }
   ],
   "source": [
    "train_data_gen_4 = ImageDataGenerator(rescale = 1./255, validation_split = .3)\n",
    "\n",
    "train_generator_4 = train_data_gen_4.flow_from_directory(\n",
    "    \n",
    "                                                    train_dir, \n",
    "                                                    target_size = (200, 150),\n",
    "                                                    batch_size = 32,\n",
    "                                                    class_mode = 'categorical',\n",
    "                                                    color_mode = 'rgb',\n",
    "                                                    seed = 42,\n",
    "                                                    subset = 'training',)\n",
    "\n",
    "val_data_gen_4 = ImageDataGenerator(rescale=1./255)\n",
    "\n",
    "validation_generator_4 = train_data_gen_4.flow_from_directory(\n",
    "    \n",
    "                                                    train_dir, \n",
    "                                                    target_size = (200, 150),\n",
    "                                                    batch_size = 32,\n",
    "                                                    class_mode = 'categorical',\n",
    "                                                    color_mode = 'rgb',\n",
    "                                                    seed = 42,\n",
    "                                                    subset = 'validation',)\n",
    "\n",
    "test_data_gen_4 = ImageDataGenerator(rescale=1./255)\n",
    "\n",
    "test_generator_4 = test_data_gen_4.flow_from_directory(\n",
    "\n",
    "                                                    test_dir, \n",
    "                                                    target_size = (200, 150),\n",
    "                                                    batch_size = 32,\n",
    "                                                    class_mode = 'categorical',\n",
    "                                                    color_mode = 'rgb',\n",
    "                                                    seed = 42,\n",
    "                                                    shuffle = False)"
   ]
  },
  {
   "cell_type": "code",
   "execution_count": 29,
   "id": "438d2b37",
   "metadata": {},
   "outputs": [],
   "source": [
    "model10 = Sequential()\n",
    "\n",
    "# define 3x3 filter window sizes. Create 32 filters.\n",
    "model10.add(Conv2D(filters=32,\n",
    "                        kernel_size=(3, 3),\n",
    "                        activation='relu',\n",
    "                        input_shape=(200, 150, 3), kernel_regularizer = l2(7e-4) ))\n",
    "\n",
    "# max pool in 2x2 window\n",
    "model10.add(MaxPooling2D(pool_size=(2, 2)))\n",
    "\n",
    "# define 3x3 filter window sizes. Create 64 filters.\n",
    "model10.add(Conv2D(64, (3, 3), activation='relu', kernel_regularizer = l2(7e-4)))\n",
    "model10.add(MaxPooling2D((2, 2)))\n",
    "\n",
    "model10.add(Conv2D(64, (3, 3), activation='relu', kernel_regularizer = l2(7e-4)))\n",
    "model10.add(MaxPooling2D((2, 2)))\n",
    "model10.add(Dropout(0.2))\n",
    "\n",
    "model10.add(Conv2D(64, (3, 3), activation='relu', kernel_regularizer = l2(7e-4)))\n",
    "model10.add(MaxPooling2D((2, 2)))\n",
    "model10.add(Dropout(0.25))\n",
    "\n",
    "model10.add(Conv2D(64, (3, 3), activation='relu', kernel_regularizer = l2(7e-4)))\n",
    "model10.add(Dropout(0.25))\n",
    "\n",
    "# transition to dense fully-connected part of network\n",
    "model10.add(Flatten())\n",
    "model10.add(Dense(64, activation='relu'))\n",
    "model10.add(Dropout(0.3))\n",
    "\n",
    "model10.add(BatchNormalization())\n",
    "model10.add(Dense(128, activation='relu'))\n",
    "model10.add(Dropout(0.6))\n",
    "\n",
    "model10.add(Dense(10, activation='softmax'))\n",
    "\n",
    "model10.compile(optimizer='adam', loss='categorical_crossentropy',  metrics=['accuracy'])"
   ]
  },
  {
   "cell_type": "code",
   "execution_count": 30,
   "id": "e6f687e8",
   "metadata": {},
   "outputs": [
    {
     "name": "stdout",
     "output_type": "stream",
     "text": [
      "Epoch 1/40\n",
      "144/144 [==============================] - 46s 316ms/step - loss: 2.4072 - accuracy: 0.1869 - val_loss: 2.1770 - val_accuracy: 0.2378\n",
      "Epoch 2/40\n",
      "144/144 [==============================] - 45s 312ms/step - loss: 2.1522 - accuracy: 0.2447 - val_loss: 2.3362 - val_accuracy: 0.1421\n",
      "Epoch 3/40\n",
      "144/144 [==============================] - 45s 312ms/step - loss: 2.0211 - accuracy: 0.2883 - val_loss: 2.0339 - val_accuracy: 0.3676\n",
      "Epoch 4/40\n",
      "144/144 [==============================] - 45s 311ms/step - loss: 1.9473 - accuracy: 0.3204 - val_loss: 1.9550 - val_accuracy: 0.3075\n",
      "Epoch 5/40\n",
      "144/144 [==============================] - 45s 310ms/step - loss: 1.8264 - accuracy: 0.3597 - val_loss: 1.9019 - val_accuracy: 0.3310\n",
      "Epoch 6/40\n",
      "144/144 [==============================] - 45s 314ms/step - loss: 1.7272 - accuracy: 0.3876 - val_loss: 1.8901 - val_accuracy: 0.2943\n",
      "Epoch 7/40\n",
      "144/144 [==============================] - 52s 358ms/step - loss: 1.5749 - accuracy: 0.4534 - val_loss: 1.4805 - val_accuracy: 0.4613\n",
      "Epoch 8/40\n",
      "144/144 [==============================] - 51s 353ms/step - loss: 1.4659 - accuracy: 0.4881 - val_loss: 1.3639 - val_accuracy: 0.5550\n",
      "Epoch 9/40\n",
      "144/144 [==============================] - 48s 336ms/step - loss: 1.3532 - accuracy: 0.5278 - val_loss: 1.3177 - val_accuracy: 0.5866\n",
      "Epoch 10/40\n",
      "144/144 [==============================] - 51s 352ms/step - loss: 1.3210 - accuracy: 0.5459 - val_loss: 1.2907 - val_accuracy: 0.5611\n",
      "Epoch 11/40\n",
      "144/144 [==============================] - 47s 325ms/step - loss: 1.2345 - accuracy: 0.5956 - val_loss: 1.1776 - val_accuracy: 0.6120\n",
      "Epoch 12/40\n",
      "144/144 [==============================] - 49s 336ms/step - loss: 1.2089 - accuracy: 0.6000 - val_loss: 1.2007 - val_accuracy: 0.6273\n",
      "Epoch 13/40\n",
      "144/144 [==============================] - 45s 315ms/step - loss: 1.0918 - accuracy: 0.6561 - val_loss: 1.1756 - val_accuracy: 0.6385\n",
      "Epoch 14/40\n",
      "144/144 [==============================] - 50s 348ms/step - loss: 1.0457 - accuracy: 0.6857 - val_loss: 1.0748 - val_accuracy: 0.6482\n",
      "Epoch 15/40\n",
      "144/144 [==============================] - 48s 335ms/step - loss: 1.0292 - accuracy: 0.6857 - val_loss: 1.1359 - val_accuracy: 0.6278\n",
      "Epoch 16/40\n",
      "144/144 [==============================] - 47s 327ms/step - loss: 0.9425 - accuracy: 0.7224 - val_loss: 1.0997 - val_accuracy: 0.6767\n",
      "Epoch 17/40\n",
      "144/144 [==============================] - 46s 316ms/step - loss: 0.8961 - accuracy: 0.7431 - val_loss: 1.2364 - val_accuracy: 0.6095\n",
      "Epoch 18/40\n",
      "144/144 [==============================] - 46s 315ms/step - loss: 0.8785 - accuracy: 0.7450 - val_loss: 1.2121 - val_accuracy: 0.6482\n",
      "Epoch 19/40\n",
      "144/144 [==============================] - 46s 317ms/step - loss: 0.8414 - accuracy: 0.7623 - val_loss: 1.2250 - val_accuracy: 0.6334\n",
      "Epoch 20/40\n",
      "144/144 [==============================] - 46s 317ms/step - loss: 0.7951 - accuracy: 0.7828 - val_loss: 1.0730 - val_accuracy: 0.6945\n",
      "Epoch 21/40\n",
      "144/144 [==============================] - 45s 313ms/step - loss: 0.7685 - accuracy: 0.7902 - val_loss: 1.2777 - val_accuracy: 0.6186\n",
      "Epoch 22/40\n",
      "144/144 [==============================] - 45s 314ms/step - loss: 0.7324 - accuracy: 0.8013 - val_loss: 1.1345 - val_accuracy: 0.6914\n",
      "Epoch 23/40\n",
      "144/144 [==============================] - 45s 313ms/step - loss: 0.7117 - accuracy: 0.8059 - val_loss: 1.3423 - val_accuracy: 0.6563\n",
      "Epoch 24/40\n",
      "144/144 [==============================] - 45s 314ms/step - loss: 0.7011 - accuracy: 0.8129 - val_loss: 1.2981 - val_accuracy: 0.6650\n",
      "Epoch 25/40\n",
      "144/144 [==============================] - 45s 313ms/step - loss: 0.6928 - accuracy: 0.8231 - val_loss: 1.3548 - val_accuracy: 0.6441\n",
      "Epoch 26/40\n",
      " 59/144 [===========>..................] - ETA: 22s - loss: 0.6275 - accuracy: 0.8347"
     ]
    },
    {
     "ename": "KeyboardInterrupt",
     "evalue": "",
     "output_type": "error",
     "traceback": [
      "\u001b[0;31m---------------------------------------------------------------------------\u001b[0m",
      "\u001b[0;31mKeyboardInterrupt\u001b[0m                         Traceback (most recent call last)",
      "Cell \u001b[0;32mIn[30], line 1\u001b[0m\n\u001b[0;32m----> 1\u001b[0m history_cnn_10 \u001b[38;5;241m=\u001b[39m model10\u001b[38;5;241m.\u001b[39mfit(train_generator_4, validation_data \u001b[38;5;241m=\u001b[39m validation_generator_4, epochs \u001b[38;5;241m=\u001b[39m \u001b[38;5;241m40\u001b[39m)\n",
      "File \u001b[0;32m~/anaconda3/envs/Number41/lib/python3.11/site-packages/keras/src/utils/traceback_utils.py:65\u001b[0m, in \u001b[0;36mfilter_traceback.<locals>.error_handler\u001b[0;34m(*args, **kwargs)\u001b[0m\n\u001b[1;32m     63\u001b[0m filtered_tb \u001b[38;5;241m=\u001b[39m \u001b[38;5;28;01mNone\u001b[39;00m\n\u001b[1;32m     64\u001b[0m \u001b[38;5;28;01mtry\u001b[39;00m:\n\u001b[0;32m---> 65\u001b[0m     \u001b[38;5;28;01mreturn\u001b[39;00m fn(\u001b[38;5;241m*\u001b[39margs, \u001b[38;5;241m*\u001b[39m\u001b[38;5;241m*\u001b[39mkwargs)\n\u001b[1;32m     66\u001b[0m \u001b[38;5;28;01mexcept\u001b[39;00m \u001b[38;5;167;01mException\u001b[39;00m \u001b[38;5;28;01mas\u001b[39;00m e:\n\u001b[1;32m     67\u001b[0m     filtered_tb \u001b[38;5;241m=\u001b[39m _process_traceback_frames(e\u001b[38;5;241m.\u001b[39m__traceback__)\n",
      "File \u001b[0;32m~/anaconda3/envs/Number41/lib/python3.11/site-packages/keras/src/engine/training.py:1742\u001b[0m, in \u001b[0;36mModel.fit\u001b[0;34m(self, x, y, batch_size, epochs, verbose, callbacks, validation_split, validation_data, shuffle, class_weight, sample_weight, initial_epoch, steps_per_epoch, validation_steps, validation_batch_size, validation_freq, max_queue_size, workers, use_multiprocessing)\u001b[0m\n\u001b[1;32m   1734\u001b[0m \u001b[38;5;28;01mwith\u001b[39;00m tf\u001b[38;5;241m.\u001b[39mprofiler\u001b[38;5;241m.\u001b[39mexperimental\u001b[38;5;241m.\u001b[39mTrace(\n\u001b[1;32m   1735\u001b[0m     \u001b[38;5;124m\"\u001b[39m\u001b[38;5;124mtrain\u001b[39m\u001b[38;5;124m\"\u001b[39m,\n\u001b[1;32m   1736\u001b[0m     epoch_num\u001b[38;5;241m=\u001b[39mepoch,\n\u001b[0;32m   (...)\u001b[0m\n\u001b[1;32m   1739\u001b[0m     _r\u001b[38;5;241m=\u001b[39m\u001b[38;5;241m1\u001b[39m,\n\u001b[1;32m   1740\u001b[0m ):\n\u001b[1;32m   1741\u001b[0m     callbacks\u001b[38;5;241m.\u001b[39mon_train_batch_begin(step)\n\u001b[0;32m-> 1742\u001b[0m     tmp_logs \u001b[38;5;241m=\u001b[39m \u001b[38;5;28mself\u001b[39m\u001b[38;5;241m.\u001b[39mtrain_function(iterator)\n\u001b[1;32m   1743\u001b[0m     \u001b[38;5;28;01mif\u001b[39;00m data_handler\u001b[38;5;241m.\u001b[39mshould_sync:\n\u001b[1;32m   1744\u001b[0m         context\u001b[38;5;241m.\u001b[39masync_wait()\n",
      "File \u001b[0;32m~/anaconda3/envs/Number41/lib/python3.11/site-packages/tensorflow/python/util/traceback_utils.py:150\u001b[0m, in \u001b[0;36mfilter_traceback.<locals>.error_handler\u001b[0;34m(*args, **kwargs)\u001b[0m\n\u001b[1;32m    148\u001b[0m filtered_tb \u001b[38;5;241m=\u001b[39m \u001b[38;5;28;01mNone\u001b[39;00m\n\u001b[1;32m    149\u001b[0m \u001b[38;5;28;01mtry\u001b[39;00m:\n\u001b[0;32m--> 150\u001b[0m   \u001b[38;5;28;01mreturn\u001b[39;00m fn(\u001b[38;5;241m*\u001b[39margs, \u001b[38;5;241m*\u001b[39m\u001b[38;5;241m*\u001b[39mkwargs)\n\u001b[1;32m    151\u001b[0m \u001b[38;5;28;01mexcept\u001b[39;00m \u001b[38;5;167;01mException\u001b[39;00m \u001b[38;5;28;01mas\u001b[39;00m e:\n\u001b[1;32m    152\u001b[0m   filtered_tb \u001b[38;5;241m=\u001b[39m _process_traceback_frames(e\u001b[38;5;241m.\u001b[39m__traceback__)\n",
      "File \u001b[0;32m~/anaconda3/envs/Number41/lib/python3.11/site-packages/tensorflow/python/eager/polymorphic_function/polymorphic_function.py:825\u001b[0m, in \u001b[0;36mFunction.__call__\u001b[0;34m(self, *args, **kwds)\u001b[0m\n\u001b[1;32m    822\u001b[0m compiler \u001b[38;5;241m=\u001b[39m \u001b[38;5;124m\"\u001b[39m\u001b[38;5;124mxla\u001b[39m\u001b[38;5;124m\"\u001b[39m \u001b[38;5;28;01mif\u001b[39;00m \u001b[38;5;28mself\u001b[39m\u001b[38;5;241m.\u001b[39m_jit_compile \u001b[38;5;28;01melse\u001b[39;00m \u001b[38;5;124m\"\u001b[39m\u001b[38;5;124mnonXla\u001b[39m\u001b[38;5;124m\"\u001b[39m\n\u001b[1;32m    824\u001b[0m \u001b[38;5;28;01mwith\u001b[39;00m OptionalXlaContext(\u001b[38;5;28mself\u001b[39m\u001b[38;5;241m.\u001b[39m_jit_compile):\n\u001b[0;32m--> 825\u001b[0m   result \u001b[38;5;241m=\u001b[39m \u001b[38;5;28mself\u001b[39m\u001b[38;5;241m.\u001b[39m_call(\u001b[38;5;241m*\u001b[39margs, \u001b[38;5;241m*\u001b[39m\u001b[38;5;241m*\u001b[39mkwds)\n\u001b[1;32m    827\u001b[0m new_tracing_count \u001b[38;5;241m=\u001b[39m \u001b[38;5;28mself\u001b[39m\u001b[38;5;241m.\u001b[39mexperimental_get_tracing_count()\n\u001b[1;32m    828\u001b[0m without_tracing \u001b[38;5;241m=\u001b[39m (tracing_count \u001b[38;5;241m==\u001b[39m new_tracing_count)\n",
      "File \u001b[0;32m~/anaconda3/envs/Number41/lib/python3.11/site-packages/tensorflow/python/eager/polymorphic_function/polymorphic_function.py:857\u001b[0m, in \u001b[0;36mFunction._call\u001b[0;34m(self, *args, **kwds)\u001b[0m\n\u001b[1;32m    854\u001b[0m   \u001b[38;5;28mself\u001b[39m\u001b[38;5;241m.\u001b[39m_lock\u001b[38;5;241m.\u001b[39mrelease()\n\u001b[1;32m    855\u001b[0m   \u001b[38;5;66;03m# In this case we have created variables on the first call, so we run the\u001b[39;00m\n\u001b[1;32m    856\u001b[0m   \u001b[38;5;66;03m# defunned version which is guaranteed to never create variables.\u001b[39;00m\n\u001b[0;32m--> 857\u001b[0m   \u001b[38;5;28;01mreturn\u001b[39;00m \u001b[38;5;28mself\u001b[39m\u001b[38;5;241m.\u001b[39m_no_variable_creation_fn(\u001b[38;5;241m*\u001b[39margs, \u001b[38;5;241m*\u001b[39m\u001b[38;5;241m*\u001b[39mkwds)  \u001b[38;5;66;03m# pylint: disable=not-callable\u001b[39;00m\n\u001b[1;32m    858\u001b[0m \u001b[38;5;28;01melif\u001b[39;00m \u001b[38;5;28mself\u001b[39m\u001b[38;5;241m.\u001b[39m_variable_creation_fn \u001b[38;5;129;01mis\u001b[39;00m \u001b[38;5;129;01mnot\u001b[39;00m \u001b[38;5;28;01mNone\u001b[39;00m:\n\u001b[1;32m    859\u001b[0m   \u001b[38;5;66;03m# Release the lock early so that multiple threads can perform the call\u001b[39;00m\n\u001b[1;32m    860\u001b[0m   \u001b[38;5;66;03m# in parallel.\u001b[39;00m\n\u001b[1;32m    861\u001b[0m   \u001b[38;5;28mself\u001b[39m\u001b[38;5;241m.\u001b[39m_lock\u001b[38;5;241m.\u001b[39mrelease()\n",
      "File \u001b[0;32m~/anaconda3/envs/Number41/lib/python3.11/site-packages/tensorflow/python/eager/polymorphic_function/tracing_compiler.py:148\u001b[0m, in \u001b[0;36mTracingCompiler.__call__\u001b[0;34m(self, *args, **kwargs)\u001b[0m\n\u001b[1;32m    145\u001b[0m \u001b[38;5;28;01mwith\u001b[39;00m \u001b[38;5;28mself\u001b[39m\u001b[38;5;241m.\u001b[39m_lock:\n\u001b[1;32m    146\u001b[0m   (concrete_function,\n\u001b[1;32m    147\u001b[0m    filtered_flat_args) \u001b[38;5;241m=\u001b[39m \u001b[38;5;28mself\u001b[39m\u001b[38;5;241m.\u001b[39m_maybe_define_function(args, kwargs)\n\u001b[0;32m--> 148\u001b[0m \u001b[38;5;28;01mreturn\u001b[39;00m concrete_function\u001b[38;5;241m.\u001b[39m_call_flat(\n\u001b[1;32m    149\u001b[0m     filtered_flat_args, captured_inputs\u001b[38;5;241m=\u001b[39mconcrete_function\u001b[38;5;241m.\u001b[39mcaptured_inputs)\n",
      "File \u001b[0;32m~/anaconda3/envs/Number41/lib/python3.11/site-packages/tensorflow/python/eager/polymorphic_function/monomorphic_function.py:1349\u001b[0m, in \u001b[0;36mConcreteFunction._call_flat\u001b[0;34m(self, args, captured_inputs)\u001b[0m\n\u001b[1;32m   1345\u001b[0m possible_gradient_type \u001b[38;5;241m=\u001b[39m gradients_util\u001b[38;5;241m.\u001b[39mPossibleTapeGradientTypes(args)\n\u001b[1;32m   1346\u001b[0m \u001b[38;5;28;01mif\u001b[39;00m (possible_gradient_type \u001b[38;5;241m==\u001b[39m gradients_util\u001b[38;5;241m.\u001b[39mPOSSIBLE_GRADIENT_TYPES_NONE\n\u001b[1;32m   1347\u001b[0m     \u001b[38;5;129;01mand\u001b[39;00m executing_eagerly):\n\u001b[1;32m   1348\u001b[0m   \u001b[38;5;66;03m# No tape is watching; skip to running the function.\u001b[39;00m\n\u001b[0;32m-> 1349\u001b[0m   \u001b[38;5;28;01mreturn\u001b[39;00m \u001b[38;5;28mself\u001b[39m\u001b[38;5;241m.\u001b[39m_build_call_outputs(\u001b[38;5;28mself\u001b[39m\u001b[38;5;241m.\u001b[39m_inference_function(\u001b[38;5;241m*\u001b[39margs))\n\u001b[1;32m   1350\u001b[0m forward_backward \u001b[38;5;241m=\u001b[39m \u001b[38;5;28mself\u001b[39m\u001b[38;5;241m.\u001b[39m_select_forward_and_backward_functions(\n\u001b[1;32m   1351\u001b[0m     args,\n\u001b[1;32m   1352\u001b[0m     possible_gradient_type,\n\u001b[1;32m   1353\u001b[0m     executing_eagerly)\n\u001b[1;32m   1354\u001b[0m forward_function, args_with_tangents \u001b[38;5;241m=\u001b[39m forward_backward\u001b[38;5;241m.\u001b[39mforward()\n",
      "File \u001b[0;32m~/anaconda3/envs/Number41/lib/python3.11/site-packages/tensorflow/python/eager/polymorphic_function/atomic_function.py:196\u001b[0m, in \u001b[0;36mAtomicFunction.__call__\u001b[0;34m(self, *args)\u001b[0m\n\u001b[1;32m    194\u001b[0m \u001b[38;5;28;01mwith\u001b[39;00m record\u001b[38;5;241m.\u001b[39mstop_recording():\n\u001b[1;32m    195\u001b[0m   \u001b[38;5;28;01mif\u001b[39;00m \u001b[38;5;28mself\u001b[39m\u001b[38;5;241m.\u001b[39m_bound_context\u001b[38;5;241m.\u001b[39mexecuting_eagerly():\n\u001b[0;32m--> 196\u001b[0m     outputs \u001b[38;5;241m=\u001b[39m \u001b[38;5;28mself\u001b[39m\u001b[38;5;241m.\u001b[39m_bound_context\u001b[38;5;241m.\u001b[39mcall_function(\n\u001b[1;32m    197\u001b[0m         \u001b[38;5;28mself\u001b[39m\u001b[38;5;241m.\u001b[39mname,\n\u001b[1;32m    198\u001b[0m         \u001b[38;5;28mlist\u001b[39m(args),\n\u001b[1;32m    199\u001b[0m         \u001b[38;5;28mlen\u001b[39m(\u001b[38;5;28mself\u001b[39m\u001b[38;5;241m.\u001b[39mfunction_type\u001b[38;5;241m.\u001b[39mflat_outputs),\n\u001b[1;32m    200\u001b[0m     )\n\u001b[1;32m    201\u001b[0m   \u001b[38;5;28;01melse\u001b[39;00m:\n\u001b[1;32m    202\u001b[0m     outputs \u001b[38;5;241m=\u001b[39m make_call_op_in_graph(\u001b[38;5;28mself\u001b[39m, \u001b[38;5;28mlist\u001b[39m(args))\n",
      "File \u001b[0;32m~/anaconda3/envs/Number41/lib/python3.11/site-packages/tensorflow/python/eager/context.py:1457\u001b[0m, in \u001b[0;36mContext.call_function\u001b[0;34m(self, name, tensor_inputs, num_outputs)\u001b[0m\n\u001b[1;32m   1455\u001b[0m cancellation_context \u001b[38;5;241m=\u001b[39m cancellation\u001b[38;5;241m.\u001b[39mcontext()\n\u001b[1;32m   1456\u001b[0m \u001b[38;5;28;01mif\u001b[39;00m cancellation_context \u001b[38;5;129;01mis\u001b[39;00m \u001b[38;5;28;01mNone\u001b[39;00m:\n\u001b[0;32m-> 1457\u001b[0m   outputs \u001b[38;5;241m=\u001b[39m execute\u001b[38;5;241m.\u001b[39mexecute(\n\u001b[1;32m   1458\u001b[0m       name\u001b[38;5;241m.\u001b[39mdecode(\u001b[38;5;124m\"\u001b[39m\u001b[38;5;124mutf-8\u001b[39m\u001b[38;5;124m\"\u001b[39m),\n\u001b[1;32m   1459\u001b[0m       num_outputs\u001b[38;5;241m=\u001b[39mnum_outputs,\n\u001b[1;32m   1460\u001b[0m       inputs\u001b[38;5;241m=\u001b[39mtensor_inputs,\n\u001b[1;32m   1461\u001b[0m       attrs\u001b[38;5;241m=\u001b[39mattrs,\n\u001b[1;32m   1462\u001b[0m       ctx\u001b[38;5;241m=\u001b[39m\u001b[38;5;28mself\u001b[39m,\n\u001b[1;32m   1463\u001b[0m   )\n\u001b[1;32m   1464\u001b[0m \u001b[38;5;28;01melse\u001b[39;00m:\n\u001b[1;32m   1465\u001b[0m   outputs \u001b[38;5;241m=\u001b[39m execute\u001b[38;5;241m.\u001b[39mexecute_with_cancellation(\n\u001b[1;32m   1466\u001b[0m       name\u001b[38;5;241m.\u001b[39mdecode(\u001b[38;5;124m\"\u001b[39m\u001b[38;5;124mutf-8\u001b[39m\u001b[38;5;124m\"\u001b[39m),\n\u001b[1;32m   1467\u001b[0m       num_outputs\u001b[38;5;241m=\u001b[39mnum_outputs,\n\u001b[0;32m   (...)\u001b[0m\n\u001b[1;32m   1471\u001b[0m       cancellation_manager\u001b[38;5;241m=\u001b[39mcancellation_context,\n\u001b[1;32m   1472\u001b[0m   )\n",
      "File \u001b[0;32m~/anaconda3/envs/Number41/lib/python3.11/site-packages/tensorflow/python/eager/execute.py:53\u001b[0m, in \u001b[0;36mquick_execute\u001b[0;34m(op_name, num_outputs, inputs, attrs, ctx, name)\u001b[0m\n\u001b[1;32m     51\u001b[0m \u001b[38;5;28;01mtry\u001b[39;00m:\n\u001b[1;32m     52\u001b[0m   ctx\u001b[38;5;241m.\u001b[39mensure_initialized()\n\u001b[0;32m---> 53\u001b[0m   tensors \u001b[38;5;241m=\u001b[39m pywrap_tfe\u001b[38;5;241m.\u001b[39mTFE_Py_Execute(ctx\u001b[38;5;241m.\u001b[39m_handle, device_name, op_name,\n\u001b[1;32m     54\u001b[0m                                       inputs, attrs, num_outputs)\n\u001b[1;32m     55\u001b[0m \u001b[38;5;28;01mexcept\u001b[39;00m core\u001b[38;5;241m.\u001b[39m_NotOkStatusException \u001b[38;5;28;01mas\u001b[39;00m e:\n\u001b[1;32m     56\u001b[0m   \u001b[38;5;28;01mif\u001b[39;00m name \u001b[38;5;129;01mis\u001b[39;00m \u001b[38;5;129;01mnot\u001b[39;00m \u001b[38;5;28;01mNone\u001b[39;00m:\n",
      "\u001b[0;31mKeyboardInterrupt\u001b[0m: "
     ]
    }
   ],
   "source": [
    "history_cnn_10 = model10.fit(train_generator_4, validation_data = validation_generator_4, epochs = 40)"
   ]
  },
  {
   "cell_type": "code",
   "execution_count": null,
   "id": "7ad23bde",
   "metadata": {},
   "outputs": [],
   "source": []
  },
  {
   "cell_type": "code",
   "execution_count": 45,
   "id": "266afbd6",
   "metadata": {},
   "outputs": [],
   "source": [
    "model11 = Sequential()\n",
    "\n",
    "# define 3x3 filter window sizes. Create 32 filters.\n",
    "model11.add(Conv2D(filters=32,\n",
    "                        kernel_size=(3, 3),\n",
    "                        activation='relu',\n",
    "                        input_shape=(200, 150, 3), kernel_regularizer = l2(8e-4) ))\n",
    "\n",
    "# max pool in 2x2 window\n",
    "model11.add(MaxPooling2D(pool_size=(2, 2)))\n",
    "\n",
    "# define 3x3 filter window sizes. Create 64 filters.\n",
    "model11.add(Conv2D(64, (3, 3), activation='relu', kernel_regularizer = l2(8e-4)))\n",
    "model11.add(MaxPooling2D((2, 2)))\n",
    "\n",
    "model11.add(Conv2D(64, (3, 3), activation='relu', kernel_regularizer = l2(8e-4)))\n",
    "model11.add(MaxPooling2D((2, 2)))\n",
    "model11.add(Dropout(0.2))\n",
    "\n",
    "model11.add(Conv2D(64, (3, 3), activation='relu', kernel_regularizer = l2(8e-4)))\n",
    "model11.add(MaxPooling2D((2, 2)))\n",
    "model11.add(Dropout(0.2))\n",
    "\n",
    "model11.add(Conv2D(64, (3, 3), activation='relu', kernel_regularizer = l2(8e-4)))\n",
    "model11.add(Dropout(0.25))\n",
    "\n",
    "model11.add(Conv2D(64, (3, 3), activation='relu', kernel_regularizer = l2(8e-4)))\n",
    "model11.add(Dropout(0.25))\n",
    "\n",
    "# transition to dense fully-connected part of network\n",
    "model11.add(Flatten())\n",
    "model11.add(Dense(64, activation='relu'))\n",
    "model11.add(Dropout(0.35))\n",
    "\n",
    "model11.add(BatchNormalization())\n",
    "model11.add(Dense(128, activation='relu'))\n",
    "model11.add(Dropout(0.7))\n",
    "\n",
    "model11.add(Dense(10, activation='softmax'))\n",
    "\n",
    "model11.compile(optimizer='adam', loss='categorical_crossentropy',  metrics=['accuracy'])"
   ]
  },
  {
   "cell_type": "code",
   "execution_count": 46,
   "id": "0c9dfd4f",
   "metadata": {},
   "outputs": [
    {
     "name": "stdout",
     "output_type": "stream",
     "text": [
      "Epoch 1/40\n",
      "144/144 [==============================] - 47s 320ms/step - loss: 2.5599 - accuracy: 0.1511 - val_loss: 2.4508 - val_accuracy: 0.1670\n",
      "Epoch 2/40\n",
      "144/144 [==============================] - 46s 317ms/step - loss: 2.2774 - accuracy: 0.2081 - val_loss: 2.2111 - val_accuracy: 0.3060\n",
      "Epoch 3/40\n",
      "144/144 [==============================] - 45s 312ms/step - loss: 2.1401 - accuracy: 0.2674 - val_loss: 2.0244 - val_accuracy: 0.3182\n",
      "Epoch 4/40\n",
      "144/144 [==============================] - 45s 313ms/step - loss: 2.0584 - accuracy: 0.2942 - val_loss: 2.0105 - val_accuracy: 0.3198\n",
      "Epoch 5/40\n",
      "144/144 [==============================] - 45s 312ms/step - loss: 2.0125 - accuracy: 0.2990 - val_loss: 1.9746 - val_accuracy: 0.3182\n",
      "Epoch 6/40\n",
      "144/144 [==============================] - 45s 312ms/step - loss: 1.9519 - accuracy: 0.3143 - val_loss: 1.9026 - val_accuracy: 0.3605\n",
      "Epoch 7/40\n",
      "144/144 [==============================] - 45s 312ms/step - loss: 1.8787 - accuracy: 0.3411 - val_loss: 1.9051 - val_accuracy: 0.3534\n",
      "Epoch 8/40\n",
      "144/144 [==============================] - 45s 312ms/step - loss: 1.8161 - accuracy: 0.3516 - val_loss: 1.8199 - val_accuracy: 0.4068\n",
      "Epoch 9/40\n",
      "144/144 [==============================] - 45s 312ms/step - loss: 1.7823 - accuracy: 0.3625 - val_loss: 1.7610 - val_accuracy: 0.3865\n",
      "Epoch 10/40\n",
      "144/144 [==============================] - 45s 312ms/step - loss: 1.7073 - accuracy: 0.4118 - val_loss: 1.8764 - val_accuracy: 0.3880\n",
      "Epoch 11/40\n",
      "144/144 [==============================] - 45s 312ms/step - loss: 1.6240 - accuracy: 0.4397 - val_loss: 1.7148 - val_accuracy: 0.4679\n",
      "Epoch 12/40\n",
      "144/144 [==============================] - 46s 315ms/step - loss: 1.5736 - accuracy: 0.4565 - val_loss: 1.6678 - val_accuracy: 0.4476\n",
      "Epoch 13/40\n",
      "144/144 [==============================] - 45s 314ms/step - loss: 1.5203 - accuracy: 0.4973 - val_loss: 1.5658 - val_accuracy: 0.4715\n",
      "Epoch 14/40\n",
      "144/144 [==============================] - 45s 313ms/step - loss: 1.4435 - accuracy: 0.5230 - val_loss: 1.6266 - val_accuracy: 0.4812\n",
      "Epoch 15/40\n",
      "144/144 [==============================] - 46s 317ms/step - loss: 1.4059 - accuracy: 0.5472 - val_loss: 1.4926 - val_accuracy: 0.5041\n",
      "Epoch 16/40\n",
      "144/144 [==============================] - 45s 313ms/step - loss: 1.3385 - accuracy: 0.5664 - val_loss: 1.5515 - val_accuracy: 0.5112\n",
      "Epoch 17/40\n",
      "144/144 [==============================] - 45s 313ms/step - loss: 1.2957 - accuracy: 0.5832 - val_loss: 1.4579 - val_accuracy: 0.5591\n",
      "Epoch 18/40\n",
      "144/144 [==============================] - 45s 313ms/step - loss: 1.2553 - accuracy: 0.6122 - val_loss: 1.5093 - val_accuracy: 0.5020\n",
      "Epoch 19/40\n",
      "144/144 [==============================] - 45s 313ms/step - loss: 1.1668 - accuracy: 0.6495 - val_loss: 1.7228 - val_accuracy: 0.5479\n",
      "Epoch 20/40\n",
      "144/144 [==============================] - 45s 313ms/step - loss: 1.1618 - accuracy: 0.6517 - val_loss: 1.6064 - val_accuracy: 0.5479\n",
      "Epoch 21/40\n",
      "144/144 [==============================] - 45s 313ms/step - loss: 1.0905 - accuracy: 0.6709 - val_loss: 1.4361 - val_accuracy: 0.5728\n",
      "Epoch 22/40\n",
      "144/144 [==============================] - 46s 318ms/step - loss: 1.1056 - accuracy: 0.6787 - val_loss: 1.4317 - val_accuracy: 0.5540\n",
      "Epoch 23/40\n",
      "144/144 [==============================] - 65s 452ms/step - loss: 1.0417 - accuracy: 0.6997 - val_loss: 1.3585 - val_accuracy: 0.6141\n",
      "Epoch 24/40\n",
      "144/144 [==============================] - 1315s 9s/step - loss: 0.9918 - accuracy: 0.7149 - val_loss: 1.5386 - val_accuracy: 0.5570\n",
      "Epoch 25/40\n",
      "144/144 [==============================] - 1781s 12s/step - loss: 1.0216 - accuracy: 0.7110 - val_loss: 1.5603 - val_accuracy: 0.5423\n",
      "Epoch 26/40\n",
      "144/144 [==============================] - 68s 467ms/step - loss: 0.9806 - accuracy: 0.7337 - val_loss: 1.5364 - val_accuracy: 0.5830\n",
      "Epoch 27/40\n",
      "144/144 [==============================] - 68s 468ms/step - loss: 0.9484 - accuracy: 0.7407 - val_loss: 1.3655 - val_accuracy: 0.6263\n",
      "Epoch 28/40\n",
      "144/144 [==============================] - 69s 476ms/step - loss: 0.9180 - accuracy: 0.7474 - val_loss: 1.4173 - val_accuracy: 0.6329\n",
      "Epoch 29/40\n",
      "144/144 [==============================] - 63s 439ms/step - loss: 0.9335 - accuracy: 0.7503 - val_loss: 1.5916 - val_accuracy: 0.5728\n",
      "Epoch 30/40\n",
      "144/144 [==============================] - 46s 318ms/step - loss: 0.9084 - accuracy: 0.7629 - val_loss: 1.5561 - val_accuracy: 0.5662\n",
      "Epoch 31/40\n",
      "144/144 [==============================] - 45s 315ms/step - loss: 0.9109 - accuracy: 0.7610 - val_loss: 1.4301 - val_accuracy: 0.6365\n",
      "Epoch 32/40\n",
      "144/144 [==============================] - 46s 319ms/step - loss: 0.8676 - accuracy: 0.7736 - val_loss: 1.4178 - val_accuracy: 0.6431\n",
      "Epoch 33/40\n",
      "144/144 [==============================] - 45s 314ms/step - loss: 0.8311 - accuracy: 0.7863 - val_loss: 1.4885 - val_accuracy: 0.6034\n",
      "Epoch 34/40\n",
      "144/144 [==============================] - 45s 315ms/step - loss: 0.8211 - accuracy: 0.7945 - val_loss: 1.4198 - val_accuracy: 0.6410\n",
      "Epoch 35/40\n",
      "144/144 [==============================] - 47s 323ms/step - loss: 1.0505 - accuracy: 0.7210 - val_loss: 1.4371 - val_accuracy: 0.6426\n",
      "Epoch 36/40\n",
      "144/144 [==============================] - 46s 316ms/step - loss: 0.8637 - accuracy: 0.7854 - val_loss: 1.3844 - val_accuracy: 0.6232\n",
      "Epoch 37/40\n",
      "144/144 [==============================] - 46s 317ms/step - loss: 0.8373 - accuracy: 0.7911 - val_loss: 1.2790 - val_accuracy: 0.6792\n",
      "Epoch 38/40\n",
      "144/144 [==============================] - 46s 319ms/step - loss: 0.7560 - accuracy: 0.8174 - val_loss: 1.4832 - val_accuracy: 0.6395\n",
      "Epoch 39/40\n",
      "144/144 [==============================] - 46s 316ms/step - loss: 0.7647 - accuracy: 0.8181 - val_loss: 1.6325 - val_accuracy: 0.6135\n",
      "Epoch 40/40\n",
      "144/144 [==============================] - 46s 315ms/step - loss: 0.7287 - accuracy: 0.8281 - val_loss: 1.4585 - val_accuracy: 0.6339\n"
     ]
    }
   ],
   "source": [
    "history_cnn_11 = model11.fit(train_generator_4, validation_data = validation_generator_4, epochs = 40)"
   ]
  },
  {
   "cell_type": "code",
   "execution_count": 47,
   "id": "80e79319",
   "metadata": {},
   "outputs": [
    {
     "name": "stderr",
     "output_type": "stream",
     "text": [
      "/Users/eitan/anaconda3/envs/Number41/lib/python3.11/site-packages/keras/src/engine/training.py:3000: UserWarning: You are saving your model as an HDF5 file via `model.save()`. This file format is considered legacy. We recommend using instead the native Keras format, e.g. `model.save('my_model.keras')`.\n",
      "  saving_api.save_model(\n"
     ]
    }
   ],
   "source": [
    "model11.save('saved_models/cnn_model_11.h5')\n",
    "\n",
    "train_cnn_history_11 = pd.DataFrame(history_cnn_11.history)\n",
    "\n",
    "train_cnn_history_11.to_pickle(\"saved_models/train_cnn_history_11.pkl\")  "
   ]
  },
  {
   "cell_type": "code",
   "execution_count": 48,
   "id": "c176f3c0",
   "metadata": {},
   "outputs": [],
   "source": [
    "model12 = Sequential()\n",
    "\n",
    "# define 3x3 filter window sizes. Create 32 filters.\n",
    "model12.add(Conv2D(filters=32,\n",
    "                        kernel_size=(3, 3),\n",
    "                        activation='relu',\n",
    "                        input_shape=(200, 150, 3), kernel_regularizer = l2(7e-4) ))\n",
    "\n",
    "# max pool in 2x2 window\n",
    "model12.add(MaxPooling2D(pool_size=(2, 2)))\n",
    "\n",
    "# define 3x3 filter window sizes. Create 64 filters.\n",
    "model12.add(Conv2D(64, (3, 3), activation='relu', kernel_regularizer = l2(7e-4)))\n",
    "model12.add(MaxPooling2D((2, 2)))\n",
    "\n",
    "model12.add(Conv2D(64, (3, 3), activation='relu', kernel_regularizer = l2(7e-4)))\n",
    "model12.add(MaxPooling2D((2, 2)))\n",
    "model12.add(Dropout(0.1))\n",
    "\n",
    "model12.add(Conv2D(64, (3, 3), activation='relu', kernel_regularizer = l2(7e-4)))\n",
    "model12.add(MaxPooling2D((2, 2)))\n",
    "model12.add(Dropout(0.1))\n",
    "\n",
    "model12.add(Conv2D(64, (3, 3), activation='relu', kernel_regularizer = l2(7e-4)))\n",
    "model12.add(Dropout(0.2))\n",
    "\n",
    "model12.add(Conv2D(64, (3, 3), activation='relu', kernel_regularizer = l2(7e-4)))\n",
    "model12.add(Dropout(0.2))\n",
    "\n",
    "# transition to dense fully-connected part of network\n",
    "model12.add(Flatten())\n",
    "model12.add(Dense(64, activation='relu'))\n",
    "model12.add(Dropout(0.25))\n",
    "\n",
    "model12.add(BatchNormalization())\n",
    "model12.add(Dense(128, activation='relu'))\n",
    "model12.add(Dropout(0.5))\n",
    "\n",
    "model12.add(Dense(10, activation='softmax'))\n",
    "\n",
    "model12.compile(optimizer='adam', loss='categorical_crossentropy',  metrics=['accuracy'])"
   ]
  },
  {
   "cell_type": "code",
   "execution_count": 49,
   "id": "422df869",
   "metadata": {},
   "outputs": [
    {
     "name": "stdout",
     "output_type": "stream",
     "text": [
      "Epoch 1/35\n",
      "144/144 [==============================] - 47s 324ms/step - loss: 2.3396 - accuracy: 0.1989 - val_loss: 2.2887 - val_accuracy: 0.3030\n",
      "Epoch 2/35\n",
      "144/144 [==============================] - 47s 325ms/step - loss: 2.0438 - accuracy: 0.2981 - val_loss: 2.0533 - val_accuracy: 0.3595\n",
      "Epoch 3/35\n",
      "144/144 [==============================] - 46s 320ms/step - loss: 1.8957 - accuracy: 0.3363 - val_loss: 1.7884 - val_accuracy: 0.3971\n",
      "Epoch 4/35\n",
      "144/144 [==============================] - 46s 320ms/step - loss: 1.6617 - accuracy: 0.4373 - val_loss: 1.5811 - val_accuracy: 0.4506\n",
      "Epoch 5/35\n",
      "144/144 [==============================] - 47s 326ms/step - loss: 1.5160 - accuracy: 0.5021 - val_loss: 1.5640 - val_accuracy: 0.4654\n",
      "Epoch 6/35\n",
      "144/144 [==============================] - 46s 317ms/step - loss: 1.3778 - accuracy: 0.5466 - val_loss: 1.5215 - val_accuracy: 0.5107\n",
      "Epoch 7/35\n",
      "144/144 [==============================] - 46s 320ms/step - loss: 1.2805 - accuracy: 0.5839 - val_loss: 1.3492 - val_accuracy: 0.5774\n",
      "Epoch 8/35\n",
      "144/144 [==============================] - 46s 318ms/step - loss: 1.1795 - accuracy: 0.6288 - val_loss: 1.4601 - val_accuracy: 0.5081\n",
      "Epoch 9/35\n",
      "144/144 [==============================] - 45s 313ms/step - loss: 1.1107 - accuracy: 0.6554 - val_loss: 1.3688 - val_accuracy: 0.5881\n",
      "Epoch 10/35\n",
      "144/144 [==============================] - 46s 320ms/step - loss: 1.0164 - accuracy: 0.6888 - val_loss: 1.5375 - val_accuracy: 0.5479\n",
      "Epoch 11/35\n",
      "144/144 [==============================] - 46s 319ms/step - loss: 1.0101 - accuracy: 0.6966 - val_loss: 1.2900 - val_accuracy: 0.6334\n",
      "Epoch 12/35\n",
      "144/144 [==============================] - 46s 319ms/step - loss: 0.9377 - accuracy: 0.7224 - val_loss: 1.2067 - val_accuracy: 0.6482\n",
      "Epoch 13/35\n",
      "144/144 [==============================] - 46s 318ms/step - loss: 0.8609 - accuracy: 0.7597 - val_loss: 1.6221 - val_accuracy: 0.5815\n",
      "Epoch 14/35\n",
      "144/144 [==============================] - 46s 318ms/step - loss: 0.8569 - accuracy: 0.7610 - val_loss: 1.5384 - val_accuracy: 0.6074\n",
      "Epoch 15/35\n",
      "144/144 [==============================] - 46s 319ms/step - loss: 0.7927 - accuracy: 0.7806 - val_loss: 1.4489 - val_accuracy: 0.6171\n",
      "Epoch 16/35\n",
      "144/144 [==============================] - 48s 334ms/step - loss: 0.7539 - accuracy: 0.7943 - val_loss: 1.3245 - val_accuracy: 0.6400\n",
      "Epoch 17/35\n",
      "144/144 [==============================] - 50s 348ms/step - loss: 0.7411 - accuracy: 0.8061 - val_loss: 1.4208 - val_accuracy: 0.6054\n",
      "Epoch 18/35\n",
      "144/144 [==============================] - 46s 315ms/step - loss: 0.6966 - accuracy: 0.8116 - val_loss: 1.4122 - val_accuracy: 0.6105\n",
      "Epoch 19/35\n",
      "144/144 [==============================] - 46s 321ms/step - loss: 0.6674 - accuracy: 0.8253 - val_loss: 1.4550 - val_accuracy: 0.6217\n",
      "Epoch 20/35\n",
      "144/144 [==============================] - 45s 312ms/step - loss: 0.6451 - accuracy: 0.8290 - val_loss: 1.3977 - val_accuracy: 0.6232\n",
      "Epoch 21/35\n",
      "144/144 [==============================] - 46s 317ms/step - loss: 0.6118 - accuracy: 0.8436 - val_loss: 1.4727 - val_accuracy: 0.6431\n",
      "Epoch 22/35\n",
      "144/144 [==============================] - 45s 314ms/step - loss: 0.6070 - accuracy: 0.8528 - val_loss: 1.4387 - val_accuracy: 0.6029\n",
      "Epoch 23/35\n",
      "144/144 [==============================] - 46s 316ms/step - loss: 0.6228 - accuracy: 0.8499 - val_loss: 1.4085 - val_accuracy: 0.6431\n",
      "Epoch 24/35\n",
      "144/144 [==============================] - 45s 315ms/step - loss: 0.5812 - accuracy: 0.8547 - val_loss: 1.3605 - val_accuracy: 0.6548\n",
      "Epoch 25/35\n",
      "144/144 [==============================] - 46s 316ms/step - loss: 0.5483 - accuracy: 0.8678 - val_loss: 1.6297 - val_accuracy: 0.5886\n",
      "Epoch 26/35\n",
      "144/144 [==============================] - 46s 316ms/step - loss: 0.5726 - accuracy: 0.8648 - val_loss: 1.4786 - val_accuracy: 0.6217\n",
      "Epoch 27/35\n",
      "144/144 [==============================] - 46s 322ms/step - loss: 0.5604 - accuracy: 0.8687 - val_loss: 1.7277 - val_accuracy: 0.5748\n",
      "Epoch 28/35\n",
      "144/144 [==============================] - 51s 352ms/step - loss: 0.5141 - accuracy: 0.8864 - val_loss: 1.4746 - val_accuracy: 0.6517\n",
      "Epoch 29/35\n",
      "144/144 [==============================] - 48s 334ms/step - loss: 0.5240 - accuracy: 0.8818 - val_loss: 1.5572 - val_accuracy: 0.6487\n",
      "Epoch 30/35\n",
      "144/144 [==============================] - 46s 322ms/step - loss: 0.5034 - accuracy: 0.8892 - val_loss: 1.6702 - val_accuracy: 0.6339\n",
      "Epoch 31/35\n",
      "144/144 [==============================] - 47s 329ms/step - loss: 0.4854 - accuracy: 0.8995 - val_loss: 1.7646 - val_accuracy: 0.6156\n",
      "Epoch 32/35\n",
      "144/144 [==============================] - 47s 323ms/step - loss: 0.4735 - accuracy: 0.9016 - val_loss: 1.6063 - val_accuracy: 0.6370\n",
      "Epoch 33/35\n",
      "144/144 [==============================] - 46s 317ms/step - loss: 0.4998 - accuracy: 0.8914 - val_loss: 1.7224 - val_accuracy: 0.6237\n",
      "Epoch 34/35\n",
      "144/144 [==============================] - 46s 316ms/step - loss: 0.4872 - accuracy: 0.8979 - val_loss: 1.6979 - val_accuracy: 0.6156\n",
      "Epoch 35/35\n",
      "144/144 [==============================] - 46s 321ms/step - loss: 0.4816 - accuracy: 0.8981 - val_loss: 1.4661 - val_accuracy: 0.6512\n"
     ]
    }
   ],
   "source": [
    "history_cnn_12 = model12.fit(train_generator_4, validation_data = validation_generator_4, epochs = 35)"
   ]
  },
  {
   "cell_type": "code",
   "execution_count": 50,
   "id": "c7f0058b",
   "metadata": {},
   "outputs": [
    {
     "name": "stderr",
     "output_type": "stream",
     "text": [
      "/Users/eitan/anaconda3/envs/Number41/lib/python3.11/site-packages/keras/src/engine/training.py:3000: UserWarning: You are saving your model as an HDF5 file via `model.save()`. This file format is considered legacy. We recommend using instead the native Keras format, e.g. `model.save('my_model.keras')`.\n",
      "  saving_api.save_model(\n"
     ]
    }
   ],
   "source": [
    "model12.save('saved_models/cnn_model_12.h5')\n",
    "\n",
    "train_cnn_history_12 = pd.DataFrame(history_cnn_12.history)\n",
    "\n",
    "train_cnn_history_12.to_pickle(\"saved_models/train_cnn_history_12.pkl\")  "
   ]
  },
  {
   "cell_type": "markdown",
   "id": "3eac29e2",
   "metadata": {},
   "source": [
    "### Changed Batch size to 64, added more Batch Normalization, one more layer before flattening, two more after flattening with Dense of 512 and 256"
   ]
  },
  {
   "cell_type": "code",
   "execution_count": 58,
   "id": "33617602",
   "metadata": {},
   "outputs": [],
   "source": [
    "model13 = Sequential()\n",
    "\n",
    "# define 3x3 filter window sizes. Create 32 filters.\n",
    "model13.add(Conv2D(filters=32,\n",
    "                        kernel_size=(3, 3),\n",
    "                        activation='relu',\n",
    "                        input_shape=(200, 150, 3), kernel_regularizer = l2(5e-4) ))\n",
    "\n",
    "model13.add(BatchNormalization())\n",
    "# max pool in 2x2 window\n",
    "model13.add(MaxPooling2D(pool_size=(2, 2)))\n",
    "# define 3x3 filter window sizes. Create 64 filters.\n",
    "\n",
    "model13.add(Conv2D(64, (3, 3), activation='relu', kernel_regularizer = l2(5e-4) ))\n",
    "model13.add(BatchNormalization())\n",
    "model13.add(MaxPooling2D((2, 2)))\n",
    "\n",
    "\n",
    "# define 3x3 filter window sizes. Create 64 filters.\n",
    "model13.add(Conv2D(64, (3, 3), activation='relu', kernel_regularizer = l2(5e-4)))\n",
    "model13.add(MaxPooling2D((2, 2)))\n",
    "\n",
    "model13.add(Conv2D(64, (3, 3), activation='relu', kernel_regularizer = l2(5e-4)))\n",
    "model13.add(MaxPooling2D((2, 2)))\n",
    "model13.add(Dropout(0.1))\n",
    "\n",
    "model13.add(Conv2D(64, (3, 3), activation='relu', kernel_regularizer = l2(5e-4)))\n",
    "model13.add(Dropout(0.2))\n",
    "\n",
    "model13.add(Conv2D(64, (3, 3), activation='relu', kernel_regularizer = l2(5e-4)))\n",
    "model13.add(Dropout(0.2))\n",
    "\n",
    "# transition to dense fully-connected part of network\n",
    "model13.add(Flatten())\n",
    "model13.add(Dense(512, activation='relu'))\n",
    "model13.add(Dropout(0.2))\n",
    "\n",
    "model13.add(BatchNormalization())\n",
    "model13.add(Dense(256, activation='relu'))\n",
    "model13.add(Dropout(0.2))\n",
    "\n",
    "model13.add(BatchNormalization())\n",
    "model13.add(Dense(128, activation='relu'))\n",
    "model13.add(Dropout(0.3))\n",
    "\n",
    "model13.add(BatchNormalization())\n",
    "model13.add(Dense(64, activation='relu'))\n",
    "model13.add(Dropout(0.5))\n",
    "\n",
    "model13.add(Dense(10, activation='softmax'))\n",
    "\n",
    "model13.compile(optimizer='adam', loss='categorical_crossentropy',  metrics=['accuracy'])"
   ]
  },
  {
   "cell_type": "code",
   "execution_count": 59,
   "id": "b59d15b4",
   "metadata": {},
   "outputs": [
    {
     "name": "stdout",
     "output_type": "stream",
     "text": [
      "Epoch 1/35\n",
      "144/144 [==============================] - 59s 406ms/step - loss: 2.8385 - accuracy: 0.1409 - val_loss: 2.4879 - val_accuracy: 0.1146\n",
      "Epoch 2/35\n",
      "144/144 [==============================] - 60s 413ms/step - loss: 2.3251 - accuracy: 0.2292 - val_loss: 2.6464 - val_accuracy: 0.1446\n",
      "Epoch 3/35\n",
      "144/144 [==============================] - 58s 402ms/step - loss: 2.0643 - accuracy: 0.3001 - val_loss: 2.3581 - val_accuracy: 0.2286\n",
      "Epoch 4/35\n",
      "144/144 [==============================] - 57s 397ms/step - loss: 1.8852 - accuracy: 0.3546 - val_loss: 1.8321 - val_accuracy: 0.3717\n",
      "Epoch 5/35\n",
      "144/144 [==============================] - 59s 406ms/step - loss: 1.7937 - accuracy: 0.3878 - val_loss: 2.3496 - val_accuracy: 0.3340\n",
      "Epoch 6/35\n",
      "144/144 [==============================] - 58s 405ms/step - loss: 1.6663 - accuracy: 0.4478 - val_loss: 1.6054 - val_accuracy: 0.4562\n",
      "Epoch 7/35\n",
      "144/144 [==============================] - 58s 402ms/step - loss: 1.5843 - accuracy: 0.4770 - val_loss: 6.5163 - val_accuracy: 0.1370\n",
      "Epoch 8/35\n",
      "144/144 [==============================] - 59s 408ms/step - loss: 1.6157 - accuracy: 0.4672 - val_loss: 1.5805 - val_accuracy: 0.4588\n",
      "Epoch 9/35\n",
      "144/144 [==============================] - 81s 566ms/step - loss: 1.4901 - accuracy: 0.5112 - val_loss: 1.4223 - val_accuracy: 0.5132\n",
      "Epoch 10/35\n",
      "144/144 [==============================] - 104s 723ms/step - loss: 1.5480 - accuracy: 0.4907 - val_loss: 2.0632 - val_accuracy: 0.3941\n",
      "Epoch 11/35\n",
      "144/144 [==============================] - 106s 738ms/step - loss: 1.3733 - accuracy: 0.5581 - val_loss: 1.9584 - val_accuracy: 0.3921\n",
      "Epoch 12/35\n",
      "144/144 [==============================] - 105s 730ms/step - loss: 1.4427 - accuracy: 0.5533 - val_loss: 1.6421 - val_accuracy: 0.4608\n",
      "Epoch 13/35\n",
      "144/144 [==============================] - 70s 483ms/step - loss: 1.4254 - accuracy: 0.5485 - val_loss: 1.9020 - val_accuracy: 0.4297\n",
      "Epoch 14/35\n",
      "144/144 [==============================] - 110s 766ms/step - loss: 1.2716 - accuracy: 0.6107 - val_loss: 1.5152 - val_accuracy: 0.5402\n",
      "Epoch 15/35\n",
      "144/144 [==============================] - 71s 488ms/step - loss: 1.1879 - accuracy: 0.6499 - val_loss: 1.5384 - val_accuracy: 0.5076\n",
      "Epoch 16/35\n",
      "144/144 [==============================] - 58s 404ms/step - loss: 1.1272 - accuracy: 0.6626 - val_loss: 1.4947 - val_accuracy: 0.5713\n",
      "Epoch 17/35\n",
      "144/144 [==============================] - 65s 452ms/step - loss: 1.1490 - accuracy: 0.6563 - val_loss: 1.5193 - val_accuracy: 0.5550\n",
      "Epoch 18/35\n",
      "144/144 [==============================] - 58s 403ms/step - loss: 1.2822 - accuracy: 0.6168 - val_loss: 1.3483 - val_accuracy: 0.5759\n",
      "Epoch 19/35\n",
      "144/144 [==============================] - 58s 403ms/step - loss: 1.2497 - accuracy: 0.6273 - val_loss: 1.6505 - val_accuracy: 0.5489\n",
      "Epoch 20/35\n",
      "144/144 [==============================] - 60s 418ms/step - loss: 1.2721 - accuracy: 0.6253 - val_loss: 1.4101 - val_accuracy: 0.5815\n",
      "Epoch 21/35\n",
      "144/144 [==============================] - 63s 434ms/step - loss: 1.5322 - accuracy: 0.5296 - val_loss: 2.0256 - val_accuracy: 0.3559\n",
      "Epoch 22/35\n",
      "144/144 [==============================] - 68s 471ms/step - loss: 2.2837 - accuracy: 0.2397 - val_loss: 2.1296 - val_accuracy: 0.2724\n",
      "Epoch 23/35\n",
      "144/144 [==============================] - 67s 466ms/step - loss: 2.0399 - accuracy: 0.2877 - val_loss: 2.1270 - val_accuracy: 0.3030\n",
      "Epoch 24/35\n",
      "144/144 [==============================] - 66s 461ms/step - loss: 1.9551 - accuracy: 0.3208 - val_loss: 2.4552 - val_accuracy: 0.2337\n",
      "Epoch 25/35\n",
      "144/144 [==============================] - 59s 410ms/step - loss: 1.8573 - accuracy: 0.3614 - val_loss: 3.1651 - val_accuracy: 0.1690\n",
      "Epoch 26/35\n",
      "144/144 [==============================] - 58s 400ms/step - loss: 1.8974 - accuracy: 0.3540 - val_loss: 2.2322 - val_accuracy: 0.2383\n",
      "Epoch 27/35\n",
      "  9/144 [>.............................] - ETA: 46s - loss: 1.8065 - accuracy: 0.3854"
     ]
    },
    {
     "ename": "KeyboardInterrupt",
     "evalue": "",
     "output_type": "error",
     "traceback": [
      "\u001b[0;31m---------------------------------------------------------------------------\u001b[0m",
      "\u001b[0;31mKeyboardInterrupt\u001b[0m                         Traceback (most recent call last)",
      "Cell \u001b[0;32mIn[59], line 1\u001b[0m\n\u001b[0;32m----> 1\u001b[0m history_cnn_13 \u001b[38;5;241m=\u001b[39m model13\u001b[38;5;241m.\u001b[39mfit(train_generator_4, validation_data \u001b[38;5;241m=\u001b[39m validation_generator_4, epochs \u001b[38;5;241m=\u001b[39m \u001b[38;5;241m35\u001b[39m, batch_size\u001b[38;5;241m=\u001b[39m\u001b[38;5;241m64\u001b[39m)\n",
      "File \u001b[0;32m~/anaconda3/envs/Number41/lib/python3.11/site-packages/keras/src/utils/traceback_utils.py:65\u001b[0m, in \u001b[0;36mfilter_traceback.<locals>.error_handler\u001b[0;34m(*args, **kwargs)\u001b[0m\n\u001b[1;32m     63\u001b[0m filtered_tb \u001b[38;5;241m=\u001b[39m \u001b[38;5;28;01mNone\u001b[39;00m\n\u001b[1;32m     64\u001b[0m \u001b[38;5;28;01mtry\u001b[39;00m:\n\u001b[0;32m---> 65\u001b[0m     \u001b[38;5;28;01mreturn\u001b[39;00m fn(\u001b[38;5;241m*\u001b[39margs, \u001b[38;5;241m*\u001b[39m\u001b[38;5;241m*\u001b[39mkwargs)\n\u001b[1;32m     66\u001b[0m \u001b[38;5;28;01mexcept\u001b[39;00m \u001b[38;5;167;01mException\u001b[39;00m \u001b[38;5;28;01mas\u001b[39;00m e:\n\u001b[1;32m     67\u001b[0m     filtered_tb \u001b[38;5;241m=\u001b[39m _process_traceback_frames(e\u001b[38;5;241m.\u001b[39m__traceback__)\n",
      "File \u001b[0;32m~/anaconda3/envs/Number41/lib/python3.11/site-packages/keras/src/engine/training.py:1742\u001b[0m, in \u001b[0;36mModel.fit\u001b[0;34m(self, x, y, batch_size, epochs, verbose, callbacks, validation_split, validation_data, shuffle, class_weight, sample_weight, initial_epoch, steps_per_epoch, validation_steps, validation_batch_size, validation_freq, max_queue_size, workers, use_multiprocessing)\u001b[0m\n\u001b[1;32m   1734\u001b[0m \u001b[38;5;28;01mwith\u001b[39;00m tf\u001b[38;5;241m.\u001b[39mprofiler\u001b[38;5;241m.\u001b[39mexperimental\u001b[38;5;241m.\u001b[39mTrace(\n\u001b[1;32m   1735\u001b[0m     \u001b[38;5;124m\"\u001b[39m\u001b[38;5;124mtrain\u001b[39m\u001b[38;5;124m\"\u001b[39m,\n\u001b[1;32m   1736\u001b[0m     epoch_num\u001b[38;5;241m=\u001b[39mepoch,\n\u001b[0;32m   (...)\u001b[0m\n\u001b[1;32m   1739\u001b[0m     _r\u001b[38;5;241m=\u001b[39m\u001b[38;5;241m1\u001b[39m,\n\u001b[1;32m   1740\u001b[0m ):\n\u001b[1;32m   1741\u001b[0m     callbacks\u001b[38;5;241m.\u001b[39mon_train_batch_begin(step)\n\u001b[0;32m-> 1742\u001b[0m     tmp_logs \u001b[38;5;241m=\u001b[39m \u001b[38;5;28mself\u001b[39m\u001b[38;5;241m.\u001b[39mtrain_function(iterator)\n\u001b[1;32m   1743\u001b[0m     \u001b[38;5;28;01mif\u001b[39;00m data_handler\u001b[38;5;241m.\u001b[39mshould_sync:\n\u001b[1;32m   1744\u001b[0m         context\u001b[38;5;241m.\u001b[39masync_wait()\n",
      "File \u001b[0;32m~/anaconda3/envs/Number41/lib/python3.11/site-packages/tensorflow/python/util/traceback_utils.py:150\u001b[0m, in \u001b[0;36mfilter_traceback.<locals>.error_handler\u001b[0;34m(*args, **kwargs)\u001b[0m\n\u001b[1;32m    148\u001b[0m filtered_tb \u001b[38;5;241m=\u001b[39m \u001b[38;5;28;01mNone\u001b[39;00m\n\u001b[1;32m    149\u001b[0m \u001b[38;5;28;01mtry\u001b[39;00m:\n\u001b[0;32m--> 150\u001b[0m   \u001b[38;5;28;01mreturn\u001b[39;00m fn(\u001b[38;5;241m*\u001b[39margs, \u001b[38;5;241m*\u001b[39m\u001b[38;5;241m*\u001b[39mkwargs)\n\u001b[1;32m    151\u001b[0m \u001b[38;5;28;01mexcept\u001b[39;00m \u001b[38;5;167;01mException\u001b[39;00m \u001b[38;5;28;01mas\u001b[39;00m e:\n\u001b[1;32m    152\u001b[0m   filtered_tb \u001b[38;5;241m=\u001b[39m _process_traceback_frames(e\u001b[38;5;241m.\u001b[39m__traceback__)\n",
      "File \u001b[0;32m~/anaconda3/envs/Number41/lib/python3.11/site-packages/tensorflow/python/eager/polymorphic_function/polymorphic_function.py:825\u001b[0m, in \u001b[0;36mFunction.__call__\u001b[0;34m(self, *args, **kwds)\u001b[0m\n\u001b[1;32m    822\u001b[0m compiler \u001b[38;5;241m=\u001b[39m \u001b[38;5;124m\"\u001b[39m\u001b[38;5;124mxla\u001b[39m\u001b[38;5;124m\"\u001b[39m \u001b[38;5;28;01mif\u001b[39;00m \u001b[38;5;28mself\u001b[39m\u001b[38;5;241m.\u001b[39m_jit_compile \u001b[38;5;28;01melse\u001b[39;00m \u001b[38;5;124m\"\u001b[39m\u001b[38;5;124mnonXla\u001b[39m\u001b[38;5;124m\"\u001b[39m\n\u001b[1;32m    824\u001b[0m \u001b[38;5;28;01mwith\u001b[39;00m OptionalXlaContext(\u001b[38;5;28mself\u001b[39m\u001b[38;5;241m.\u001b[39m_jit_compile):\n\u001b[0;32m--> 825\u001b[0m   result \u001b[38;5;241m=\u001b[39m \u001b[38;5;28mself\u001b[39m\u001b[38;5;241m.\u001b[39m_call(\u001b[38;5;241m*\u001b[39margs, \u001b[38;5;241m*\u001b[39m\u001b[38;5;241m*\u001b[39mkwds)\n\u001b[1;32m    827\u001b[0m new_tracing_count \u001b[38;5;241m=\u001b[39m \u001b[38;5;28mself\u001b[39m\u001b[38;5;241m.\u001b[39mexperimental_get_tracing_count()\n\u001b[1;32m    828\u001b[0m without_tracing \u001b[38;5;241m=\u001b[39m (tracing_count \u001b[38;5;241m==\u001b[39m new_tracing_count)\n",
      "File \u001b[0;32m~/anaconda3/envs/Number41/lib/python3.11/site-packages/tensorflow/python/eager/polymorphic_function/polymorphic_function.py:857\u001b[0m, in \u001b[0;36mFunction._call\u001b[0;34m(self, *args, **kwds)\u001b[0m\n\u001b[1;32m    854\u001b[0m   \u001b[38;5;28mself\u001b[39m\u001b[38;5;241m.\u001b[39m_lock\u001b[38;5;241m.\u001b[39mrelease()\n\u001b[1;32m    855\u001b[0m   \u001b[38;5;66;03m# In this case we have created variables on the first call, so we run the\u001b[39;00m\n\u001b[1;32m    856\u001b[0m   \u001b[38;5;66;03m# defunned version which is guaranteed to never create variables.\u001b[39;00m\n\u001b[0;32m--> 857\u001b[0m   \u001b[38;5;28;01mreturn\u001b[39;00m \u001b[38;5;28mself\u001b[39m\u001b[38;5;241m.\u001b[39m_no_variable_creation_fn(\u001b[38;5;241m*\u001b[39margs, \u001b[38;5;241m*\u001b[39m\u001b[38;5;241m*\u001b[39mkwds)  \u001b[38;5;66;03m# pylint: disable=not-callable\u001b[39;00m\n\u001b[1;32m    858\u001b[0m \u001b[38;5;28;01melif\u001b[39;00m \u001b[38;5;28mself\u001b[39m\u001b[38;5;241m.\u001b[39m_variable_creation_fn \u001b[38;5;129;01mis\u001b[39;00m \u001b[38;5;129;01mnot\u001b[39;00m \u001b[38;5;28;01mNone\u001b[39;00m:\n\u001b[1;32m    859\u001b[0m   \u001b[38;5;66;03m# Release the lock early so that multiple threads can perform the call\u001b[39;00m\n\u001b[1;32m    860\u001b[0m   \u001b[38;5;66;03m# in parallel.\u001b[39;00m\n\u001b[1;32m    861\u001b[0m   \u001b[38;5;28mself\u001b[39m\u001b[38;5;241m.\u001b[39m_lock\u001b[38;5;241m.\u001b[39mrelease()\n",
      "File \u001b[0;32m~/anaconda3/envs/Number41/lib/python3.11/site-packages/tensorflow/python/eager/polymorphic_function/tracing_compiler.py:148\u001b[0m, in \u001b[0;36mTracingCompiler.__call__\u001b[0;34m(self, *args, **kwargs)\u001b[0m\n\u001b[1;32m    145\u001b[0m \u001b[38;5;28;01mwith\u001b[39;00m \u001b[38;5;28mself\u001b[39m\u001b[38;5;241m.\u001b[39m_lock:\n\u001b[1;32m    146\u001b[0m   (concrete_function,\n\u001b[1;32m    147\u001b[0m    filtered_flat_args) \u001b[38;5;241m=\u001b[39m \u001b[38;5;28mself\u001b[39m\u001b[38;5;241m.\u001b[39m_maybe_define_function(args, kwargs)\n\u001b[0;32m--> 148\u001b[0m \u001b[38;5;28;01mreturn\u001b[39;00m concrete_function\u001b[38;5;241m.\u001b[39m_call_flat(\n\u001b[1;32m    149\u001b[0m     filtered_flat_args, captured_inputs\u001b[38;5;241m=\u001b[39mconcrete_function\u001b[38;5;241m.\u001b[39mcaptured_inputs)\n",
      "File \u001b[0;32m~/anaconda3/envs/Number41/lib/python3.11/site-packages/tensorflow/python/eager/polymorphic_function/monomorphic_function.py:1349\u001b[0m, in \u001b[0;36mConcreteFunction._call_flat\u001b[0;34m(self, args, captured_inputs)\u001b[0m\n\u001b[1;32m   1345\u001b[0m possible_gradient_type \u001b[38;5;241m=\u001b[39m gradients_util\u001b[38;5;241m.\u001b[39mPossibleTapeGradientTypes(args)\n\u001b[1;32m   1346\u001b[0m \u001b[38;5;28;01mif\u001b[39;00m (possible_gradient_type \u001b[38;5;241m==\u001b[39m gradients_util\u001b[38;5;241m.\u001b[39mPOSSIBLE_GRADIENT_TYPES_NONE\n\u001b[1;32m   1347\u001b[0m     \u001b[38;5;129;01mand\u001b[39;00m executing_eagerly):\n\u001b[1;32m   1348\u001b[0m   \u001b[38;5;66;03m# No tape is watching; skip to running the function.\u001b[39;00m\n\u001b[0;32m-> 1349\u001b[0m   \u001b[38;5;28;01mreturn\u001b[39;00m \u001b[38;5;28mself\u001b[39m\u001b[38;5;241m.\u001b[39m_build_call_outputs(\u001b[38;5;28mself\u001b[39m\u001b[38;5;241m.\u001b[39m_inference_function(\u001b[38;5;241m*\u001b[39margs))\n\u001b[1;32m   1350\u001b[0m forward_backward \u001b[38;5;241m=\u001b[39m \u001b[38;5;28mself\u001b[39m\u001b[38;5;241m.\u001b[39m_select_forward_and_backward_functions(\n\u001b[1;32m   1351\u001b[0m     args,\n\u001b[1;32m   1352\u001b[0m     possible_gradient_type,\n\u001b[1;32m   1353\u001b[0m     executing_eagerly)\n\u001b[1;32m   1354\u001b[0m forward_function, args_with_tangents \u001b[38;5;241m=\u001b[39m forward_backward\u001b[38;5;241m.\u001b[39mforward()\n",
      "File \u001b[0;32m~/anaconda3/envs/Number41/lib/python3.11/site-packages/tensorflow/python/eager/polymorphic_function/atomic_function.py:196\u001b[0m, in \u001b[0;36mAtomicFunction.__call__\u001b[0;34m(self, *args)\u001b[0m\n\u001b[1;32m    194\u001b[0m \u001b[38;5;28;01mwith\u001b[39;00m record\u001b[38;5;241m.\u001b[39mstop_recording():\n\u001b[1;32m    195\u001b[0m   \u001b[38;5;28;01mif\u001b[39;00m \u001b[38;5;28mself\u001b[39m\u001b[38;5;241m.\u001b[39m_bound_context\u001b[38;5;241m.\u001b[39mexecuting_eagerly():\n\u001b[0;32m--> 196\u001b[0m     outputs \u001b[38;5;241m=\u001b[39m \u001b[38;5;28mself\u001b[39m\u001b[38;5;241m.\u001b[39m_bound_context\u001b[38;5;241m.\u001b[39mcall_function(\n\u001b[1;32m    197\u001b[0m         \u001b[38;5;28mself\u001b[39m\u001b[38;5;241m.\u001b[39mname,\n\u001b[1;32m    198\u001b[0m         \u001b[38;5;28mlist\u001b[39m(args),\n\u001b[1;32m    199\u001b[0m         \u001b[38;5;28mlen\u001b[39m(\u001b[38;5;28mself\u001b[39m\u001b[38;5;241m.\u001b[39mfunction_type\u001b[38;5;241m.\u001b[39mflat_outputs),\n\u001b[1;32m    200\u001b[0m     )\n\u001b[1;32m    201\u001b[0m   \u001b[38;5;28;01melse\u001b[39;00m:\n\u001b[1;32m    202\u001b[0m     outputs \u001b[38;5;241m=\u001b[39m make_call_op_in_graph(\u001b[38;5;28mself\u001b[39m, \u001b[38;5;28mlist\u001b[39m(args))\n",
      "File \u001b[0;32m~/anaconda3/envs/Number41/lib/python3.11/site-packages/tensorflow/python/eager/context.py:1457\u001b[0m, in \u001b[0;36mContext.call_function\u001b[0;34m(self, name, tensor_inputs, num_outputs)\u001b[0m\n\u001b[1;32m   1455\u001b[0m cancellation_context \u001b[38;5;241m=\u001b[39m cancellation\u001b[38;5;241m.\u001b[39mcontext()\n\u001b[1;32m   1456\u001b[0m \u001b[38;5;28;01mif\u001b[39;00m cancellation_context \u001b[38;5;129;01mis\u001b[39;00m \u001b[38;5;28;01mNone\u001b[39;00m:\n\u001b[0;32m-> 1457\u001b[0m   outputs \u001b[38;5;241m=\u001b[39m execute\u001b[38;5;241m.\u001b[39mexecute(\n\u001b[1;32m   1458\u001b[0m       name\u001b[38;5;241m.\u001b[39mdecode(\u001b[38;5;124m\"\u001b[39m\u001b[38;5;124mutf-8\u001b[39m\u001b[38;5;124m\"\u001b[39m),\n\u001b[1;32m   1459\u001b[0m       num_outputs\u001b[38;5;241m=\u001b[39mnum_outputs,\n\u001b[1;32m   1460\u001b[0m       inputs\u001b[38;5;241m=\u001b[39mtensor_inputs,\n\u001b[1;32m   1461\u001b[0m       attrs\u001b[38;5;241m=\u001b[39mattrs,\n\u001b[1;32m   1462\u001b[0m       ctx\u001b[38;5;241m=\u001b[39m\u001b[38;5;28mself\u001b[39m,\n\u001b[1;32m   1463\u001b[0m   )\n\u001b[1;32m   1464\u001b[0m \u001b[38;5;28;01melse\u001b[39;00m:\n\u001b[1;32m   1465\u001b[0m   outputs \u001b[38;5;241m=\u001b[39m execute\u001b[38;5;241m.\u001b[39mexecute_with_cancellation(\n\u001b[1;32m   1466\u001b[0m       name\u001b[38;5;241m.\u001b[39mdecode(\u001b[38;5;124m\"\u001b[39m\u001b[38;5;124mutf-8\u001b[39m\u001b[38;5;124m\"\u001b[39m),\n\u001b[1;32m   1467\u001b[0m       num_outputs\u001b[38;5;241m=\u001b[39mnum_outputs,\n\u001b[0;32m   (...)\u001b[0m\n\u001b[1;32m   1471\u001b[0m       cancellation_manager\u001b[38;5;241m=\u001b[39mcancellation_context,\n\u001b[1;32m   1472\u001b[0m   )\n",
      "File \u001b[0;32m~/anaconda3/envs/Number41/lib/python3.11/site-packages/tensorflow/python/eager/execute.py:53\u001b[0m, in \u001b[0;36mquick_execute\u001b[0;34m(op_name, num_outputs, inputs, attrs, ctx, name)\u001b[0m\n\u001b[1;32m     51\u001b[0m \u001b[38;5;28;01mtry\u001b[39;00m:\n\u001b[1;32m     52\u001b[0m   ctx\u001b[38;5;241m.\u001b[39mensure_initialized()\n\u001b[0;32m---> 53\u001b[0m   tensors \u001b[38;5;241m=\u001b[39m pywrap_tfe\u001b[38;5;241m.\u001b[39mTFE_Py_Execute(ctx\u001b[38;5;241m.\u001b[39m_handle, device_name, op_name,\n\u001b[1;32m     54\u001b[0m                                       inputs, attrs, num_outputs)\n\u001b[1;32m     55\u001b[0m \u001b[38;5;28;01mexcept\u001b[39;00m core\u001b[38;5;241m.\u001b[39m_NotOkStatusException \u001b[38;5;28;01mas\u001b[39;00m e:\n\u001b[1;32m     56\u001b[0m   \u001b[38;5;28;01mif\u001b[39;00m name \u001b[38;5;129;01mis\u001b[39;00m \u001b[38;5;129;01mnot\u001b[39;00m \u001b[38;5;28;01mNone\u001b[39;00m:\n",
      "\u001b[0;31mKeyboardInterrupt\u001b[0m: "
     ]
    }
   ],
   "source": [
    "history_cnn_13 = model13.fit(train_generator_4, validation_data = validation_generator_4, epochs = 35, batch_size=64)"
   ]
  }
 ],
 "metadata": {
  "kernelspec": {
   "display_name": "Python Number41",
   "language": "python",
   "name": "number41"
  },
  "language_info": {
   "codemirror_mode": {
    "name": "ipython",
    "version": 3
   },
   "file_extension": ".py",
   "mimetype": "text/x-python",
   "name": "python",
   "nbconvert_exporter": "python",
   "pygments_lexer": "ipython3",
   "version": "3.11.4"
  }
 },
 "nbformat": 4,
 "nbformat_minor": 5
}
